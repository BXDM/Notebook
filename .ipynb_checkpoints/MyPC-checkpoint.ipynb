{
 "cells": [
  {
   "cell_type": "code",
   "execution_count": 2,
   "metadata": {},
   "outputs": [],
   "source": [
    "import pymysql\n",
    "import pandas as pd\n",
    "import numpy as np\n",
    "import matplotlib.pyplot as plt\n",
    "import matplotlib as mpl"
   ]
  },
  {
   "cell_type": "code",
   "execution_count": 142,
   "metadata": {},
   "outputs": [],
   "source": [
    "# 设置中文显示\n",
    "mpl.rcParams[\"font.sans-serif\"] = [\"SimHei\"]\n",
    "mpl.rcParams[\"axes.unicode_minus\"] = False\n",
    "# 设置新罗马字体\n",
    "font = {'family' : 'Times New Roman'}"
   ]
  },
  {
   "cell_type": "code",
   "execution_count": 5,
   "metadata": {},
   "outputs": [],
   "source": [
    "def get_mysql_data(sql):\n",
    "    \"\"\"\n",
    "    提取mysql中的数据并返回成dataframe\n",
    "    参数只需要sql语句\n",
    "\n",
    "    \"\"\"\n",
    "    conn = pymysql.connect(\n",
    "        host='localhost',\n",
    "        user='root',\n",
    "        password='agsj2735',\n",
    "        db='price',\n",
    "        port=3306\n",
    "    )\n",
    "    cur = conn.cursor()  # 获取操作游标，也就是开始操作\n",
    "    sql_select = sql  # 查询命令\n",
    "    cur.execute(sql_select)  # 执行查询语句\n",
    "\n",
    "    result = cur.fetchall()  # 获取查询结果\n",
    "    col_result = cur.description  # 获取查询结果的字段描述\n",
    "\n",
    "    columns = []\n",
    "    for i in range(len(col_result)):\n",
    "        columns.append(col_result[i][0])  # 获取字段名，咦列表形式保存\n",
    "\n",
    "    df = pd.DataFrame(columns=columns)\n",
    "    for i in range(len(result)):\n",
    "        df.loc[i] = list(result[i])  # 按行插入查询到的数据\n",
    "\n",
    "    conn.close()  # 关闭数据库连接\n",
    "\n",
    "    return df"
   ]
  },
  {
   "cell_type": "code",
   "execution_count": 63,
   "metadata": {},
   "outputs": [],
   "source": [
    "sql = 'select * from pc'\n",
    "df = get_mysql_data(sql)\n",
    "# 填充 NA 值\n",
    "df = df.fillna(0)"
   ]
  },
  {
   "cell_type": "code",
   "execution_count": 64,
   "metadata": {},
   "outputs": [
    {
     "data": {
      "text/html": [
       "<div>\n",
       "<style scoped>\n",
       "    .dataframe tbody tr th:only-of-type {\n",
       "        vertical-align: middle;\n",
       "    }\n",
       "\n",
       "    .dataframe tbody tr th {\n",
       "        vertical-align: top;\n",
       "    }\n",
       "\n",
       "    .dataframe thead th {\n",
       "        text-align: right;\n",
       "    }\n",
       "</style>\n",
       "<table border=\"1\" class=\"dataframe\">\n",
       "  <thead>\n",
       "    <tr style=\"text-align: right;\">\n",
       "      <th></th>\n",
       "      <th>id</th>\n",
       "      <th>date</th>\n",
       "      <th>cpu</th>\n",
       "      <th>graph</th>\n",
       "      <th>ddr</th>\n",
       "      <th>ssd</th>\n",
       "      <th>board</th>\n",
       "      <th>power</th>\n",
       "      <th>box</th>\n",
       "      <th>wind</th>\n",
       "    </tr>\n",
       "  </thead>\n",
       "  <tbody>\n",
       "    <tr>\n",
       "      <th>0</th>\n",
       "      <td>1</td>\n",
       "      <td>2020-11-01 11:48:56</td>\n",
       "      <td>1349.0</td>\n",
       "      <td>0.0</td>\n",
       "      <td>449.0</td>\n",
       "      <td>439.0</td>\n",
       "      <td>699.0</td>\n",
       "      <td>219.0</td>\n",
       "      <td>169.0</td>\n",
       "      <td>69.0</td>\n",
       "    </tr>\n",
       "    <tr>\n",
       "      <th>1</th>\n",
       "      <td>2</td>\n",
       "      <td>2020-11-02 21:27:07</td>\n",
       "      <td>1399.0</td>\n",
       "      <td>0.0</td>\n",
       "      <td>449.0</td>\n",
       "      <td>479.0</td>\n",
       "      <td>699.0</td>\n",
       "      <td>239.0</td>\n",
       "      <td>169.0</td>\n",
       "      <td>69.0</td>\n",
       "    </tr>\n",
       "    <tr>\n",
       "      <th>2</th>\n",
       "      <td>3</td>\n",
       "      <td>2020-11-03 23:02:00</td>\n",
       "      <td>1349.0</td>\n",
       "      <td>0.0</td>\n",
       "      <td>449.0</td>\n",
       "      <td>439.0</td>\n",
       "      <td>699.0</td>\n",
       "      <td>259.0</td>\n",
       "      <td>169.0</td>\n",
       "      <td>72.0</td>\n",
       "    </tr>\n",
       "    <tr>\n",
       "      <th>3</th>\n",
       "      <td>4</td>\n",
       "      <td>2020-11-06 18:45:38</td>\n",
       "      <td>1349.0</td>\n",
       "      <td>0.0</td>\n",
       "      <td>479.0</td>\n",
       "      <td>449.0</td>\n",
       "      <td>799.0</td>\n",
       "      <td>239.0</td>\n",
       "      <td>169.0</td>\n",
       "      <td>75.0</td>\n",
       "    </tr>\n",
       "    <tr>\n",
       "      <th>4</th>\n",
       "      <td>5</td>\n",
       "      <td>2020-11-07 11:55:08</td>\n",
       "      <td>1349.0</td>\n",
       "      <td>0.0</td>\n",
       "      <td>479.0</td>\n",
       "      <td>479.0</td>\n",
       "      <td>799.0</td>\n",
       "      <td>239.0</td>\n",
       "      <td>199.0</td>\n",
       "      <td>89.0</td>\n",
       "    </tr>\n",
       "    <tr>\n",
       "      <th>5</th>\n",
       "      <td>6</td>\n",
       "      <td>2020-11-08 23:20:18</td>\n",
       "      <td>1399.0</td>\n",
       "      <td>0.0</td>\n",
       "      <td>479.0</td>\n",
       "      <td>499.0</td>\n",
       "      <td>729.0</td>\n",
       "      <td>229.0</td>\n",
       "      <td>199.0</td>\n",
       "      <td>89.0</td>\n",
       "    </tr>\n",
       "    <tr>\n",
       "      <th>6</th>\n",
       "      <td>7</td>\n",
       "      <td>2020-11-09 20:56:34</td>\n",
       "      <td>1399.0</td>\n",
       "      <td>0.0</td>\n",
       "      <td>469.0</td>\n",
       "      <td>479.0</td>\n",
       "      <td>799.0</td>\n",
       "      <td>249.0</td>\n",
       "      <td>189.0</td>\n",
       "      <td>89.0</td>\n",
       "    </tr>\n",
       "    <tr>\n",
       "      <th>7</th>\n",
       "      <td>8</td>\n",
       "      <td>2020-11-10 19:44:36</td>\n",
       "      <td>1399.0</td>\n",
       "      <td>0.0</td>\n",
       "      <td>479.0</td>\n",
       "      <td>479.0</td>\n",
       "      <td>799.0</td>\n",
       "      <td>259.0</td>\n",
       "      <td>189.0</td>\n",
       "      <td>89.0</td>\n",
       "    </tr>\n",
       "    <tr>\n",
       "      <th>8</th>\n",
       "      <td>9</td>\n",
       "      <td>2020-11-11 20:30:11</td>\n",
       "      <td>1349.0</td>\n",
       "      <td>0.0</td>\n",
       "      <td>449.0</td>\n",
       "      <td>439.0</td>\n",
       "      <td>699.0</td>\n",
       "      <td>219.0</td>\n",
       "      <td>169.0</td>\n",
       "      <td>69.0</td>\n",
       "    </tr>\n",
       "    <tr>\n",
       "      <th>9</th>\n",
       "      <td>10</td>\n",
       "      <td>2020-12-10 21:12:52</td>\n",
       "      <td>1399.0</td>\n",
       "      <td>0.0</td>\n",
       "      <td>499.0</td>\n",
       "      <td>479.0</td>\n",
       "      <td>719.0</td>\n",
       "      <td>249.0</td>\n",
       "      <td>169.0</td>\n",
       "      <td>75.0</td>\n",
       "    </tr>\n",
       "    <tr>\n",
       "      <th>10</th>\n",
       "      <td>14</td>\n",
       "      <td>2020-12-13 20:22:50</td>\n",
       "      <td>1399.0</td>\n",
       "      <td>1999.0</td>\n",
       "      <td>499.0</td>\n",
       "      <td>579.0</td>\n",
       "      <td>849.0</td>\n",
       "      <td>249.0</td>\n",
       "      <td>199.0</td>\n",
       "      <td>89.0</td>\n",
       "    </tr>\n",
       "  </tbody>\n",
       "</table>\n",
       "</div>"
      ],
      "text/plain": [
       "    id                date     cpu   graph    ddr    ssd  board  power    box  \\\n",
       "0    1 2020-11-01 11:48:56  1349.0     0.0  449.0  439.0  699.0  219.0  169.0   \n",
       "1    2 2020-11-02 21:27:07  1399.0     0.0  449.0  479.0  699.0  239.0  169.0   \n",
       "2    3 2020-11-03 23:02:00  1349.0     0.0  449.0  439.0  699.0  259.0  169.0   \n",
       "3    4 2020-11-06 18:45:38  1349.0     0.0  479.0  449.0  799.0  239.0  169.0   \n",
       "4    5 2020-11-07 11:55:08  1349.0     0.0  479.0  479.0  799.0  239.0  199.0   \n",
       "5    6 2020-11-08 23:20:18  1399.0     0.0  479.0  499.0  729.0  229.0  199.0   \n",
       "6    7 2020-11-09 20:56:34  1399.0     0.0  469.0  479.0  799.0  249.0  189.0   \n",
       "7    8 2020-11-10 19:44:36  1399.0     0.0  479.0  479.0  799.0  259.0  189.0   \n",
       "8    9 2020-11-11 20:30:11  1349.0     0.0  449.0  439.0  699.0  219.0  169.0   \n",
       "9   10 2020-12-10 21:12:52  1399.0     0.0  499.0  479.0  719.0  249.0  169.0   \n",
       "10  14 2020-12-13 20:22:50  1399.0  1999.0  499.0  579.0  849.0  249.0  199.0   \n",
       "\n",
       "    wind  \n",
       "0   69.0  \n",
       "1   69.0  \n",
       "2   72.0  \n",
       "3   75.0  \n",
       "4   89.0  \n",
       "5   89.0  \n",
       "6   89.0  \n",
       "7   89.0  \n",
       "8   69.0  \n",
       "9   75.0  \n",
       "10  89.0  "
      ]
     },
     "execution_count": 64,
     "metadata": {},
     "output_type": "execute_result"
    }
   ],
   "source": [
    "df"
   ]
  },
  {
   "cell_type": "code",
   "execution_count": 50,
   "metadata": {},
   "outputs": [],
   "source": [
    "labels = ['CPU', '显卡', '内存条', '固态硬盘', '主板', '电源', '机箱', '风扇']"
   ]
  },
  {
   "cell_type": "code",
   "execution_count": 65,
   "metadata": {},
   "outputs": [
    {
     "data": {
      "image/png": "[encoded data removed]",
      "text/plain": [
       "<Figure size 432x288 with 1 Axes>"
      ]
     },
     "metadata": {
      "needs_background": "light"
     },
     "output_type": "display_data"
    }
   ],
   "source": [
    "plt.figure()\n",
    "for i in range(2,10): # 不包括终止值\n",
    "    plt.scatter(df.date, df.iloc[:, i])\n",
    "    plt.plot(df.date, df.iloc[:, i])\n",
    "plt.legend(labels, loc = [0.3, 0.4]) # x 左右, y 上下\n",
    "plt.title('狗东电脑配件价格变动', pad = 20)\n",
    "plt.xticks(rotation = 30)\n",
    "plt.gcf().subplots_adjust(bottom=0.15)  # 使底部显示完整\n",
    "plt.grid()\n",
    "plt.savefig(r'C:\\Users\\BXDM\\Desktop\\jd.png', dpi = 300)\n",
    "\n"
   ]
  },
  {
   "cell_type": "code",
   "execution_count": 96,
   "metadata": {},
   "outputs": [
    {
     "data": {
      "image/png": "[encoded data removed]",
      "text/plain": [
       "<Figure size 432x288 with 1 Axes>"
      ]
     },
     "metadata": {
      "needs_background": "light"
     },
     "output_type": "display_data"
    }
   ],
   "source": [
    "# 总价变动\n",
    "prices = []\n",
    "plt.figure()\n",
    "for i in range(len(df)):\n",
    "    price = df.iloc[i, np.arange(2, 10)]\n",
    "    price = np.sum(price)\n",
    "    prices.append(price)\n",
    "plt.plot(df.date, prices, '--k', linewidth = 0.8)\n",
    "# 添加数据标签\n",
    "for a,b in zip(df.date,prices):\n",
    "    plt.text(a, b+0.05, '%.0f' % b, ha='center', va= 'bottom')\n",
    "plt.title('总价格变动趋势', pad = 20)\n",
    "plt.grid()"
   ]
  },
  {
   "cell_type": "code",
   "execution_count": 190,
   "metadata": {},
   "outputs": [
    {
     "data": {
      "text/plain": [
       "([<matplotlib.patches.Wedge at 0x11a6f670>,\n",
       "  <matplotlib.patches.Wedge at 0x11a6f550>,\n",
       "  <matplotlib.patches.Wedge at 0x11ac7dc0>,\n",
       "  <matplotlib.patches.Wedge at 0x11ac70d0>,\n",
       "  <matplotlib.patches.Wedge at 0x11ac7eb0>,\n",
       "  <matplotlib.patches.Wedge at 0x16058520>,\n",
       "  <matplotlib.patches.Wedge at 0x16058ca0>,\n",
       "  <matplotlib.patches.Wedge at 0x15628490>],\n",
       " [Text(0.8050383311372081, 0.7496087548847191, ''),\n",
       "  Text(-0.9256395378441712, 0.5942991216379421, ''),\n",
       "  Text(-0.7912465392787557, -0.7641524154770388, ''),\n",
       "  Text(-0.24551200255933836, -1.072251769221811, ''),\n",
       "  Text(0.5657499647312358, -0.9433594105146805, ''),\n",
       "  Text(0.9942227319809569, -0.47066034378553967, ''),\n",
       "  Text(1.0776243417823872, -0.22073916281003897, ''),\n",
       "  Text(1.0987489650746964, -0.05244722821354404, '')])"
      ]
     },
     "execution_count": 190,
     "metadata": {},
     "output_type": "execute_result"
    },
    {
     "data": {
      "image/png": "[encoded data removed]",
      "text/plain": [
       "<Figure size 432x288 with 1 Axes>"
      ]
     },
     "metadata": {},
     "output_type": "display_data"
    }
   ],
   "source": [
    "today = df.iloc[len(df) - 1, np.arange(2,10)]\n",
    "plt.pie(today)"
   ]
  },
  {
   "cell_type": "code",
   "execution_count": 173,
   "metadata": {},
   "outputs": [
    {
     "data": {
      "text/plain": [
       "array([1399.0, 1999.0, 499.0, 579.0, 849.0, 249.0, 199.0, 89.0],\n",
       "      dtype=object)"
      ]
     },
     "execution_count": 173,
     "metadata": {},
     "output_type": "execute_result"
    }
   ],
   "source": [
    "today"
   ]
  },
  {
   "cell_type": "code",
   "execution_count": 160,
   "metadata": {},
   "outputs": [
    {
     "data": {
      "image/png": "[encoded data removed]",
      "text/plain": [
       "<Figure size 432x288 with 1 Axes>"
      ]
     },
     "metadata": {
      "needs_background": "light"
     },
     "output_type": "display_data"
    }
   ],
   "source": [
    "plt.bar(labels,today,\n",
    "       facecolor = 'white',\n",
    "       edgecolor = 'gray')\n",
    "for a,b in zip(labels,today):\n",
    "    plt.text(a, b+5, '%.0f' % b, ha='center', va= 'bottom', \n",
    "            fontname = 'DejaVu Sans',  fontsize = 10)\n",
    "            # font, fontsize = 9) "
   ]
  },
  {
   "cell_type": "code",
   "execution_count": 187,
   "metadata": {},
   "outputs": [
    {
     "data": {
      "text/plain": [
       "cpu      1399\n",
       "graph    1999\n",
       "ddr       499\n",
       "ssd       579\n",
       "board     849\n",
       "power     249\n",
       "box       199\n",
       "wind       89\n",
       "Name: 10, dtype: object"
      ]
     },
     "execution_count": 187,
     "metadata": {},
     "output_type": "execute_result"
    }
   ],
   "source": [
    "a = df.iloc[10, np.arange(2,10)]\n",
    "a"
   ]
  },
  {
   "cell_type": "code",
   "execution_count": 188,
   "metadata": {},
   "outputs": [
    {
     "data": {
      "text/plain": [
       "5862.0"
      ]
     },
     "execution_count": 188,
     "metadata": {},
     "output_type": "execute_result"
    }
   ],
   "source": [
    "np.sum(a)"
   ]
  },
  {
   "cell_type": "code",
   "execution_count": null,
   "metadata": {},
   "outputs": [],
   "source": []
  },
  {
   "cell_type": "code",
   "execution_count": null,
   "metadata": {},
   "outputs": [],
   "source": []
  },
  {
   "cell_type": "code",
   "execution_count": null,
   "metadata": {},
   "outputs": [],
   "source": []
  },
  {
   "cell_type": "code",
   "execution_count": null,
   "metadata": {},
   "outputs": [],
   "source": []
  },
  {
   "cell_type": "code",
   "execution_count": null,
   "metadata": {},
   "outputs": [],
   "source": []
  },
  {
   "cell_type": "code",
   "execution_count": null,
   "metadata": {},
   "outputs": [],
   "source": []
  },
  {
   "cell_type": "code",
   "execution_count": null,
   "metadata": {},
   "outputs": [],
   "source": []
  },
  {
   "cell_type": "code",
   "execution_count": null,
   "metadata": {},
   "outputs": [],
   "source": []
  },
  {
   "cell_type": "code",
   "execution_count": null,
   "metadata": {},
   "outputs": [],
   "source": []
  },
  {
   "cell_type": "code",
   "execution_count": null,
   "metadata": {},
   "outputs": [],
   "source": []
  },
  {
   "cell_type": "code",
   "execution_count": null,
   "metadata": {},
   "outputs": [],
   "source": []
  },
  {
   "cell_type": "code",
   "execution_count": null,
   "metadata": {},
   "outputs": [],
   "source": []
  },
  {
   "cell_type": "code",
   "execution_count": null,
   "metadata": {},
   "outputs": [],
   "source": []
  },
  {
   "cell_type": "code",
   "execution_count": null,
   "metadata": {},
   "outputs": [],
   "source": []
  }
 ],
 "metadata": {
  "kernelspec": {
   "display_name": "Python 3",
   "language": "python",
   "name": "python3"
  },
  "language_info": {
   "codemirror_mode": {
    "name": "ipython",
    "version": 3
   },
   "file_extension": ".py",
   "mimetype": "text/x-python",
   "name": "python",
   "nbconvert_exporter": "python",
   "pygments_lexer": "ipython3",
   "version": "3.8.3"
  }
 },
 "nbformat": 4,
 "nbformat_minor": 4
}
