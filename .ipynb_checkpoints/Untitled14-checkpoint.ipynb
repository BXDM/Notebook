{
 "cells": [
  {
   "cell_type": "code",
   "execution_count": 1,
   "id": "tribal-weapon",
   "metadata": {},
   "outputs": [
    {
     "data": {
      "text/plain": [
       "60"
      ]
     },
     "execution_count": 1,
     "metadata": {},
     "output_type": "execute_result"
    }
   ],
   "source": [
    "60"
   ]
  },
  {
   "cell_type": "code",
   "execution_count": 6,
   "id": "modular-lambda",
   "metadata": {},
   "outputs": [
    {
     "data": {
      "text/plain": [
       "68.4931506849315"
      ]
     },
     "execution_count": 6,
     "metadata": {},
     "output_type": "execute_result"
    }
   ],
   "source": [
    "600000/24/365"
   ]
  },
  {
   "cell_type": "code",
   "execution_count": null,
   "id": "false-sector",
   "metadata": {},
   "outputs": [],
   "source": []
  }
 ],
 "metadata": {
  "kernelspec": {
   "display_name": "Python 3",
   "language": "python",
   "name": "python3"
  },
  "language_info": {
   "codemirror_mode": {
    "name": "ipython",
    "version": 3
   },
   "file_extension": ".py",
   "mimetype": "text/x-python",
   "name": "python",
   "nbconvert_exporter": "python",
   "pygments_lexer": "ipython3",
   "version": "3.9.2"
  }
 },
 "nbformat": 4,
 "nbformat_minor": 5
}
