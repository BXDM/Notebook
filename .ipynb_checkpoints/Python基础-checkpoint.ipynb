{
 "cells": [
  {
   "cell_type": "markdown",
   "metadata": {},
   "source": [
    "## 函数"
   ]
  },
  {
   "cell_type": "code",
   "execution_count": 3,
   "metadata": {},
   "outputs": [
    {
     "name": "stdout",
     "output_type": "stream",
     "text": [
      "hello\n"
     ]
    }
   ],
   "source": [
    "def greet_user():\n",
    "    print('hello')\n",
    "greet_user()"
   ]
  },
  {
   "cell_type": "code",
   "execution_count": 5,
   "metadata": {},
   "outputs": [
    {
     "name": "stdout",
     "output_type": "stream",
     "text": [
      "hello,Jesse!\n"
     ]
    }
   ],
   "source": [
    "def greet_user(username):\n",
    "    print('hello,'+username.title() + '!')\n",
    "\n",
    "greet_user('jesse')"
   ]
  },
  {
   "cell_type": "markdown",
   "metadata": {},
   "source": [
    "#### 返回值"
   ]
  },
  {
   "cell_type": "markdown",
   "metadata": {},
   "source": [
    "返回字典"
   ]
  },
  {
   "cell_type": "code",
   "execution_count": 6,
   "metadata": {},
   "outputs": [
    {
     "name": "stdout",
     "output_type": "stream",
     "text": [
      "{'first': 'jimi', 'last': 'hendrix'}\n"
     ]
    }
   ],
   "source": [
    "def build_person(first_name, last_name):\n",
    "    person = {'first':first_name, 'last':last_name}\n",
    "    return person\n",
    "\n",
    "musician = build_person('jimi', 'hendrix')\n",
    "print(musician)"
   ]
  },
  {
   "cell_type": "markdown",
   "metadata": {},
   "source": [
    "## 字符串方法"
   ]
  },
  {
   "cell_type": "markdown",
   "metadata": {},
   "source": [
    "##### join"
   ]
  },
  {
   "cell_type": "markdown",
   "metadata": {},
   "source": [
    "添加字符串,在字符中间进行连接"
   ]
  },
  {
   "cell_type": "code",
   "execution_count": 5,
   "metadata": {},
   "outputs": [
    {
     "data": {
      "text/plain": [
       "['1', '2', '3', '4', '5']"
      ]
     },
     "execution_count": 5,
     "metadata": {},
     "output_type": "execute_result"
    }
   ],
   "source": [
    "list('12345')"
   ]
  },
  {
   "cell_type": "code",
   "execution_count": 40,
   "metadata": {},
   "outputs": [
    {
     "data": {
      "text/plain": [
       "'1+2+3+4+5'"
      ]
     },
     "execution_count": 40,
     "metadata": {},
     "output_type": "execute_result"
    }
   ],
   "source": [
    "list = list('12345')\n",
    "'+'.join(list)"
   ]
  },
  {
   "cell_type": "code",
   "execution_count": 12,
   "metadata": {},
   "outputs": [
    {
     "ename": "AttributeError",
     "evalue": "'list' object has no attribute 'join'",
     "output_type": "error",
     "traceback": [
      "\u001B[1;31m---------------------------------------------------------------------------\u001B[0m",
      "\u001B[1;31mAttributeError\u001B[0m                            Traceback (most recent call last)",
      "\u001B[1;32m<ipython-input-12-2e557f77a020>\u001B[0m in \u001B[0;36m<module>\u001B[1;34m\u001B[0m\n\u001B[1;32m----> 1\u001B[1;33m \u001B[0ma\u001B[0m\u001B[1;33m.\u001B[0m\u001B[0mjoin\u001B[0m\u001B[1;33m(\u001B[0m\u001B[0mb\u001B[0m\u001B[1;33m)\u001B[0m\u001B[1;33m\u001B[0m\u001B[1;33m\u001B[0m\u001B[0m\n\u001B[0m\u001B[0;32m      2\u001B[0m \u001B[1;31m# 貌似只有字符串才有 join 方法\u001B[0m\u001B[1;33m\u001B[0m\u001B[1;33m\u001B[0m\u001B[1;33m\u001B[0m\u001B[0m\n",
      "\u001B[1;31mAttributeError\u001B[0m: 'list' object has no attribute 'join'"
     ]
    }
   ],
   "source": [
    "a.join(b)\n",
    "# 貌似只有字符串才有 join 方法"
   ]
  },
  {
   "cell_type": "code",
   "execution_count": 8,
   "metadata": {},
   "outputs": [
    {
     "data": {
      "text/plain": [
       "'/user/bin/env'"
      ]
     },
     "execution_count": 8,
     "metadata": {},
     "output_type": "execute_result"
    }
   ],
   "source": [
    "dirs = '', 'user', 'bin', 'env'\n",
    "'/'.join(dirs)\n",
    "# 前面没有空格，则第一个斜杠没有"
   ]
  },
  {
   "cell_type": "code",
   "execution_count": 29,
   "metadata": {},
   "outputs": [
    {
     "data": {
      "text/plain": [
       "'c:\\\\user\\\\bin\\\\env'"
      ]
     },
     "execution_count": 29,
     "metadata": {},
     "output_type": "execute_result"
    }
   ],
   "source": [
    "'c:' + '\\\\'.join(dirs)"
   ]
  },
  {
   "cell_type": "markdown",
   "metadata": {},
   "source": [
    "##### splite"
   ]
  },
  {
   "cell_type": "markdown",
   "metadata": {},
   "source": [
    "join 的逆方法，分割字符串"
   ]
  },
  {
   "cell_type": "code",
   "execution_count": 30,
   "metadata": {},
   "outputs": [],
   "source": [
    "a = list('12345')"
   ]
  },
  {
   "cell_type": "code",
   "execution_count": 33,
   "metadata": {},
   "outputs": [
    {
     "data": {
      "text/plain": [
       "'1+2+3+4+5'"
      ]
     },
     "execution_count": 33,
     "metadata": {},
     "output_type": "execute_result"
    }
   ],
   "source": [
    "b = '+'.join(a)\n",
    "b"
   ]
  },
  {
   "cell_type": "code",
   "execution_count": 39,
   "metadata": {},
   "outputs": [
    {
     "data": {
      "text/plain": [
       "['1', '2', '3', '4', '5']"
      ]
     },
     "execution_count": 39,
     "metadata": {},
     "output_type": "execute_result"
    }
   ],
   "source": [
    "b.split('+')"
   ]
  },
  {
   "cell_type": "code",
   "execution_count": 42,
   "metadata": {},
   "outputs": [
    {
     "data": {
      "text/plain": [
       "['usr', 'bin', 'env']"
      ]
     },
     "execution_count": 42,
     "metadata": {},
     "output_type": "execute_result"
    }
   ],
   "source": [
    "'usr/bin/env'.split('/')"
   ]
  },
  {
   "cell_type": "markdown",
   "metadata": {},
   "source": [
    "##### strip"
   ]
  },
  {
   "cell_type": "markdown",
   "metadata": {},
   "source": [
    "除去两侧的空白（不包括中间的空白）"
   ]
  },
  {
   "cell_type": "code",
   "execution_count": 44,
   "metadata": {},
   "outputs": [
    {
     "data": {
      "text/plain": [
       "'a      bcd   ef'"
      ]
     },
     "execution_count": 44,
     "metadata": {},
     "output_type": "execute_result"
    }
   ],
   "source": [
    "s = 'a      bcd   ef    '\n",
    "s.strip()"
   ]
  },
  {
   "cell_type": "markdown",
   "metadata": {},
   "source": [
    "指定要除去的字符"
   ]
  },
  {
   "cell_type": "code",
   "execution_count": 56,
   "metadata": {},
   "outputs": [
    {
     "data": {
      "text/plain": [
       "'spam* for * everyone!!!'"
      ]
     },
     "execution_count": 56,
     "metadata": {},
     "output_type": "execute_result"
    }
   ],
   "source": [
    "l = '***spam* for * everyone!!!***'\n",
    "l.strip('*')"
   ]
  },
  {
   "cell_type": "code",
   "execution_count": 57,
   "metadata": {},
   "outputs": [
    {
     "data": {
      "text/plain": [
       "'spam for  everyone!!!'"
      ]
     },
     "execution_count": 57,
     "metadata": {},
     "output_type": "execute_result"
    }
   ],
   "source": [
    "l.replace('*', '')"
   ]
  },
  {
   "cell_type": "markdown",
   "metadata": {},
   "source": [
    "##### lower, title"
   ]
  },
  {
   "cell_type": "markdown",
   "metadata": {},
   "source": [
    "lower：将大写字母转为小写字母\n",
    "\n",
    "title：将小写字母转为标题"
   ]
  },
  {
   "cell_type": "code",
   "execution_count": 17,
   "metadata": {},
   "outputs": [
    {
     "data": {
      "text/plain": [
       "'gumby'"
      ]
     },
     "execution_count": 17,
     "metadata": {},
     "output_type": "execute_result"
    }
   ],
   "source": [
    "name = 'Gumby'\n",
    "name2 = name.lower()\n",
    "name2"
   ]
  },
  {
   "cell_type": "code",
   "execution_count": 18,
   "metadata": {},
   "outputs": [
    {
     "data": {
      "text/plain": [
       "'Gumby'"
      ]
     },
     "execution_count": 18,
     "metadata": {},
     "output_type": "execute_result"
    }
   ],
   "source": [
    "name2.title()"
   ]
  },
  {
   "cell_type": "code",
   "execution_count": 21,
   "metadata": {},
   "outputs": [],
   "source": [
    "names = ['gumby', 'smith', 'jones']\n",
    "if 'Gumby' in names:\n",
    "    print('Found it!')"
   ]
  },
  {
   "cell_type": "code",
   "execution_count": 22,
   "metadata": {},
   "outputs": [
    {
     "name": "stdout",
     "output_type": "stream",
     "text": [
      "Found it!\n"
     ]
    }
   ],
   "source": [
    "if name.lower() in names:\n",
    "    print('Found it!')"
   ]
  },
  {
   "cell_type": "code",
   "execution_count": 26,
   "metadata": {},
   "outputs": [
    {
     "data": {
      "text/plain": [
       "False"
      ]
     },
     "execution_count": 26,
     "metadata": {},
     "output_type": "execute_result"
    }
   ],
   "source": [
    "name.islower()    # islower 判断是否为小写"
   ]
  },
  {
   "cell_type": "markdown",
   "metadata": {},
   "source": [
    "##### replace"
   ]
  },
  {
   "cell_type": "markdown",
   "metadata": {},
   "source": [
    "replace 查找替换"
   ]
  },
  {
   "cell_type": "code",
   "execution_count": 28,
   "metadata": {},
   "outputs": [
    {
     "data": {
      "text/plain": [
       "'Theez eez a test'"
      ]
     },
     "execution_count": 28,
     "metadata": {},
     "output_type": "execute_result"
    }
   ],
   "source": [
    "'This is a test'.replace('is', 'eez')\n",
    "# replace('需要替换的字符', '要替换成的字符')"
   ]
  },
  {
   "cell_type": "markdown",
   "metadata": {},
   "source": [
    "## 字符串格式化"
   ]
  },
  {
   "cell_type": "code",
   "execution_count": 58,
   "metadata": {},
   "outputs": [
    {
     "data": {
      "text/plain": [
       "3.141592653589793"
      ]
     },
     "execution_count": 58,
     "metadata": {},
     "output_type": "execute_result"
    }
   ],
   "source": [
    "import numpy as np\n",
    "np.pi"
   ]
  },
  {
   "cell_type": "code",
   "execution_count": 62,
   "metadata": {},
   "outputs": [
    {
     "name": "stdout",
     "output_type": "stream",
     "text": [
      "      3.14\n"
     ]
    }
   ],
   "source": [
    "print('%10.2f' % np.pi)"
   ]
  },
  {
   "cell_type": "code",
   "execution_count": 65,
   "metadata": {},
   "outputs": [
    {
     "name": "stdout",
     "output_type": "stream",
     "text": [
      "3.14      \n"
     ]
    }
   ],
   "source": [
    "print('%-10.2f' % np.pi)\n",
    "# 负号表示左对齐， 10 表示宽度， 2 表示小数位数"
   ]
  },
  {
   "cell_type": "code",
   "execution_count": 66,
   "metadata": {},
   "outputs": [
    {
     "name": "stdout",
     "output_type": "stream",
     "text": [
      "3.141593\n"
     ]
    }
   ],
   "source": [
    "print('%.6f' % np.pi)"
   ]
  },
  {
   "cell_type": "markdown",
   "metadata": {},
   "source": [
    "##### 填充 0 "
   ]
  },
  {
   "cell_type": "code",
   "execution_count": 68,
   "metadata": {},
   "outputs": [
    {
     "data": {
      "text/plain": [
       "'0000003.14'"
      ]
     },
     "execution_count": 68,
     "metadata": {},
     "output_type": "execute_result"
    }
   ],
   "source": [
    "'%010.2f' % np.pi\n",
    "# 宽度为 10"
   ]
  },
  {
   "cell_type": "code",
   "execution_count": 87,
   "metadata": {},
   "outputs": [
    {
     "name": "stdout",
     "output_type": "stream",
     "text": [
      "   10\n",
      "  -10\n"
     ]
    }
   ],
   "source": [
    "print(('% 5d' % 10) + '\\n' + ('%5d' % -10))\n",
    "# 什么都不加， 表示整数前面加空格"
   ]
  },
  {
   "cell_type": "code",
   "execution_count": 79,
   "metadata": {},
   "outputs": [
    {
     "name": "stdout",
     "output_type": "stream",
     "text": [
      "  +10\n",
      "  -10\n"
     ]
    }
   ],
   "source": [
    "print(('%+5d' %10) + '\\n' + ('%+5d' % -10))\n",
    "# + 表示整数负数都加上符号"
   ]
  },
  {
   "cell_type": "code",
   "execution_count": 88,
   "metadata": {},
   "outputs": [
    {
     "name": "stdout",
     "output_type": "stream",
     "text": [
      "10   \n",
      "-10  \n"
     ]
    }
   ],
   "source": [
    "print(('%-5d' %10) + '\\n' + ('%-5d' % -10))\n",
    "# - 表示左对齐"
   ]
  },
  {
   "cell_type": "code",
   "execution_count": 86,
   "metadata": {},
   "outputs": [
    {
     "name": "stdout",
     "output_type": "stream",
     "text": [
      "10   \n",
      "  -10\n"
     ]
    }
   ],
   "source": [
    "print(('%-5d' %10) + '\\n' + ('%5d' % -10))"
   ]
  },
  {
   "cell_type": "markdown",
   "metadata": {},
   "source": [
    "## os 模块"
   ]
  },
  {
   "cell_type": "code",
   "execution_count": 1,
   "metadata": {},
   "outputs": [],
   "source": [
    "import os"
   ]
  },
  {
   "cell_type": "markdown",
   "metadata": {},
   "source": [
    "#### os.getcwd()\n",
    "- 获取当前路径"
   ]
  },
  {
   "cell_type": "code",
   "execution_count": 2,
   "metadata": {},
   "outputs": [
    {
     "data": {
      "text/plain": [
       "'F:\\\\代码文件\\\\Python\\\\Notebook'"
      ]
     },
     "execution_count": 2,
     "metadata": {},
     "output_type": "execute_result"
    }
   ],
   "source": [
    "os.getcwd()"
   ]
  },
  {
   "cell_type": "code",
   "execution_count": 3,
   "metadata": {},
   "outputs": [
    {
     "data": {
      "text/plain": [
       "'F:\\\\代码文件\\\\Python\\\\Notebook'"
      ]
     },
     "execution_count": 3,
     "metadata": {},
     "output_type": "execute_result"
    }
   ],
   "source": [
    "pwd"
   ]
  },
  {
   "cell_type": "markdown",
   "metadata": {},
   "source": [
    "#### os.walk()\n",
    "\n",
    "- 遍历文件夹下所有的文件\n",
    "\n",
    "- 返回一个三元数组（dirpath, dirnames, filenames）"
   ]
  },
  {
   "cell_type": "code",
   "execution_count": 4,
   "metadata": {},
   "outputs": [],
   "source": [
    "path = os.getcwd()"
   ]
  },
  {
   "cell_type": "code",
   "execution_count": 10,
   "metadata": {},
   "outputs": [
    {
     "data": {
      "text/html": [
       "<div>\n",
       "<style scoped>\n",
       "    .dataframe tbody tr th:only-of-type {\n",
       "        vertical-align: middle;\n",
       "    }\n",
       "\n",
       "    .dataframe tbody tr th {\n",
       "        vertical-align: top;\n",
       "    }\n",
       "\n",
       "    .dataframe thead th {\n",
       "        text-align: right;\n",
       "    }\n",
       "</style>\n",
       "<table border=\"1\" class=\"dataframe\">\n",
       "  <thead>\n",
       "    <tr style=\"text-align: right;\">\n",
       "      <th></th>\n",
       "      <th>root</th>\n",
       "      <th>dir</th>\n",
       "      <th>filname</th>\n",
       "    </tr>\n",
       "  </thead>\n",
       "  <tbody>\n",
       "    <tr>\n",
       "      <th>0</th>\n",
       "      <td>F:\\代码文件\\Python\\Notebook</td>\n",
       "      <td>[.ipynb_checkpoints, Python数值计算, Python数据分析, P...</td>\n",
       "      <td>[dash.ipynb, data.txt, Matplotlib图形类别.ipynb, M...</td>\n",
       "    </tr>\n",
       "    <tr>\n",
       "      <th>1</th>\n",
       "      <td>F:\\代码文件\\Python\\Notebook\\.ipynb_checkpoints</td>\n",
       "      <td>[]</td>\n",
       "      <td>[dash-checkpoint.ipynb, garaph_class-checkpoin...</td>\n",
       "    </tr>\n",
       "    <tr>\n",
       "      <th>2</th>\n",
       "      <td>F:\\代码文件\\Python\\Notebook\\Python数值计算</td>\n",
       "      <td>[.ipynb_checkpoints]</td>\n",
       "      <td>[data.txt, Numpy基础.ipynb, out.png, out2.png, 三...</td>\n",
       "    </tr>\n",
       "    <tr>\n",
       "      <th>3</th>\n",
       "      <td>F:\\代码文件\\Python\\Notebook\\Python数值计算\\.ipynb_chec...</td>\n",
       "      <td>[]</td>\n",
       "      <td>[Numpy基础-checkpoint.ipynb, 三次样条插值-checkpoint.i...</td>\n",
       "    </tr>\n",
       "    <tr>\n",
       "      <th>4</th>\n",
       "      <td>F:\\代码文件\\Python\\Notebook\\Python数据分析</td>\n",
       "      <td>[.ipynb_checkpoints, examples, Python数据分析基础]</td>\n",
       "      <td>[20200409131943甘特图.html, FourierTransform.ipyn...</td>\n",
       "    </tr>\n",
       "  </tbody>\n",
       "</table>\n",
       "</div>"
      ],
      "text/plain": [
       "                                                root  \\\n",
       "0                            F:\\代码文件\\Python\\Notebook   \n",
       "1         F:\\代码文件\\Python\\Notebook\\.ipynb_checkpoints   \n",
       "2                 F:\\代码文件\\Python\\Notebook\\Python数值计算   \n",
       "3  F:\\代码文件\\Python\\Notebook\\Python数值计算\\.ipynb_chec...   \n",
       "4                 F:\\代码文件\\Python\\Notebook\\Python数据分析   \n",
       "\n",
       "                                                 dir  \\\n",
       "0  [.ipynb_checkpoints, Python数值计算, Python数据分析, P...   \n",
       "1                                                 []   \n",
       "2                               [.ipynb_checkpoints]   \n",
       "3                                                 []   \n",
       "4       [.ipynb_checkpoints, examples, Python数据分析基础]   \n",
       "\n",
       "                                             filname  \n",
       "0  [dash.ipynb, data.txt, Matplotlib图形类别.ipynb, M...  \n",
       "1  [dash-checkpoint.ipynb, garaph_class-checkpoin...  \n",
       "2  [data.txt, Numpy基础.ipynb, out.png, out2.png, 三...  \n",
       "3  [Numpy基础-checkpoint.ipynb, 三次样条插值-checkpoint.i...  \n",
       "4  [20200409131943甘特图.html, FourierTransform.ipyn...  "
      ]
     },
     "execution_count": 10,
     "metadata": {},
     "output_type": "execute_result"
    }
   ],
   "source": [
    "import pandas as pd\n",
    "dir = os.walk(path)\n",
    "df = pd.DataFrame(dir, columns = ['root', 'dir', 'filname'])\n",
    "df.head()"
   ]
  },
  {
   "cell_type": "code",
   "execution_count": 14,
   "metadata": {},
   "outputs": [
    {
     "name": "stdout",
     "output_type": "stream",
     "text": [
      "F:\\代码文件\\Python\\Notebook\n",
      "F:\\代码文件\\Python\\Notebook\\.ipynb_checkpoints\n",
      "F:\\代码文件\\Python\\Notebook\\Python数值计算\n",
      "F:\\代码文件\\Python\\Notebook\\Python数值计算\\.ipynb_checkpoints\n",
      "F:\\代码文件\\Python\\Notebook\\Python数据分析\n",
      "F:\\代码文件\\Python\\Notebook\\Python数据分析\\.ipynb_checkpoints\n",
      "F:\\代码文件\\Python\\Notebook\\Python数据分析\\examples\n",
      "F:\\代码文件\\Python\\Notebook\\Python数据分析\\Python数据分析基础\n",
      "F:\\代码文件\\Python\\Notebook\\Python数据分析\\Python数据分析基础\\ch1\n",
      "F:\\代码文件\\Python\\Notebook\\Python数据分析\\Python数据分析基础\\ch10\n",
      "F:\\代码文件\\Python\\Notebook\\Python数据分析\\Python数据分析基础\\ch11\n",
      "F:\\代码文件\\Python\\Notebook\\Python数据分析\\Python数据分析基础\\ch12\n",
      "F:\\代码文件\\Python\\Notebook\\Python数据分析\\Python数据分析基础\\ch13\n",
      "F:\\代码文件\\Python\\Notebook\\Python数据分析\\Python数据分析基础\\ch14\n",
      "F:\\代码文件\\Python\\Notebook\\Python数据分析\\Python数据分析基础\\ch15\n",
      "F:\\代码文件\\Python\\Notebook\\Python数据分析\\Python数据分析基础\\ch17\n",
      "F:\\代码文件\\Python\\Notebook\\Python数据分析\\Python数据分析基础\\ch2\n",
      "F:\\代码文件\\Python\\Notebook\\Python数据分析\\Python数据分析基础\\ch3\n",
      "F:\\代码文件\\Python\\Notebook\\Python数据分析\\Python数据分析基础\\ch4\n",
      "F:\\代码文件\\Python\\Notebook\\Python数据分析\\Python数据分析基础\\ch5\n",
      "F:\\代码文件\\Python\\Notebook\\Python数据分析\\Python数据分析基础\\ch6\n",
      "F:\\代码文件\\Python\\Notebook\\Python数据分析\\Python数据分析基础\\ch7\n",
      "F:\\代码文件\\Python\\Notebook\\Python数据分析\\Python数据分析基础\\ch8\n",
      "F:\\代码文件\\Python\\Notebook\\Python数据分析\\Python数据分析基础\\ch9\n",
      "F:\\代码文件\\Python\\Notebook\\Python数据可视化\n",
      "F:\\代码文件\\Python\\Notebook\\Python数据可视化\\.ipynb_checkpoints\n",
      "F:\\代码文件\\Python\\Notebook\\Python统计分析\n",
      "F:\\代码文件\\Python\\Notebook\\Python统计分析\\.ipynb_checkpoints\n"
     ]
    }
   ],
   "source": [
    "for root, dir, filename in os.walk(path):\n",
    "    print(root)"
   ]
  },
  {
   "cell_type": "markdown",
   "metadata": {},
   "source": [
    "#### os.listdir()\n",
    "- 不遍历，仅获取当前路径下的文件名"
   ]
  },
  {
   "cell_type": "code",
   "execution_count": 17,
   "metadata": {},
   "outputs": [],
   "source": [
    "file_list = os.listdir()"
   ]
  },
  {
   "cell_type": "code",
   "execution_count": 19,
   "metadata": {},
   "outputs": [
    {
     "name": "stdout",
     "output_type": "stream",
     "text": [
      ".ipynb_checkpoints\n",
      "dash.ipynb\n",
      "data.txt\n",
      "Matplotlib图形类别.ipynb\n",
      "Matplotlib基础.ipynb\n",
      "Python基础.ipynb\n",
      "Python基础函数.ipynb\n",
      "Python数值计算\n",
      "Python数据分析\n",
      "Python数据可视化\n",
      "Python文件读写.ipynb\n",
      "Python统计分析\n",
      "temp-plot.html\n",
      "Untitled.ipynb\n",
      "Untitled2.ipynb\n"
     ]
    }
   ],
   "source": [
    "for i in file_list:\n",
    "    print(i)"
   ]
  },
  {
   "cell_type": "markdown",
   "metadata": {},
   "source": [
    "只显示特定的文件"
   ]
  },
  {
   "cell_type": "code",
   "execution_count": 26,
   "metadata": {},
   "outputs": [
    {
     "name": "stdout",
     "output_type": "stream",
     "text": [
      "dash.ipynb\n",
      "Matplotlib图形类别.ipynb\n",
      "Matplotlib基础.ipynb\n",
      "Python基础.ipynb\n",
      "Python基础函数.ipynb\n",
      "Python文件读写.ipynb\n",
      "Untitled.ipynb\n",
      "Untitled2.ipynb\n"
     ]
    }
   ],
   "source": [
    "for filename in file_list:\n",
    "    if os.path.splitext(filename)[1] == '.ipynb':\n",
    "        print(filename)"
   ]
  },
  {
   "cell_type": "markdown",
   "metadata": {},
   "source": [
    "#### os.path.splitext()\n",
    "- 将路径拆分成 文件名 + 扩展名"
   ]
  },
  {
   "cell_type": "code",
   "execution_count": 27,
   "metadata": {},
   "outputs": [],
   "source": [
    "path = 'data.txt'"
   ]
  },
  {
   "cell_type": "code",
   "execution_count": 29,
   "metadata": {},
   "outputs": [
    {
     "data": {
      "text/plain": [
       "'data.txt'"
      ]
     },
     "execution_count": 29,
     "metadata": {},
     "output_type": "execute_result"
    }
   ],
   "source": [
    "path"
   ]
  },
  {
   "cell_type": "code",
   "execution_count": 31,
   "metadata": {},
   "outputs": [],
   "source": [
    "path1 = os.path.splitext(path)"
   ]
  },
  {
   "cell_type": "code",
   "execution_count": 33,
   "metadata": {},
   "outputs": [
    {
     "data": {
      "text/plain": [
       "('data', '.txt')"
      ]
     },
     "execution_count": 33,
     "metadata": {},
     "output_type": "execute_result"
    }
   ],
   "source": [
    "path1"
   ]
  },
  {
   "cell_type": "code",
   "execution_count": 35,
   "metadata": {},
   "outputs": [
    {
     "data": {
      "text/plain": [
       "'data'"
      ]
     },
     "execution_count": 35,
     "metadata": {},
     "output_type": "execute_result"
    }
   ],
   "source": [
    "path1[0]"
   ]
  },
  {
   "cell_type": "code",
   "execution_count": 38,
   "metadata": {},
   "outputs": [
    {
     "data": {
      "text/plain": [
       "'.txt'"
      ]
     },
     "execution_count": 38,
     "metadata": {},
     "output_type": "execute_result"
    }
   ],
   "source": [
    "path1[1]"
   ]
  },
  {
   "cell_type": "code",
   "execution_count": 40,
   "metadata": {},
   "outputs": [
    {
     "data": {
      "text/plain": [
       "'.txt'"
      ]
     },
     "execution_count": 40,
     "metadata": {},
     "output_type": "execute_result"
    }
   ],
   "source": [
    "os.path.splitext(path)[1]"
   ]
  },
  {
   "cell_type": "code",
   "execution_count": null,
   "metadata": {},
   "outputs": [],
   "source": []
  }
 ],
 "metadata": {
  "kernelspec": {
   "display_name": "Python 3",
   "language": "python",
   "name": "python3"
  },
  "language_info": {
   "codemirror_mode": {
    "name": "ipython",
    "version": 3
   },
   "file_extension": ".py",
   "mimetype": "text/x-python",
   "name": "python",
   "nbconvert_exporter": "python",
   "pygments_lexer": "ipython3",
   "version": "3.8.2"
  }
 },
 "nbformat": 4,
 "nbformat_minor": 4
}
