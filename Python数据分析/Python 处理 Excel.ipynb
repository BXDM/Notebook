{
 "cells": [
  {
   "cell_type": "code",
   "execution_count": 2,
   "id": "offensive-matrix",
   "metadata": {},
   "outputs": [],
   "source": [
    "# 1. 读取 Excel"
   ]
  },
  {
   "cell_type": "code",
   "execution_count": 6,
   "id": "moderate-click",
   "metadata": {},
   "outputs": [],
   "source": [
    "file = '项目工程进度甘特图.xlsx'"
   ]
  },
  {
   "cell_type": "code",
   "execution_count": 5,
   "id": "valuable-junior",
   "metadata": {},
   "outputs": [
    {
     "name": "stdout",
     "output_type": "stream",
     "text": [
      ".ipynb_checkpoints\n",
      "20200409131943甘特图.html\n",
      "data\n",
      "examples\n",
      "FourierTransform.ipynb\n",
      "ipython_script_test.py\n",
      "Jupyter使用教程.ipynb\n",
      "Matplotlib.ipynb\n",
      "mydata.sqlite\n",
      "numpy基础.ipynb\n",
      "Openpyxl.ipynb\n",
      "Pandas 数据分组.ipynb\n",
      "Pandas 数据合并.ipynb\n",
      "pandas 数据聚合和组操作.ipynb\n",
      "pandas 文件写入.ipynb\n",
      "Pandas_DataFrame 基础.ipynb\n",
      "Pandas_Series 基础.ipynb\n",
      "Pandas数据清洗.ipynb\n",
      "pandas数据读取.ipynb\n",
      "Pandas绘图和可视化.ipynb\n",
      "Project\n",
      "Python 处理 Excel.ipynb\n",
      "Python数据分析基础\n",
      "science.ipynb\n",
      "text.xlsx\n",
      "Untitled.ipynb\n",
      "时间序列.ipynb\n",
      "时间转换.ipynb\n",
      "项目工程进度甘特图.xlsx\n"
     ]
    }
   ],
   "source": [
    "!dir /b"
   ]
  }
 ],
 "metadata": {
  "kernelspec": {
   "display_name": "Python 3",
   "language": "python",
   "name": "python3"
  },
  "language_info": {
   "codemirror_mode": {
    "name": "ipython",
    "version": 3
   },
   "file_extension": ".py",
   "mimetype": "text/x-python",
   "name": "python",
   "nbconvert_exporter": "python",
   "pygments_lexer": "ipython3",
   "version": "3.9.2"
  }
 },
 "nbformat": 4,
 "nbformat_minor": 5
}
