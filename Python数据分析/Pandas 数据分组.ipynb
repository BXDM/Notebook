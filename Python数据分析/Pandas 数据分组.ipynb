{
 "cells": [
  {
   "cell_type": "markdown",
   "metadata": {},
   "source": [
    "<https://blog.csdn.net/hewb14/article/details/50520524>"
   ]
  },
  {
   "cell_type": "code",
   "metadata": {
    "ExecuteTime": {
     "end_time": "2024-06-27T12:54:33.075301Z",
     "start_time": "2024-06-27T12:54:32.030446Z"
    }
   },
   "source": [
    "import pandas as pd\n",
    "import numpy  as np \n",
    "import matplotlib.pyplot as plt"
   ],
   "outputs": [],
   "execution_count": 2
  },
  {
   "metadata": {},
   "cell_type": "code",
   "outputs": [],
   "execution_count": null,
   "source": [
    "data = {\n",
    "    'Category': ['A', 'B', 'A', 'B', 'C', 'A', 'C'],\n",
    "    'Value': [1, 2, 3, 4, 5, 6, 7]\n",
    "}\n",
    "\n",
    "df = pd.DataFrame(data)"
   ]
  },
  {
   "metadata": {
    "ExecuteTime": {
     "end_time": "2024-06-27T13:07:38.883825Z",
     "start_time": "2024-06-27T13:07:38.878772Z"
    }
   },
   "cell_type": "code",
   "source": "df.info()",
   "outputs": [
    {
     "name": "stdout",
     "output_type": "stream",
     "text": [
      "<class 'pandas.core.frame.DataFrame'>\n",
      "RangeIndex: 7 entries, 0 to 6\n",
      "Data columns (total 2 columns):\n",
      " #   Column    Non-Null Count  Dtype \n",
      "---  ------    --------------  ----- \n",
      " 0   Category  7 non-null      object\n",
      " 1   Value     7 non-null      int64 \n",
      "dtypes: int64(1), object(1)\n",
      "memory usage: 244.0+ bytes\n"
     ]
    }
   ],
   "execution_count": 25
  },
  {
   "metadata": {
    "ExecuteTime": {
     "end_time": "2024-06-27T13:06:33.994580Z",
     "start_time": "2024-06-27T13:06:33.991572Z"
    }
   },
   "cell_type": "code",
   "source": [
    "grouped = df.groupby('Category')\n",
    "print(grouped) # 无法查看"
   ],
   "outputs": [
    {
     "name": "stdout",
     "output_type": "stream",
     "text": [
      "<pandas.core.groupby.generic.DataFrameGroupBy object at 0x000001FAE5325970>\n"
     ]
    }
   ],
   "execution_count": 23
  },
  {
   "metadata": {
    "ExecuteTime": {
     "end_time": "2024-06-27T13:04:25.573798Z",
     "start_time": "2024-06-27T13:04:25.569414Z"
    }
   },
   "cell_type": "code",
   "source": [
    "for group in grouped:\n",
    "       print(group)"
   ],
   "outputs": [
    {
     "name": "stdout",
     "output_type": "stream",
     "text": [
      "('A',   Category  Value\n",
      "0        A      1\n",
      "2        A      3\n",
      "5        A      6)\n",
      "('B',   Category  Value\n",
      "1        B      2\n",
      "3        B      4)\n",
      "('C',   Category  Value\n",
      "4        C      5\n",
      "6        C      7)\n"
     ]
    }
   ],
   "execution_count": 17
  },
  {
   "metadata": {
    "ExecuteTime": {
     "end_time": "2024-06-27T13:05:52.238242Z",
     "start_time": "2024-06-27T13:05:52.233310Z"
    }
   },
   "cell_type": "code",
   "source": [
    "print(grouped.sum())\n",
    "print(grouped.mean())"
   ],
   "outputs": [
    {
     "name": "stdout",
     "output_type": "stream",
     "text": [
      "          Value\n",
      "Category       \n",
      "A            10\n",
      "B             6\n",
      "C            12\n",
      "             Value\n",
      "Category          \n",
      "A         3.333333\n",
      "B         3.000000\n",
      "C         6.000000\n"
     ]
    }
   ],
   "execution_count": 20
  }
 ],
 "metadata": {
  "kernelspec": {
   "display_name": "Python 3",
   "language": "python",
   "name": "python3"
  },
  "language_info": {
   "codemirror_mode": {
    "name": "ipython",
    "version": 3
   },
   "file_extension": ".py",
   "mimetype": "text/x-python",
   "name": "python",
   "nbconvert_exporter": "python",
   "pygments_lexer": "ipython3",
   "version": "3.9.2"
  }
 },
 "nbformat": 4,
 "nbformat_minor": 4
}
