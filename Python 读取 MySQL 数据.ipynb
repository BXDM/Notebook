{
 "cells": [
  {
   "cell_type": "markdown",
   "metadata": {},
   "source": [
    "参考资料：[Python查询MySQL数据，并提取mysql字段名转化成DataFrame](https://blog.csdn.net/qq_21795835/article/details/83015432)"
   ]
  },
  {
   "cell_type": "code",
   "execution_count": 1,
   "metadata": {},
   "outputs": [],
   "source": [
    "import pymysql   #导入pymysql模块\n",
    " \n",
    "db=pymysql.connect(\n",
    "    host='localhost',         #连接到数据库，服务器为本机\n",
    "    user='root',                             #用户名为root\n",
    "    passwd='agsj2735',                         #密码为123456\n",
    "    db='price')                             #数据库为python"
   ]
  },
  {
   "cell_type": "code",
   "execution_count": 2,
   "metadata": {},
   "outputs": [],
   "source": [
    "cur=db.cursor()"
   ]
  },
  {
   "cell_type": "code",
   "execution_count": 3,
   "metadata": {},
   "outputs": [
    {
     "name": "stdout",
     "output_type": "stream",
     "text": [
      "(1, datetime.datetime(2020, 11, 1, 11, 48, 56), 1349.0, 449.0, 439.0, 699.0, 219.0, 169.0, 69.0)\n",
      "(2, datetime.datetime(2020, 11, 2, 21, 27, 7), 1399.0, 449.0, 479.0, 699.0, 239.0, 169.0, 69.0)\n",
      "(3, datetime.datetime(2020, 11, 3, 23, 2), 1349.0, 449.0, 439.0, 699.0, 259.0, 169.0, 72.0)\n",
      "(4, datetime.datetime(2020, 11, 6, 18, 45, 38), 1349.0, 479.0, 449.0, 799.0, 239.0, 169.0, 75.0)\n",
      "(5, datetime.datetime(2020, 11, 7, 11, 55, 8), 1349.0, 479.0, 479.0, 799.0, 239.0, 199.0, 89.0)\n",
      "(6, datetime.datetime(2020, 11, 8, 23, 20, 18), 1399.0, 479.0, 499.0, 729.0, 229.0, 199.0, 89.0)\n",
      "(7, datetime.datetime(2020, 11, 9, 20, 56, 34), 1399.0, 469.0, 479.0, 799.0, 249.0, 189.0, 89.0)\n",
      "(8, datetime.datetime(2020, 11, 10, 19, 44, 36), 1399.0, 479.0, 479.0, 799.0, 259.0, 189.0, 89.0)\n",
      "(9, datetime.datetime(2020, 11, 11, 20, 30, 11), 1349.0, 449.0, 439.0, 699.0, 219.0, 169.0, 69.0)\n"
     ]
    }
   ],
   "source": [
    "results=cur.execute('select * from pc')      #执行sql语句，获取记录\n",
    "results=cur.fetchall()                           #获取数据\n",
    "for row in results:\n",
    "    print(row)                                   #输出数据"
   ]
  },
  {
   "cell_type": "code",
   "execution_count": 4,
   "metadata": {},
   "outputs": [
    {
     "data": {
      "text/plain": [
       "(('id', 3, None, 11, 11, 0, False),\n",
       " ('date', 7, None, 19, 19, 0, True),\n",
       " ('cpu', 4, None, 12, 12, 31, True),\n",
       " ('ddr', 4, None, 12, 12, 31, True),\n",
       " ('ssd', 4, None, 12, 12, 31, True),\n",
       " ('board', 4, None, 12, 12, 31, True),\n",
       " ('power', 4, None, 12, 12, 31, True),\n",
       " ('box', 4, None, 12, 12, 31, True),\n",
       " ('wind', 4, None, 12, 12, 31, True))"
      ]
     },
     "execution_count": 4,
     "metadata": {},
     "output_type": "execute_result"
    }
   ],
   "source": [
    "col_result = cur.description\n",
    "col_result"
   ]
  },
  {
   "cell_type": "code",
   "execution_count": 178,
   "metadata": {},
   "outputs": [],
   "source": [
    "columns = []\n",
    "for i in range(len(col_result)):\n",
    "    columns.append(col_result[i][0])"
   ]
  },
  {
   "cell_type": "code",
   "execution_count": 179,
   "metadata": {},
   "outputs": [
    {
     "data": {
      "text/plain": [
       "['id', 'date', 'cpu', 'ddr', 'ssd', 'board', 'power', 'box', 'wind']"
      ]
     },
     "execution_count": 179,
     "metadata": {},
     "output_type": "execute_result"
    }
   ],
   "source": [
    "columns"
   ]
  },
  {
   "cell_type": "code",
   "execution_count": 6,
   "metadata": {},
   "outputs": [
    {
     "data": {
      "text/plain": [
       "12"
      ]
     },
     "execution_count": 6,
     "metadata": {},
     "output_type": "execute_result"
    }
   ],
   "source": [
    "col_result[5][4]"
   ]
  },
  {
   "cell_type": "code",
   "execution_count": 7,
   "metadata": {},
   "outputs": [],
   "source": [
    "import pandas as pd\n",
    "df = pd.DataFrame(columns = columns)\n",
    "for i in range(len(results)):\n",
    "    df.loc[i] = list(results[i])"
   ]
  },
  {
   "cell_type": "code",
   "execution_count": 8,
   "metadata": {},
   "outputs": [
    {
     "data": {
      "text/html": [
       "<div>\n",
       "<style scoped>\n",
       "    .dataframe tbody tr th:only-of-type {\n",
       "        vertical-align: middle;\n",
       "    }\n",
       "\n",
       "    .dataframe tbody tr th {\n",
       "        vertical-align: top;\n",
       "    }\n",
       "\n",
       "    .dataframe thead th {\n",
       "        text-align: right;\n",
       "    }\n",
       "</style>\n",
       "<table border=\"1\" class=\"dataframe\">\n",
       "  <thead>\n",
       "    <tr style=\"text-align: right;\">\n",
       "      <th></th>\n",
       "      <th>id</th>\n",
       "      <th>date</th>\n",
       "      <th>cpu</th>\n",
       "      <th>ddr</th>\n",
       "      <th>ssd</th>\n",
       "      <th>board</th>\n",
       "      <th>power</th>\n",
       "      <th>box</th>\n",
       "      <th>wind</th>\n",
       "    </tr>\n",
       "  </thead>\n",
       "  <tbody>\n",
       "    <tr>\n",
       "      <th>0</th>\n",
       "      <td>1</td>\n",
       "      <td>2020-11-01 11:48:56</td>\n",
       "      <td>1349.0</td>\n",
       "      <td>449.0</td>\n",
       "      <td>439.0</td>\n",
       "      <td>699.0</td>\n",
       "      <td>219.0</td>\n",
       "      <td>169.0</td>\n",
       "      <td>69.0</td>\n",
       "    </tr>\n",
       "    <tr>\n",
       "      <th>1</th>\n",
       "      <td>2</td>\n",
       "      <td>2020-11-02 21:27:07</td>\n",
       "      <td>1399.0</td>\n",
       "      <td>449.0</td>\n",
       "      <td>479.0</td>\n",
       "      <td>699.0</td>\n",
       "      <td>239.0</td>\n",
       "      <td>169.0</td>\n",
       "      <td>69.0</td>\n",
       "    </tr>\n",
       "    <tr>\n",
       "      <th>2</th>\n",
       "      <td>3</td>\n",
       "      <td>2020-11-03 23:02:00</td>\n",
       "      <td>1349.0</td>\n",
       "      <td>449.0</td>\n",
       "      <td>439.0</td>\n",
       "      <td>699.0</td>\n",
       "      <td>259.0</td>\n",
       "      <td>169.0</td>\n",
       "      <td>72.0</td>\n",
       "    </tr>\n",
       "    <tr>\n",
       "      <th>3</th>\n",
       "      <td>4</td>\n",
       "      <td>2020-11-06 18:45:38</td>\n",
       "      <td>1349.0</td>\n",
       "      <td>479.0</td>\n",
       "      <td>449.0</td>\n",
       "      <td>799.0</td>\n",
       "      <td>239.0</td>\n",
       "      <td>169.0</td>\n",
       "      <td>75.0</td>\n",
       "    </tr>\n",
       "    <tr>\n",
       "      <th>4</th>\n",
       "      <td>5</td>\n",
       "      <td>2020-11-07 11:55:08</td>\n",
       "      <td>1349.0</td>\n",
       "      <td>479.0</td>\n",
       "      <td>479.0</td>\n",
       "      <td>799.0</td>\n",
       "      <td>239.0</td>\n",
       "      <td>199.0</td>\n",
       "      <td>89.0</td>\n",
       "    </tr>\n",
       "    <tr>\n",
       "      <th>5</th>\n",
       "      <td>6</td>\n",
       "      <td>2020-11-08 23:20:18</td>\n",
       "      <td>1399.0</td>\n",
       "      <td>479.0</td>\n",
       "      <td>499.0</td>\n",
       "      <td>729.0</td>\n",
       "      <td>229.0</td>\n",
       "      <td>199.0</td>\n",
       "      <td>89.0</td>\n",
       "    </tr>\n",
       "    <tr>\n",
       "      <th>6</th>\n",
       "      <td>7</td>\n",
       "      <td>2020-11-09 20:56:34</td>\n",
       "      <td>1399.0</td>\n",
       "      <td>469.0</td>\n",
       "      <td>479.0</td>\n",
       "      <td>799.0</td>\n",
       "      <td>249.0</td>\n",
       "      <td>189.0</td>\n",
       "      <td>89.0</td>\n",
       "    </tr>\n",
       "    <tr>\n",
       "      <th>7</th>\n",
       "      <td>8</td>\n",
       "      <td>2020-11-10 19:44:36</td>\n",
       "      <td>1399.0</td>\n",
       "      <td>479.0</td>\n",
       "      <td>479.0</td>\n",
       "      <td>799.0</td>\n",
       "      <td>259.0</td>\n",
       "      <td>189.0</td>\n",
       "      <td>89.0</td>\n",
       "    </tr>\n",
       "    <tr>\n",
       "      <th>8</th>\n",
       "      <td>9</td>\n",
       "      <td>2020-11-11 20:30:11</td>\n",
       "      <td>1349.0</td>\n",
       "      <td>449.0</td>\n",
       "      <td>439.0</td>\n",
       "      <td>699.0</td>\n",
       "      <td>219.0</td>\n",
       "      <td>169.0</td>\n",
       "      <td>69.0</td>\n",
       "    </tr>\n",
       "  </tbody>\n",
       "</table>\n",
       "</div>"
      ],
      "text/plain": [
       "  id                date     cpu    ddr    ssd  board  power    box  wind\n",
       "0  1 2020-11-01 11:48:56  1349.0  449.0  439.0  699.0  219.0  169.0  69.0\n",
       "1  2 2020-11-02 21:27:07  1399.0  449.0  479.0  699.0  239.0  169.0  69.0\n",
       "2  3 2020-11-03 23:02:00  1349.0  449.0  439.0  699.0  259.0  169.0  72.0\n",
       "3  4 2020-11-06 18:45:38  1349.0  479.0  449.0  799.0  239.0  169.0  75.0\n",
       "4  5 2020-11-07 11:55:08  1349.0  479.0  479.0  799.0  239.0  199.0  89.0\n",
       "5  6 2020-11-08 23:20:18  1399.0  479.0  499.0  729.0  229.0  199.0  89.0\n",
       "6  7 2020-11-09 20:56:34  1399.0  469.0  479.0  799.0  249.0  189.0  89.0\n",
       "7  8 2020-11-10 19:44:36  1399.0  479.0  479.0  799.0  259.0  189.0  89.0\n",
       "8  9 2020-11-11 20:30:11  1349.0  449.0  439.0  699.0  219.0  169.0  69.0"
      ]
     },
     "execution_count": 8,
     "metadata": {},
     "output_type": "execute_result"
    }
   ],
   "source": [
    "df"
   ]
  },
  {
   "cell_type": "code",
   "execution_count": 9,
   "metadata": {},
   "outputs": [
    {
     "data": {
      "text/plain": [
       "0   2020-11-01 11:48:56\n",
       "1   2020-11-02 21:27:07\n",
       "2   2020-11-03 23:02:00\n",
       "3   2020-11-06 18:45:38\n",
       "4   2020-11-07 11:55:08\n",
       "5   2020-11-08 23:20:18\n",
       "6   2020-11-09 20:56:34\n",
       "7   2020-11-10 19:44:36\n",
       "8   2020-11-11 20:30:11\n",
       "Name: date, dtype: datetime64[ns]"
      ]
     },
     "execution_count": 9,
     "metadata": {},
     "output_type": "execute_result"
    }
   ],
   "source": [
    " df.date"
   ]
  },
  {
   "cell_type": "code",
   "execution_count": 10,
   "metadata": {},
   "outputs": [],
   "source": [
    "import matplotlib.pyplot as plt"
   ]
  },
  {
   "cell_type": "code",
   "execution_count": 181,
   "metadata": {},
   "outputs": [
    {
     "data": {
      "text/plain": [
       "0    1349.0\n",
       "1    1399.0\n",
       "2    1349.0\n",
       "3    1349.0\n",
       "4    1349.0\n",
       "Name: cpu, dtype: float64"
      ]
     },
     "execution_count": 181,
     "metadata": {},
     "output_type": "execute_result"
    }
   ],
   "source": [
    "df.cpu.head()"
   ]
  },
  {
   "cell_type": "code",
   "execution_count": 180,
   "metadata": {},
   "outputs": [
    {
     "data": {
      "text/plain": [
       "0    1349.0\n",
       "1    1399.0\n",
       "2    1349.0\n",
       "3    1349.0\n",
       "4    1349.0\n",
       "Name: cpu, dtype: float64"
      ]
     },
     "execution_count": 180,
     "metadata": {},
     "output_type": "execute_result"
    }
   ],
   "source": [
    "df.iloc[:, 2].head()"
   ]
  },
  {
   "cell_type": "code",
   "execution_count": 13,
   "metadata": {},
   "outputs": [
    {
     "data": {
      "text/plain": [
       "'cpu'"
      ]
     },
     "execution_count": 13,
     "metadata": {},
     "output_type": "execute_result"
    }
   ],
   "source": [
    "labels = ['cpu', 'ddr', 'ssd']\n",
    "labels[0]"
   ]
  },
  {
   "cell_type": "code",
   "execution_count": 14,
   "metadata": {},
   "outputs": [],
   "source": [
    "labels = ['CPU', '内存条', '固态硬盘', '主板', '电源', '机箱', '风扇']"
   ]
  },
  {
   "cell_type": "code",
   "execution_count": 15,
   "metadata": {},
   "outputs": [],
   "source": [
    "import matplotlib as mpl\n",
    "mpl.rcParams[\"font.sans-serif\"] = [\"SimHei\"]\n",
    "mpl.rcParams[\"axes.unicode_minus\"] = False"
   ]
  },
  {
   "cell_type": "code",
   "execution_count": 16,
   "metadata": {},
   "outputs": [
    {
     "data": {
      "image/png": "[encoded data removed]",
      "text/plain": [
       "<Figure size 432x288 with 1 Axes>"
      ]
     },
     "metadata": {
      "needs_background": "light"
     },
     "output_type": "display_data"
    }
   ],
   "source": [
    "for i in range(2,9):\n",
    "    plt.scatter(df.date, df.iloc[:, i])\n",
    "    plt.plot(df.date, df.iloc[:, i])\n",
    "plt.legend(labels, loc = [0.3, 0.4])\n",
    "plt.title('狗东电脑配件价格变动', pad = 20)\n",
    "plt.xticks(rotation = 30)\n",
    "plt.grid()\n",
    "plt.savefig(r'C:\\Users\\BXDM\\Desktop\\jd.png', dpi = 300)"
   ]
  },
  {
   "cell_type": "markdown",
   "metadata": {},
   "source": [
    "#### 函数形式"
   ]
  },
  {
   "cell_type": "code",
   "execution_count": 17,
   "metadata": {},
   "outputs": [],
   "source": [
    "def get_mysql_data(sql):\n",
    "    \"\"\"\n",
    "    提取mysql中的数据并返回成dataframe\n",
    "    参数只需要sql语句\n",
    "\n",
    "    \"\"\"\n",
    "    conn = pymysql.connect(\n",
    "        host='localhost',\n",
    "        user='root',\n",
    "        password='agsj2735',\n",
    "        db='price',\n",
    "        port=3306\n",
    "    )\n",
    "    cur = conn.cursor()  # 获取操作游标，也就是开始操作\n",
    "    sql_select = sql  # 查询命令\n",
    "    cur.execute(sql_select)  # 执行查询语句\n",
    "\n",
    "    result = cur.fetchall()  # 获取查询结果\n",
    "    col_result = cur.description  # 获取查询结果的字段描述\n",
    "\n",
    "    columns = []\n",
    "    for i in range(len(col_result)):\n",
    "        columns.append(col_result[i][0])  # 获取字段名，咦列表形式保存\n",
    "\n",
    "    df = pd.DataFrame(columns=columns)\n",
    "    for i in range(len(result)):\n",
    "        df.loc[i] = list(result[i])  # 按行插入查询到的数据\n",
    "\n",
    "    conn.close()  # 关闭数据库连接\n",
    "\n",
    "    return df"
   ]
  },
  {
   "cell_type": "code",
   "execution_count": 18,
   "metadata": {},
   "outputs": [],
   "source": [
    "sql = 'select * from pc'\n",
    "df = get_mysql_data(sql)"
   ]
  },
  {
   "cell_type": "code",
   "execution_count": 19,
   "metadata": {},
   "outputs": [
    {
     "data": {
      "text/html": [
       "<div>\n",
       "<style scoped>\n",
       "    .dataframe tbody tr th:only-of-type {\n",
       "        vertical-align: middle;\n",
       "    }\n",
       "\n",
       "    .dataframe tbody tr th {\n",
       "        vertical-align: top;\n",
       "    }\n",
       "\n",
       "    .dataframe thead th {\n",
       "        text-align: right;\n",
       "    }\n",
       "</style>\n",
       "<table border=\"1\" class=\"dataframe\">\n",
       "  <thead>\n",
       "    <tr style=\"text-align: right;\">\n",
       "      <th></th>\n",
       "      <th>id</th>\n",
       "      <th>date</th>\n",
       "      <th>cpu</th>\n",
       "      <th>ddr</th>\n",
       "      <th>ssd</th>\n",
       "      <th>board</th>\n",
       "      <th>power</th>\n",
       "      <th>box</th>\n",
       "      <th>wind</th>\n",
       "    </tr>\n",
       "  </thead>\n",
       "  <tbody>\n",
       "    <tr>\n",
       "      <th>0</th>\n",
       "      <td>1</td>\n",
       "      <td>2020-11-01 11:48:56</td>\n",
       "      <td>1349.0</td>\n",
       "      <td>449.0</td>\n",
       "      <td>439.0</td>\n",
       "      <td>699.0</td>\n",
       "      <td>219.0</td>\n",
       "      <td>169.0</td>\n",
       "      <td>69.0</td>\n",
       "    </tr>\n",
       "    <tr>\n",
       "      <th>1</th>\n",
       "      <td>2</td>\n",
       "      <td>2020-11-02 21:27:07</td>\n",
       "      <td>1399.0</td>\n",
       "      <td>449.0</td>\n",
       "      <td>479.0</td>\n",
       "      <td>699.0</td>\n",
       "      <td>239.0</td>\n",
       "      <td>169.0</td>\n",
       "      <td>69.0</td>\n",
       "    </tr>\n",
       "    <tr>\n",
       "      <th>2</th>\n",
       "      <td>3</td>\n",
       "      <td>2020-11-03 23:02:00</td>\n",
       "      <td>1349.0</td>\n",
       "      <td>449.0</td>\n",
       "      <td>439.0</td>\n",
       "      <td>699.0</td>\n",
       "      <td>259.0</td>\n",
       "      <td>169.0</td>\n",
       "      <td>72.0</td>\n",
       "    </tr>\n",
       "    <tr>\n",
       "      <th>3</th>\n",
       "      <td>4</td>\n",
       "      <td>2020-11-06 18:45:38</td>\n",
       "      <td>1349.0</td>\n",
       "      <td>479.0</td>\n",
       "      <td>449.0</td>\n",
       "      <td>799.0</td>\n",
       "      <td>239.0</td>\n",
       "      <td>169.0</td>\n",
       "      <td>75.0</td>\n",
       "    </tr>\n",
       "    <tr>\n",
       "      <th>4</th>\n",
       "      <td>5</td>\n",
       "      <td>2020-11-07 11:55:08</td>\n",
       "      <td>1349.0</td>\n",
       "      <td>479.0</td>\n",
       "      <td>479.0</td>\n",
       "      <td>799.0</td>\n",
       "      <td>239.0</td>\n",
       "      <td>199.0</td>\n",
       "      <td>89.0</td>\n",
       "    </tr>\n",
       "    <tr>\n",
       "      <th>5</th>\n",
       "      <td>6</td>\n",
       "      <td>2020-11-08 23:20:18</td>\n",
       "      <td>1399.0</td>\n",
       "      <td>479.0</td>\n",
       "      <td>499.0</td>\n",
       "      <td>729.0</td>\n",
       "      <td>229.0</td>\n",
       "      <td>199.0</td>\n",
       "      <td>89.0</td>\n",
       "    </tr>\n",
       "    <tr>\n",
       "      <th>6</th>\n",
       "      <td>7</td>\n",
       "      <td>2020-11-09 20:56:34</td>\n",
       "      <td>1399.0</td>\n",
       "      <td>469.0</td>\n",
       "      <td>479.0</td>\n",
       "      <td>799.0</td>\n",
       "      <td>249.0</td>\n",
       "      <td>189.0</td>\n",
       "      <td>89.0</td>\n",
       "    </tr>\n",
       "    <tr>\n",
       "      <th>7</th>\n",
       "      <td>8</td>\n",
       "      <td>2020-11-10 19:44:36</td>\n",
       "      <td>1399.0</td>\n",
       "      <td>479.0</td>\n",
       "      <td>479.0</td>\n",
       "      <td>799.0</td>\n",
       "      <td>259.0</td>\n",
       "      <td>189.0</td>\n",
       "      <td>89.0</td>\n",
       "    </tr>\n",
       "    <tr>\n",
       "      <th>8</th>\n",
       "      <td>9</td>\n",
       "      <td>2020-11-11 20:30:11</td>\n",
       "      <td>1349.0</td>\n",
       "      <td>449.0</td>\n",
       "      <td>439.0</td>\n",
       "      <td>699.0</td>\n",
       "      <td>219.0</td>\n",
       "      <td>169.0</td>\n",
       "      <td>69.0</td>\n",
       "    </tr>\n",
       "  </tbody>\n",
       "</table>\n",
       "</div>"
      ],
      "text/plain": [
       "  id                date     cpu    ddr    ssd  board  power    box  wind\n",
       "0  1 2020-11-01 11:48:56  1349.0  449.0  439.0  699.0  219.0  169.0  69.0\n",
       "1  2 2020-11-02 21:27:07  1399.0  449.0  479.0  699.0  239.0  169.0  69.0\n",
       "2  3 2020-11-03 23:02:00  1349.0  449.0  439.0  699.0  259.0  169.0  72.0\n",
       "3  4 2020-11-06 18:45:38  1349.0  479.0  449.0  799.0  239.0  169.0  75.0\n",
       "4  5 2020-11-07 11:55:08  1349.0  479.0  479.0  799.0  239.0  199.0  89.0\n",
       "5  6 2020-11-08 23:20:18  1399.0  479.0  499.0  729.0  229.0  199.0  89.0\n",
       "6  7 2020-11-09 20:56:34  1399.0  469.0  479.0  799.0  249.0  189.0  89.0\n",
       "7  8 2020-11-10 19:44:36  1399.0  479.0  479.0  799.0  259.0  189.0  89.0\n",
       "8  9 2020-11-11 20:30:11  1349.0  449.0  439.0  699.0  219.0  169.0  69.0"
      ]
     },
     "execution_count": 19,
     "metadata": {},
     "output_type": "execute_result"
    }
   ],
   "source": [
    "df"
   ]
  },
  {
   "cell_type": "code",
   "execution_count": 78,
   "metadata": {},
   "outputs": [
    {
     "data": {
      "text/plain": [
       "array([2, 3, 4, 5, 6, 7, 8])"
      ]
     },
     "execution_count": 78,
     "metadata": {},
     "output_type": "execute_result"
    }
   ],
   "source": [
    "np.arange(2, 9)"
   ]
  },
  {
   "cell_type": "code",
   "execution_count": 82,
   "metadata": {},
   "outputs": [],
   "source": [
    "prices = []\n",
    "import numpy as np\n",
    "for i in range(len(df)):\n",
    "    price = df.iloc[i, np.arange(2, 9)]\n",
    "    price = np.sum(price)\n",
    "    prices.append(price)"
   ]
  },
  {
   "cell_type": "code",
   "execution_count": 83,
   "metadata": {},
   "outputs": [
    {
     "data": {
      "text/plain": [
       "[3393.0, 3503.0, 3436.0, 3559.0, 3633.0, 3623.0, 3673.0, 3693.0, 3393.0]"
      ]
     },
     "execution_count": 83,
     "metadata": {},
     "output_type": "execute_result"
    }
   ],
   "source": [
    "prices"
   ]
  },
  {
   "cell_type": "code",
   "execution_count": 196,
   "metadata": {},
   "outputs": [
    {
     "data": {
      "image/png": "[encoded data removed]",
      "text/plain": [
       "<Figure size 432x288 with 1 Axes>"
      ]
     },
     "metadata": {
      "needs_background": "light"
     },
     "output_type": "display_data"
    }
   ],
   "source": [
    "import matplotlib.pyplot as plt\n",
    "plt.plot(df.date, prices, '--k', linewidth = 0.8)\n",
    "plt.title('总价格变动趋势', pad = 20)\n",
    "plt.grid()"
   ]
  },
  {
   "cell_type": "code",
   "execution_count": 176,
   "metadata": {},
   "outputs": [
    {
     "ename": "TypeError",
     "evalue": "unsupported operand type(s) for *: 'Timestamp' and 'float'",
     "output_type": "error",
     "traceback": [
      "\u001B[1;31m---------------------------------------------------------------------------\u001B[0m",
      "\u001B[1;31mTypeError\u001B[0m                                 Traceback (most recent call last)",
      "\u001B[1;32m<ipython-input-176-5e1fcd454183>\u001B[0m in \u001B[0;36m<module>\u001B[1;34m\u001B[0m\n\u001B[0;32m      3\u001B[0m \u001B[0my\u001B[0m \u001B[1;33m=\u001B[0m \u001B[0mprices\u001B[0m\u001B[1;33m\u001B[0m\u001B[1;33m\u001B[0m\u001B[0m\n\u001B[0;32m      4\u001B[0m \u001B[0mtck\u001B[0m \u001B[1;33m=\u001B[0m \u001B[0minterpolate\u001B[0m\u001B[1;33m.\u001B[0m\u001B[0msplrep\u001B[0m\u001B[1;33m(\u001B[0m\u001B[0mx\u001B[0m\u001B[1;33m,\u001B[0m\u001B[0my\u001B[0m\u001B[1;33m)\u001B[0m\u001B[1;33m\u001B[0m\u001B[1;33m\u001B[0m\u001B[0m\n\u001B[1;32m----> 5\u001B[1;33m \u001B[0mxx\u001B[0m \u001B[1;33m=\u001B[0m \u001B[0mnp\u001B[0m\u001B[1;33m.\u001B[0m\u001B[0mlinspace\u001B[0m\u001B[1;33m(\u001B[0m\u001B[0mmin\u001B[0m\u001B[1;33m(\u001B[0m\u001B[0mx\u001B[0m\u001B[1;33m)\u001B[0m\u001B[1;33m,\u001B[0m\u001B[0mmax\u001B[0m\u001B[1;33m(\u001B[0m\u001B[0mx\u001B[0m\u001B[1;33m)\u001B[0m\u001B[1;33m,\u001B[0m\u001B[1;36m100\u001B[0m\u001B[1;33m)\u001B[0m\u001B[1;33m\u001B[0m\u001B[1;33m\u001B[0m\u001B[0m\n\u001B[0m\u001B[0;32m      6\u001B[0m \u001B[0myy\u001B[0m \u001B[1;33m=\u001B[0m \u001B[0minterpolate\u001B[0m\u001B[1;33m.\u001B[0m\u001B[0msplev\u001B[0m\u001B[1;33m(\u001B[0m\u001B[0mxx\u001B[0m\u001B[1;33m,\u001B[0m\u001B[0mtck\u001B[0m\u001B[1;33m,\u001B[0m\u001B[0mder\u001B[0m\u001B[1;33m=\u001B[0m\u001B[1;36m0\u001B[0m\u001B[1;33m)\u001B[0m\u001B[1;33m\u001B[0m\u001B[1;33m\u001B[0m\u001B[0m\n\u001B[0;32m      7\u001B[0m \u001B[0mplt\u001B[0m\u001B[1;33m.\u001B[0m\u001B[0mplot\u001B[0m\u001B[1;33m(\u001B[0m\u001B[0mxx\u001B[0m\u001B[1;33m,\u001B[0m \u001B[0myy\u001B[0m\u001B[1;33m)\u001B[0m\u001B[1;33m\u001B[0m\u001B[1;33m\u001B[0m\u001B[0m\n",
      "\u001B[1;32m<__array_function__ internals>\u001B[0m in \u001B[0;36mlinspace\u001B[1;34m(*args, **kwargs)\u001B[0m\n",
      "\u001B[1;32mc:\\users\\bxdm\\appdata\\local\\programs\\python\\python38\\lib\\site-packages\\numpy\\core\\function_base.py\u001B[0m in \u001B[0;36mlinspace\u001B[1;34m(start, stop, num, endpoint, retstep, dtype, axis)\u001B[0m\n\u001B[0;32m    127\u001B[0m     \u001B[1;31m# Convert float/complex array scalars to float, gh-3504\u001B[0m\u001B[1;33m\u001B[0m\u001B[1;33m\u001B[0m\u001B[1;33m\u001B[0m\u001B[0m\n\u001B[0;32m    128\u001B[0m     \u001B[1;31m# and make sure one can use variables that have an __array_interface__, gh-6634\u001B[0m\u001B[1;33m\u001B[0m\u001B[1;33m\u001B[0m\u001B[1;33m\u001B[0m\u001B[0m\n\u001B[1;32m--> 129\u001B[1;33m     \u001B[0mstart\u001B[0m \u001B[1;33m=\u001B[0m \u001B[0masanyarray\u001B[0m\u001B[1;33m(\u001B[0m\u001B[0mstart\u001B[0m\u001B[1;33m)\u001B[0m \u001B[1;33m*\u001B[0m \u001B[1;36m1.0\u001B[0m\u001B[1;33m\u001B[0m\u001B[1;33m\u001B[0m\u001B[0m\n\u001B[0m\u001B[0;32m    130\u001B[0m     \u001B[0mstop\u001B[0m  \u001B[1;33m=\u001B[0m \u001B[0masanyarray\u001B[0m\u001B[1;33m(\u001B[0m\u001B[0mstop\u001B[0m\u001B[1;33m)\u001B[0m  \u001B[1;33m*\u001B[0m \u001B[1;36m1.0\u001B[0m\u001B[1;33m\u001B[0m\u001B[1;33m\u001B[0m\u001B[0m\n\u001B[0;32m    131\u001B[0m \u001B[1;33m\u001B[0m\u001B[0m\n",
      "\u001B[1;31mTypeError\u001B[0m: unsupported operand type(s) for *: 'Timestamp' and 'float'"
     ]
    }
   ],
   "source": [
    "from scipy import interpolate\n",
    "x = df.date\n",
    "y = prices\n",
    "tck = interpolate.splrep(x,y)\n",
    "xx = np.linspace(min(x),max(x),100)\n",
    "yy = interpolate.splev(xx,tck,der=0)\n",
    "plt.plot(xx, yy)"
   ]
  },
  {
   "cell_type": "markdown",
   "metadata": {},
   "source": [
    "两张图汇总"
   ]
  },
  {
   "cell_type": "markdown",
   "metadata": {},
   "source": [
    "---"
   ]
  },
  {
   "cell_type": "code",
   "execution_count": 201,
   "metadata": {},
   "outputs": [
    {
     "data": {
      "image/png": "[encoded data removed]",
      "text/plain": [
       "<Figure size 432x288 with 2 Axes>"
      ]
     },
     "metadata": {
      "needs_background": "light"
     },
     "output_type": "display_data"
    }
   ],
   "source": [
    "import matplotlib.pyplot as plt\n",
    "plt.subplot(122)\n",
    "plt.plot(df.date, prices, '--k', linewidth = 0.8)\n",
    "plt.title('总价格变动趋势', pad = 20)\n",
    "plt.grid()\n",
    "\n",
    "plt.subplot(121)\n",
    "for i in range(2,9):\n",
    "    plt.scatter(df.date, df.iloc[:, i])\n",
    "    plt.plot(df.date, df.iloc[:, i])\n",
    "plt.legend(labels, loc = [0.3, 0.4])\n",
    "plt.title('狗东电脑配件价格变动', pad = 20)\n",
    "plt.xticks(rotation = 30)\n",
    "plt.grid()\n",
    "\n",
    "plt.savefig(r'C:\\Users\\BXDM\\Desktop\\jd.png', dpi = 300)"
   ]
  },
  {
   "cell_type": "code",
   "execution_count": 112,
   "metadata": {},
   "outputs": [
    {
     "data": {
      "text/plain": [
       "0   2020-11-01 11:48:56\n",
       "1   2020-11-02 21:27:07\n",
       "2   2020-11-03 23:02:00\n",
       "3   2020-11-06 18:45:38\n",
       "4   2020-11-07 11:55:08\n",
       "5   2020-11-08 23:20:18\n",
       "6   2020-11-09 20:56:34\n",
       "7   2020-11-10 19:44:36\n",
       "8   2020-11-11 20:30:11\n",
       "Name: date, dtype: datetime64[ns]"
      ]
     },
     "execution_count": 112,
     "metadata": {},
     "output_type": "execute_result"
    }
   ],
   "source": [
    "# df"
   ]
  },
  {
   "cell_type": "code",
   "execution_count": 21,
   "metadata": {},
   "outputs": [
    {
     "data": {
      "text/plain": [
       "[<matplotlib.lines.Line2D at 0x133891c0>]"
      ]
     },
     "execution_count": 21,
     "metadata": {},
     "output_type": "execute_result"
    },
    {
     "data": {
      "image/png": "[encoded data removed]",
      "text/plain": [
       "<Figure size 432x288 with 1 Axes>"
      ]
     },
     "metadata": {
      "needs_background": "light"
     },
     "output_type": "display_data"
    }
   ],
   "source": [
    "plt.plot(df.date,df.cpu)"
   ]
  },
  {
   "cell_type": "code",
   "execution_count": 22,
   "metadata": {},
   "outputs": [
    {
     "data": {
      "text/plain": [
       "0   2020-11-01 11:48:56\n",
       "1   2020-11-02 21:27:07\n",
       "2   2020-11-03 23:02:00\n",
       "3   2020-11-06 18:45:38\n",
       "4   2020-11-07 11:55:08\n",
       "5   2020-11-08 23:20:18\n",
       "6   2020-11-09 20:56:34\n",
       "7   2020-11-10 19:44:36\n",
       "8   2020-11-11 20:30:11\n",
       "Name: date, dtype: datetime64[ns]"
      ]
     },
     "execution_count": 22,
     "metadata": {},
     "output_type": "execute_result"
    }
   ],
   "source": [
    "df.date"
   ]
  },
  {
   "cell_type": "code",
   "execution_count": 23,
   "metadata": {},
   "outputs": [
    {
     "data": {
      "text/plain": [
       "datetime.datetime(2020, 11, 11, 20, 39, 9, 291718)"
      ]
     },
     "execution_count": 23,
     "metadata": {},
     "output_type": "execute_result"
    }
   ],
   "source": [
    "from datetime import datetime\n",
    "datetime.now()"
   ]
  },
  {
   "cell_type": "markdown",
   "metadata": {},
   "source": [
    "#### 文件写入"
   ]
  },
  {
   "cell_type": "markdown",
   "metadata": {},
   "source": [
    "1.**write 方法**"
   ]
  },
  {
   "cell_type": "code",
   "execution_count": 183,
   "metadata": {},
   "outputs": [],
   "source": [
    "file = r'C:\\Users\\BXDM\\Desktop\\time.txt'"
   ]
  },
  {
   "cell_type": "code",
   "execution_count": 184,
   "metadata": {},
   "outputs": [],
   "source": [
    "with open (file, 'w') as f:\n",
    "    f.write(str(df.date))"
   ]
  },
  {
   "cell_type": "code",
   "execution_count": 186,
   "metadata": {},
   "outputs": [
    {
     "name": "stdout",
     "output_type": "stream",
     "text": [
      "0   2020-11-01 11:48:56\n",
      "1   2020-11-02 21:27:07\n",
      "2   2020-11-03 23:02:00\n",
      "3   2020-11-06 18:45:38\n",
      "4   2020-11-07 11:55:08\n",
      "5   2020-11-08 23:20:18\n",
      "6   2020-11-09 20:56:34\n",
      "7   2020-11-10 19:44:36\n",
      "8   2020-11-11 20:30:11\n",
      "Name: date, dtype: datetime64[ns]\n"
     ]
    }
   ],
   "source": [
    "!type C:\\Users\\BXDM\\Desktop\\time.txt"
   ]
  },
  {
   "cell_type": "markdown",
   "metadata": {},
   "source": [
    "存在的缺陷：写入了无关的内容， 增加了处理难度"
   ]
  },
  {
   "cell_type": "markdown",
   "metadata": {},
   "source": [
    "2.**pandas to_csv 方法**"
   ]
  },
  {
   "cell_type": "code",
   "execution_count": 187,
   "metadata": {},
   "outputs": [],
   "source": [
    "import pandas as pd"
   ]
  },
  {
   "cell_type": "code",
   "execution_count": 193,
   "metadata": {},
   "outputs": [],
   "source": [
    "df.date.to_csv(file, index = False, header = False)"
   ]
  },
  {
   "cell_type": "code",
   "execution_count": 194,
   "metadata": {},
   "outputs": [
    {
     "name": "stdout",
     "output_type": "stream",
     "text": [
      "2020-11-01 11:48:56\n",
      "2020-11-02 21:27:07\n",
      "2020-11-03 23:02:00\n",
      "2020-11-06 18:45:38\n",
      "2020-11-07 11:55:08\n",
      "2020-11-08 23:20:18\n",
      "2020-11-09 20:56:34\n",
      "2020-11-10 19:44:36\n",
      "2020-11-11 20:30:11\n"
     ]
    }
   ],
   "source": [
    "!type C:\\Users\\BXDM\\Desktop\\time.txt"
   ]
  }
 ],
 "metadata": {
  "kernelspec": {
   "display_name": "Python 3",
   "language": "python",
   "name": "python3"
  },
  "language_info": {
   "codemirror_mode": {
    "name": "ipython",
    "version": 3
   },
   "file_extension": ".py",
   "mimetype": "text/x-python",
   "name": "python",
   "nbconvert_exporter": "python",
   "pygments_lexer": "ipython3",
   "version": "3.8.3"
  }
 },
 "nbformat": 4,
 "nbformat_minor": 4
}
