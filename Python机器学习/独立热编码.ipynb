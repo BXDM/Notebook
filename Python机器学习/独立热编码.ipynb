{
 "cells": [
  {
   "cell_type": "markdown",
   "id": "451d1f859d9e620e",
   "metadata": {},
   "source": [
    "- What is One-Hot Encoding? <br>\n",
    "One-hot encoding is a process to convert categorical data into a binary matrix representation. Each category is represented as a binary vector, where one element is 1 (indicating the presence of that category) and the rest are 0.\n",
    "<br><br>\n",
    "- Why Use One-Hot Encoding?<br>\n",
    "Many machine learning algorithms expect numerical input, so categorical data needs to be transformed into numerical data. One-hot encoding is useful because it avoids ordinality; it does not impose any implicit order on the categories."
   ]
  },
  {
   "cell_type": "code",
   "execution_count": 2,
   "id": "700e28123d71ffff",
   "metadata": {
    "ExecuteTime": {
     "end_time": "2024-06-29T05:48:22.398113Z",
     "start_time": "2024-06-29T05:48:22.394761Z"
    }
   },
   "outputs": [],
   "source": [
    "import pandas as pd\n",
    "import numpy as np\n",
    "from sklearn.preprocessing import OneHotEncoder"
   ]
  },
  {
   "cell_type": "code",
   "execution_count": 3,
   "id": "8366b2d3b23ec249",
   "metadata": {
    "ExecuteTime": {
     "end_time": "2024-06-29T05:27:13.547644Z",
     "start_time": "2024-06-29T05:27:13.544042Z"
    }
   },
   "outputs": [],
   "source": [
    "data = {\n",
    "    'Color':['Red','Blue','Green','Yellow'],\n",
    "}\n",
    "df = pd.DataFrame(data)"
   ]
  },
  {
   "cell_type": "code",
   "execution_count": 3,
   "id": "3eeccb9f738cc8ae",
   "metadata": {
    "ExecuteTime": {
     "end_time": "2024-06-29T05:27:15.226610Z",
     "start_time": "2024-06-29T05:27:15.219658Z"
    }
   },
   "outputs": [
    {
     "data": {
      "text/html": [
       "<div>\n",
       "<style scoped>\n",
       "    .dataframe tbody tr th:only-of-type {\n",
       "        vertical-align: middle;\n",
       "    }\n",
       "\n",
       "    .dataframe tbody tr th {\n",
       "        vertical-align: top;\n",
       "    }\n",
       "\n",
       "    .dataframe thead th {\n",
       "        text-align: right;\n",
       "    }\n",
       "</style>\n",
       "<table border=\"1\" class=\"dataframe\">\n",
       "  <thead>\n",
       "    <tr style=\"text-align: right;\">\n",
       "      <th></th>\n",
       "      <th>Color</th>\n",
       "    </tr>\n",
       "  </thead>\n",
       "  <tbody>\n",
       "    <tr>\n",
       "      <th>0</th>\n",
       "      <td>Red</td>\n",
       "    </tr>\n",
       "    <tr>\n",
       "      <th>1</th>\n",
       "      <td>Blue</td>\n",
       "    </tr>\n",
       "    <tr>\n",
       "      <th>2</th>\n",
       "      <td>Green</td>\n",
       "    </tr>\n",
       "    <tr>\n",
       "      <th>3</th>\n",
       "      <td>Yellow</td>\n",
       "    </tr>\n",
       "  </tbody>\n",
       "</table>\n",
       "</div>"
      ],
      "text/plain": [
       "    Color\n",
       "0     Red\n",
       "1    Blue\n",
       "2   Green\n",
       "3  Yellow"
      ]
     },
     "execution_count": 3,
     "metadata": {},
     "output_type": "execute_result"
    }
   ],
   "source": [
    "df"
   ]
  },
  {
   "cell_type": "code",
   "execution_count": 4,
   "id": "e2131afb7fe494b6",
   "metadata": {
    "ExecuteTime": {
     "end_time": "2024-06-29T05:28:12.960568Z",
     "start_time": "2024-06-29T05:28:12.954239Z"
    }
   },
   "outputs": [
    {
     "data": {
      "text/html": [
       "<div>\n",
       "<style scoped>\n",
       "    .dataframe tbody tr th:only-of-type {\n",
       "        vertical-align: middle;\n",
       "    }\n",
       "\n",
       "    .dataframe tbody tr th {\n",
       "        vertical-align: top;\n",
       "    }\n",
       "\n",
       "    .dataframe thead th {\n",
       "        text-align: right;\n",
       "    }\n",
       "</style>\n",
       "<table border=\"1\" class=\"dataframe\">\n",
       "  <thead>\n",
       "    <tr style=\"text-align: right;\">\n",
       "      <th></th>\n",
       "      <th>Color_Blue</th>\n",
       "      <th>Color_Green</th>\n",
       "      <th>Color_Red</th>\n",
       "      <th>Color_Yellow</th>\n",
       "    </tr>\n",
       "  </thead>\n",
       "  <tbody>\n",
       "    <tr>\n",
       "      <th>0</th>\n",
       "      <td>False</td>\n",
       "      <td>False</td>\n",
       "      <td>True</td>\n",
       "      <td>False</td>\n",
       "    </tr>\n",
       "    <tr>\n",
       "      <th>1</th>\n",
       "      <td>True</td>\n",
       "      <td>False</td>\n",
       "      <td>False</td>\n",
       "      <td>False</td>\n",
       "    </tr>\n",
       "    <tr>\n",
       "      <th>2</th>\n",
       "      <td>False</td>\n",
       "      <td>True</td>\n",
       "      <td>False</td>\n",
       "      <td>False</td>\n",
       "    </tr>\n",
       "    <tr>\n",
       "      <th>3</th>\n",
       "      <td>False</td>\n",
       "      <td>False</td>\n",
       "      <td>False</td>\n",
       "      <td>True</td>\n",
       "    </tr>\n",
       "  </tbody>\n",
       "</table>\n",
       "</div>"
      ],
      "text/plain": [
       "   Color_Blue  Color_Green  Color_Red  Color_Yellow\n",
       "0       False        False       True         False\n",
       "1        True        False      False         False\n",
       "2       False         True      False         False\n",
       "3       False        False      False          True"
      ]
     },
     "execution_count": 4,
     "metadata": {},
     "output_type": "execute_result"
    }
   ],
   "source": [
    "# One-Hot encoding\n",
    "df_encoded = pd.get_dummies(df, columns=['Color'])\n",
    "df_encoded"
   ]
  },
  {
   "cell_type": "code",
   "execution_count": null,
   "id": "95a4c8f69ddca6dd",
   "metadata": {},
   "outputs": [],
   "source": [
    "import numpy as np\n",
    "\n",
    "# 解码&还原 decoding\n",
    "# Convert one-hot encoded data back to original labels using np.argmax\n",
    "encoded_data = df_encoded.values  # Get the values as NumPy array\n",
    "original_labels = df_encoded.columns[np.argmax(encoded_data, axis=1)]\n",
    "df_encoded['Color'] = original_labels\n",
    "print(\"\\nDataFrame after Converting Back to Original Labels:\")\n",
    "print(df_encoded)"
   ]
  },
  {
   "cell_type": "code",
   "execution_count": 22,
   "id": "7226b913874732ea",
   "metadata": {
    "ExecuteTime": {
     "end_time": "2024-06-29T05:49:37.976981Z",
     "start_time": "2024-06-29T05:49:37.971616Z"
    }
   },
   "outputs": [
    {
     "data": {
      "text/html": [
       "<div>\n",
       "<style scoped>\n",
       "    .dataframe tbody tr th:only-of-type {\n",
       "        vertical-align: middle;\n",
       "    }\n",
       "\n",
       "    .dataframe tbody tr th {\n",
       "        vertical-align: top;\n",
       "    }\n",
       "\n",
       "    .dataframe thead th {\n",
       "        text-align: right;\n",
       "    }\n",
       "</style>\n",
       "<table border=\"1\" class=\"dataframe\">\n",
       "  <thead>\n",
       "    <tr style=\"text-align: right;\">\n",
       "      <th></th>\n",
       "      <th>Color_Blue</th>\n",
       "      <th>Color_Green</th>\n",
       "      <th>Color_Red</th>\n",
       "      <th>Color_Yellow</th>\n",
       "    </tr>\n",
       "  </thead>\n",
       "  <tbody>\n",
       "    <tr>\n",
       "      <th>0</th>\n",
       "      <td>False</td>\n",
       "      <td>False</td>\n",
       "      <td>True</td>\n",
       "      <td>False</td>\n",
       "    </tr>\n",
       "    <tr>\n",
       "      <th>1</th>\n",
       "      <td>True</td>\n",
       "      <td>False</td>\n",
       "      <td>False</td>\n",
       "      <td>False</td>\n",
       "    </tr>\n",
       "    <tr>\n",
       "      <th>2</th>\n",
       "      <td>False</td>\n",
       "      <td>True</td>\n",
       "      <td>False</td>\n",
       "      <td>False</td>\n",
       "    </tr>\n",
       "    <tr>\n",
       "      <th>3</th>\n",
       "      <td>False</td>\n",
       "      <td>False</td>\n",
       "      <td>False</td>\n",
       "      <td>True</td>\n",
       "    </tr>\n",
       "  </tbody>\n",
       "</table>\n",
       "</div>"
      ],
      "text/plain": [
       "   Color_Blue  Color_Green  Color_Red  Color_Yellow\n",
       "0       False        False       True         False\n",
       "1        True        False      False         False\n",
       "2       False         True      False         False\n",
       "3       False        False      False          True"
      ]
     },
     "execution_count": 22,
     "metadata": {},
     "output_type": "execute_result"
    }
   ],
   "source": [
    "df_encoded"
   ]
  },
  {
   "cell_type": "code",
   "execution_count": 18,
   "id": "645a45e0d2f6938d",
   "metadata": {
    "ExecuteTime": {
     "end_time": "2024-06-29T05:47:15.847893Z",
     "start_time": "2024-06-29T05:47:15.844424Z"
    }
   },
   "outputs": [
    {
     "data": {
      "text/plain": [
       "array([[False, False,  True, False],\n",
       "       [ True, False, False, False],\n",
       "       [False,  True, False, False],\n",
       "       [False, False, False,  True]])"
      ]
     },
     "execution_count": 18,
     "metadata": {},
     "output_type": "execute_result"
    }
   ],
   "source": [
    "df_encoded.values"
   ]
  },
  {
   "cell_type": "code",
   "execution_count": 17,
   "id": "32c84202c5dc92ef",
   "metadata": {
    "ExecuteTime": {
     "end_time": "2024-06-29T05:46:26.530250Z",
     "start_time": "2024-06-29T05:46:26.527472Z"
    }
   },
   "outputs": [
    {
     "data": {
      "text/plain": [
       "Index(['Color_Blue', 'Color_Green', 'Color_Red', 'Color_Yellow'], dtype='object')"
      ]
     },
     "execution_count": 17,
     "metadata": {},
     "output_type": "execute_result"
    }
   ],
   "source": [
    "df_encoded.columns"
   ]
  },
  {
   "cell_type": "code",
   "execution_count": 21,
   "id": "6ce7a74b28494077",
   "metadata": {
    "ExecuteTime": {
     "end_time": "2024-06-29T05:48:29.369026Z",
     "start_time": "2024-06-29T05:48:29.365680Z"
    }
   },
   "outputs": [
    {
     "data": {
      "text/plain": [
       "array([2, 0, 1, 3], dtype=int64)"
      ]
     },
     "execution_count": 21,
     "metadata": {},
     "output_type": "execute_result"
    }
   ],
   "source": [
    "np.argmax(df_encoded.values, axis=1)"
   ]
  },
  {
   "cell_type": "code",
   "execution_count": 24,
   "id": "d8a7c163741553b7",
   "metadata": {
    "ExecuteTime": {
     "end_time": "2024-06-29T05:50:35.298988Z",
     "start_time": "2024-06-29T05:50:35.294911Z"
    }
   },
   "outputs": [
    {
     "data": {
      "text/plain": [
       "'Color_Blue'"
      ]
     },
     "execution_count": 24,
     "metadata": {},
     "output_type": "execute_result"
    }
   ],
   "source": [
    "df_encoded.columns[0]"
   ]
  },
  {
   "cell_type": "code",
   "execution_count": 5,
   "id": "897967f4b27a0752",
   "metadata": {
    "ExecuteTime": {
     "end_time": "2024-06-29T05:38:48.236569Z",
     "start_time": "2024-06-29T05:38:48.230640Z"
    }
   },
   "outputs": [
    {
     "data": {
      "text/plain": [
       "array([[0., 0., 1., 0.],\n",
       "       [1., 0., 0., 0.],\n",
       "       [0., 1., 0., 0.],\n",
       "       [0., 0., 0., 1.]])"
      ]
     },
     "execution_count": 5,
     "metadata": {},
     "output_type": "execute_result"
    }
   ],
   "source": [
    "# use scikit-learn\n",
    "encoder = OneHotEncoder()\n",
    "one_hot_encoded = encoder.fit_transform(df).toarray()\n",
    "one_hot_encoded"
   ]
  },
  {
   "cell_type": "code",
   "execution_count": 6,
   "id": "141f1265fe1737fe",
   "metadata": {
    "ExecuteTime": {
     "end_time": "2024-06-29T06:01:55.592669Z",
     "start_time": "2024-06-29T06:01:55.587854Z"
    }
   },
   "outputs": [
    {
     "data": {
      "text/plain": [
       "array([['Red'],\n",
       "       ['Blue'],\n",
       "       ['Green'],\n",
       "       ['Yellow']], dtype=object)"
      ]
     },
     "execution_count": 6,
     "metadata": {},
     "output_type": "execute_result"
    }
   ],
   "source": [
    "# decoding 解码\n",
    "encoder.inverse_transform(one_hot_encoded)"
   ]
  }
 ],
 "metadata": {
  "kernelspec": {
   "display_name": "Python 3",
   "language": "python",
   "name": "python3"
  },
  "language_info": {
   "codemirror_mode": {
    "name": "ipython",
    "version": 3
   },
   "file_extension": ".py",
   "mimetype": "text/x-python",
   "name": "python",
   "nbconvert_exporter": "python",
   "pygments_lexer": "ipython3",
   "version": "3.12.4"
  }
 },
 "nbformat": 4,
 "nbformat_minor": 5
}
