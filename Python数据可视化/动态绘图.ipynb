{
 "cells": [
  {
   "cell_type": "code",
   "execution_count": null,
   "metadata": {},
   "outputs": [],
   "source": [
    "import matplotlib.pyplot as plt\n",
    "import matplotlib.font_manager as font_manager\n",
    "import numpy as np\n",
    " \n",
    "POINTS = 100\n",
    "sin_list = [0] * POINTS\n",
    "indx = 0\n",
    " \n",
    "fig, ax = plt.subplots()\n",
    "ax.set_ylim([-2, 2])\n",
    "ax.set_xlim([0, POINTS])\n",
    "ax.set_autoscale_on(False)\n",
    "ax.set_xticks(range(0, 100, 10))\n",
    "ax.set_yticks(range(-2, 3, 1))\n",
    "ax.grid(True)\n",
    " \n",
    "line_sin, = ax.plot(range(POINTS), sin_list, label='Sin() output', color='cornflowerblue')\n",
    "ax.legend(loc='upper center', ncol=4, prop=font_manager.FontProperties(size=10))\n",
    " \n",
    " \n",
    "def sin_output(ax):\n",
    "    global indx, sin_list, line_sin\n",
    "    if indx == 20:\n",
    "        indx = 0\n",
    "    indx += 1\n",
    " \n",
    "    sin_list = sin_list[1:] + [np.sin((indx / 10) * np.pi)]\n",
    "    line_sin.set_ydata(sin_list)\n",
    "    ax.draw_artist(line_sin)\n",
    "    ax.figure.canvas.draw()\n",
    " \n",
    " \n",
    "timer = fig.canvas.new_timer(interval=100)\n",
    "timer.add_callback(sin_output, ax)\n",
    "timer.start()\n",
    "plt.show()"
   ]
  },
  {
   "cell_type": "code",
   "execution_count": null,
   "metadata": {},
   "outputs": [],
   "source": []
  }
 ],
 "metadata": {
  "kernelspec": {
   "display_name": "Python 3",
   "language": "python",
   "name": "python3"
  },
  "language_info": {
   "codemirror_mode": {
    "name": "ipython",
    "version": 3
   },
   "file_extension": ".py",
   "mimetype": "text/x-python",
   "name": "python",
   "nbconvert_exporter": "python",
   "pygments_lexer": "ipython3",
   "version": "3.8.2"
  }
 },
 "nbformat": 4,
 "nbformat_minor": 4
}
