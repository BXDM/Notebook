{
 "cells": [
  {
   "cell_type": "code",
   "execution_count": 2,
   "metadata": {},
   "outputs": [
    {
     "data": {
      "text/plain": [
       "'F:\\\\Python\\\\Notebook\\\\Python数据可视化\\\\table_base.html'"
      ]
     },
     "execution_count": 2,
     "metadata": {},
     "output_type": "execute_result"
    }
   ],
   "source": [
    "from pyecharts.components import Table\n",
    "from pyecharts.options import ComponentTitleOpts\n",
    " \n",
    " \n",
    "table = Table()\n",
    " \n",
    "headers = [\"City name\", \"Area\", \"Population\", \"Annual Rainfall\"]\n",
    "rows = [\n",
    "    [\"Brisbane\", 5905, 1857594, 1146.4],\n",
    "    [\"Adelaide\", 1295, 1158259, 600.5],\n",
    "    [\"Darwin\", 112, 120900, 1714.7],\n",
    "    [\"Hobart\", 1357, 205556, 619.5],\n",
    "    [\"Sydney\", 2058, 4336374, 1214.8],\n",
    "    [\"Melbourne\", 1566, 3806092, 646.9],\n",
    "    [\"Perth\", 5386, 1554769, 869.4],\n",
    "]\n",
    "table.add(headers, rows)\n",
    "table.set_global_opts(\n",
    "    title_opts=ComponentTitleOpts(title=\"Table-基本示例\", subtitle=\"我是副标题支持换行哦\")\n",
    ")\n",
    "table.render(\"table_base.html\")"
   ]
  },
  {
   "cell_type": "code",
   "execution_count": 13,
   "metadata": {},
   "outputs": [],
   "source": [
    "!table_base.html"
   ]
  }
 ],
 "metadata": {
  "kernelspec": {
   "display_name": "Python 3",
   "language": "python",
   "name": "python3"
  },
  "language_info": {
   "codemirror_mode": {
    "name": "ipython",
    "version": 3
   },
   "file_extension": ".py",
   "mimetype": "text/x-python",
   "name": "python",
   "nbconvert_exporter": "python",
   "pygments_lexer": "ipython3",
   "version": "3.8.2"
  }
 },
 "nbformat": 4,
 "nbformat_minor": 4
}
