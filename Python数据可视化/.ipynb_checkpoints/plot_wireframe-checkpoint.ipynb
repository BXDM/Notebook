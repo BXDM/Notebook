{
 "cells": [
  {
   "cell_type": "code",
   "execution_count": 1,
   "id": "becoming-maximum",
   "metadata": {},
   "outputs": [],
   "source": [
    "# 三维网格图（wireframe）\n",
    "# 线框图"
   ]
  },
  {
   "cell_type": "code",
   "execution_count": null,
   "id": "sapphire-miami",
   "metadata": {},
   "outputs": [],
   "source": [
    "from mpl_toolkits."
   ]
  }
 ],
 "metadata": {
  "kernelspec": {
   "display_name": "Python 3",
   "language": "python",
   "name": "python3"
  },
  "language_info": {
   "codemirror_mode": {
    "name": "ipython",
    "version": 3
   },
   "file_extension": ".py",
   "mimetype": "text/x-python",
   "name": "python",
   "nbconvert_exporter": "python",
   "pygments_lexer": "ipython3",
   "version": "3.9.2"
  }
 },
 "nbformat": 4,
 "nbformat_minor": 5
}
