{
 "cells": [
  {
   "cell_type": "markdown",
   "metadata": {},
   "source": [
    "#### 第一个程序"
   ]
  },
  {
   "cell_type": "code",
   "metadata": {},
   "source": [
    "println(\"Hello, World\")"
   ],
   "outputs": [
    {
     "name": "stdout",
     "output_type": "stream",
     "text": [
      "Hello, World\n"
     ]
    }
   ],
   "execution_count": 2
  },
  {
   "cell_type": "markdown",
   "metadata": {},
   "source": [
    "#### 算数操作"
   ]
  },
  {
   "cell_type": "code",
   "metadata": {
    "ExecuteTime": {
     "end_time": "2024-07-27T03:53:50.928Z",
     "start_time": "2024-07-27T03:53:50.628Z"
    }
   },
   "source": [
    "40+2"
   ],
   "outputs": [
    {
     "data": {
      "text/plain": [
       "42"
      ]
     },
     "execution_count": 3,
     "metadata": {},
     "output_type": "execute_result"
    }
   ],
   "execution_count": 3
  },
  {
   "cell_type": "code",
   "metadata": {},
   "source": [
    "43-1"
   ],
   "outputs": [
    {
     "data": {
      "text/plain": [
       "42"
      ]
     },
     "execution_count": 4,
     "metadata": {},
     "output_type": "execute_result"
    }
   ],
   "execution_count": 4
  },
  {
   "cell_type": "code",
   "metadata": {},
   "source": [
    "6*7"
   ],
   "outputs": [
    {
     "data": {
      "text/plain": [
       "42"
      ]
     },
     "execution_count": 5,
     "metadata": {},
     "output_type": "execute_result"
    }
   ],
   "execution_count": 5
  },
  {
   "cell_type": "code",
   "metadata": {
    "ExecuteTime": {
     "end_time": "2024-07-27T03:53:51.121Z",
     "start_time": "2024-07-27T03:53:50.929Z"
    }
   },
   "source": [
    "84/2"
   ],
   "outputs": [
    {
     "data": {
      "text/plain": [
       "42.0"
      ]
     },
     "execution_count": 6,
     "metadata": {},
     "output_type": "execute_result"
    }
   ],
   "execution_count": 6
  },
  {
   "cell_type": "code",
   "metadata": {
    "ExecuteTime": {
     "end_time": "2024-07-27T03:53:51.126Z",
     "start_time": "2024-07-27T03:53:51.121Z"
    }
   },
   "source": [
    "6^2"
   ],
   "outputs": [
    {
     "data": {
      "text/plain": [
       "36"
      ]
     },
     "execution_count": 7,
     "metadata": {},
     "output_type": "execute_result"
    }
   ],
   "execution_count": 7
  },
  {
   "cell_type": "markdown",
   "metadata": {},
   "source": [
    "#### 值和类型"
   ]
  },
  {
   "cell_type": "code",
   "metadata": {
    "ExecuteTime": {
     "end_time": "2024-07-27T03:53:51.422Z",
     "start_time": "2024-07-27T03:53:51.126Z"
    }
   },
   "source": [
    "typeof(2)"
   ],
   "outputs": [
    {
     "data": {
      "text/plain": [
       "Int64"
      ]
     },
     "execution_count": 8,
     "metadata": {},
     "output_type": "execute_result"
    }
   ],
   "execution_count": 8
  },
  {
   "cell_type": "code",
   "metadata": {
    "ExecuteTime": {
     "end_time": "2024-07-27T03:53:51.435Z",
     "start_time": "2024-07-27T03:53:51.422Z"
    }
   },
   "source": [
    "typeof(42.0)"
   ],
   "outputs": [
    {
     "data": {
      "text/plain": [
       "Float64"
      ]
     },
     "execution_count": 9,
     "metadata": {},
     "output_type": "execute_result"
    }
   ],
   "execution_count": 9
  },
  {
   "cell_type": "code",
   "metadata": {
    "ExecuteTime": {
     "end_time": "2024-07-27T03:53:51.446Z",
     "start_time": "2024-07-27T03:53:51.435Z"
    }
   },
   "source": [
    "typeof(\"42.0\")"
   ],
   "outputs": [
    {
     "data": {
      "text/plain": [
       "String"
      ]
     },
     "execution_count": 10,
     "metadata": {},
     "output_type": "execute_result"
    }
   ],
   "execution_count": 10
  },
  {
   "cell_type": "markdown",
   "metadata": {},
   "source": [
    "#### 赋值语句"
   ]
  },
  {
   "cell_type": "code",
   "metadata": {
    "ExecuteTime": {
     "end_time": "2024-07-27T03:53:51.734Z",
     "start_time": "2024-07-27T03:53:51.446Z"
    }
   },
   "source": [
    "message = \"And now for something completely diffrement\""
   ],
   "outputs": [
    {
     "data": {
      "text/plain": [
       "\"And now for something completely diffrement\""
      ]
     },
     "execution_count": 11,
     "metadata": {},
     "output_type": "execute_result"
    }
   ],
   "execution_count": 11
  },
  {
   "cell_type": "code",
   "metadata": {},
   "source": [
    "n = 17"
   ],
   "outputs": [
    {
     "data": {
      "text/plain": [
       "17"
      ]
     },
     "execution_count": 12,
     "metadata": {},
     "output_type": "execute_result"
    }
   ],
   "execution_count": 12
  },
  {
   "cell_type": "code",
   "metadata": {},
   "source": [
    "π_var = 3.141592653589793"
   ],
   "outputs": [
    {
     "data": {
      "text/plain": [
       "3.141592653589793"
      ]
     },
     "execution_count": 13,
     "metadata": {},
     "output_type": "execute_result"
    }
   ],
   "execution_count": 13
  },
  {
   "cell_type": "code",
   "metadata": {
    "ExecuteTime": {
     "end_time": "2024-07-27T03:53:51.750Z",
     "start_time": "2024-07-27T03:53:51.736Z"
    }
   },
   "source": [
    "print(n)"
   ],
   "outputs": [
    {
     "name": "stdout",
     "output_type": "stream",
     "text": [
      "17"
     ]
    }
   ],
   "execution_count": 14
  },
  {
   "cell_type": "markdown",
   "metadata": {},
   "source": [
    "#### 字符串操作"
   ]
  },
  {
   "cell_type": "code",
   "metadata": {},
   "source": [
    "first_str = \"throat\""
   ],
   "outputs": [
    {
     "data": {
      "text/plain": [
       "\"throat\""
      ]
     },
     "execution_count": 15,
     "metadata": {},
     "output_type": "execute_result"
    }
   ],
   "execution_count": 15
  },
  {
   "cell_type": "code",
   "metadata": {},
   "source": [
    "second_str = \"warbler\""
   ],
   "outputs": [
    {
     "data": {
      "text/plain": [
       "\"warbler\""
      ]
     },
     "execution_count": 16,
     "metadata": {},
     "output_type": "execute_result"
    }
   ],
   "execution_count": 16
  },
  {
   "cell_type": "code",
   "metadata": {},
   "source": [
    "# * 完成字符创的连接\n",
    "first_str * second_str"
   ],
   "outputs": [
    {
     "data": {
      "text/plain": [
       "\"throatwarbler\""
      ]
     },
     "execution_count": 17,
     "metadata": {},
     "output_type": "execute_result"
    }
   ],
   "execution_count": 17
  },
  {
   "cell_type": "code",
   "metadata": {},
   "source": [
    "# ^ 重复\n",
    "\"Spam\"^3"
   ],
   "outputs": [
    {
     "data": {
      "text/plain": [
       "\"SpamSpamSpam\""
      ]
     },
     "execution_count": 18,
     "metadata": {},
     "output_type": "execute_result"
    }
   ],
   "execution_count": 18
  },
  {
   "cell_type": "code",
   "metadata": {},
   "source": [
    "# 使用 # 号进行注释， 与 Python 一样"
   ],
   "outputs": [],
   "execution_count": 19
  },
  {
   "cell_type": "markdown",
   "metadata": {},
   "source": [
    "#### 函数"
   ]
  },
  {
   "cell_type": "code",
   "metadata": {},
   "source": [
    "# Parse 函数，转换数据类型"
   ],
   "outputs": [],
   "execution_count": 20
  },
  {
   "cell_type": "code",
   "metadata": {},
   "source": [
    "parse(Int64, \"32\")\n",
    "# 将 string 转换成数值型"
   ],
   "outputs": [
    {
     "data": {
      "text/plain": [
       "32"
      ]
     },
     "execution_count": 21,
     "metadata": {},
     "output_type": "execute_result"
    }
   ],
   "execution_count": 21
  },
  {
   "cell_type": "code",
   "metadata": {
    "ExecuteTime": {
     "end_time": "2024-07-27T03:53:51.764Z",
     "start_time": "2024-07-27T03:53:51.757Z"
    }
   },
   "source": [
    "parse(Float64, \"3.1415926\")"
   ],
   "outputs": [
    {
     "data": {
      "text/plain": [
       "3.1415926"
      ]
     },
     "execution_count": 22,
     "metadata": {},
     "output_type": "execute_result"
    }
   ],
   "execution_count": 22
  },
  {
   "cell_type": "code",
   "metadata": {
    "ExecuteTime": {
     "end_time": "2024-07-27T03:53:52.566Z",
     "start_time": "2024-07-27T03:53:51.764Z"
    }
   },
   "source": [
    "parse(Int64, 3.9999)"
   ],
   "outputs": [
    {
     "ename": "LoadError",
     "evalue": "MethodError: no method matching parse(::Type{Int64}, ::Float64)\n\n\u001B[0mClosest candidates are:\n\u001B[0m  parse(\u001B[91m::Type{Union{}}\u001B[39m, ::Any...; kwargs...)\n\u001B[0m\u001B[90m   @\u001B[39m \u001B[90mBase\u001B[39m \u001B[90m\u001B[4mparse.jl:39\u001B[24m\u001B[39m\n\u001B[0m  parse(::Type{T}, \u001B[91m::AbstractString\u001B[39m; kwargs...) where T<:Real\n\u001B[0m\u001B[90m   @\u001B[39m \u001B[90mBase\u001B[39m \u001B[90m\u001B[4mparse.jl:393\u001B[24m\u001B[39m\n\u001B[0m  parse(::Type{T}, \u001B[91m::AbstractString\u001B[39m; base) where T<:Integer\n\u001B[0m\u001B[90m   @\u001B[39m \u001B[90mBase\u001B[39m \u001B[90m\u001B[4mparse.jl:253\u001B[24m\u001B[39m\n\u001B[0m  ...\n",
     "output_type": "error",
     "traceback": [
      "MethodError: no method matching parse(::Type{Int64}, ::Float64)\n\n\u001B[0mClosest candidates are:\n\u001B[0m  parse(\u001B[91m::Type{Union{}}\u001B[39m, ::Any...; kwargs...)\n\u001B[0m\u001B[90m   @\u001B[39m \u001B[90mBase\u001B[39m \u001B[90m\u001B[4mparse.jl:39\u001B[24m\u001B[39m\n\u001B[0m  parse(::Type{T}, \u001B[91m::AbstractString\u001B[39m; kwargs...) where T<:Real\n\u001B[0m\u001B[90m   @\u001B[39m \u001B[90mBase\u001B[39m \u001B[90m\u001B[4mparse.jl:393\u001B[24m\u001B[39m\n\u001B[0m  parse(::Type{T}, \u001B[91m::AbstractString\u001B[39m; base) where T<:Integer\n\u001B[0m\u001B[90m   @\u001B[39m \u001B[90mBase\u001B[39m \u001B[90m\u001B[4mparse.jl:253\u001B[24m\u001B[39m\n\u001B[0m  ...\n",
      "",
      "Stacktrace:",
      " [1] top-level scope",
      "   @ In[23]:1"
     ]
    }
   ],
   "execution_count": 23
  },
  {
   "cell_type": "code",
   "metadata": {},
   "source": [
    "# trunc 将浮点转化为整数"
   ],
   "outputs": [],
   "execution_count": 24
  },
  {
   "cell_type": "code",
   "metadata": {
    "ExecuteTime": {
     "end_time": "2024-07-27T03:53:52.572Z",
     "start_time": "2024-07-27T03:53:52.567Z"
    }
   },
   "source": [
    "trunc(Int64, 3.999)"
   ],
   "outputs": [
    {
     "data": {
      "text/plain": [
       "3"
      ]
     },
     "execution_count": 25,
     "metadata": {},
     "output_type": "execute_result"
    }
   ],
   "execution_count": 25
  },
  {
   "cell_type": "code",
   "metadata": {},
   "source": [
    "trunc(Int64, -2.3)"
   ],
   "outputs": [
    {
     "data": {
      "text/plain": [
       "-2"
      ]
     },
     "execution_count": 26,
     "metadata": {},
     "output_type": "execute_result"
    }
   ],
   "execution_count": 26
  },
  {
   "cell_type": "code",
   "metadata": {},
   "source": [
    "# Float 函数， 转化为浮点"
   ],
   "outputs": [],
   "execution_count": 27
  },
  {
   "cell_type": "code",
   "metadata": {
    "ExecuteTime": {
     "end_time": "2024-07-27T03:53:52.579Z",
     "start_time": "2024-07-27T03:53:52.574Z"
    }
   },
   "source": [
    "float(32)"
   ],
   "outputs": [
    {
     "data": {
      "text/plain": [
       "32.0"
      ]
     },
     "execution_count": 28,
     "metadata": {},
     "output_type": "execute_result"
    }
   ],
   "execution_count": 28
  },
  {
   "cell_type": "code",
   "metadata": {},
   "source": [
    "# string 函数，将参数转化为字符串"
   ],
   "outputs": [],
   "execution_count": 29
  },
  {
   "cell_type": "code",
   "metadata": {
    "ExecuteTime": {
     "end_time": "2024-07-27T03:53:52.583Z",
     "start_time": "2024-07-27T03:53:52.579Z"
    }
   },
   "source": [
    "string(32)"
   ],
   "outputs": [
    {
     "data": {
      "text/plain": [
       "\"32\""
      ]
     },
     "execution_count": 30,
     "metadata": {},
     "output_type": "execute_result"
    }
   ],
   "execution_count": 30
  },
  {
   "cell_type": "code",
   "metadata": {},
   "source": [
    "string(3.1415926)"
   ],
   "outputs": [
    {
     "data": {
      "text/plain": [
       "\"3.1415926\""
      ]
     },
     "execution_count": 31,
     "metadata": {},
     "output_type": "execute_result"
    }
   ],
   "execution_count": 31
  },
  {
   "cell_type": "markdown",
   "metadata": {},
   "source": [
    "#### 数学函数"
   ]
  },
  {
   "cell_type": "code",
   "metadata": {
    "ExecuteTime": {
     "end_time": "2024-07-27T03:53:52.645Z",
     "start_time": "2024-07-27T03:53:52.586Z"
    }
   },
   "source": [
    "radians = 0.7\n",
    "height = sin(radians)"
   ],
   "outputs": [
    {
     "data": {
      "text/plain": [
       "0.644217687237691"
      ]
     },
     "execution_count": 32,
     "metadata": {},
     "output_type": "execute_result"
    }
   ],
   "execution_count": 32
  },
  {
   "cell_type": "markdown",
   "metadata": {},
   "source": [
    "需要把 度 转化为 弧度，可以除以 180 再乘 $\\pi$"
   ]
  },
  {
   "cell_type": "code",
   "metadata": {
    "ExecuteTime": {
     "end_time": "2024-07-27T03:53:52.651Z",
     "start_time": "2024-07-27T03:53:52.645Z"
    }
   },
   "source": [
    "degrees = 45\n",
    "radians = degrees /180 * π\n",
    "sin(radians)"
   ],
   "outputs": [
    {
     "data": {
      "text/plain": [
       "0.7071067811865475"
      ]
     },
     "execution_count": 33,
     "metadata": {},
     "output_type": "execute_result"
    }
   ],
   "execution_count": 33
  },
  {
   "cell_type": "code",
   "metadata": {
    "ExecuteTime": {
     "end_time": "2024-07-27T03:53:52.788Z",
     "start_time": "2024-07-27T03:53:52.651Z"
    }
   },
   "source": [
    "π"
   ],
   "outputs": [
    {
     "data": {
      "text/plain": [
       "π = 3.1415926535897..."
      ]
     },
     "execution_count": 34,
     "metadata": {},
     "output_type": "execute_result"
    }
   ],
   "execution_count": 34
  },
  {
   "cell_type": "code",
   "metadata": {},
   "source": [],
   "outputs": [],
   "execution_count": 35
  }
 ],
 "metadata": {
  "kernelspec": {
   "display_name": "Julia 1.10.4",
   "language": "julia",
   "name": "julia-1.10"
  },
  "language_info": {
   "file_extension": ".jl",
   "mimetype": "application/julia",
   "name": "julia",
   "version": "1.0.4"
  }
 },
 "nbformat": 4,
 "nbformat_minor": 4
}
