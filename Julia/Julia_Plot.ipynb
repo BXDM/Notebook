{
 "cells": [
  {
   "cell_type": "code",
   "execution_count": 1,
   "metadata": {},
   "outputs": [],
   "source": [
    "import Plots:plot"
   ]
  },
  {
   "cell_type": "code",
   "execution_count": 2,
   "metadata": {},
   "outputs": [
    {
     "ename": "ErrorException",
     "evalue": "could not load library \"libGR.so\"\nlibGR.so: cannot open shared object file: No such file or directory",
     "output_type": "error",
     "traceback": [
      "could not load library \"libGR.so\"\nlibGR.so: cannot open shared object file: No such file or directory",
      "",
      "Stacktrace:",
      " [1] setcharheight(::Float64) at /home/bxdm/.julia/packages/GR/BwGt2/src/GR.jl:1417",
      " [2] gr_set_font(::Plots.Font, ::Plots.Subplot{Plots.GRBackend}; halign::Symbol, valign::Symbol, color::ColorTypes.RGB{FixedPointNumbers.Normed{UInt8,8}}, rotation::Int64) at /home/bxdm/.julia/packages/Plots/5ItHH/src/backends/gr.jl:358",
      " [3] gr_set_tickfont(::Plots.Subplot{Plots.GRBackend}, ::Symbol) at /home/bxdm/.julia/packages/Plots/5ItHH/src/backends/gr.jl:611",
      " [4] _update_min_padding!(::Plots.Subplot{Plots.GRBackend}) at /home/bxdm/.julia/packages/Plots/5ItHH/src/backends/gr.jl:799",
      " [5] iterate at ./generator.jl:47 [inlined]",
      " [6] _collect(::Array{RecipesBase.AbstractLayout,2}, ::Base.Generator{Array{RecipesBase.AbstractLayout,2},typeof(Plots._update_min_padding!)}, ::Base.EltypeUnknown, ::Base.HasShape{2}) at ./array.jl:699",
      " [7] collect_similar(::Array{RecipesBase.AbstractLayout,2}, ::Base.Generator{Array{RecipesBase.AbstractLayout,2},typeof(Plots._update_min_padding!)}) at ./array.jl:628",
      " [8] map(::Function, ::Array{RecipesBase.AbstractLayout,2}) at ./abstractarray.jl:2162",
      " [9] _update_min_padding!(::Plots.GridLayout) at /home/bxdm/.julia/packages/Plots/5ItHH/src/layouts.jl:282",
      " [10] prepare_output(::Plots.Plot{Plots.GRBackend}) at /home/bxdm/.julia/packages/Plots/5ItHH/src/plot.jl:184",
      " [11] show(::Base.GenericIOBuffer{Array{UInt8,1}}, ::MIME{Symbol(\"image/svg+xml\")}, ::Plots.Plot{Plots.GRBackend}) at /home/bxdm/.julia/packages/Plots/5ItHH/src/output.jl:214",
      " [12] sprint(::Function, ::MIME{Symbol(\"image/svg+xml\")}, ::Vararg{Any,N} where N; context::Nothing, sizehint::Int64) at ./strings/io.jl:105",
      " [13] sprint at ./strings/io.jl:101 [inlined]",
      " [14] _ijulia_display_dict(::Plots.Plot{Plots.GRBackend}) at /home/bxdm/.julia/packages/Plots/5ItHH/src/ijulia.jl:53",
      " [15] display_dict(::Plots.Plot{Plots.GRBackend}) at /home/bxdm/.julia/packages/Plots/5ItHH/src/init.jl:77",
      " [16] #invokelatest#1 at ./essentials.jl:710 [inlined]",
      " [17] invokelatest at ./essentials.jl:709 [inlined]",
      " [18] execute_request(::ZMQ.Socket, ::IJulia.Msg) at /home/bxdm/.julia/packages/IJulia/a1SNk/src/execute_request.jl:130",
      " [19] #invokelatest#1 at ./essentials.jl:710 [inlined]",
      " [20] invokelatest at ./essentials.jl:709 [inlined]",
      " [21] eventloop(::ZMQ.Socket) at /home/bxdm/.julia/packages/IJulia/a1SNk/src/eventloop.jl:8",
      " [22] (::IJulia.var\"#15#18\")() at ./task.jl:356"
     ]
    }
   ],
   "source": [
    "x = 1:10\n",
    "y = x.^2\n",
    "plot(x, y)"
   ]
  },
  {
   "cell_type": "code",
   "execution_count": null,
   "metadata": {},
   "outputs": [],
   "source": []
  },
  {
   "cell_type": "code",
   "execution_count": null,
   "metadata": {},
   "outputs": [],
   "source": []
  }
 ],
 "metadata": {
  "kernelspec": {
   "display_name": "Julia 1.5.3",
   "language": "julia",
   "name": "julia-1.5"
  },
  "language_info": {
   "file_extension": ".jl",
   "mimetype": "application/julia",
   "name": "julia",
   "version": "1.5.3"
  }
 },
 "nbformat": 4,
 "nbformat_minor": 4
}
