{
 "cells": [
  {
   "cell_type": "code",
   "id": "initial_id",
   "metadata": {
    "collapsed": true,
    "ExecuteTime": {
     "end_time": "2024-10-24T14:04:22.670854Z",
     "start_time": "2024-10-24T14:04:22.662616Z"
    }
   },
   "source": [
    "import sqlite3\n",
    "\n",
    "# 连接到SQLite数据库，假设数据库文件名为'database.db'\n",
    "conn = sqlite3.connect('../2nd.db')\n",
    "cursor = conn.cursor()\n",
    "\n",
    "# 打开文件以写入表结构信息\n",
    "with open('table_structure.txt', 'w') as file:\n",
    "    # 获取数据库中的所有表名\n",
    "    cursor.execute(\"SELECT name FROM sqlite_master WHERE type='table';\")\n",
    "    tables = cursor.fetchall()\n",
    "\n",
    "    for table in tables:\n",
    "        table_name = table[0]\n",
    "        file.write(f\"Table: {table_name}\\n\")\n",
    "        file.write(\"=\" * (len(table_name) + 7) + \"\\n\")\n",
    "\n",
    "        # 查询每个表的结构\n",
    "        cursor.execute(f\"PRAGMA table_info({table_name});\")\n",
    "        columns = cursor.fetchall()\n",
    "\n",
    "        # 写入列的详细信息\n",
    "        for column in columns:\n",
    "            file.write(f\"Column: {column[1]}\\n\")\n",
    "            file.write(f\" - Type: {column[2]}\\n\")\n",
    "            file.write(f\" - Not Null: {column[3]}\\n\")\n",
    "            file.write(f\" - Default Value: {column[4]}\\n\")\n",
    "            file.write(f\" - Primary Key: {column[5]}\\n\")\n",
    "            file.write(\"\\n\")\n",
    "\n",
    "        file.write(\"\\n\\n\")\n",
    "\n",
    "# 关闭数据库连接\n",
    "conn.close()\n",
    "\n",
    "print(\"表结构已成功导出到'table_structure.txt'文件中。\")\n"
   ],
   "outputs": [
    {
     "name": "stdout",
     "output_type": "stream",
     "text": [
      "表结构已成功导出到'table_structure.txt'文件中。\n"
     ]
    }
   ],
   "execution_count": 1
  },
  {
   "metadata": {
    "ExecuteTime": {
     "end_time": "2024-10-24T14:31:33.686826Z",
     "start_time": "2024-10-24T14:31:33.650864Z"
    }
   },
   "cell_type": "code",
   "source": [
    "import sqlite3\n",
    "\n",
    "# 定义源数据库和目标数据库的文件名\n",
    "source_db = '../2nd.db'  # 原数据库文件名\n",
    "target_db = 'test.db'  # 新的空数据库文件名\n",
    "\n",
    "# 连接到源数据库\n",
    "source_conn = sqlite3.connect(source_db)\n",
    "source_cursor = source_conn.cursor()\n",
    "\n",
    "# 连接到目标数据库\n",
    "target_conn = sqlite3.connect(target_db)\n",
    "target_cursor = target_conn.cursor()\n",
    "\n",
    "# 获取源数据库中所有表的创建语句\n",
    "source_cursor.execute(\"SELECT name, sql FROM sqlite_master WHERE type='table' AND name NOT LIKE 'sqlite_%';\")\n",
    "tables = source_cursor.fetchall()\n",
    "\n",
    "# 复制每个表的结构到新的数据库\n",
    "for table_name, create_table_sql in tables:\n",
    "    if create_table_sql:  # 确保有创建表的SQL语句\n",
    "        target_cursor.execute(create_table_sql)\n",
    "\n",
    "# 复制索引、视图等结构\n",
    "source_cursor.execute(\"SELECT name, type, sql FROM sqlite_master WHERE type IN ('index', 'view', 'trigger') AND name NOT LIKE 'sqlite_%';\")\n",
    "structures = source_cursor.fetchall()\n",
    "\n",
    "for name, struct_type, sql in structures:\n",
    "    if sql:  # 确保SQL语句存在\n",
    "        target_cursor.execute(sql)\n",
    "\n",
    "# 提交更改并关闭数据库连接\n",
    "target_conn.commit()\n",
    "source_conn.close()\n",
    "target_conn.close()\n",
    "\n",
    "print(f\"空的测试数据库已成功创建，文件名为：{target_db}\")\n"
   ],
   "id": "d7498f2c98d565b7",
   "outputs": [
    {
     "name": "stdout",
     "output_type": "stream",
     "text": [
      "空的测试数据库已成功创建，文件名为：test.db\n"
     ]
    }
   ],
   "execution_count": 2
  },
  {
   "metadata": {},
   "cell_type": "code",
   "outputs": [],
   "execution_count": null,
   "source": "",
   "id": "5694790722247560"
  }
 ],
 "metadata": {
  "kernelspec": {
   "display_name": "Python 3",
   "language": "python",
   "name": "python3"
  },
  "language_info": {
   "codemirror_mode": {
    "name": "ipython",
    "version": 2
   },
   "file_extension": ".py",
   "mimetype": "text/x-python",
   "name": "python",
   "nbconvert_exporter": "python",
   "pygments_lexer": "ipython2",
   "version": "2.7.6"
  }
 },
 "nbformat": 4,
 "nbformat_minor": 5
}
