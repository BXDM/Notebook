{
 "cells": [
  {
   "cell_type": "markdown",
   "id": "prospective-place",
   "metadata": {},
   "source": [
    "参考资料:[如何获得行政区划的地理文件](https://blog.csdn.net/qq_38412868/article/details/106917567)"
   ]
  },
  {
   "cell_type": "code",
   "execution_count": 1,
   "id": "intellectual-correction",
   "metadata": {},
   "outputs": [],
   "source": [
    "file = r\"F:\\地图文件\\深圳市.json\""
   ]
  },
  {
   "cell_type": "code",
   "execution_count": 3,
   "id": "straight-blood",
   "metadata": {},
   "outputs": [],
   "source": [
    "import pandas as pd"
   ]
  },
  {
   "cell_type": "code",
   "execution_count": 5,
   "id": "suitable-luther",
   "metadata": {},
   "outputs": [],
   "source": [
    "data = pd.read_csv(file)"
   ]
  },
  {
   "cell_type": "code",
   "execution_count": null,
   "id": "based-emerald",
   "metadata": {},
   "outputs": [],
   "source": []
  }
 ],
 "metadata": {
  "kernelspec": {
   "display_name": "Python 3",
   "language": "python",
   "name": "python3"
  },
  "language_info": {
   "codemirror_mode": {
    "name": "ipython",
    "version": 3
   },
   "file_extension": ".py",
   "mimetype": "text/x-python",
   "name": "python",
   "nbconvert_exporter": "python",
   "pygments_lexer": "ipython3",
   "version": "3.9.2"
  }
 },
 "nbformat": 4,
 "nbformat_minor": 5
}
