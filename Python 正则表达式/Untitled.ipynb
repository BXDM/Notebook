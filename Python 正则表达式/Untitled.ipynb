{
 "cells": [
  {
   "cell_type": "markdown",
   "id": "changing-interpretation",
   "metadata": {},
   "source": [
    "参考资料：[Python3 正则表达式](https://www.runoob.com/python3/python3-reg-expressions.html)"
   ]
  },
  {
   "cell_type": "code",
   "execution_count": 1,
   "id": "significant-meeting",
   "metadata": {},
   "outputs": [
    {
     "name": "stdout",
     "output_type": "stream",
     "text": [
      "(0, 3)\n",
      "None\n"
     ]
    }
   ],
   "source": [
    "import re\n",
    "print(re.match('www', 'www.runoob.com').span())  # 在起始位置匹配\n",
    "print(re.match('com', 'www.runoob.com'))         # 不在起始位置匹配"
   ]
  },
  {
   "cell_type": "code",
   "execution_count": 4,
   "id": "brief-argentina",
   "metadata": {},
   "outputs": [
    {
     "data": {
      "text/plain": [
       "<re.Match object; span=(0, 3), match='www'>"
      ]
     },
     "execution_count": 4,
     "metadata": {},
     "output_type": "execute_result"
    }
   ],
   "source": [
    "re.match('www', 'www.runoob.com')"
   ]
  },
  {
   "cell_type": "code",
   "execution_count": 5,
   "id": "public-collector",
   "metadata": {},
   "outputs": [
    {
     "name": "stdout",
     "output_type": "stream",
     "text": [
      "帮会建了徽信群没在群里的加下徽信晚上群里有活动通知大家抢资源争地盘谢谢配合\n"
     ]
    }
   ],
   "source": [
    "p1='帮会建了徽信群 没在群里的加下徽信:[30109552300]，晚上群里有活动通知大家，(抢资源)，争地盘，谢谢配合。i love you '\n",
    "pre = re.compile(u'[\\u4e00-\\u9fa5]')\n",
    "res = re.findall(pre, p1)\n",
    "res1=''.join(res)\n",
    "print(res1)"
   ]
  },
  {
   "cell_type": "code",
   "execution_count": 6,
   "id": "difficult-sullivan",
   "metadata": {},
   "outputs": [
    {
     "name": "stdout",
     "output_type": "stream",
     "text": [
      "帮会建了徽信群没在群里的加下徽信，晚上群里有活动通知大家，抢资源，争地盘，谢谢配合。\n"
     ]
    }
   ],
   "source": [
    "p1='帮会建了徽信群 没在群里的加下徽信:[30109552300]，晚上群里有活动通知大家，(抢资源)，争地盘，谢谢配合。i love you '\n",
    "pre = re.compile(u'[\\u4e00-\\u9fa5-\\，\\。]')\n",
    "res = re.findall(pre, p1)\n",
    "res1=''.join(res)\n",
    "print(res1)"
   ]
  },
  {
   "cell_type": "code",
   "execution_count": 16,
   "id": "italic-sister",
   "metadata": {},
   "outputs": [],
   "source": [
    "# 单个位置匹配 \n",
    "\n",
    "import re"
   ]
  },
  {
   "cell_type": "code",
   "execution_count": 9,
   "id": "photographic-timing",
   "metadata": {},
   "outputs": [
    {
     "data": {
      "text/plain": [
       "['123']"
      ]
     },
     "execution_count": 9,
     "metadata": {},
     "output_type": "execute_result"
    }
   ],
   "source": [
    "str = \"a123b\"\n",
    "re.findall(r'a(.+?)b', str)"
   ]
  },
  {
   "cell_type": "code",
   "execution_count": 13,
   "id": "ranging-deposit",
   "metadata": {},
   "outputs": [
    {
     "data": {
      "text/plain": [
       "['123']"
      ]
     },
     "execution_count": 13,
     "metadata": {},
     "output_type": "execute_result"
    }
   ],
   "source": [
    "# 贪婪和非贪婪模式\n",
    "s = 'a123b456b'\n",
    "re.findall(r'a(.+?)b', s) # 加了 ? 只匹配到第一个 b "
   ]
  },
  {
   "cell_type": "code",
   "execution_count": 12,
   "id": "outer-definition",
   "metadata": {},
   "outputs": [
    {
     "data": {
      "text/plain": [
       "['123b456']"
      ]
     },
     "execution_count": 12,
     "metadata": {},
     "output_type": "execute_result"
    }
   ],
   "source": [
    "re.findall(r'a(.+)b', s) # 没有 ? 控制变得更贪婪"
   ]
  },
  {
   "cell_type": "code",
   "execution_count": 15,
   "id": "closed-registration",
   "metadata": {},
   "outputs": [
    {
     "data": {
      "text/plain": [
       "['123b456']"
      ]
     },
     "execution_count": 15,
     "metadata": {},
     "output_type": "execute_result"
    }
   ],
   "source": [
    "re.findall(r'a(.*)b', s)"
   ]
  },
  {
   "cell_type": "code",
   "execution_count": 17,
   "id": "specified-highway",
   "metadata": {},
   "outputs": [],
   "source": [
    "# 多行匹配\n",
    "\n",
    "str = 'a23b\\na34b'"
   ]
  },
  {
   "cell_type": "code",
   "execution_count": 19,
   "id": "increased-register",
   "metadata": {},
   "outputs": [
    {
     "name": "stdout",
     "output_type": "stream",
     "text": [
      "a23b\n",
      "a34b\n"
     ]
    }
   ],
   "source": [
    "print(str)"
   ]
  },
  {
   "cell_type": "code",
   "execution_count": 20,
   "id": "unique-label",
   "metadata": {},
   "outputs": [
    {
     "data": {
      "text/plain": [
       "[]"
      ]
     },
     "execution_count": 20,
     "metadata": {},
     "output_type": "execute_result"
    }
   ],
   "source": [
    "re.findall(r'a(\\d+)b.+a(\\d+)b', str)\n",
    "# 不能处理"
   ]
  },
  {
   "cell_type": "code",
   "execution_count": 25,
   "id": "patent-reception",
   "metadata": {},
   "outputs": [
    {
     "data": {
      "text/plain": [
       "[('23', '34')]"
      ]
     },
     "execution_count": 25,
     "metadata": {},
     "output_type": "execute_result"
    }
   ],
   "source": [
    "\n",
    "re.findall(r'a(\\d+)b.+a(\\d+)b', str, re.S)"
   ]
  },
  {
   "cell_type": "code",
   "execution_count": 24,
   "id": "residential-possession",
   "metadata": {},
   "outputs": [
    {
     "ename": "SyntaxError",
     "evalue": "EOL while scanning string literal (<ipython-input-24-e002b42e9104>, line 2)",
     "output_type": "error",
     "traceback": [
      "\u001b[1;36m  File \u001b[1;32m\"<ipython-input-24-e002b42e9104>\"\u001b[1;36m, line \u001b[1;32m2\u001b[0m\n\u001b[1;33m    line ='192.168.0.1 25/Oct/2012:14:46:34 \"GET /api HTTP/1.1\" 200 44 \"http://abc.com/search\"\u001b[0m\n\u001b[1;37m                                                                                              ^\u001b[0m\n\u001b[1;31mSyntaxError\u001b[0m\u001b[1;31m:\u001b[0m EOL while scanning string literal\n"
     ]
    }
   ],
   "source": []
  },
  {
   "cell_type": "code",
   "execution_count": 27,
   "id": "tired-pastor",
   "metadata": {},
   "outputs": [
    {
     "name": "stdout",
     "output_type": "stream",
     "text": [
      "[]\n",
      "<class 'list'>\n"
     ]
    }
   ],
   "source": [
    "# findall的结果是列表的形式,会将找到的多个结果放到列表中去\n",
    "# 注意: 如果找不到,会返回一个空列表\n",
    "# 注意：不能直接使用 group 方法\n",
    "res = re.findall(\"www\",\"www.baidu.com\")\n",
    "res = re.findall(\"wwwa\",\"www.baiduwww.com\") # 结果：[]\n",
    "print(res)\n",
    "print(type(res))"
   ]
  }
 ],
 "metadata": {
  "kernelspec": {
   "display_name": "Python 3",
   "language": "python",
   "name": "python3"
  },
  "language_info": {
   "codemirror_mode": {
    "name": "ipython",
    "version": 3
   },
   "file_extension": ".py",
   "mimetype": "text/x-python",
   "name": "python",
   "nbconvert_exporter": "python",
   "pygments_lexer": "ipython3",
   "version": "3.9.2"
  }
 },
 "nbformat": 4,
 "nbformat_minor": 5
}
