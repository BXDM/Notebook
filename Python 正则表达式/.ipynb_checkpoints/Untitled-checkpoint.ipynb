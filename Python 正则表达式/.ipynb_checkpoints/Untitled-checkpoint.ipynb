{
 "cells": [
  {
   "cell_type": "markdown",
   "id": "changing-interpretation",
   "metadata": {},
   "source": [
    "参考资料：[Python3 正则表达式](https://www.runoob.com/python3/python3-reg-expressions.html)"
   ]
  },
  {
   "cell_type": "code",
   "execution_count": 1,
   "id": "significant-meeting",
   "metadata": {},
   "outputs": [
    {
     "name": "stdout",
     "output_type": "stream",
     "text": [
      "(0, 3)\n",
      "None\n"
     ]
    }
   ],
   "source": [
    "import re\n",
    "print(re.match('www', 'www.runoob.com').span())  # 在起始位置匹配\n",
    "print(re.match('com', 'www.runoob.com'))         # 不在起始位置匹配"
   ]
  },
  {
   "cell_type": "code",
   "execution_count": 4,
   "id": "brief-argentina",
   "metadata": {},
   "outputs": [
    {
     "data": {
      "text/plain": [
       "<re.Match object; span=(0, 3), match='www'>"
      ]
     },
     "execution_count": 4,
     "metadata": {},
     "output_type": "execute_result"
    }
   ],
   "source": [
    "re.match('www', 'www.runoob.com')"
   ]
  },
  {
   "cell_type": "code",
   "execution_count": 5,
   "id": "public-collector",
   "metadata": {},
   "outputs": [
    {
     "name": "stdout",
     "output_type": "stream",
     "text": [
      "帮会建了徽信群没在群里的加下徽信晚上群里有活动通知大家抢资源争地盘谢谢配合\n"
     ]
    }
   ],
   "source": [
    "p1='帮会建了徽信群 没在群里的加下徽信:[30109552300]，晚上群里有活动通知大家，(抢资源)，争地盘，谢谢配合。i love you '\n",
    "pre = re.compile(u'[\\u4e00-\\u9fa5]')\n",
    "res = re.findall(pre, p1)\n",
    "res1=''.join(res)\n",
    "print(res1)"
   ]
  },
  {
   "cell_type": "code",
   "execution_count": 6,
   "id": "difficult-sullivan",
   "metadata": {},
   "outputs": [
    {
     "name": "stdout",
     "output_type": "stream",
     "text": [
      "帮会建了徽信群没在群里的加下徽信，晚上群里有活动通知大家，抢资源，争地盘，谢谢配合。\n"
     ]
    }
   ],
   "source": [
    "p1='帮会建了徽信群 没在群里的加下徽信:[30109552300]，晚上群里有活动通知大家，(抢资源)，争地盘，谢谢配合。i love you '\n",
    "pre = re.compile(u'[\\u4e00-\\u9fa5-\\，\\。]')\n",
    "res = re.findall(pre, p1)\n",
    "res1=''.join(res)\n",
    "print(res1)"
   ]
  },
  {
   "cell_type": "code",
   "execution_count": 7,
   "id": "parental-fishing",
   "metadata": {},
   "outputs": [],
   "source": [
    "import re"
   ]
  },
  {
   "cell_type": "code",
   "execution_count": 9,
   "id": "rubber-preview",
   "metadata": {},
   "outputs": [
    {
     "data": {
      "text/plain": [
       "['123']"
      ]
     },
     "execution_count": 9,
     "metadata": {},
     "output_type": "execute_result"
    }
   ],
   "source": [
    "str = \"a123b\"\n",
    "re.findall(r'a(.+?)b', str)"
   ]
  },
  {
   "cell_type": "code",
   "execution_count": 13,
   "id": "handled-wagner",
   "metadata": {},
   "outputs": [
    {
     "data": {
      "text/plain": [
       "['123']"
      ]
     },
     "execution_count": 13,
     "metadata": {},
     "output_type": "execute_result"
    }
   ],
   "source": [
    "# 贪婪和非贪婪模式\n",
    "s = 'a123b456b'\n",
    "re.findall(r'a(.+?)b', s) # 加了 ? 只匹配到第一个 b "
   ]
  },
  {
   "cell_type": "code",
   "execution_count": 12,
   "id": "accomplished-romantic",
   "metadata": {},
   "outputs": [
    {
     "data": {
      "text/plain": [
       "['123b456']"
      ]
     },
     "execution_count": 12,
     "metadata": {},
     "output_type": "execute_result"
    }
   ],
   "source": [
    "re.findall(r'a(.+)b', s) # 没有 ? 控制变得更贪婪"
   ]
  },
  {
   "cell_type": "code",
   "execution_count": 15,
   "id": "loose-calgary",
   "metadata": {},
   "outputs": [
    {
     "data": {
      "text/plain": [
       "['123b456']"
      ]
     },
     "execution_count": 15,
     "metadata": {},
     "output_type": "execute_result"
    }
   ],
   "source": [
    "re.findall(r'a(.*)b', s)"
   ]
  },
  {
   "cell_type": "code",
   "execution_count": null,
   "id": "trained-lobby",
   "metadata": {},
   "outputs": [],
   "source": []
  }
 ],
 "metadata": {
  "kernelspec": {
   "display_name": "Python 3",
   "language": "python",
   "name": "python3"
  },
  "language_info": {
   "codemirror_mode": {
    "name": "ipython",
    "version": 3
   },
   "file_extension": ".py",
   "mimetype": "text/x-python",
   "name": "python",
   "nbconvert_exporter": "python",
   "pygments_lexer": "ipython3",
   "version": "3.9.2"
  }
 },
 "nbformat": 4,
 "nbformat_minor": 5
}
