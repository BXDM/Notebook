{
 "cells": [
  {
   "cell_type": "code",
   "execution_count": 14,
   "metadata": {},
   "outputs": [],
   "source": [
    "import pandas as pd\n",
    "import numpy as np\n",
    "import matplotlib.pyplot as plt"
   ]
  },
  {
   "cell_type": "markdown",
   "metadata": {},
   "source": [
    "## 复数运算"
   ]
  },
  {
   "cell_type": "code",
   "execution_count": 15,
   "metadata": {},
   "outputs": [
    {
     "data": {
      "text/plain": [
       "(1+5j)"
      ]
     },
     "execution_count": 15,
     "metadata": {},
     "output_type": "execute_result"
    }
   ],
   "source": [
    "a = 1+5j\n",
    "a"
   ]
  },
  {
   "cell_type": "code",
   "execution_count": 16,
   "metadata": {},
   "outputs": [
    {
     "data": {
      "text/plain": [
       "(2+3j)"
      ]
     },
     "execution_count": 16,
     "metadata": {},
     "output_type": "execute_result"
    }
   ],
   "source": [
    "b = complex(2,3)\n",
    "b"
   ]
  },
  {
   "cell_type": "code",
   "execution_count": 17,
   "metadata": {},
   "outputs": [
    {
     "data": {
      "text/plain": [
       "1.0"
      ]
     },
     "execution_count": 17,
     "metadata": {},
     "output_type": "execute_result"
    }
   ],
   "source": [
    "a.real"
   ]
  },
  {
   "cell_type": "code",
   "execution_count": 18,
   "metadata": {},
   "outputs": [
    {
     "data": {
      "text/plain": [
       "3.0"
      ]
     },
     "execution_count": 18,
     "metadata": {},
     "output_type": "execute_result"
    }
   ],
   "source": [
    "b.imag"
   ]
  },
  {
   "cell_type": "markdown",
   "metadata": {},
   "source": [
    "## 计算电磁场衰减曲线"
   ]
  },
  {
   "cell_type": "code",
   "execution_count": 19,
   "metadata": {},
   "outputs": [],
   "source": [
    "mu = 4*np.pi*(1e-7)\n",
    "f = 10\n",
    "sigma = 0.1\n",
    "omega  = 2*np.pi*f\n",
    "z = np.arange(0, 10020, 20)\n",
    "k = (1-1j)*np.sqrt((mu*sigma*omega)/2)\n",
    "ex = np.exp(-k*z)\n",
    "real = ex.real\n",
    "imag = ex.imag"
   ]
  },
  {
   "cell_type": "code",
   "execution_count": 20,
   "metadata": {},
   "outputs": [
    {
     "data": {
      "text/plain": [
       "(-0.5, 1.0)"
      ]
     },
     "execution_count": 20,
     "metadata": {},
     "output_type": "execute_result"
    },
    {
     "data": {
      "image/png": "[encoded data removed]",
      "text/plain": [
       "<Figure size 432x288 with 1 Axes>"
      ]
     },
     "metadata": {
      "needs_background": "light"
     },
     "output_type": "display_data"
    }
   ],
   "source": [
    "plt.plot(real, -z*0.001)\n",
    "plt.plot(imag, -z*0.001)\n",
    "plt.xlim(-0.5, 1.0)"
   ]
  },
  {
   "cell_type": "code",
   "execution_count": 21,
   "metadata": {},
   "outputs": [],
   "source": [
    "def valuex(f):\n",
    "    mu = 4*np.pi*(1e-7)\n",
    "    f = f\n",
    "    sigma = 0.1\n",
    "    omega  = 2*np.pi*f\n",
    "    z = np.arange(0, 10020, 20)\n",
    "    k = (1-1j)*np.sqrt((mu*sigma*omega)/2)\n",
    "    ex = np.exp(-k*z)\n",
    "    return ex"
   ]
  },
  {
   "cell_type": "code",
   "execution_count": 22,
   "metadata": {},
   "outputs": [
    {
     "data": {
      "text/plain": [
       "<matplotlib.legend.Legend at 0x134bdf28>"
      ]
     },
     "execution_count": 22,
     "metadata": {},
     "output_type": "execute_result"
    },
    {
     "data": {
      "image/png": "[encoded data removed]",
      "text/plain": [
       "<Figure size 432x288 with 3 Axes>"
      ]
     },
     "metadata": {
      "needs_background": "light"
     },
     "output_type": "display_data"
    }
   ],
   "source": [
    "z0 = -z*0.001\n",
    "ex100 = valuex(100)\n",
    "ex10 = valuex(10)\n",
    "ex1 = valuex(1)\n",
    "\n",
    "# 设置中文显示\n",
    "import matplotlib as mpl\n",
    "mpl.rcParams[\"font.sans-serif\"] = [\"SimHei\"]\n",
    "mpl.rcParams[\"axes.unicode_minus\"] = False\n",
    "\n",
    "plt.subplot(131)\n",
    "plt.plot(ex100.real, z0, label='实部值')\n",
    "plt.plot(ex100.imag, z0, 'r--', label = '虚部值')\n",
    "plt.xlim([-0.5, 1.0])\n",
    "plt.legend(loc = 4)\n",
    "plt.ylabel('深度(km)')\n",
    "\n",
    "plt.subplot(132)\n",
    "plt.plot(ex10.real, z0, label='实部值')\n",
    "plt.plot(ex10.imag, z0, 'r--', label = '虚部值')\n",
    "plt.xlim([-0.5, 1.0])\n",
    "plt.legend(loc = 4)\n",
    "\n",
    "\n",
    "plt.subplot(133)\n",
    "plt.plot(ex1.real, z0, label='实部值')\n",
    "plt.plot(ex1.imag, z0, 'r--', label = '虚部值')\n",
    "plt.xlim([-0.5, 1.0])\n",
    "plt.legend(loc = 4)"
   ]
  },
  {
   "cell_type": "markdown",
   "metadata": {},
   "source": [
    "## 趋肤深度变化"
   ]
  },
  {
   "cell_type": "code",
   "execution_count": 23,
   "metadata": {},
   "outputs": [
    {
     "name": "stderr",
     "output_type": "stream",
     "text": [
      "Font 'default' does not have a glyph for '-' [U+2212], substituting with a dummy symbol.\n",
      "Font 'default' does not have a glyph for '-' [U+2212], substituting with a dummy symbol.\n",
      "Font 'default' does not have a glyph for '-' [U+2212], substituting with a dummy symbol.\n",
      "Font 'default' does not have a glyph for '-' [U+2212], substituting with a dummy symbol.\n",
      "Font 'default' does not have a glyph for '-' [U+2212], substituting with a dummy symbol.\n",
      "Font 'default' does not have a glyph for '-' [U+2212], substituting with a dummy symbol.\n",
      "Font 'default' does not have a glyph for '-' [U+2212], substituting with a dummy symbol.\n",
      "Font 'default' does not have a glyph for '-' [U+2212], substituting with a dummy symbol.\n",
      "Font 'default' does not have a glyph for '-' [U+2212], substituting with a dummy symbol.\n",
      "Font 'default' does not have a glyph for '-' [U+2212], substituting with a dummy symbol.\n",
      "Font 'default' does not have a glyph for '-' [U+2212], substituting with a dummy symbol.\n",
      "Font 'default' does not have a glyph for '-' [U+2212], substituting with a dummy symbol.\n",
      "Font 'default' does not have a glyph for '-' [U+2212], substituting with a dummy symbol.\n",
      "Font 'default' does not have a glyph for '-' [U+2212], substituting with a dummy symbol.\n",
      "Font 'default' does not have a glyph for '-' [U+2212], substituting with a dummy symbol.\n",
      "Font 'default' does not have a glyph for '-' [U+2212], substituting with a dummy symbol.\n",
      "Font 'default' does not have a glyph for '-' [U+2212], substituting with a dummy symbol.\n",
      "Font 'default' does not have a glyph for '-' [U+2212], substituting with a dummy symbol.\n",
      "Font 'default' does not have a glyph for '-' [U+2212], substituting with a dummy symbol.\n",
      "Font 'default' does not have a glyph for '-' [U+2212], substituting with a dummy symbol.\n",
      "Font 'default' does not have a glyph for '-' [U+2212], substituting with a dummy symbol.\n",
      "Font 'default' does not have a glyph for '-' [U+2212], substituting with a dummy symbol.\n",
      "Font 'default' does not have a glyph for '-' [U+2212], substituting with a dummy symbol.\n",
      "Font 'default' does not have a glyph for '-' [U+2212], substituting with a dummy symbol.\n"
     ]
    },
    {
     "data": {
      "image/png": "[encoded data removed]",
      "text/plain": [
       "<Figure size 432x288 with 1 Axes>"
      ]
     },
     "metadata": {
      "needs_background": "light"
     },
     "output_type": "display_data"
    }
   ],
   "source": [
    "plt.rcParams['font.sans-serif']=['SimHei']  # 用来正常显示中文标签  \n",
    "plt.rcParams['axes.unicode_minus']=False  # 用来正常显示负号\n",
    "\n",
    "f = np.logspace(3, -4, 100)\n",
    "rho = np.logspace(-1, 4, 6)\n",
    "\n",
    "\n",
    "for i in rho:\n",
    "    delta = 503*np.sqrt(i/f)\n",
    "    plt.plot(f,delta, label = str(i)+r'$\\Omega\\cdot m$')\n",
    "    plt.legend()\n",
    "    plt.loglog()\n",
    "plt.xlabel('f/Hz')\n",
    "plt.ylabel(r'$\\delta /km$')\n",
    "plt.savefig(r'C:\\Users\\BXDM\\Desktop\\趋肤深度', dpi = 300)\n"
   ]
  },
  {
   "cell_type": "code",
   "execution_count": 24,
   "metadata": {},
   "outputs": [
    {
     "data": {
      "text/plain": [
       "array([1.e-01, 1.e+00, 1.e+01, 1.e+02, 1.e+03, 1.e+04])"
      ]
     },
     "execution_count": 24,
     "metadata": {},
     "output_type": "execute_result"
    }
   ],
   "source": [
    "np.logspace(-1,4,6)"
   ]
  },
  {
   "cell_type": "markdown",
   "metadata": {},
   "source": [
    "## 拆分文件"
   ]
  },
  {
   "cell_type": "code",
   "execution_count": 25,
   "metadata": {},
   "outputs": [
    {
     "data": {
      "text/html": [
       "<div>\n",
       "<style scoped>\n",
       "    .dataframe tbody tr th:only-of-type {\n",
       "        vertical-align: middle;\n",
       "    }\n",
       "\n",
       "    .dataframe tbody tr th {\n",
       "        vertical-align: top;\n",
       "    }\n",
       "\n",
       "    .dataframe thead th {\n",
       "        text-align: right;\n",
       "    }\n",
       "</style>\n",
       "<table border=\"1\" class=\"dataframe\">\n",
       "  <thead>\n",
       "    <tr style=\"text-align: right;\">\n",
       "      <th></th>\n",
       "      <th>0</th>\n",
       "    </tr>\n",
       "  </thead>\n",
       "  <tbody>\n",
       "    <tr>\n",
       "      <th>0</th>\n",
       "      <td>频率范围：10Hz～100KHz；</td>\n",
       "    </tr>\n",
       "    <tr>\n",
       "      <th>1</th>\n",
       "      <td>电源：12V，60Ah电瓶；</td>\n",
       "    </tr>\n",
       "    <tr>\n",
       "      <th>2</th>\n",
       "      <td>电极：4个BE-26型带缓冲器的有效高频偶极子以及4个不锈钢电极，26m电缆；</td>\n",
       "    </tr>\n",
       "    <tr>\n",
       "      <th>3</th>\n",
       "      <td>磁棒探头：2个BF-IM 磁感应棒（10Hz－100KHz），10m电缆；</td>\n",
       "    </tr>\n",
       "    <tr>\n",
       "      <th>4</th>\n",
       "      <td>模拟终端：1台AFE-EH4模拟讯号调节器，用它将两对电极和一对磁棒的数据据传至采集单元；</td>\n",
       "    </tr>\n",
       "    <tr>\n",
       "      <th>5</th>\n",
       "      <td>数据采集单元:道数：4道（2电，2磁）；内置计算机：IBM 兼容80486CPU  8Mb ...</td>\n",
       "    </tr>\n",
       "    <tr>\n",
       "      <th>6</th>\n",
       "      <td>数字信号处理器：①32位浮点；②带宽：DC-96KHz；</td>\n",
       "    </tr>\n",
       "    <tr>\n",
       "      <th>7</th>\n",
       "      <td>显示器：液晶VGA；</td>\n",
       "    </tr>\n",
       "    <tr>\n",
       "      <th>8</th>\n",
       "      <td>工作温度：-20～50℃。</td>\n",
       "    </tr>\n",
       "  </tbody>\n",
       "</table>\n",
       "</div>"
      ],
      "text/plain": [
       "                                                   0\n",
       "0                                  频率范围：10Hz～100KHz；\n",
       "1                                     电源：12V，60Ah电瓶；\n",
       "2            电极：4个BE-26型带缓冲器的有效高频偶极子以及4个不锈钢电极，26m电缆；\n",
       "3              磁棒探头：2个BF-IM 磁感应棒（10Hz－100KHz），10m电缆；\n",
       "4      模拟终端：1台AFE-EH4模拟讯号调节器，用它将两对电极和一对磁棒的数据据传至采集单元；\n",
       "5  数据采集单元:道数：4道（2电，2磁）；内置计算机：IBM 兼容80486CPU  8Mb ...\n",
       "6                       数字信号处理器：①32位浮点；②带宽：DC-96KHz；\n",
       "7                                         显示器：液晶VGA；\n",
       "8                                      工作温度：-20～50℃。"
      ]
     },
     "execution_count": 25,
     "metadata": {},
     "output_type": "execute_result"
    }
   ],
   "source": [
    "import pandas as pd\n",
    "file = pd.read_csv(r'text.txt', encoding = 'gbk', header = None)\n",
    "df = pd.DataFrame(file)\n",
    "df"
   ]
  },
  {
   "cell_type": "code",
   "execution_count": 28,
   "metadata": {},
   "outputs": [
    {
     "name": "stdout",
     "output_type": "stream",
     "text": [
      "频率范围\n",
      "电源\n",
      "电极\n",
      "磁棒探头\n",
      "模拟终端\n",
      "数据采集单元:道数\n",
      "数字信号处理器\n",
      "显示器\n",
      "工作温度\n"
     ]
    }
   ],
   "source": [
    "for i in range(len(df)):\n",
    "    line = df.iloc[i].values\n",
    "    ls = line[0].split('：')[0]\n",
    "    print(ls)"
   ]
  },
  {
   "cell_type": "code",
   "execution_count": 29,
   "metadata": {},
   "outputs": [
    {
     "data": {
      "text/plain": [
       "\"['工作温度\""
      ]
     },
     "execution_count": 29,
     "metadata": {},
     "output_type": "execute_result"
    }
   ],
   "source": [
    "line = df.iloc[i].values\n",
    "str(line).split('：')[0]"
   ]
  },
  {
   "cell_type": "code",
   "execution_count": 30,
   "metadata": {},
   "outputs": [
    {
     "data": {
      "text/plain": [
       "'工作温度'"
      ]
     },
     "execution_count": 30,
     "metadata": {},
     "output_type": "execute_result"
    }
   ],
   "source": [
    "line[0].split('：')[0]"
   ]
  },
  {
   "cell_type": "code",
   "execution_count": 31,
   "metadata": {},
   "outputs": [
    {
     "data": {
      "text/plain": [
       "array(['工作温度：-20～50℃。'], dtype=object)"
      ]
     },
     "execution_count": 31,
     "metadata": {},
     "output_type": "execute_result"
    }
   ],
   "source": [
    "line"
   ]
  },
  {
   "cell_type": "markdown",
   "metadata": {},
   "source": [
    "## 大地电磁一维正演"
   ]
  },
  {
   "cell_type": "code",
   "execution_count": 32,
   "metadata": {},
   "outputs": [],
   "source": [
    "rho = [100, 1000]\n",
    "h = [1800]\n",
    "mu = (4e-7)*np.pi\n",
    "T = np.logspace(-3, 4, 40)\n",
    "m = len(rho) # 层数"
   ]
  },
  {
   "cell_type": "code",
   "execution_count": 33,
   "metadata": {},
   "outputs": [],
   "source": [
    "k = np.zeros((len(rho), len(T)), dtype = np.complex)\n",
    "for i in range(len(rho)):\n",
    "    k[i] = np.sqrt((-1j*2*np.pi*mu)/(T*rho[i]))"
   ]
  },
  {
   "cell_type": "code",
   "execution_count": 34,
   "metadata": {},
   "outputs": [],
   "source": [
    "Z = -(1j*mu*np.pi)/(T*k[m-1]) # python 的索引从 0 开始\n",
    "layer = np.arange(m-1, 0, -1) # np.arange() 不包含 stop 参数\n",
    "for n in layer: \n",
    "    A = -(1j*mu*2*np.pi)/(T*k[n-1])\n",
    "    B = np.exp(-2*k[n-1]*h[n-1])\n",
    "    Z = A*(A*(1-B)+Z*(1+B))/(A*(1+B)+Z*(1-B))"
   ]
  },
  {
   "cell_type": "code",
   "execution_count": 35,
   "metadata": {},
   "outputs": [],
   "source": [
    "rho_a = (T/(mu*2*np.pi))*(np.abs(Z)**2)\n",
    "phase = -np.arctan(Z.real/Z.imag)*180/np.pi"
   ]
  },
  {
   "cell_type": "markdown",
   "metadata": {},
   "source": [
    "#### 函数形式"
   ]
  },
  {
   "cell_type": "code",
   "execution_count": 59,
   "metadata": {},
   "outputs": [
    {
     "data": {
      "text/plain": [
       "[]"
      ]
     },
     "execution_count": 59,
     "metadata": {},
     "output_type": "execute_result"
    },
    {
     "name": "stderr",
     "output_type": "stream",
     "text": [
      "Font 'default' does not have a glyph for '-' [U+2212], substituting with a dummy symbol.\n",
      "Font 'default' does not have a glyph for '-' [U+2212], substituting with a dummy symbol.\n",
      "Font 'default' does not have a glyph for '-' [U+2212], substituting with a dummy symbol.\n",
      "Font 'default' does not have a glyph for '-' [U+2212], substituting with a dummy symbol.\n",
      "Font 'default' does not have a glyph for '-' [U+2212], substituting with a dummy symbol.\n",
      "Font 'default' does not have a glyph for '-' [U+2212], substituting with a dummy symbol.\n",
      "Font 'default' does not have a glyph for '-' [U+2212], substituting with a dummy symbol.\n",
      "Font 'default' does not have a glyph for '-' [U+2212], substituting with a dummy symbol.\n",
      "Font 'default' does not have a glyph for '-' [U+2212], substituting with a dummy symbol.\n",
      "Font 'default' does not have a glyph for '-' [U+2212], substituting with a dummy symbol.\n",
      "Font 'default' does not have a glyph for '-' [U+2212], substituting with a dummy symbol.\n",
      "Font 'default' does not have a glyph for '-' [U+2212], substituting with a dummy symbol.\n"
     ]
    },
    {
     "data": {
      "image/png": "[encoded data removed]",
      "text/plain": [
       "<Figure size 432x288 with 1 Axes>"
      ]
     },
     "metadata": {
      "needs_background": "light"
     },
     "output_type": "display_data"
    }
   ],
   "source": [
    "import pandas as pd\n",
    "import numpy as np\n",
    "import matplotlib.pyplot as plt\n",
    "plt.rcParams['axes.unicode_minus']=False  # 用来正常显示负号\n",
    "\n",
    "def mt1d_fwd(rho, h):\n",
    "    mu = (4e-7)*np.pi\n",
    "    T = np.logspace(-3, 4, 40)\n",
    "    m = len(rho) # 层数\n",
    "    \n",
    "    k = np.zeros((len(rho), len(T)), dtype = np.complex)\n",
    "    for i in range(len(rho)):\n",
    "        k[i] = np.sqrt((-1j*2*np.pi*mu)/(T*rho[i]))\n",
    "        \n",
    "    Z = -(1j*2*mu*np.pi)/(T*k[m-1]) # python 的索引从 0 开始\n",
    "    layer = np.arange(m-1, 0, -1) # np.arange() 不包含 stop 参数\n",
    "    for n in layer:\n",
    "        A = -(1j*mu*2*np.pi)/(T*k[n-1])\n",
    "        B = np.exp(-2*k[n-1]*h[n-1])\n",
    "        Z = A*(A*(1-B)+Z*(1+B))/(A*(1+B)+Z*(1-B))\n",
    "    \n",
    "    rho_a = (T/(mu*2*np.pi))*(np.abs(Z)**2)\n",
    "    phase = -np.arctan(Z.real/Z.imag)*180/np.pi\n",
    "    return [rho_a, phase]\n",
    "\n",
    "rho = [100, 1000]\n",
    "h = [1800]\n",
    "data =  mt1d_fwd([100, 1000], [1800])\n",
    "rho_a, ph = data\n",
    "rho_a\n",
    "\n",
    "plt.plot(T, rho_a)\n",
    "plt.semilogx()"
   ]
  },
  {
   "cell_type": "code",
   "execution_count": 58,
   "metadata": {},
   "outputs": [
    {
     "data": {
      "text/plain": [
       "array([1.00000000e+02, 9.99999963e+01, 1.00000093e+02, 9.99980861e+01,\n",
       "       1.00017925e+02, 1.00024808e+02, 9.94474205e+01, 9.88867473e+01,\n",
       "       1.01980837e+02, 1.11596027e+02, 1.24545524e+02, 1.30597583e+02,\n",
       "       1.20662885e+02, 9.76081102e+01, 7.17213213e+01, 4.98910733e+01,\n",
       "       3.37743819e+01, 2.25793370e+01, 1.50125930e+01, 9.95971443e+00,\n",
       "       6.60344374e+00, 4.37931481e+00, 2.90694754e+00, 1.93269299e+00,\n",
       "       1.28817994e+00, 8.61868422e-01, 5.79935709e-01, 3.93547529e-01,\n",
       "       2.70415324e-01, 1.89207441e-01, 1.35854953e-01, 1.01114668e-01,\n",
       "       7.89678862e-02, 6.55777057e-02, 5.86242915e-02, 5.69029715e-02,\n",
       "       6.01155288e-02, 6.88185363e-02, 8.45197825e-02, 1.09939495e-01])"
      ]
     },
     "execution_count": 58,
     "metadata": {},
     "output_type": "execute_result"
    }
   ],
   "source": [
    "rho_a"
   ]
  },
  {
   "cell_type": "code",
   "execution_count": null,
   "metadata": {},
   "outputs": [],
   "source": [
    "b = np.random.randint(0,10,size=8)\n",
    "b"
   ]
  },
  {
   "cell_type": "code",
   "execution_count": null,
   "metadata": {},
   "outputs": [],
   "source": [
    "c = np.zeros((3, 8), dtype = np.double)\n",
    "c"
   ]
  },
  {
   "cell_type": "code",
   "execution_count": null,
   "metadata": {},
   "outputs": [],
   "source": [
    "for i in range(len(a)):\n",
    "    c[i, :] = a[i]*b\n",
    "c"
   ]
  },
  {
   "cell_type": "code",
   "execution_count": null,
   "metadata": {},
   "outputs": [],
   "source": [
    "for i in range(1,len(a)+1):\n",
    "    print(i)"
   ]
  },
  {
   "cell_type": "code",
   "execution_count": null,
   "metadata": {},
   "outputs": [],
   "source": [
    "rho[0]"
   ]
  },
  {
   "cell_type": "code",
   "execution_count": null,
   "metadata": {},
   "outputs": [],
   "source": [
    "1-1j"
   ]
  },
  {
   "cell_type": "code",
   "execution_count": null,
   "metadata": {},
   "outputs": [],
   "source": [
    "k[:,1]"
   ]
  },
  {
   "cell_type": "code",
   "execution_count": null,
   "metadata": {},
   "outputs": [],
   "source": [
    "2j"
   ]
  },
  {
   "cell_type": "code",
   "execution_count": null,
   "metadata": {},
   "outputs": [],
   "source": [
    "np.tan(np.pi/2)"
   ]
  },
  {
   "cell_type": "code",
   "execution_count": null,
   "metadata": {},
   "outputs": [],
   "source": [
    "np.arctan(1.6)"
   ]
  },
  {
   "cell_type": "code",
   "execution_count": null,
   "metadata": {},
   "outputs": [],
   "source": [
    "np.pi/2"
   ]
  },
  {
   "cell_type": "code",
   "execution_count": null,
   "metadata": {},
   "outputs": [],
   "source": [
    "b = np.array([[1, 2], [ 3, 4]])\n",
    "b"
   ]
  },
  {
   "cell_type": "code",
   "execution_count": null,
   "metadata": {},
   "outputs": [],
   "source": [
    "a = np.array([[3,3], [3, 3]])\n",
    "a"
   ]
  },
  {
   "cell_type": "code",
   "execution_count": null,
   "metadata": {},
   "outputs": [],
   "source": [
    "1j"
   ]
  },
  {
   "cell_type": "code",
   "execution_count": null,
   "metadata": {},
   "outputs": [],
   "source": [
    "-1j"
   ]
  },
  {
   "cell_type": "markdown",
   "metadata": {},
   "source": [
    "#### Bostick反演"
   ]
  },
  {
   "cell_type": "code",
   "execution_count": 95,
   "metadata": {},
   "outputs": [
    {
     "data": {
      "text/plain": [
       "[]"
      ]
     },
     "execution_count": 95,
     "metadata": {},
     "output_type": "execute_result"
    },
    {
     "name": "stderr",
     "output_type": "stream",
     "text": [
      "Font 'default' does not have a glyph for '-' [U+2212], substituting with a dummy symbol.\n",
      "Font 'default' does not have a glyph for '-' [U+2212], substituting with a dummy symbol.\n",
      "Font 'default' does not have a glyph for '-' [U+2212], substituting with a dummy symbol.\n",
      "Font 'default' does not have a glyph for '-' [U+2212], substituting with a dummy symbol.\n",
      "Font 'default' does not have a glyph for '-' [U+2212], substituting with a dummy symbol.\n",
      "Font 'default' does not have a glyph for '-' [U+2212], substituting with a dummy symbol.\n",
      "Font 'default' does not have a glyph for '-' [U+2212], substituting with a dummy symbol.\n",
      "Font 'default' does not have a glyph for '-' [U+2212], substituting with a dummy symbol.\n",
      "Font 'default' does not have a glyph for '-' [U+2212], substituting with a dummy symbol.\n",
      "Font 'default' does not have a glyph for '-' [U+2212], substituting with a dummy symbol.\n",
      "Font 'default' does not have a glyph for '-' [U+2212], substituting with a dummy symbol.\n",
      "Font 'default' does not have a glyph for '-' [U+2212], substituting with a dummy symbol.\n"
     ]
    },
    {
     "data": {
      "image/png": "[encoded data removed]",
      "text/plain": [
       "<Figure size 432x288 with 1 Axes>"
      ]
     },
     "metadata": {
      "needs_background": "light"
     },
     "output_type": "display_data"
    }
   ],
   "source": [
    "rho_a, ph = mt1d_fwd([10, 200, 10], [500, 2000])\n",
    "T = np.logspace(-3, 4, 40)\n",
    "mu = (4e-7)*np.pi\n",
    "D = np.sqrt((rho_a*T)/(2*np.pi*mu))\n",
    "pd = rho_a*(180/(2*ph)-1)\n",
    "plt.figure()\n",
    "depth = np.array([1, 500, 2000, 100000])\n",
    "rho = [10, 200, 10, 10]\n",
    "# 理论模型\n",
    "plt.plot(depth/1000, rho, drawstyle = 'steps-post')\n",
    "h = plt.plot(D/1000, pd, drawstyle = 'steps-post')\n",
    "plt.loglog()"
   ]
  },
  {
   "cell_type": "code",
   "execution_count": 103,
   "metadata": {},
   "outputs": [
    {
     "data": {
      "text/plain": [
       "[]"
      ]
     },
     "execution_count": 103,
     "metadata": {},
     "output_type": "execute_result"
    },
    {
     "name": "stderr",
     "output_type": "stream",
     "text": [
      "Font 'default' does not have a glyph for '-' [U+2212], substituting with a dummy symbol.\n",
      "Font 'default' does not have a glyph for '-' [U+2212], substituting with a dummy symbol.\n",
      "Font 'default' does not have a glyph for '-' [U+2212], substituting with a dummy symbol.\n",
      "Font 'default' does not have a glyph for '-' [U+2212], substituting with a dummy symbol.\n",
      "Font 'default' does not have a glyph for '-' [U+2212], substituting with a dummy symbol.\n",
      "Font 'default' does not have a glyph for '-' [U+2212], substituting with a dummy symbol.\n",
      "Font 'default' does not have a glyph for '-' [U+2212], substituting with a dummy symbol.\n",
      "Font 'default' does not have a glyph for '-' [U+2212], substituting with a dummy symbol.\n",
      "Font 'default' does not have a glyph for '-' [U+2212], substituting with a dummy symbol.\n",
      "Font 'default' does not have a glyph for '-' [U+2212], substituting with a dummy symbol.\n",
      "Font 'default' does not have a glyph for '-' [U+2212], substituting with a dummy symbol.\n",
      "Font 'default' does not have a glyph for '-' [U+2212], substituting with a dummy symbol.\n"
     ]
    },
    {
     "data": {
      "image/png": "[encoded data removed]",
      "text/plain": [
       "<Figure size 432x288 with 2 Axes>"
      ]
     },
     "metadata": {
      "needs_background": "light"
     },
     "output_type": "display_data"
    }
   ],
   "source": [
    "plt.figure()\n",
    "h = np.diff(D)\n",
    "rho_a1, ph1 = mt1d_fwd(pd, h)\n",
    "plt.subplot(211)\n",
    "plt.plot(T, rho_a)\n",
    "plt.plot(T, rho_a1)\n",
    "plt.semilogx()\n",
    "\n",
    "plt.subplot(212)\n",
    "plt.plot(T, ph)\n",
    "plt.plot(T, ph1)\n",
    "plt.semilogx()"
   ]
  },
  {
   "cell_type": "code",
   "execution_count": 98,
   "metadata": {},
   "outputs": [
    {
     "data": {
      "text/plain": [
       "array([8.16898734e+00, 1.00442410e+01, 1.23489898e+01, 1.51721560e+01,\n",
       "       1.87588492e+01, 2.33079579e+01, 2.77468657e+01, 3.05925998e+01,\n",
       "       3.36466460e+01, 4.31102122e+01, 6.56475140e+01, 1.04862882e+02,\n",
       "       1.61340750e+02, 2.33121887e+02, 3.13480911e+02, 3.88802146e+02,\n",
       "       4.44060968e+02, 4.75835434e+02, 4.97492204e+02, 5.28763048e+02,\n",
       "       5.84227171e+02, 6.71483612e+02, 7.94731462e+02, 9.58020576e+02,\n",
       "       1.16689243e+03, 1.42907463e+03, 1.75487288e+03, 2.15756557e+03,\n",
       "       2.65391369e+03, 3.26483043e+03, 4.01624052e+03, 4.94016367e+03,\n",
       "       6.07606620e+03, 7.47253697e+03, 9.18935833e+03, 1.13000599e+04,\n",
       "       1.38950634e+04, 1.70855540e+04, 2.10082412e+04])"
      ]
     },
     "execution_count": 98,
     "metadata": {},
     "output_type": "execute_result"
    }
   ],
   "source": [
    "h"
   ]
  }
 ],
 "metadata": {
  "kernelspec": {
   "display_name": "Python 3",
   "language": "python",
   "name": "python3"
  },
  "language_info": {
   "codemirror_mode": {
    "name": "ipython",
    "version": 3
   },
   "file_extension": ".py",
   "mimetype": "text/x-python",
   "name": "python",
   "nbconvert_exporter": "python",
   "pygments_lexer": "ipython3",
   "version": "3.7.2"
  }
 },
 "nbformat": 4,
 "nbformat_minor": 4
}
