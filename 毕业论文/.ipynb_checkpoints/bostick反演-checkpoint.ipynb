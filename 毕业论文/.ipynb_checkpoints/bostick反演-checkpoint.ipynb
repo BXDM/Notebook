{
 "cells": [
  {
   "cell_type": "code",
   "execution_count": 2,
   "metadata": {},
   "outputs": [],
   "source": [
    "import pandas as pd\n",
    "import numpy as np\n",
    "import matplotlib.pyplot as plt"
   ]
  },
  {
   "cell_type": "markdown",
   "metadata": {},
   "source": [
    "获取 TE 极化模式下的电阻率"
   ]
  },
  {
   "cell_type": "code",
   "execution_count": 3,
   "metadata": {},
   "outputs": [],
   "source": [
    "file = r'F:\\毕业论文\\数据文件\\各隧道数据\\z776802\\TE_res.dat'"
   ]
  },
  {
   "cell_type": "code",
   "execution_count": 24,
   "metadata": {},
   "outputs": [
    {
     "data": {
      "text/html": [
       "<div>\n",
       "<style scoped>\n",
       "    .dataframe tbody tr th:only-of-type {\n",
       "        vertical-align: middle;\n",
       "    }\n",
       "\n",
       "    .dataframe tbody tr th {\n",
       "        vertical-align: top;\n",
       "    }\n",
       "\n",
       "    .dataframe thead th {\n",
       "        text-align: right;\n",
       "    }\n",
       "</style>\n",
       "<table border=\"1\" class=\"dataframe\">\n",
       "  <thead>\n",
       "    <tr style=\"text-align: right;\">\n",
       "      <th></th>\n",
       "      <th>点号</th>\n",
       "      <th>测线位置</th>\n",
       "      <th>频率</th>\n",
       "      <th>电阻率</th>\n",
       "      <th>深度</th>\n",
       "      <th>频率对数</th>\n",
       "      <th>电阻率对数</th>\n",
       "    </tr>\n",
       "  </thead>\n",
       "  <tbody>\n",
       "    <tr>\n",
       "      <th>0</th>\n",
       "      <td>776.0</td>\n",
       "      <td>200.0</td>\n",
       "      <td>15.8</td>\n",
       "      <td>1960.00</td>\n",
       "      <td>-3965.057500</td>\n",
       "      <td>1.198657</td>\n",
       "      <td>3.292256</td>\n",
       "    </tr>\n",
       "    <tr>\n",
       "      <th>1</th>\n",
       "      <td>776.0</td>\n",
       "      <td>200.0</td>\n",
       "      <td>20.0</td>\n",
       "      <td>1640.00</td>\n",
       "      <td>-3223.717100</td>\n",
       "      <td>1.301030</td>\n",
       "      <td>3.214844</td>\n",
       "    </tr>\n",
       "    <tr>\n",
       "      <th>2</th>\n",
       "      <td>776.0</td>\n",
       "      <td>200.0</td>\n",
       "      <td>25.1</td>\n",
       "      <td>1360.00</td>\n",
       "      <td>-2620.490500</td>\n",
       "      <td>1.399674</td>\n",
       "      <td>3.133539</td>\n",
       "    </tr>\n",
       "    <tr>\n",
       "      <th>3</th>\n",
       "      <td>776.0</td>\n",
       "      <td>200.0</td>\n",
       "      <td>31.6</td>\n",
       "      <td>1270.00</td>\n",
       "      <td>-2256.879200</td>\n",
       "      <td>1.499687</td>\n",
       "      <td>3.103804</td>\n",
       "    </tr>\n",
       "    <tr>\n",
       "      <th>4</th>\n",
       "      <td>776.0</td>\n",
       "      <td>200.0</td>\n",
       "      <td>39.8</td>\n",
       "      <td>966.00</td>\n",
       "      <td>-1753.868500</td>\n",
       "      <td>1.599883</td>\n",
       "      <td>2.984977</td>\n",
       "    </tr>\n",
       "    <tr>\n",
       "      <th>...</th>\n",
       "      <td>...</td>\n",
       "      <td>...</td>\n",
       "      <td>...</td>\n",
       "      <td>...</td>\n",
       "      <td>...</td>\n",
       "      <td>...</td>\n",
       "      <td>...</td>\n",
       "    </tr>\n",
       "    <tr>\n",
       "      <th>979</th>\n",
       "      <td>802.0</td>\n",
       "      <td>1080.0</td>\n",
       "      <td>5010.0</td>\n",
       "      <td>22.40</td>\n",
       "      <td>-23.804285</td>\n",
       "      <td>3.699838</td>\n",
       "      <td>1.350248</td>\n",
       "    </tr>\n",
       "    <tr>\n",
       "      <th>980</th>\n",
       "      <td>802.0</td>\n",
       "      <td>1080.0</td>\n",
       "      <td>20000.0</td>\n",
       "      <td>263.00</td>\n",
       "      <td>-40.823748</td>\n",
       "      <td>4.301030</td>\n",
       "      <td>2.419956</td>\n",
       "    </tr>\n",
       "    <tr>\n",
       "      <th>981</th>\n",
       "      <td>802.0</td>\n",
       "      <td>1080.0</td>\n",
       "      <td>63100.0</td>\n",
       "      <td>146.00</td>\n",
       "      <td>-17.124257</td>\n",
       "      <td>4.800029</td>\n",
       "      <td>2.164353</td>\n",
       "    </tr>\n",
       "    <tr>\n",
       "      <th>982</th>\n",
       "      <td>802.0</td>\n",
       "      <td>1080.0</td>\n",
       "      <td>79400.0</td>\n",
       "      <td>2.79</td>\n",
       "      <td>-2.110289</td>\n",
       "      <td>4.899821</td>\n",
       "      <td>0.445604</td>\n",
       "    </tr>\n",
       "    <tr>\n",
       "      <th>983</th>\n",
       "      <td>802.0</td>\n",
       "      <td>1080.0</td>\n",
       "      <td>100000.0</td>\n",
       "      <td>13.30</td>\n",
       "      <td>-4.105592</td>\n",
       "      <td>5.000000</td>\n",
       "      <td>1.123852</td>\n",
       "    </tr>\n",
       "  </tbody>\n",
       "</table>\n",
       "<p>984 rows × 7 columns</p>\n",
       "</div>"
      ],
      "text/plain": [
       "        点号    测线位置        频率      电阻率           深度      频率对数     电阻率对数\n",
       "0    776.0   200.0      15.8  1960.00 -3965.057500  1.198657  3.292256\n",
       "1    776.0   200.0      20.0  1640.00 -3223.717100  1.301030  3.214844\n",
       "2    776.0   200.0      25.1  1360.00 -2620.490500  1.399674  3.133539\n",
       "3    776.0   200.0      31.6  1270.00 -2256.879200  1.499687  3.103804\n",
       "4    776.0   200.0      39.8   966.00 -1753.868500  1.599883  2.984977\n",
       "..     ...     ...       ...      ...          ...       ...       ...\n",
       "979  802.0  1080.0    5010.0    22.40   -23.804285  3.699838  1.350248\n",
       "980  802.0  1080.0   20000.0   263.00   -40.823748  4.301030  2.419956\n",
       "981  802.0  1080.0   63100.0   146.00   -17.124257  4.800029  2.164353\n",
       "982  802.0  1080.0   79400.0     2.79    -2.110289  4.899821  0.445604\n",
       "983  802.0  1080.0  100000.0    13.30    -4.105592  5.000000  1.123852\n",
       "\n",
       "[984 rows x 7 columns]"
      ]
     },
     "execution_count": 24,
     "metadata": {},
     "output_type": "execute_result"
    }
   ],
   "source": [
    "# 读取数据文件\n",
    "res = pd.read_csv(file, header = None, sep = '\\s+',\n",
    "                 names = ['点号', '测线位置', '频率', '电阻率', '深度', '频率对数', '电阻率对数'])\n",
    "res"
   ]
  },
  {
   "cell_type": "code",
   "execution_count": 5,
   "metadata": {},
   "outputs": [],
   "source": [
    "# 查看第 776 号测点的数据\n",
    "rho_776 = res[res['点号'] == 776]"
   ]
  },
  {
   "cell_type": "code",
   "execution_count": 6,
   "metadata": {},
   "outputs": [
    {
     "data": {
      "text/plain": [
       "27"
      ]
     },
     "execution_count": 6,
     "metadata": {},
     "output_type": "execute_result"
    }
   ],
   "source": [
    "# 删除重复的点号，查看测深点个数\n",
    "point = res['点号'].drop_duplicates()\n",
    "len(point)"
   ]
  },
  {
   "cell_type": "code",
   "execution_count": 7,
   "metadata": {},
   "outputs": [
    {
     "data": {
      "text/plain": [
       "0      776.0\n",
       "34     777.0\n",
       "72     778.0\n",
       "104    779.0\n",
       "141    780.0\n",
       "Name: 点号, dtype: float64"
      ]
     },
     "execution_count": 7,
     "metadata": {},
     "output_type": "execute_result"
    }
   ],
   "source": [
    "point.head()"
   ]
  },
  {
   "cell_type": "code",
   "execution_count": 8,
   "metadata": {},
   "outputs": [
    {
     "data": {
      "text/plain": [
       "34"
      ]
     },
     "execution_count": 8,
     "metadata": {},
     "output_type": "execute_result"
    }
   ],
   "source": [
    "# 取 776 号测点的电阻率\n",
    "len(rho_776)"
   ]
  },
  {
   "cell_type": "code",
   "execution_count": null,
   "metadata": {},
   "outputs": [],
   "source": []
  },
  {
   "cell_type": "markdown",
   "metadata": {},
   "source": [
    "获取 TE 极化模式下的相位"
   ]
  },
  {
   "cell_type": "code",
   "execution_count": 9,
   "metadata": {},
   "outputs": [],
   "source": [
    "file_phi = r'F:\\毕业论文\\数据文件\\各隧道数据\\z776802\\TE_phi.dat'"
   ]
  },
  {
   "cell_type": "code",
   "execution_count": 10,
   "metadata": {},
   "outputs": [
    {
     "data": {
      "text/html": [
       "<div>\n",
       "<style scoped>\n",
       "    .dataframe tbody tr th:only-of-type {\n",
       "        vertical-align: middle;\n",
       "    }\n",
       "\n",
       "    .dataframe tbody tr th {\n",
       "        vertical-align: top;\n",
       "    }\n",
       "\n",
       "    .dataframe thead th {\n",
       "        text-align: right;\n",
       "    }\n",
       "</style>\n",
       "<table border=\"1\" class=\"dataframe\">\n",
       "  <thead>\n",
       "    <tr style=\"text-align: right;\">\n",
       "      <th></th>\n",
       "      <th>点号</th>\n",
       "      <th>测线位置</th>\n",
       "      <th>频率</th>\n",
       "      <th>相位</th>\n",
       "      <th>相位对数</th>\n",
       "    </tr>\n",
       "  </thead>\n",
       "  <tbody>\n",
       "    <tr>\n",
       "      <th>0</th>\n",
       "      <td>776.0</td>\n",
       "      <td>200.0</td>\n",
       "      <td>12.6</td>\n",
       "      <td>0.0</td>\n",
       "      <td>1.100370</td>\n",
       "    </tr>\n",
       "    <tr>\n",
       "      <th>1</th>\n",
       "      <td>776.0</td>\n",
       "      <td>200.0</td>\n",
       "      <td>15.8</td>\n",
       "      <td>35.3</td>\n",
       "      <td>1.198657</td>\n",
       "    </tr>\n",
       "    <tr>\n",
       "      <th>2</th>\n",
       "      <td>776.0</td>\n",
       "      <td>200.0</td>\n",
       "      <td>20.0</td>\n",
       "      <td>32.8</td>\n",
       "      <td>1.301030</td>\n",
       "    </tr>\n",
       "    <tr>\n",
       "      <th>3</th>\n",
       "      <td>776.0</td>\n",
       "      <td>200.0</td>\n",
       "      <td>25.1</td>\n",
       "      <td>32.9</td>\n",
       "      <td>1.399674</td>\n",
       "    </tr>\n",
       "    <tr>\n",
       "      <th>4</th>\n",
       "      <td>776.0</td>\n",
       "      <td>200.0</td>\n",
       "      <td>31.6</td>\n",
       "      <td>33.6</td>\n",
       "      <td>1.499687</td>\n",
       "    </tr>\n",
       "    <tr>\n",
       "      <th>...</th>\n",
       "      <td>...</td>\n",
       "      <td>...</td>\n",
       "      <td>...</td>\n",
       "      <td>...</td>\n",
       "      <td>...</td>\n",
       "    </tr>\n",
       "    <tr>\n",
       "      <th>1561</th>\n",
       "      <td>802.0</td>\n",
       "      <td>1080.0</td>\n",
       "      <td>2510000.0</td>\n",
       "      <td>0.0</td>\n",
       "      <td>6.399674</td>\n",
       "    </tr>\n",
       "    <tr>\n",
       "      <th>1562</th>\n",
       "      <td>802.0</td>\n",
       "      <td>1080.0</td>\n",
       "      <td>3160000.0</td>\n",
       "      <td>0.0</td>\n",
       "      <td>6.499687</td>\n",
       "    </tr>\n",
       "    <tr>\n",
       "      <th>1563</th>\n",
       "      <td>802.0</td>\n",
       "      <td>1080.0</td>\n",
       "      <td>3980000.0</td>\n",
       "      <td>0.0</td>\n",
       "      <td>6.599883</td>\n",
       "    </tr>\n",
       "    <tr>\n",
       "      <th>1564</th>\n",
       "      <td>802.0</td>\n",
       "      <td>1080.0</td>\n",
       "      <td>5010000.0</td>\n",
       "      <td>0.0</td>\n",
       "      <td>6.699838</td>\n",
       "    </tr>\n",
       "    <tr>\n",
       "      <th>1565</th>\n",
       "      <td>802.0</td>\n",
       "      <td>1080.0</td>\n",
       "      <td>6310000.0</td>\n",
       "      <td>0.0</td>\n",
       "      <td>6.800029</td>\n",
       "    </tr>\n",
       "  </tbody>\n",
       "</table>\n",
       "<p>1566 rows × 5 columns</p>\n",
       "</div>"
      ],
      "text/plain": [
       "         点号    测线位置         频率    相位      相位对数\n",
       "0     776.0   200.0       12.6   0.0  1.100370\n",
       "1     776.0   200.0       15.8  35.3  1.198657\n",
       "2     776.0   200.0       20.0  32.8  1.301030\n",
       "3     776.0   200.0       25.1  32.9  1.399674\n",
       "4     776.0   200.0       31.6  33.6  1.499687\n",
       "...     ...     ...        ...   ...       ...\n",
       "1561  802.0  1080.0  2510000.0   0.0  6.399674\n",
       "1562  802.0  1080.0  3160000.0   0.0  6.499687\n",
       "1563  802.0  1080.0  3980000.0   0.0  6.599883\n",
       "1564  802.0  1080.0  5010000.0   0.0  6.699838\n",
       "1565  802.0  1080.0  6310000.0   0.0  6.800029\n",
       "\n",
       "[1566 rows x 5 columns]"
      ]
     },
     "execution_count": 10,
     "metadata": {},
     "output_type": "execute_result"
    }
   ],
   "source": [
    "# 读取数据文件\n",
    "phi = pd.read_csv(file_phi, header = None, sep = '\\s+',\n",
    "                 names = ['点号', '测线位置', '频率', '相位', '相位对数'])\n",
    "phi"
   ]
  },
  {
   "cell_type": "code",
   "execution_count": 11,
   "metadata": {},
   "outputs": [],
   "source": [
    "phi_776 = phi[phi.点号 == 776]"
   ]
  },
  {
   "cell_type": "code",
   "execution_count": 12,
   "metadata": {},
   "outputs": [],
   "source": [
    "# 将两组数据拼接起来\n",
    "data = pd.merge(rho_776, phi_776)\n",
    "data = data.drop(['深度', '频率对数', '电阻率对数', '相位对数', '测线位置'], axis = 1)"
   ]
  },
  {
   "cell_type": "code",
   "execution_count": 13,
   "metadata": {},
   "outputs": [
    {
     "data": {
      "text/html": [
       "<div>\n",
       "<style scoped>\n",
       "    .dataframe tbody tr th:only-of-type {\n",
       "        vertical-align: middle;\n",
       "    }\n",
       "\n",
       "    .dataframe tbody tr th {\n",
       "        vertical-align: top;\n",
       "    }\n",
       "\n",
       "    .dataframe thead th {\n",
       "        text-align: right;\n",
       "    }\n",
       "</style>\n",
       "<table border=\"1\" class=\"dataframe\">\n",
       "  <thead>\n",
       "    <tr style=\"text-align: right;\">\n",
       "      <th></th>\n",
       "      <th>点号</th>\n",
       "      <th>频率</th>\n",
       "      <th>电阻率</th>\n",
       "      <th>相位</th>\n",
       "    </tr>\n",
       "  </thead>\n",
       "  <tbody>\n",
       "    <tr>\n",
       "      <th>0</th>\n",
       "      <td>776.0</td>\n",
       "      <td>15.8</td>\n",
       "      <td>1960.0</td>\n",
       "      <td>35.3</td>\n",
       "    </tr>\n",
       "    <tr>\n",
       "      <th>1</th>\n",
       "      <td>776.0</td>\n",
       "      <td>20.0</td>\n",
       "      <td>1640.0</td>\n",
       "      <td>32.8</td>\n",
       "    </tr>\n",
       "    <tr>\n",
       "      <th>2</th>\n",
       "      <td>776.0</td>\n",
       "      <td>25.1</td>\n",
       "      <td>1360.0</td>\n",
       "      <td>32.9</td>\n",
       "    </tr>\n",
       "    <tr>\n",
       "      <th>3</th>\n",
       "      <td>776.0</td>\n",
       "      <td>31.6</td>\n",
       "      <td>1270.0</td>\n",
       "      <td>33.6</td>\n",
       "    </tr>\n",
       "    <tr>\n",
       "      <th>4</th>\n",
       "      <td>776.0</td>\n",
       "      <td>39.8</td>\n",
       "      <td>966.0</td>\n",
       "      <td>32.5</td>\n",
       "    </tr>\n",
       "  </tbody>\n",
       "</table>\n",
       "</div>"
      ],
      "text/plain": [
       "      点号    频率     电阻率    相位\n",
       "0  776.0  15.8  1960.0  35.3\n",
       "1  776.0  20.0  1640.0  32.8\n",
       "2  776.0  25.1  1360.0  32.9\n",
       "3  776.0  31.6  1270.0  33.6\n",
       "4  776.0  39.8   966.0  32.5"
      ]
     },
     "execution_count": 13,
     "metadata": {},
     "output_type": "execute_result"
    }
   ],
   "source": [
    "data.head()"
   ]
  },
  {
   "cell_type": "code",
   "execution_count": 14,
   "metadata": {},
   "outputs": [
    {
     "data": {
      "image/png": "[encoded data removed]",
      "text/plain": [
       "<Figure size 432x288 with 2 Axes>"
      ]
     },
     "metadata": {
      "needs_background": "light"
     },
     "output_type": "display_data"
    }
   ],
   "source": [
    "f = data.频率\n",
    "rho = data.电阻率\n",
    "phi = data.相位\n",
    "\n",
    "plt.subplot(211)\n",
    "plt.plot(f,rho, 'k', linewidth = 0.8)\n",
    "plt.semilogx()\n",
    "plt.title('real data')\n",
    "plt.ylabel(r'$\\rho/\\Omega\\cdot m$')\n",
    "plt.grid()\n",
    "\n",
    "plt.subplot(212)\n",
    "plt.plot(f,phi, 'k', linewidth = 0.8)\n",
    "plt.semilogx()\n",
    "plt.ylabel(r'phase/°')\n",
    "plt.grid()"
   ]
  },
  {
   "cell_type": "markdown",
   "metadata": {},
   "source": [
    "**Bostic 反演公式**\n",
    "\n",
    "$$H = \\sqrt{\\frac{\\rho_a}{\\omega\\mu}}$$\n",
    "\n",
    "$$\\rho(H) = \\rho_a(\\omega)(\\frac{\\pi}{2\\varphi(\\omega)}-1)$$"
   ]
  },
  {
   "cell_type": "code",
   "execution_count": 15,
   "metadata": {},
   "outputs": [],
   "source": [
    "# 定义 bostick 反演函数\n",
    "def bostick(T, rho_a, ph):\n",
    "    mu = np.pi*(4e-7)\n",
    "    D = np.sqrt((rho_a*T)/(2*np.pi*mu))\n",
    "    rho_h = rho_a*(180/(2*ph)-1)\n",
    "    return D, rho_h"
   ]
  },
  {
   "cell_type": "code",
   "execution_count": 16,
   "metadata": {},
   "outputs": [],
   "source": [
    "inv = []\n",
    "for i in range(len(f)):\n",
    "    T = 1/f[i]\n",
    "    rho_a = data.电阻率[i]\n",
    "    ph = data.相位[i]\n",
    "    inv.append(bostick(T, rho_a, ph))"
   ]
  },
  {
   "cell_type": "code",
   "execution_count": 17,
   "metadata": {},
   "outputs": [],
   "source": [
    "inv = pd.DataFrame(inv, columns = ['depth', 'rho'])\n",
    "inv = inv.sort_values(by='depth')"
   ]
  },
  {
   "cell_type": "code",
   "execution_count": 18,
   "metadata": {},
   "outputs": [
    {
     "data": {
      "text/plain": [
       "Text(0, 0.5, '$\\\\rho /\\\\Omega\\\\cdot m$')"
      ]
     },
     "execution_count": 18,
     "metadata": {},
     "output_type": "execute_result"
    },
    {
     "data": {
      "image/png": "[encoded data removed]",
      "text/plain": [
       "<Figure size 432x288 with 1 Axes>"
      ]
     },
     "metadata": {
      "needs_background": "light"
     },
     "output_type": "display_data"
    }
   ],
   "source": [
    "plt.plot(inv.depth, inv.rho, 'k', linewidth = 0.8)\n",
    "plt.loglog()\n",
    "plt.grid()\n",
    "plt.title('inversion result')\n",
    "plt.xlabel('depth/m')\n",
    "plt.ylabel(r'$\\rho /\\Omega\\cdot m$')"
   ]
  },
  {
   "cell_type": "code",
   "execution_count": 19,
   "metadata": {},
   "outputs": [
    {
     "data": {
      "text/html": [
       "<div>\n",
       "<style scoped>\n",
       "    .dataframe tbody tr th:only-of-type {\n",
       "        vertical-align: middle;\n",
       "    }\n",
       "\n",
       "    .dataframe tbody tr th {\n",
       "        vertical-align: top;\n",
       "    }\n",
       "\n",
       "    .dataframe thead th {\n",
       "        text-align: right;\n",
       "    }\n",
       "</style>\n",
       "<table border=\"1\" class=\"dataframe\">\n",
       "  <thead>\n",
       "    <tr style=\"text-align: right;\">\n",
       "      <th></th>\n",
       "      <th>depth</th>\n",
       "      <th>rho</th>\n",
       "    </tr>\n",
       "  </thead>\n",
       "  <tbody>\n",
       "    <tr>\n",
       "      <th>32</th>\n",
       "      <td>7.110899</td>\n",
       "      <td>0.720455</td>\n",
       "    </tr>\n",
       "    <tr>\n",
       "      <th>33</th>\n",
       "      <td>18.354643</td>\n",
       "      <td>21.394958</td>\n",
       "    </tr>\n",
       "    <tr>\n",
       "      <th>29</th>\n",
       "      <td>35.812660</td>\n",
       "      <td>263.529412</td>\n",
       "    </tr>\n",
       "    <tr>\n",
       "      <th>31</th>\n",
       "      <td>43.065197</td>\n",
       "      <td>464.313856</td>\n",
       "    </tr>\n",
       "    <tr>\n",
       "      <th>28</th>\n",
       "      <td>53.618920</td>\n",
       "      <td>335.809917</td>\n",
       "    </tr>\n",
       "  </tbody>\n",
       "</table>\n",
       "</div>"
      ],
      "text/plain": [
       "        depth         rho\n",
       "32   7.110899    0.720455\n",
       "33  18.354643   21.394958\n",
       "29  35.812660  263.529412\n",
       "31  43.065197  464.313856\n",
       "28  53.618920  335.809917"
      ]
     },
     "execution_count": 19,
     "metadata": {},
     "output_type": "execute_result"
    }
   ],
   "source": [
    "inv.head()"
   ]
  },
  {
   "cell_type": "code",
   "execution_count": 20,
   "metadata": {},
   "outputs": [],
   "source": [
    "# 定义正演函数\n",
    "def mt1d_fwd(T, rho, h):\n",
    "    mu = (4e-7)*np.pi\n",
    "    # T = np.logspace(-3, 4, 40)\n",
    "    m = len(rho) # 层数\n",
    "    \n",
    "    k = np.zeros((len(rho), len(T)), dtype = np.complex)\n",
    "    for i in range(len(rho)):\n",
    "        k[i] = np.sqrt((-1j*2*np.pi*mu)/(T*rho[i]))\n",
    "        \n",
    "    Z = -(1j*2*mu*np.pi)/(T*k[m-1]) # python 的索引从 0 开始\n",
    "    layer = np.arange(m-1, 0, -1) # np.arange() 不包含 stop 参数\n",
    "    for n in layer:\n",
    "        A = -(1j*mu*2*np.pi)/(T*k[n-1])\n",
    "        B = np.exp(-2*k[n-1]*h[n-1])\n",
    "        Z = A*(A*(1-B)+Z*(1+B))/(A*(1+B)+Z*(1-B))\n",
    "    \n",
    "    rho_a = (T/(mu*2*np.pi))*(np.abs(Z)**2)\n",
    "    phase = -np.arctan(Z.real/Z.imag)*180/np.pi\n",
    "    return [rho_a, phase]"
   ]
  },
  {
   "cell_type": "code",
   "execution_count": 21,
   "metadata": {},
   "outputs": [],
   "source": [
    "rho_a = inv.rho\n",
    "h = np.diff(inv.depth)\n",
    "T = np.array(1/f)\n",
    "rho_a, phase = mt1d_fwd(T, rho_a, h)"
   ]
  },
  {
   "cell_type": "code",
   "execution_count": 22,
   "metadata": {},
   "outputs": [
    {
     "data": {
      "text/plain": [
       "[]"
      ]
     },
     "execution_count": 22,
     "metadata": {},
     "output_type": "execute_result"
    },
    {
     "data": {
      "image/png": "[encoded data removed]",
      "text/plain": [
       "<Figure size 432x288 with 1 Axes>"
      ]
     },
     "metadata": {
      "needs_background": "light"
     },
     "output_type": "display_data"
    }
   ],
   "source": [
    "plt.plot(f, rho_a, 'r-.', linewidth = 0.8, label = 'fwd')\n",
    "plt.plot(f,rho, 'k', linewidth = 0.8, label = 'real')\n",
    "plt.grid()\n",
    "plt.legend()\n",
    "plt.semilogx()"
   ]
  },
  {
   "cell_type": "code",
   "execution_count": 23,
   "metadata": {},
   "outputs": [
    {
     "data": {
      "text/plain": [
       "array([6.32911392e-02, 5.00000000e-02, 3.98406375e-02, 3.16455696e-02,\n",
       "       2.51256281e-02, 1.99600798e-02, 1.58478605e-02, 1.25944584e-02,\n",
       "       1.00000000e-02, 7.93650794e-03, 6.32911392e-03, 5.00000000e-03,\n",
       "       3.98406375e-03, 3.16455696e-03, 2.51256281e-03, 1.99600798e-03,\n",
       "       1.58478605e-03, 1.25944584e-03, 1.00000000e-03, 7.93650794e-04,\n",
       "       6.32911392e-04, 5.00000000e-04, 3.98406375e-04, 3.16455696e-04,\n",
       "       2.51256281e-04, 1.99600798e-04, 1.58478605e-04, 1.25944584e-04,\n",
       "       1.00000000e-04, 6.32911392e-05, 5.00000000e-05, 1.58478605e-05,\n",
       "       1.25944584e-05, 1.00000000e-05])"
      ]
     },
     "execution_count": 23,
     "metadata": {},
     "output_type": "execute_result"
    }
   ],
   "source": [
    "T"
   ]
  }
 ],
 "metadata": {
  "kernelspec": {
   "display_name": "Python 3",
   "language": "python",
   "name": "python3"
  },
  "language_info": {
   "codemirror_mode": {
    "name": "ipython",
    "version": 3
   },
   "file_extension": ".py",
   "mimetype": "text/x-python",
   "name": "python",
   "nbconvert_exporter": "python",
   "pygments_lexer": "ipython3",
   "version": "3.8.3"
  }
 },
 "nbformat": 4,
 "nbformat_minor": 4
}
