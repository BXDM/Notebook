{
 "cells": [
  {
   "cell_type": "markdown",
   "metadata": {},
   "source": [
    "目录\n",
    "- Basic functions\n",
    "- Special functions (scipy.special)\t\t特使函数\n",
    "- Integration (scipy.integrate)\t\t积分\n",
    "- Optimization (scipy.optimize)\t\t优化\n",
    "- Interpolation (scipy.interpolate)\t\t插值\n",
    "- Fourier Transforms (scipy.fft)\t傅里叶变换\n",
    "- Signal Processing (scipy.signal)\t信号处理\n",
    "- Linear Algebra (scipy.linalg)\t\t线性代数\n",
    "- Sparse eigenvalue problems with ARPACK\t稀疏特征值问题\n",
    "- Compressed Sparse Graph Routines (scipy.sparse.csgraph)\t\n",
    "- Spatial data structures and algorithms (scipy.spatial)  空间数据结构与算法\n",
    "- Statistics (scipy.stats)\t\t统计\n",
    "- Multidimensional image processing (scipy.ndimage)\t\t多维度图像处理\n",
    "- File IO (scipy.io)"
   ]
  },
  {
   "cell_type": "code",
   "execution_count": null,
   "metadata": {},
   "outputs": [],
   "source": []
  }
 ],
 "metadata": {
  "kernelspec": {
   "display_name": "Python 3",
   "language": "python",
   "name": "python3"
  },
  "language_info": {
   "codemirror_mode": {
    "name": "ipython",
    "version": 3
   },
   "file_extension": ".py",
   "mimetype": "text/x-python",
   "name": "python",
   "nbconvert_exporter": "python",
   "pygments_lexer": "ipython3",
   "version": "3.8.0"
  }
 },
 "nbformat": 4,
 "nbformat_minor": 4
}
