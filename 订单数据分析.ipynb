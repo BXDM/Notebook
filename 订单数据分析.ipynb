{
 "cells": [
  {
   "cell_type": "markdown",
   "id": "written-drill",
   "metadata": {},
   "source": [
    "资料来源:[]()"
   ]
  },
  {
   "cell_type": "code",
   "execution_count": null,
   "id": "dutch-timothy",
   "metadata": {},
   "outputs": [],
   "source": []
  }
 ],
 "metadata": {
  "kernelspec": {
   "display_name": "Python 3",
   "language": "python",
   "name": "python3"
  },
  "language_info": {
   "codemirror_mode": {
    "name": "ipython",
    "version": 3
   },
   "file_extension": ".py",
   "mimetype": "text/x-python",
   "name": "python",
   "nbconvert_exporter": "python",
   "pygments_lexer": "ipython3",
   "version": "3.9.2"
  }
 },
 "nbformat": 4,
 "nbformat_minor": 5
}
