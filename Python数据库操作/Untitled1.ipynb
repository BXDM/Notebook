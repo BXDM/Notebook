{
 "cells": [
  {
   "cell_type": "code",
   "execution_count": 1,
   "id": "affected-sacrifice",
   "metadata": {},
   "outputs": [],
   "source": [
    "# 学生信息管理系统"
   ]
  },
  {
   "cell_type": "markdown",
   "id": "enabling-charm",
   "metadata": {},
   "source": [
    "参考资料：[Python实现数据库——学生信息管理系统](https://blog.csdn.net/ur_ytii/article/details/112717816?utm_medium=distribute.wap_relevant.none-task-blog-baidujs_baidulandingword-4)"
   ]
  },
  {
   "cell_type": "code",
   "execution_count": 10,
   "id": "broadband-landing",
   "metadata": {},
   "outputs": [
    {
     "name": "stdout",
     "output_type": "stream",
     "text": [
      "请输入料号：小松鼠\n",
      "小松鼠\n"
     ]
    }
   ],
   "source": [
    "a = input('请输入料号：')\n",
    "print(a)"
   ]
  },
  {
   "cell_type": "code",
   "execution_count": 6,
   "id": "banned-illustration",
   "metadata": {},
   "outputs": [
    {
     "data": {
      "text/plain": [
       "'HHPN'"
      ]
     },
     "execution_count": 6,
     "metadata": {},
     "output_type": "execute_result"
    }
   ],
   "source": [
    "a"
   ]
  }
 ],
 "metadata": {
  "kernelspec": {
   "display_name": "Python 3",
   "language": "python",
   "name": "python3"
  },
  "language_info": {
   "codemirror_mode": {
    "name": "ipython",
    "version": 3
   },
   "file_extension": ".py",
   "mimetype": "text/x-python",
   "name": "python",
   "nbconvert_exporter": "python",
   "pygments_lexer": "ipython3",
   "version": "3.9.2"
  }
 },
 "nbformat": 4,
 "nbformat_minor": 5
}
