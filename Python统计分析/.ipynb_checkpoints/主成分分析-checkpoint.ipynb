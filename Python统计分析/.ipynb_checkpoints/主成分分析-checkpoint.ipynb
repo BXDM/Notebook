{
 "cells": [
  {
   "cell_type": "markdown",
   "metadata": {},
   "source": [
    "《Python 数据分析基础第二版》 P328"
   ]
  },
  {
   "cell_type": "code",
   "execution_count": 6,
   "metadata": {},
   "outputs": [
    {
     "ename": "ImportError",
     "evalue": "cannot import name 'PCA' from 'matplotlib.mlab' (c:\\users\\bxdm\\appdata\\local\\programs\\python\\python38\\lib\\site-packages\\matplotlib\\mlab.py)",
     "output_type": "error",
     "traceback": [
      "\u001b[1;31m---------------------------------------------------------------------------\u001b[0m",
      "\u001b[1;31mImportError\u001b[0m                               Traceback (most recent call last)",
      "\u001b[1;32m<ipython-input-6-ec57dddd1142>\u001b[0m in \u001b[0;36m<module>\u001b[1;34m\u001b[0m\n\u001b[0;32m      1\u001b[0m \u001b[1;32mimport\u001b[0m \u001b[0mpandas\u001b[0m \u001b[1;32mas\u001b[0m \u001b[0mpd\u001b[0m\u001b[1;33m\u001b[0m\u001b[1;33m\u001b[0m\u001b[0m\n\u001b[0;32m      2\u001b[0m \u001b[1;32mimport\u001b[0m \u001b[0mnumpy\u001b[0m  \u001b[1;32mas\u001b[0m \u001b[0mnp\u001b[0m\u001b[1;33m\u001b[0m\u001b[1;33m\u001b[0m\u001b[0m\n\u001b[1;32m----> 3\u001b[1;33m \u001b[1;32mfrom\u001b[0m \u001b[0mmatplotlib\u001b[0m\u001b[1;33m.\u001b[0m\u001b[0mmlab\u001b[0m \u001b[1;32mimport\u001b[0m \u001b[0mPCA\u001b[0m \u001b[1;32mas\u001b[0m \u001b[0mmlabPCA\u001b[0m\u001b[1;33m\u001b[0m\u001b[1;33m\u001b[0m\u001b[0m\n\u001b[0m",
      "\u001b[1;31mImportError\u001b[0m: cannot import name 'PCA' from 'matplotlib.mlab' (c:\\users\\bxdm\\appdata\\local\\programs\\python\\python38\\lib\\site-packages\\matplotlib\\mlab.py)"
     ]
    }
   ],
   "source": [
    "import pandas as pd\n",
    "import numpy  as np\n",
    "from matplotlib.mlab import PCA as mlabPCA"
   ]
  },
  {
   "cell_type": "code",
   "execution_count": 2,
   "metadata": {},
   "outputs": [],
   "source": [
    "file = r\"F:\\Python\\Notebook\\Python数据分析\\Python数据分析基础\\ch12\\live.csv\""
   ]
  },
  {
   "cell_type": "code",
   "execution_count": 4,
   "metadata": {},
   "outputs": [],
   "source": [
    "live = pd.read_csv(file, encoding = \"gb2312\")"
   ]
  },
  {
   "cell_type": "code",
   "execution_count": 5,
   "metadata": {},
   "outputs": [
    {
     "data": {
      "text/html": [
       "<div>\n",
       "<style scoped>\n",
       "    .dataframe tbody tr th:only-of-type {\n",
       "        vertical-align: middle;\n",
       "    }\n",
       "\n",
       "    .dataframe tbody tr th {\n",
       "        vertical-align: top;\n",
       "    }\n",
       "\n",
       "    .dataframe thead th {\n",
       "        text-align: right;\n",
       "    }\n",
       "</style>\n",
       "<table border=\"1\" class=\"dataframe\">\n",
       "  <thead>\n",
       "    <tr style=\"text-align: right;\">\n",
       "      <th></th>\n",
       "      <th>District</th>\n",
       "      <th>GDP</th>\n",
       "      <th>Income</th>\n",
       "      <th>Consumption</th>\n",
       "      <th>Employment</th>\n",
       "      <th>Education</th>\n",
       "      <th>Health</th>\n",
       "      <th>Life</th>\n",
       "    </tr>\n",
       "  </thead>\n",
       "  <tbody>\n",
       "    <tr>\n",
       "      <th>0</th>\n",
       "      <td>北京</td>\n",
       "      <td>45444</td>\n",
       "      <td>17652.95</td>\n",
       "      <td>13244.20</td>\n",
       "      <td>0.3937</td>\n",
       "      <td>584.43</td>\n",
       "      <td>1295.76</td>\n",
       "      <td>76.10</td>\n",
       "    </tr>\n",
       "    <tr>\n",
       "      <th>1</th>\n",
       "      <td>山西</td>\n",
       "      <td>12495</td>\n",
       "      <td>8913.91</td>\n",
       "      <td>6342.63</td>\n",
       "      <td>0.2554</td>\n",
       "      <td>548.83</td>\n",
       "      <td>538.70</td>\n",
       "      <td>71.65</td>\n",
       "    </tr>\n",
       "    <tr>\n",
       "      <th>2</th>\n",
       "      <td>内蒙古</td>\n",
       "      <td>16331</td>\n",
       "      <td>9136.79</td>\n",
       "      <td>6928.60</td>\n",
       "      <td>0.2158</td>\n",
       "      <td>504.77</td>\n",
       "      <td>533.36</td>\n",
       "      <td>69.87</td>\n",
       "    </tr>\n",
       "    <tr>\n",
       "      <th>3</th>\n",
       "      <td>吉林</td>\n",
       "      <td>13348</td>\n",
       "      <td>8690.62</td>\n",
       "      <td>6794.71</td>\n",
       "      <td>0.1836</td>\n",
       "      <td>502.08</td>\n",
       "      <td>675.77</td>\n",
       "      <td>73.10</td>\n",
       "    </tr>\n",
       "    <tr>\n",
       "      <th>4</th>\n",
       "      <td>黑龙江</td>\n",
       "      <td>14434</td>\n",
       "      <td>8272.51</td>\n",
       "      <td>6178.01</td>\n",
       "      <td>0.2418</td>\n",
       "      <td>479.85</td>\n",
       "      <td>613.15</td>\n",
       "      <td>72.37</td>\n",
       "    </tr>\n",
       "  </tbody>\n",
       "</table>\n",
       "</div>"
      ],
      "text/plain": [
       "  District    GDP    Income  Consumption  Employment  Education   Health  \\\n",
       "0       北京  45444  17652.95     13244.20      0.3937     584.43  1295.76   \n",
       "1       山西  12495   8913.91      6342.63      0.2554     548.83   538.70   \n",
       "2      内蒙古  16331   9136.79      6928.60      0.2158     504.77   533.36   \n",
       "3       吉林  13348   8690.62      6794.71      0.1836     502.08   675.77   \n",
       "4      黑龙江  14434   8272.51      6178.01      0.2418     479.85   613.15   \n",
       "\n",
       "    Life  \n",
       "0  76.10  \n",
       "1  71.65  \n",
       "2  69.87  \n",
       "3  73.10  \n",
       "4  72.37  "
      ]
     },
     "execution_count": 5,
     "metadata": {},
     "output_type": "execute_result"
    }
   ],
   "source": [
    "live.head()"
   ]
  },
  {
   "cell_type": "code",
   "execution_count": 13,
   "metadata": {},
   "outputs": [],
   "source": [
    "x = live.iloc[:,1 :8]\n",
    "# 去除第一列省名， 留下 7 个变量"
   ]
  },
  {
   "cell_type": "code",
   "execution_count": 16,
   "metadata": {},
   "outputs": [
    {
     "data": {
      "text/html": [
       "<div>\n",
       "<style scoped>\n",
       "    .dataframe tbody tr th:only-of-type {\n",
       "        vertical-align: middle;\n",
       "    }\n",
       "\n",
       "    .dataframe tbody tr th {\n",
       "        vertical-align: top;\n",
       "    }\n",
       "\n",
       "    .dataframe thead th {\n",
       "        text-align: right;\n",
       "    }\n",
       "</style>\n",
       "<table border=\"1\" class=\"dataframe\">\n",
       "  <thead>\n",
       "    <tr style=\"text-align: right;\">\n",
       "      <th></th>\n",
       "      <th>GDP</th>\n",
       "      <th>Income</th>\n",
       "      <th>Consumption</th>\n",
       "      <th>Employment</th>\n",
       "      <th>Education</th>\n",
       "      <th>Health</th>\n",
       "      <th>Life</th>\n",
       "    </tr>\n",
       "  </thead>\n",
       "  <tbody>\n",
       "    <tr>\n",
       "      <th>0</th>\n",
       "      <td>45444</td>\n",
       "      <td>17652.95</td>\n",
       "      <td>13244.20</td>\n",
       "      <td>0.3937</td>\n",
       "      <td>584.43</td>\n",
       "      <td>1295.76</td>\n",
       "      <td>76.10</td>\n",
       "    </tr>\n",
       "    <tr>\n",
       "      <th>1</th>\n",
       "      <td>12495</td>\n",
       "      <td>8913.91</td>\n",
       "      <td>6342.63</td>\n",
       "      <td>0.2554</td>\n",
       "      <td>548.83</td>\n",
       "      <td>538.70</td>\n",
       "      <td>71.65</td>\n",
       "    </tr>\n",
       "    <tr>\n",
       "      <th>2</th>\n",
       "      <td>16331</td>\n",
       "      <td>9136.79</td>\n",
       "      <td>6928.60</td>\n",
       "      <td>0.2158</td>\n",
       "      <td>504.77</td>\n",
       "      <td>533.36</td>\n",
       "      <td>69.87</td>\n",
       "    </tr>\n",
       "    <tr>\n",
       "      <th>3</th>\n",
       "      <td>13348</td>\n",
       "      <td>8690.62</td>\n",
       "      <td>6794.71</td>\n",
       "      <td>0.1836</td>\n",
       "      <td>502.08</td>\n",
       "      <td>675.77</td>\n",
       "      <td>73.10</td>\n",
       "    </tr>\n",
       "    <tr>\n",
       "      <th>4</th>\n",
       "      <td>14434</td>\n",
       "      <td>8272.51</td>\n",
       "      <td>6178.01</td>\n",
       "      <td>0.2418</td>\n",
       "      <td>479.85</td>\n",
       "      <td>613.15</td>\n",
       "      <td>72.37</td>\n",
       "    </tr>\n",
       "  </tbody>\n",
       "</table>\n",
       "</div>"
      ],
      "text/plain": [
       "     GDP    Income  Consumption  Employment  Education   Health   Life\n",
       "0  45444  17652.95     13244.20      0.3937     584.43  1295.76  76.10\n",
       "1  12495   8913.91      6342.63      0.2554     548.83   538.70  71.65\n",
       "2  16331   9136.79      6928.60      0.2158     504.77   533.36  69.87\n",
       "3  13348   8690.62      6794.71      0.1836     502.08   675.77  73.10\n",
       "4  14434   8272.51      6178.01      0.2418     479.85   613.15  72.37"
      ]
     },
     "execution_count": 16,
     "metadata": {},
     "output_type": "execute_result"
    }
   ],
   "source": [
    "x.head()"
   ]
  },
  {
   "cell_type": "code",
   "execution_count": null,
   "metadata": {},
   "outputs": [],
   "source": []
  }
 ],
 "metadata": {
  "kernelspec": {
   "display_name": "Python 3",
   "language": "python",
   "name": "python3"
  },
  "language_info": {
   "codemirror_mode": {
    "name": "ipython",
    "version": 3
   },
   "file_extension": ".py",
   "mimetype": "text/x-python",
   "name": "python",
   "nbconvert_exporter": "python",
   "pygments_lexer": "ipython3",
   "version": "3.8.3"
  }
 },
 "nbformat": 4,
 "nbformat_minor": 4
}
