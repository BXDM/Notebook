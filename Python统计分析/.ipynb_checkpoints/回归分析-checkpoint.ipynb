{
 "cells": [
  {
   "cell_type": "markdown",
   "metadata": {},
   "source": [
    "页码：275"
   ]
  },
  {
   "cell_type": "markdown",
   "metadata": {},
   "source": [
    "- 线性回归\n",
    "- 非线性回归\n",
    "- 其他回归"
   ]
  },
  {
   "cell_type": "markdown",
   "metadata": {},
   "source": [
    "## 一、线性回归"
   ]
  },
  {
   "cell_type": "markdown",
   "metadata": {},
   "source": [
    "### 1.一元线性回归"
   ]
  },
  {
   "cell_type": "code",
   "execution_count": 3,
   "metadata": {},
   "outputs": [
    {
     "data": {
      "text/html": [
       "<div>\n",
       "<style scoped>\n",
       "    .dataframe tbody tr th:only-of-type {\n",
       "        vertical-align: middle;\n",
       "    }\n",
       "\n",
       "    .dataframe tbody tr th {\n",
       "        vertical-align: top;\n",
       "    }\n",
       "\n",
       "    .dataframe thead th {\n",
       "        text-align: right;\n",
       "    }\n",
       "</style>\n",
       "<table border=\"1\" class=\"dataframe\">\n",
       "  <thead>\n",
       "    <tr style=\"text-align: right;\">\n",
       "      <th></th>\n",
       "      <th>region</th>\n",
       "      <th>illiteracy</th>\n",
       "      <th>murder</th>\n",
       "    </tr>\n",
       "  </thead>\n",
       "  <tbody>\n",
       "    <tr>\n",
       "      <th>0</th>\n",
       "      <td>4</td>\n",
       "      <td>0.5</td>\n",
       "      <td>11.5</td>\n",
       "    </tr>\n",
       "    <tr>\n",
       "      <th>1</th>\n",
       "      <td>8</td>\n",
       "      <td>0.5</td>\n",
       "      <td>2.3</td>\n",
       "    </tr>\n",
       "    <tr>\n",
       "      <th>2</th>\n",
       "      <td>8</td>\n",
       "      <td>0.5</td>\n",
       "      <td>1.7</td>\n",
       "    </tr>\n",
       "    <tr>\n",
       "      <th>3</th>\n",
       "      <td>4</td>\n",
       "      <td>0.6</td>\n",
       "      <td>5.3</td>\n",
       "    </tr>\n",
       "    <tr>\n",
       "      <th>4</th>\n",
       "      <td>4</td>\n",
       "      <td>0.6</td>\n",
       "      <td>5.0</td>\n",
       "    </tr>\n",
       "  </tbody>\n",
       "</table>\n",
       "</div>"
      ],
      "text/plain": [
       "   region  illiteracy  murder\n",
       "0       4         0.5    11.5\n",
       "1       8         0.5     2.3\n",
       "2       8         0.5     1.7\n",
       "3       4         0.6     5.3\n",
       "4       4         0.6     5.0"
      ]
     },
     "execution_count": 3,
     "metadata": {},
     "output_type": "execute_result"
    }
   ],
   "source": [
    "# read data\n",
    "import pandas as pd\n",
    "murder = pd.read_csv(r'F:\\Python\\Notebook\\Python数据分析\\Python数据分析基础\\ch10\\murder.csv')\n",
    "murder.head()"
   ]
  },
  {
   "cell_type": "code",
   "execution_count": 4,
   "metadata": {},
   "outputs": [
    {
     "data": {
      "text/plain": [
       "<matplotlib.collections.PathCollection at 0x1d400670>"
      ]
     },
     "execution_count": 4,
     "metadata": {},
     "output_type": "execute_result"
    },
    {
     "data": {
      "image/png": "[encoded data removed]",
      "text/plain": [
       "<Figure size 432x288 with 1 Axes>"
      ]
     },
     "metadata": {
      "needs_background": "light"
     },
     "output_type": "display_data"
    }
   ],
   "source": [
    "# view the data\n",
    "import matplotlib.pyplot as plt\n",
    "x = murder['illiteracy']; y = murder['murder']\n",
    "plt.scatter(x, y, alpha = 0.5)"
   ]
  },
  {
   "cell_type": "code",
   "execution_count": 5,
   "metadata": {},
   "outputs": [
    {
     "data": {
      "text/plain": [
       "LinregressResult(slope=4.257456742653117, intercept=2.396775611095853, rvalue=0.7029751986841699, pvalue=1.2579116392501817e-08, stderr=0.6217132752343032)"
      ]
     },
     "execution_count": 5,
     "metadata": {},
     "output_type": "execute_result"
    }
   ],
   "source": [
    "# 使用stats.linregress 进行分析\n",
    "from scipy import stats \n",
    "murder_model1 = stats.linregress(x, y)\n",
    "murder_model1"
   ]
  },
  {
   "cell_type": "code",
   "execution_count": 6,
   "metadata": {},
   "outputs": [
    {
     "name": "stdout",
     "output_type": "stream",
     "text": [
      "r_square: 0.49417\n"
     ]
    }
   ],
   "source": [
    "print('r_square: %.5f' % murder_model1.rvalue**2)"
   ]
  },
  {
   "cell_type": "code",
   "execution_count": 7,
   "metadata": {},
   "outputs": [
    {
     "data": {
      "text/html": [
       "<table class=\"simpletable\">\n",
       "<tr>\n",
       "        <td>Model:</td>               <td>OLS</td>         <td>Adj. R-squared:</td>     <td>0.484</td> \n",
       "</tr>\n",
       "<tr>\n",
       "  <td>Dependent Variable:</td>      <td>murder</td>             <td>AIC:</td>         <td>241.4099</td>\n",
       "</tr>\n",
       "<tr>\n",
       "         <td>Date:</td>        <td>2020-05-04 18:38</td>        <td>BIC:</td>         <td>245.2340</td>\n",
       "</tr>\n",
       "<tr>\n",
       "   <td>No. Observations:</td>         <td>50</td>          <td>Log-Likelihood:</td>    <td>-118.70</td>\n",
       "</tr>\n",
       "<tr>\n",
       "       <td>Df Model:</td>              <td>1</td>           <td>F-statistic:</td>       <td>46.89</td> \n",
       "</tr>\n",
       "<tr>\n",
       "     <td>Df Residuals:</td>           <td>48</td>        <td>Prob (F-statistic):</td> <td>1.26e-08</td>\n",
       "</tr>\n",
       "<tr>\n",
       "      <td>R-squared:</td>            <td>0.494</td>            <td>Scale:</td>         <td>7.0367</td> \n",
       "</tr>\n",
       "</table>\n",
       "<table class=\"simpletable\">\n",
       "<tr>\n",
       "       <td></td>       <th>Coef.</th> <th>Std.Err.</th>    <th>t</th>    <th>P>|t|</th> <th>[0.025</th> <th>0.975]</th>\n",
       "</tr>\n",
       "<tr>\n",
       "  <th>Intercept</th>  <td>2.3968</td>  <td>0.8184</td>  <td>2.9285</td> <td>0.0052</td> <td>0.7512</td> <td>4.0424</td>\n",
       "</tr>\n",
       "<tr>\n",
       "  <th>illiteracy</th> <td>4.2575</td>  <td>0.6217</td>  <td>6.8479</td> <td>0.0000</td> <td>3.0074</td> <td>5.5075</td>\n",
       "</tr>\n",
       "</table>\n",
       "<table class=\"simpletable\">\n",
       "<tr>\n",
       "     <td>Omnibus:</td>    <td>0.452</td>  <td>Durbin-Watson:</td>   <td>2.000</td>\n",
       "</tr>\n",
       "<tr>\n",
       "  <td>Prob(Omnibus):</td> <td>0.798</td> <td>Jarque-Bera (JB):</td> <td>0.452</td>\n",
       "</tr>\n",
       "<tr>\n",
       "       <td>Skew:</td>     <td>0.210</td>     <td>Prob(JB):</td>     <td>0.798</td>\n",
       "</tr>\n",
       "<tr>\n",
       "     <td>Kurtosis:</td>   <td>2.797</td>  <td>Condition No.:</td>     <td>4</td>  \n",
       "</tr>\n",
       "</table>"
      ],
      "text/plain": [
       "<class 'statsmodels.iolib.summary2.Summary'>\n",
       "\"\"\"\n",
       "                 Results: Ordinary least squares\n",
       "=================================================================\n",
       "Model:              OLS              Adj. R-squared:     0.484   \n",
       "Dependent Variable: murder           AIC:                241.4099\n",
       "Date:               2020-05-04 18:38 BIC:                245.2340\n",
       "No. Observations:   50               Log-Likelihood:     -118.70 \n",
       "Df Model:           1                F-statistic:        46.89   \n",
       "Df Residuals:       48               Prob (F-statistic): 1.26e-08\n",
       "R-squared:          0.494            Scale:              7.0367  \n",
       "-------------------------------------------------------------------\n",
       "              Coef.    Std.Err.     t      P>|t|    [0.025   0.975]\n",
       "-------------------------------------------------------------------\n",
       "Intercept     2.3968     0.8184   2.9285   0.0052   0.7512   4.0424\n",
       "illiteracy    4.2575     0.6217   6.8479   0.0000   3.0074   5.5075\n",
       "-----------------------------------------------------------------\n",
       "Omnibus:              0.452        Durbin-Watson:           2.000\n",
       "Prob(Omnibus):        0.798        Jarque-Bera (JB):        0.452\n",
       "Skew:                 0.210        Prob(JB):                0.798\n",
       "Kurtosis:             2.797        Condition No.:           4    \n",
       "=================================================================\n",
       "\n",
       "\"\"\""
      ]
     },
     "execution_count": 7,
     "metadata": {},
     "output_type": "execute_result"
    }
   ],
   "source": [
    "# 使用 statsmodels 进行分析\n",
    "# 比 scipy 更详细\n",
    "from statsmodels.formula.api import ols\n",
    "formula = 'murder~illiteracy'\n",
    "murder_model2 = ols(formula, data = murder).fit()\n",
    "murder_model2.summary2()"
   ]
  },
  {
   "cell_type": "code",
   "execution_count": 10,
   "metadata": {},
   "outputs": [
    {
     "data": {
      "text/plain": [
       "(0.6152086826947935, 0.8811091720318109)"
      ]
     },
     "execution_count": 10,
     "metadata": {},
     "output_type": "execute_result"
    }
   ],
   "source": [
    "import statsmodels.api as sm\n",
    "sm.stats.diagnostic.linear_rainbow(murder_model2)"
   ]
  },
  {
   "cell_type": "code",
   "execution_count": 13,
   "metadata": {},
   "outputs": [
    {
     "data": {
      "image/png": "[encoded data removed]",
      "text/plain": [
       "<Figure size 432x288 with 1 Axes>"
      ]
     },
     "execution_count": 13,
     "metadata": {},
     "output_type": "execute_result"
    },
    {
     "data": {
      "image/png": "[encoded data removed]",
      "text/plain": [
       "<Figure size 432x288 with 1 Axes>"
      ]
     },
     "metadata": {
      "needs_background": "light"
     },
     "output_type": "display_data"
    }
   ],
   "source": [
    "# 绘制残差 QQ 图\n",
    "sm.qqplot(murder_model2.resid, fit = True, line = '45')"
   ]
  },
  {
   "cell_type": "code",
   "execution_count": 1,
   "metadata": {},
   "outputs": [
    {
     "ename": "NameError",
     "evalue": "name 'plt' is not defined",
     "output_type": "error",
     "traceback": [
      "\u001b[1;31m---------------------------------------------------------------------------\u001b[0m",
      "\u001b[1;31mNameError\u001b[0m                                 Traceback (most recent call last)",
      "\u001b[1;32m<ipython-input-1-bbac7608a618>\u001b[0m in \u001b[0;36m<module>\u001b[1;34m\u001b[0m\n\u001b[1;32m----> 1\u001b[1;33m \u001b[0mfig\u001b[0m \u001b[1;33m=\u001b[0m \u001b[0mplt\u001b[0m\u001b[1;33m.\u001b[0m\u001b[0mfigure\u001b[0m\u001b[1;33m(\u001b[0m\u001b[0mfigsize\u001b[0m \u001b[1;33m=\u001b[0m \u001b[1;33m(\u001b[0m\u001b[1;36m10\u001b[0m\u001b[1;33m,\u001b[0m \u001b[1;36m8\u001b[0m\u001b[1;33m)\u001b[0m\u001b[1;33m)\u001b[0m\u001b[1;33m\u001b[0m\u001b[1;33m\u001b[0m\u001b[0m\n\u001b[0m\u001b[0;32m      2\u001b[0m \u001b[1;32mfrom\u001b[0m \u001b[0mstatsmodels\u001b[0m\u001b[1;33m.\u001b[0m\u001b[0mgraphics\u001b[0m\u001b[1;33m.\u001b[0m\u001b[0mregressionplots\u001b[0m \u001b[1;32mimport\u001b[0m \u001b[0mplot_regress_exog\u001b[0m\u001b[1;33m\u001b[0m\u001b[1;33m\u001b[0m\u001b[0m\n\u001b[0;32m      3\u001b[0m \u001b[0mplot_regress_exog\u001b[0m\u001b[1;33m(\u001b[0m\u001b[0mmurder_model2\u001b[0m\u001b[1;33m,\u001b[0m \u001b[1;36m1\u001b[0m\u001b[1;33m,\u001b[0m \u001b[0mfig\u001b[0m \u001b[1;33m=\u001b[0m \u001b[0mfig\u001b[0m\u001b[1;33m)\u001b[0m\u001b[1;33m\u001b[0m\u001b[1;33m\u001b[0m\u001b[0m\n",
      "\u001b[1;31mNameError\u001b[0m: name 'plt' is not defined"
     ]
    }
   ],
   "source": [
    "fig = plt.figure(figsize = (10, 8))\n",
    "from statsmodels.graphics.regressionplots import plot_regress_exog\n",
    "plot_regress_exog(murder_model2, 1, fig = fig)"
   ]
  },
  {
   "cell_type": "markdown",
   "metadata": {},
   "source": [
    "### 多元线性回归"
   ]
  },
  {
   "cell_type": "markdown",
   "metadata": {},
   "source": [
    "多元线性回归模型：\n",
    "$$y = \\beta_0+\\beta_1 x_1 + \\beta_2 x_2+\\cdots+\\beta_n x_n+\\epsilon$$"
   ]
  },
  {
   "cell_type": "code",
   "execution_count": 1,
   "metadata": {},
   "outputs": [
    {
     "data": {
      "text/html": [
       "<div>\n",
       "<style scoped>\n",
       "    .dataframe tbody tr th:only-of-type {\n",
       "        vertical-align: middle;\n",
       "    }\n",
       "\n",
       "    .dataframe tbody tr th {\n",
       "        vertical-align: top;\n",
       "    }\n",
       "\n",
       "    .dataframe thead th {\n",
       "        text-align: right;\n",
       "    }\n",
       "</style>\n",
       "<table border=\"1\" class=\"dataframe\">\n",
       "  <thead>\n",
       "    <tr style=\"text-align: right;\">\n",
       "      <th></th>\n",
       "      <th>position</th>\n",
       "      <th>ID</th>\n",
       "      <th>Gender</th>\n",
       "      <th>Education</th>\n",
       "      <th>Current_Salary</th>\n",
       "      <th>Begin_Salary</th>\n",
       "      <th>Experience</th>\n",
       "      <th>Age</th>\n",
       "    </tr>\n",
       "  </thead>\n",
       "  <tbody>\n",
       "    <tr>\n",
       "      <th>0</th>\n",
       "      <td>1</td>\n",
       "      <td>1</td>\n",
       "      <td>1</td>\n",
       "      <td>15</td>\n",
       "      <td>57000</td>\n",
       "      <td>27000</td>\n",
       "      <td>144.0</td>\n",
       "      <td>55.0</td>\n",
       "    </tr>\n",
       "    <tr>\n",
       "      <th>1</th>\n",
       "      <td>1</td>\n",
       "      <td>34</td>\n",
       "      <td>1</td>\n",
       "      <td>19</td>\n",
       "      <td>92000</td>\n",
       "      <td>39990</td>\n",
       "      <td>175.0</td>\n",
       "      <td>58.0</td>\n",
       "    </tr>\n",
       "    <tr>\n",
       "      <th>2</th>\n",
       "      <td>1</td>\n",
       "      <td>18</td>\n",
       "      <td>1</td>\n",
       "      <td>16</td>\n",
       "      <td>103750</td>\n",
       "      <td>27510</td>\n",
       "      <td>70.0</td>\n",
       "      <td>51.0</td>\n",
       "    </tr>\n",
       "    <tr>\n",
       "      <th>3</th>\n",
       "      <td>1</td>\n",
       "      <td>200</td>\n",
       "      <td>1</td>\n",
       "      <td>17</td>\n",
       "      <td>67500</td>\n",
       "      <td>34980</td>\n",
       "      <td>9.0</td>\n",
       "      <td>44.0</td>\n",
       "    </tr>\n",
       "    <tr>\n",
       "      <th>4</th>\n",
       "      <td>1</td>\n",
       "      <td>199</td>\n",
       "      <td>1</td>\n",
       "      <td>16</td>\n",
       "      <td>51250</td>\n",
       "      <td>27480</td>\n",
       "      <td>69.0</td>\n",
       "      <td>49.0</td>\n",
       "    </tr>\n",
       "  </tbody>\n",
       "</table>\n",
       "</div>"
      ],
      "text/plain": [
       "   position   ID  Gender  Education  Current_Salary  Begin_Salary  Experience  \\\n",
       "0         1    1       1         15           57000         27000       144.0   \n",
       "1         1   34       1         19           92000         39990       175.0   \n",
       "2         1   18       1         16          103750         27510        70.0   \n",
       "3         1  200       1         17           67500         34980         9.0   \n",
       "4         1  199       1         16           51250         27480        69.0   \n",
       "\n",
       "    Age  \n",
       "0  55.0  \n",
       "1  58.0  \n",
       "2  51.0  \n",
       "3  44.0  \n",
       "4  49.0  "
      ]
     },
     "execution_count": 1,
     "metadata": {},
     "output_type": "execute_result"
    }
   ],
   "source": [
    "# 读取数据\n",
    "import pandas as pd\n",
    "salary = pd.read_csv(r'F:\\Python\\Notebook\\Python数据分析\\Python数据分析基础\\ch10\\salary_r.csv')\n",
    "salary.head()"
   ]
  },
  {
   "cell_type": "markdown",
   "metadata": {},
   "source": [
    "### 非线性回归"
   ]
  },
  {
   "cell_type": "markdown",
   "metadata": {},
   "source": [
    "#### 1.可线性化的非线性分析"
   ]
  },
  {
   "cell_type": "code",
   "execution_count": 3,
   "metadata": {},
   "outputs": [],
   "source": [
    "import pandas as pd\n",
    "import numpy as np\n",
    "import matplotlib.pyplot as plt\n",
    "from statsmodels.formula.api import ols"
   ]
  },
  {
   "cell_type": "code",
   "execution_count": 19,
   "metadata": {},
   "outputs": [],
   "source": [
    "# windows\n",
    "# file = r'F:\\Python\\Notebook\\Python数据分析\\Python数据分析基础\\ch10\\electronic_business.csv'\n",
    "# Linux\n",
    "path = r'/media/bxdm/本地磁盘/Python/Notebook/Python数据分析/Python数据分析基础/ch10/'\n",
    "file = r'electronic_business.csv'\n",
    "data = path + file\n",
    "eb = pd.read_csv(data)"
   ]
  },
  {
   "cell_type": "code",
   "execution_count": 20,
   "metadata": {
    "scrolled": true
   },
   "outputs": [
    {
     "data": {
      "text/html": [
       "<div>\n",
       "<style scoped>\n",
       "    .dataframe tbody tr th:only-of-type {\n",
       "        vertical-align: middle;\n",
       "    }\n",
       "\n",
       "    .dataframe tbody tr th {\n",
       "        vertical-align: top;\n",
       "    }\n",
       "\n",
       "    .dataframe thead th {\n",
       "        text-align: right;\n",
       "    }\n",
       "</style>\n",
       "<table border=\"1\" class=\"dataframe\">\n",
       "  <thead>\n",
       "    <tr style=\"text-align: right;\">\n",
       "      <th></th>\n",
       "      <th>registration</th>\n",
       "      <th>sales</th>\n",
       "    </tr>\n",
       "  </thead>\n",
       "  <tbody>\n",
       "    <tr>\n",
       "      <th>0</th>\n",
       "      <td>16.9</td>\n",
       "      <td>67.5</td>\n",
       "    </tr>\n",
       "    <tr>\n",
       "      <th>1</th>\n",
       "      <td>15.3</td>\n",
       "      <td>88.3</td>\n",
       "    </tr>\n",
       "    <tr>\n",
       "      <th>2</th>\n",
       "      <td>4.5</td>\n",
       "      <td>77.4</td>\n",
       "    </tr>\n",
       "    <tr>\n",
       "      <th>3</th>\n",
       "      <td>14.7</td>\n",
       "      <td>84.6</td>\n",
       "    </tr>\n",
       "    <tr>\n",
       "      <th>4</th>\n",
       "      <td>4.0</td>\n",
       "      <td>77.2</td>\n",
       "    </tr>\n",
       "  </tbody>\n",
       "</table>\n",
       "</div>"
      ],
      "text/plain": [
       "   registration  sales\n",
       "0          16.9   67.5\n",
       "1          15.3   88.3\n",
       "2           4.5   77.4\n",
       "3          14.7   84.6\n",
       "4           4.0   77.2"
      ]
     },
     "execution_count": 20,
     "metadata": {},
     "output_type": "execute_result"
    }
   ],
   "source": [
    "eb.head()"
   ]
  },
  {
   "cell_type": "code",
   "execution_count": 12,
   "metadata": {},
   "outputs": [
    {
     "data": {
      "text/plain": [
       "<matplotlib.collections.PathCollection at 0x7f6c6081d470>"
      ]
     },
     "execution_count": 12,
     "metadata": {},
     "output_type": "execute_result"
    },
    {
     "data": {
      "image/png": "[encoded data removed]",
      "text/plain": [
       "<Figure size 432x288 with 1 Axes>"
      ]
     },
     "metadata": {
      "needs_background": "light"
     },
     "output_type": "display_data"
    }
   ],
   "source": [
    "plt.scatter(eb.registration, eb.sales, marker = 'o')"
   ]
  },
  {
   "cell_type": "code",
   "execution_count": 13,
   "metadata": {},
   "outputs": [
    {
     "name": "stdout",
     "output_type": "stream",
     "text": [
      "                    Results: Ordinary least squares\n",
      "========================================================================\n",
      "Model:                 OLS                Adj. R-squared:       0.968   \n",
      "Dependent Variable:    sales              AIC:                  148.0375\n",
      "Date:                  2020-07-01 21:48   BIC:                  151.6942\n",
      "No. Observations:      25                 Log-Likelihood:       -71.019 \n",
      "Df Model:              2                  F-statistic:          360.7   \n",
      "Df Residuals:          22                 Prob (F-statistic):   1.53e-17\n",
      "R-squared:             0.970              Scale:                19.520  \n",
      "------------------------------------------------------------------------\n",
      "                         Coef.  Std.Err.    t     P>|t|   [0.025  0.975]\n",
      "------------------------------------------------------------------------\n",
      "Intercept                9.1189   3.4492   2.6437 0.0148  1.9656 16.2721\n",
      "registration            20.7981   0.8147  25.5296 0.0000 19.1086 22.4876\n",
      "np.square(registration) -1.0394   0.0390 -26.6602 0.0000 -1.1202 -0.9585\n",
      "------------------------------------------------------------------------\n",
      "Omnibus:                 0.921          Durbin-Watson:             1.490\n",
      "Prob(Omnibus):           0.631          Jarque-Bera (JB):          0.777\n",
      "Skew:                    0.095          Prob(JB):                  0.678\n",
      "Kurtosis:                2.157          Condition No.:             780  \n",
      "========================================================================\n",
      "\n"
     ]
    }
   ],
   "source": [
    "formula = 'sales ~ registration + np.square(registration)'\n",
    "eb_model = ols(formula, data = eb).fit()\n",
    "print(eb_model.summary2())"
   ]
  },
  {
   "cell_type": "code",
   "execution_count": 16,
   "metadata": {},
   "outputs": [
    {
     "data": {
      "image/png": "[encoded data removed]",
      "text/plain": [
       "<Figure size 432x288 with 1 Axes>"
      ]
     },
     "execution_count": 16,
     "metadata": {},
     "output_type": "execute_result"
    },
    {
     "data": {
      "image/png": "[encoded data removed]",
      "text/plain": [
       "<Figure size 432x288 with 1 Axes>"
      ]
     },
     "metadata": {
      "needs_background": "light"
     },
     "output_type": "display_data"
    }
   ],
   "source": [
    "from statsmodels.graphics.regressionplots import plot_fit \n",
    "plot_fit(eb_model, 1)"
   ]
  },
  {
   "cell_type": "markdown",
   "metadata": {},
   "source": [
    "#### 2.非线性回归模型"
   ]
  },
  {
   "cell_type": "markdown",
   "metadata": {},
   "source": [
    "非线性模型的参数，一般可以使用最小二乘及迭代算法进行估计，主要的估计方法有：\n",
    "\n",
    "- 最速下降法（Steepest-Descent)\n",
    "- 梯度法 (Gradient Method)\n",
    "- 牛顿法 (Newton Method)\n",
    "- 修正高斯-牛顿法 （Modified Gauss-Newton Method)\n",
    "- 麦奎特法 (Marquardt Method)"
   ]
  },
  {
   "cell_type": "code",
   "execution_count": 81,
   "metadata": {},
   "outputs": [],
   "source": [
    "file = 'eb_extended.csv'\n",
    "data = path + file\n",
    "eb_ex = pd.read_csv(data)"
   ]
  },
  {
   "cell_type": "code",
   "execution_count": 82,
   "metadata": {},
   "outputs": [
    {
     "data": {
      "text/html": [
       "<div>\n",
       "<style scoped>\n",
       "    .dataframe tbody tr th:only-of-type {\n",
       "        vertical-align: middle;\n",
       "    }\n",
       "\n",
       "    .dataframe tbody tr th {\n",
       "        vertical-align: top;\n",
       "    }\n",
       "\n",
       "    .dataframe thead th {\n",
       "        text-align: right;\n",
       "    }\n",
       "</style>\n",
       "<table border=\"1\" class=\"dataframe\">\n",
       "  <thead>\n",
       "    <tr style=\"text-align: right;\">\n",
       "      <th></th>\n",
       "      <th>registration</th>\n",
       "      <th>sales</th>\n",
       "    </tr>\n",
       "  </thead>\n",
       "  <tbody>\n",
       "    <tr>\n",
       "      <th>0</th>\n",
       "      <td>16.9</td>\n",
       "      <td>67.5</td>\n",
       "    </tr>\n",
       "    <tr>\n",
       "      <th>1</th>\n",
       "      <td>15.3</td>\n",
       "      <td>88.3</td>\n",
       "    </tr>\n",
       "    <tr>\n",
       "      <th>2</th>\n",
       "      <td>4.5</td>\n",
       "      <td>77.4</td>\n",
       "    </tr>\n",
       "    <tr>\n",
       "      <th>3</th>\n",
       "      <td>14.7</td>\n",
       "      <td>84.6</td>\n",
       "    </tr>\n",
       "    <tr>\n",
       "      <th>4</th>\n",
       "      <td>4.0</td>\n",
       "      <td>77.2</td>\n",
       "    </tr>\n",
       "  </tbody>\n",
       "</table>\n",
       "</div>"
      ],
      "text/plain": [
       "   registration  sales\n",
       "0          16.9   67.5\n",
       "1          15.3   88.3\n",
       "2           4.5   77.4\n",
       "3          14.7   84.6\n",
       "4           4.0   77.2"
      ]
     },
     "execution_count": 82,
     "metadata": {},
     "output_type": "execute_result"
    }
   ],
   "source": [
    "eb_ex.head()"
   ]
  },
  {
   "cell_type": "code",
   "execution_count": 83,
   "metadata": {},
   "outputs": [
    {
     "data": {
      "text/plain": [
       "Text(0, 0.5, 'sales')"
      ]
     },
     "execution_count": 83,
     "metadata": {},
     "output_type": "execute_result"
    },
    {
     "data": {
      "image/png": "[encoded data removed]",
      "text/plain": [
       "<Figure size 432x288 with 1 Axes>"
      ]
     },
     "metadata": {
      "needs_background": "light"
     },
     "output_type": "display_data"
    }
   ],
   "source": [
    "plt.scatter(eb_ex.registration, eb_ex.sales)\n",
    "plt.xlabel('registration')\n",
    "plt.ylabel('sales')"
   ]
  },
  {
   "cell_type": "markdown",
   "metadata": {},
   "source": [
    "进行分段最小二乘拟合"
   ]
  },
  {
   "cell_type": "code",
   "execution_count": 84,
   "metadata": {},
   "outputs": [],
   "source": [
    "from scipy.optimize import curve_fit"
   ]
  },
  {
   "cell_type": "code",
   "execution_count": 94,
   "metadata": {},
   "outputs": [],
   "source": [
    "def func1(x, alpha1, beta1, beta2):\n",
    "    return alpha1 + beta1 * x + beta2 * np.square(x) \n",
    "def func1(x, alpha2, beta3, gamma):\n",
    "    return alpha2 * (gamma ** (beta3*x))"
   ]
  },
  {
   "cell_type": "code",
   "execution_count": 95,
   "metadata": {},
   "outputs": [],
   "source": [
    "m1 = curve_fit(func1, eb_ex[eb_ex['registration']>20]['registration'],\n",
    "                      eb_ex[eb_ex['registration']>20]['sales'])\n",
    "m2 = curve_fit(func2, eb_ex[eb_ex['registration']<=20]['registration'],\n",
    "                      eb_ex[eb_ex['registration']<=20]['sales'])"
   ]
  },
  {
   "cell_type": "code",
   "execution_count": 96,
   "metadata": {},
   "outputs": [
    {
     "data": {
      "text/plain": [
       "((array([3.34579519, 1.27991412, 1.02969005]),\n",
       "  array([[ 1.10049773e+00, -1.69100863e+05,  3.98027452e+03],\n",
       "         [-1.69100863e+05,  2.86069058e+10, -6.73345739e+08],\n",
       "         [ 3.98027452e+03, -6.73345739e+08,  1.58491270e+07]])),\n",
       " (array([ 9.11887122, 20.79806299, -1.03935516]),\n",
       "  array([[ 1.18971759e+01, -2.54291948e+00,  1.10578766e-01],\n",
       "         [-2.54291948e+00,  6.63677073e-01, -3.11621801e-02],\n",
       "         [ 1.10578766e-01, -3.11621801e-02,  1.51985540e-03]])))"
      ]
     },
     "execution_count": 96,
     "metadata": {},
     "output_type": "execute_result"
    }
   ],
   "source": [
    "m1, m2"
   ]
  },
  {
   "cell_type": "code",
   "execution_count": 97,
   "metadata": {},
   "outputs": [],
   "source": [
    "# 将预测的值传入 DataFrame 中\n",
    "eb_ex.loc[eb_ex['registration'] > 20, 'predicted'] = func1(eb_ex[eb_ex['registration']>20]['registration'],\n",
    "             m1[0][0], m1[0][1], m1[0][2])\n",
    "eb_ex.loc[eb_ex['registration']<= 20, 'predicted'] = func2(eb_ex[eb_ex['registration'] <= 20]['registration'],\n",
    "             m1[0][0], m1[0][1], m1[0][2])"
   ]
  },
  {
   "cell_type": "code",
   "execution_count": 98,
   "metadata": {},
   "outputs": [
    {
     "data": {
      "text/plain": [
       "[<matplotlib.lines.Line2D at 0x7f6c5e8e7128>,\n",
       " <matplotlib.lines.Line2D at 0x7f6c5e903198>]"
      ]
     },
     "execution_count": 98,
     "metadata": {},
     "output_type": "execute_result"
    },
    {
     "data": {
      "image/png": "[encoded data removed]",
      "text/plain": [
       "<Figure size 432x288 with 1 Axes>"
      ]
     },
     "metadata": {
      "needs_background": "light"
     },
     "output_type": "display_data"
    }
   ],
   "source": [
    "eb_ex_sorted = eb_ex.sort_values(by = 'registration')\n",
    "eb_ex_sorted\n",
    "plt.plot(eb_ex_sorted['registration'], eb_ex_sorted['sales'], 'o',\n",
    "         eb_ex_sorted['registration'], eb_ex_sorted['predicted'], 'r-', lw = 3) # lw : linewidth"
   ]
  }
 ],
 "metadata": {
  "kernelspec": {
   "display_name": "Python 3",
   "language": "python",
   "name": "python3"
  },
  "language_info": {
   "codemirror_mode": {
    "name": "ipython",
    "version": 3
   },
   "file_extension": ".py",
   "mimetype": "text/x-python",
   "name": "python",
   "nbconvert_exporter": "python",
   "pygments_lexer": "ipython3",
   "version": "3.6.9"
  }
 },
 "nbformat": 4,
 "nbformat_minor": 4
}
