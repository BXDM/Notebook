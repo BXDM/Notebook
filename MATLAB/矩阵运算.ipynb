{
 "cells": [
  {
   "cell_type": "code",
   "execution_count": 19,
   "metadata": {},
   "outputs": [
    {
     "name": "stdout",
     "output_type": "stream",
     "text": [
      "\n",
      "A =\n",
      "\n",
      "     4    -4     3    -3\n",
      "     5    -3    -3    -3\n",
      "     1     4     5     1\n",
      "    -4    -3    -2     0\n",
      "\n",
      "\n"
     ]
    }
   ],
   "source": [
    "A = randi([-5, 5], 4, 4) % 生成随机矩阵， 范围为 [-5, 4] ，大小为 4×4"
   ]
  },
  {
   "cell_type": "code",
   "execution_count": 18,
   "metadata": {},
   "outputs": [
    {
     "name": "stdout",
     "output_type": "stream",
     "text": [
      "\n",
      "ans =\n",
      "\n",
      "     2\n",
      "    -4\n",
      "     1\n",
      "     2\n",
      "\n",
      "\n"
     ]
    }
   ],
   "source": [
    "diag(A) % 取矩阵的对角元素"
   ]
  },
  {
   "cell_type": "code",
   "execution_count": 20,
   "metadata": {},
   "outputs": [
    {
     "name": "stdout",
     "output_type": "stream",
     "text": [
      "\n",
      "ans =\n",
      "\n",
      "     4     0     0     0\n",
      "     5    -3     0     0\n",
      "     1     4     5     0\n",
      "    -4    -3    -2     0\n",
      "\n",
      "\n"
     ]
    }
   ],
   "source": [
    "tril(A)  % 取矩阵的下三角"
   ]
  },
  {
   "cell_type": "code",
   "execution_count": 21,
   "metadata": {},
   "outputs": [
    {
     "name": "stdout",
     "output_type": "stream",
     "text": [
      "\n",
      "ans =\n",
      "\n",
      "     4    -4     3    -3\n",
      "     0    -3    -3    -3\n",
      "     0     0     5     1\n",
      "     0     0     0     0\n",
      "\n",
      "\n"
     ]
    }
   ],
   "source": [
    "triu(A)  % 取矩阵的上三角"
   ]
  },
  {
   "cell_type": "code",
   "execution_count": 22,
   "metadata": {},
   "outputs": [
    {
     "name": "stdout",
     "output_type": "stream",
     "text": [
      "\n",
      "ans =\n",
      "\n",
      "   -86\n",
      "\n",
      "\n"
     ]
    }
   ],
   "source": [
    "det(A) % 求矩阵的行列式值"
   ]
  },
  {
   "cell_type": "code",
   "execution_count": 23,
   "metadata": {},
   "outputs": [
    {
     "name": "stdout",
     "output_type": "stream",
     "text": [
      "\n",
      "ans =\n",
      "\n",
      "     4\n",
      "\n",
      "\n"
     ]
    }
   ],
   "source": [
    "rank(A) % 求矩阵的秩"
   ]
  },
  {
   "cell_type": "code",
   "execution_count": 24,
   "metadata": {},
   "outputs": [
    {
     "name": "stdout",
     "output_type": "stream",
     "text": [
      "\n",
      "ans =\n",
      "\n",
      "     4     5     1    -4\n",
      "    -4    -3     4    -3\n",
      "     3    -3     5    -2\n",
      "    -3    -3     1     0\n",
      "\n",
      "\n"
     ]
    }
   ],
   "source": [
    "A' % 求逆矩阵"
   ]
  }
 ],
 "metadata": {
  "kernelspec": {
   "display_name": "Matlab",
   "language": "matlab",
   "name": "matlab"
  },
  "language_info": {
   "codemirror_mode": "octave",
   "file_extension": ".m",
   "help_links": [
    {
     "text": "MetaKernel Magics",
     "url": "https://metakernel.readthedocs.io/en/latest/source/README.html"
    }
   ],
   "mimetype": "text/x-octave",
   "name": "matlab",
   "version": "0.16.9"
  }
 },
 "nbformat": 4,
 "nbformat_minor": 4
}
