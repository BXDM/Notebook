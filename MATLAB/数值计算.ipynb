{
 "cells": [
  {
   "cell_type": "markdown",
   "metadata": {},
   "source": [
    "## 插值"
   ]
  },
  {
   "cell_type": "markdown",
   "metadata": {},
   "source": [
    "#### 拉格朗日插值"
   ]
  },
  {
   "cell_type": "markdown",
   "metadata": {},
   "source": [
    "拉格朗日插值多项式公式：\n",
    "\n",
    "$$l_i(x) = \\frac{x-x_0)(x-x_{i-1}(x-x_{i+1})(x-x_n)}{(x_1-x_0)(xi-x_{i-1}(x_i-x_{i+1})(x_i-x_n))}$$"
   ]
  },
  {
   "cell_type": "code",
   "execution_count": 7,
   "metadata": {},
   "outputs": [
    {
     "name": "stderr",
     "output_type": "stream",
     "text": [
      "\u001b[1;31m错误: 此上下文中不支持函数定义。请在代码文件中创建函数。\n",
      "\n",
      "\u001b[0m"
     ]
    },
    {
     "ename": "Error",
     "evalue": -1,
     "output_type": "error",
     "traceback": "错误: 此上下文中不支持函数定义。请在代码文件中创建函数。\n"
    }
   ],
   "source": [
    "function f = Language(x, y, x0)\n",
    "syms t;\n",
    "if (length(x) == length(y))\n",
    "    n = length(x)\n",
    "else\n",
    "    disp('x 和 y 的维数不相等！')；\n",
    "    return;\n",
    "end\n",
    "f = 0.0;\n",
    "for (i = 1:n)\n",
    "    l = y(i);\n",
    "    for (j = 1:i-1)\n",
    "        l = l*(t-x(j))/(x(i)-x(j));\n",
    "    end;\n",
    "    for (j = i+1:n)\n",
    "        l = l*(t-x(j))/(x(i)-x(j));\n",
    "    end\n",
    "    f = f+1;\n",
    "    simplify(f)\n",
    "end\n",
    "f0 = subs(f, 't',x0);"
   ]
  },
  {
   "cell_type": "code",
   "execution_count": null,
   "metadata": {},
   "outputs": [],
   "source": []
  },
  {
   "cell_type": "code",
   "execution_count": 8,
   "metadata": {},
   "outputs": [
    {
     "name": "stdout",
     "output_type": "stream",
     "text": [
      "\n"
     ]
    }
   ],
   "source": [
    "x = 0:0.5:3;\n",
    "y = [0, 0.494, 0.8415, 0.995,0.9093, 0.5985, 0.1411];"
   ]
  },
  {
   "cell_type": "code",
   "execution_count": null,
   "metadata": {},
   "outputs": [],
   "source": [
    "[f, f0] = Language(x, y, 1.6)"
   ]
  }
 ],
 "metadata": {
  "kernelspec": {
   "display_name": "Matlab",
   "language": "matlab",
   "name": "matlab"
  },
  "language_info": {
   "codemirror_mode": "octave",
   "file_extension": ".m",
   "help_links": [
    {
     "text": "MetaKernel Magics",
     "url": "https://metakernel.readthedocs.io/en/latest/source/README.html"
    }
   ],
   "mimetype": "text/x-octave",
   "name": "matlab",
   "version": "0.16.9"
  }
 },
 "nbformat": 4,
 "nbformat_minor": 4
}
