{
 "cells": [
  {
   "cell_type": "markdown",
   "metadata": {},
   "source": [
    "## 一元回归分析"
   ]
  },
  {
   "cell_type": "markdown",
   "metadata": {},
   "source": [
    "回归分析是分析变量间相关关系的一种统计方法，建立变量之间相关关系的具体数学表达形式，选择一个合适的数学模型来近似地表达变量间的平均变化关系。"
   ]
  },
  {
   "cell_type": "markdown",
   "metadata": {},
   "source": [
    "#### regress函数的使用\n",
    "\n",
    "调用方式：\n",
    "```matlab\n",
    "[b, bint, r, rint, states] = regress(y, X, alpha)\n",
    "```\n",
    "输入参数：\n",
    "- X p个自变量的 n × p 矩阵\n",
    "- y 因变量的 n 个观测值的 n × 1 向量\n",
    "- alpha 显著性水平， 可缺省，默认值为 0.05\n",
    "\n",
    "输出参数：\n",
    "- b 模型系数\n",
    "- bint 置信区间\n",
    "- r 模型拟合残差\n",
    "- rint 模型拟合残差\n",
    "- stats \n",
    "    - 决定系数 $R^2$\n",
    "    - 方程分析的 $F$ 统计量的值\n",
    "    - 显著性概率 p 的值\n",
    "    - 模型方差  $\\sigma^2$ 的估计值\n"
   ]
  },
  {
   "cell_type": "code",
   "execution_count": 29,
   "metadata": {},
   "outputs": [
    {
     "name": "stdout",
     "output_type": "stream",
     "text": [
      "\n",
      "b =\n",
      "\n",
      "   -2.2610\n",
      "    0.0487\n",
      "\n",
      "\n",
      "stats =\n",
      "\n",
      "    0.9625  179.7711    0.0000    1.1315\n",
      "\n",
      "\n"
     ]
    },
    {
     "data": {
      "image/png": "[encoded data removed]",
      "text/plain": [
       "<IPython.core.display.Image object>"
      ]
     },
     "metadata": {},
     "output_type": "display_data"
    }
   ],
   "source": [
    "clear\n",
    "% 注意矩阵后面的 `号， 对矩阵进行转置\n",
    "x = [142.08, 177.30, 204.68, 242.88, 316.24, 341.99, 332.69, 389.29, 453.40]';\n",
    "y = [3.93, 5.96, 7.85, 9.82, 12.50, 15.55, 15.79, 16.39, 18.45]';\n",
    "scatter(x, y)\n",
    "% 构造自变量观测值矩阵\n",
    "X = [ones(length(x), 1), x];\n",
    "% 线性回归模型的建立与评价\n",
    "[b, bint, r, rint, stats] = regress(y, X);\n",
    "% 显示所关心的输出参数\n",
    "b, stats"
   ]
  },
  {
   "cell_type": "markdown",
   "metadata": {},
   "source": [
    "#### 预测商品 x = 300 时的 y\n",
    "\n",
    "利用近似置信区间进行区间预测"
   ]
  },
  {
   "cell_type": "code",
   "execution_count": 32,
   "metadata": {},
   "outputs": [
    {
     "name": "stdout",
     "output_type": "stream",
     "text": [
      "\n",
      "y0 =\n",
      "\n",
      "   12.3423\n",
      "\n",
      "\n",
      "ci =\n",
      "\n",
      "   10.2149   14.4698\n",
      "\n",
      "\n"
     ]
    }
   ],
   "source": [
    "x0 = 300;\n",
    "y0 = b(1)+b(2) * x0 % 点预测\n",
    "SSE = sum((y-(b(1)+b(2)*x)).^2);\n",
    "STD = sqrt(SSE/(length(x)-2));\n",
    "DELTA = 2*STD;\n",
    "ci = [y0-DELTA, y0+DELTA]"
   ]
  },
  {
   "cell_type": "code",
   "execution_count": null,
   "metadata": {},
   "outputs": [],
   "source": []
  }
 ],
 "metadata": {
  "kernelspec": {
   "display_name": "Matlab",
   "language": "matlab",
   "name": "matlab"
  },
  "language_info": {
   "codemirror_mode": "octave",
   "file_extension": ".m",
   "help_links": [
    {
     "text": "MetaKernel Magics",
     "url": "https://metakernel.readthedocs.io/en/latest/source/README.html"
    }
   ],
   "mimetype": "text/x-octave",
   "name": "matlab",
   "version": "0.16.9"
  }
 },
 "nbformat": 4,
 "nbformat_minor": 4
}
