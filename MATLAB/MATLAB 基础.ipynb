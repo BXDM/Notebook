{
 "cells": [
  {
   "cell_type": "markdown",
   "metadata": {},
   "source": [
    "### nargin"
   ]
  },
  {
   "cell_type": "markdown",
   "metadata": {},
   "source": [
    "nargin : number of input argument\n",
    "\n",
    "用来判断函数输入变量的个数"
   ]
  },
  {
   "cell_type": "markdown",
   "metadata": {},
   "source": [
    "### subs\n",
    "\n",
    "matlab中subs()是符号计算函数，表示将符号表达式中的某些符号变量替换为指定的新的变量\n",
    "\n",
    "调用方法：\n",
    "\n",
    "`subs(S, OLD, NEW)`\n",
    "\n",
    "S 是符号变量表达式"
   ]
  },
  {
   "cell_type": "code",
   "execution_count": 7,
   "metadata": {},
   "outputs": [
    {
     "name": "stdout",
     "output_type": "stream",
     "text": [
      "\n"
     ]
    }
   ],
   "source": [
    "syms x y z\n"
   ]
  }
 ],
 "metadata": {
  "kernelspec": {
   "display_name": "Matlab",
   "language": "matlab",
   "name": "matlab"
  },
  "language_info": {
   "codemirror_mode": "octave",
   "file_extension": ".m",
   "help_links": [
    {
     "text": "MetaKernel Magics",
     "url": "https://metakernel.readthedocs.io/en/latest/source/README.html"
    }
   ],
   "mimetype": "text/x-octave",
   "name": "matlab",
   "version": "0.16.9"
  }
 },
 "nbformat": 4,
 "nbformat_minor": 4
}
