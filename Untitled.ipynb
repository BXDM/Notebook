{
 "cells": [
  {
   "cell_type": "markdown",
   "metadata": {},
   "source": [
    "#### logspace 函数"
   ]
  },
  {
   "cell_type": "markdown",
   "metadata": {},
   "source": []
  },
  {
   "cell_type": "code",
   "execution_count": 1,
   "metadata": {},
   "outputs": [
    {
     "data": {
      "text/plain": [
       "array([1.e+01, 1.e+02, 1.e+03, 1.e+04, 1.e+05, 1.e+06, 1.e+07, 1.e+08,\n",
       "       1.e+09, 1.e+10])"
      ]
     },
     "execution_count": 1,
     "metadata": {},
     "output_type": "execute_result"
    }
   ],
   "source": [
    "import numpy as np\n",
    "np.logspace(1, 10, 10)"
   ]
  },
  {
   "cell_type": "code",
   "execution_count": 2,
   "metadata": {},
   "outputs": [
    {
     "data": {
      "image/png": "[encoded data removed]",
      "text/plain": [
       "<Figure size 432x288 with 1 Axes>"
      ]
     },
     "metadata": {
      "needs_background": "light"
     },
     "output_type": "display_data"
    }
   ],
   "source": [
    "run c.py"
   ]
  },
  {
   "cell_type": "code",
   "execution_count": null,
   "metadata": {},
   "outputs": [],
   "source": []
  },
  {
   "cell_type": "code",
   "execution_count": 13,
   "metadata": {},
   "outputs": [],
   "source": [
    "import pandas as pd\n",
    "df = pd.read_excel(file, 'Sheet1')"
   ]
  },
  {
   "cell_type": "code",
   "execution_count": 19,
   "metadata": {},
   "outputs": [
    {
     "data": {
      "text/html": [
       "<div>\n",
       "<style scoped>\n",
       "    .dataframe tbody tr th:only-of-type {\n",
       "        vertical-align: middle;\n",
       "    }\n",
       "\n",
       "    .dataframe tbody tr th {\n",
       "        vertical-align: top;\n",
       "    }\n",
       "\n",
       "    .dataframe thead th {\n",
       "        text-align: right;\n",
       "    }\n",
       "</style>\n",
       "<table border=\"1\" class=\"dataframe\">\n",
       "  <thead>\n",
       "    <tr style=\"text-align: right;\">\n",
       "      <th></th>\n",
       "      <th>样号</th>\n",
       "      <th>Km</th>\n",
       "      <th>L</th>\n",
       "      <th>F</th>\n",
       "      <th>P</th>\n",
       "      <th>T</th>\n",
       "      <th>E</th>\n",
       "      <th>K1产状（°）</th>\n",
       "      <th>Unnamed: 8</th>\n",
       "      <th>K2产状（°）</th>\n",
       "      <th>Unnamed: 10</th>\n",
       "      <th>K3产状（°）</th>\n",
       "      <th>Unnamed: 12</th>\n",
       "      <th>磁面理产状</th>\n",
       "      <th>Unnamed: 14</th>\n",
       "      <th>K1</th>\n",
       "      <th>K2</th>\n",
       "      <th>K3</th>\n",
       "    </tr>\n",
       "  </thead>\n",
       "  <tbody>\n",
       "    <tr>\n",
       "      <th>1</th>\n",
       "      <td>19002</td>\n",
       "      <td>163</td>\n",
       "      <td>1.080</td>\n",
       "      <td>1.239</td>\n",
       "      <td>1.198020</td>\n",
       "      <td>0.426</td>\n",
       "      <td>1.147222</td>\n",
       "      <td>106.8</td>\n",
       "      <td>60.9</td>\n",
       "      <td>354.2</td>\n",
       "      <td>12.1</td>\n",
       "      <td>258.2</td>\n",
       "      <td>26.1</td>\n",
       "      <td>78.2</td>\n",
       "      <td>63.9</td>\n",
       "      <td>1.089</td>\n",
       "      <td>1.002</td>\n",
       "      <td>0.909</td>\n",
       "    </tr>\n",
       "    <tr>\n",
       "      <th>2</th>\n",
       "      <td>19030</td>\n",
       "      <td>38.2</td>\n",
       "      <td>1.088</td>\n",
       "      <td>1.157</td>\n",
       "      <td>1.245475</td>\n",
       "      <td>0.273</td>\n",
       "      <td>1.063419</td>\n",
       "      <td>88.3</td>\n",
       "      <td>53.9</td>\n",
       "      <td>353.5</td>\n",
       "      <td>3.5</td>\n",
       "      <td>261</td>\n",
       "      <td>35.9</td>\n",
       "      <td>81.0</td>\n",
       "      <td>54.1</td>\n",
       "      <td>1.101</td>\n",
       "      <td>1.015</td>\n",
       "      <td>0.884</td>\n",
       "    </tr>\n",
       "    <tr>\n",
       "      <th>3</th>\n",
       "      <td>19031-1</td>\n",
       "      <td>795</td>\n",
       "      <td>1.078</td>\n",
       "      <td>1.163</td>\n",
       "      <td>1.230856</td>\n",
       "      <td>0.262</td>\n",
       "      <td>1.078850</td>\n",
       "      <td>22.1</td>\n",
       "      <td>42.1</td>\n",
       "      <td>187.9</td>\n",
       "      <td>47</td>\n",
       "      <td>285.6</td>\n",
       "      <td>7.1</td>\n",
       "      <td>105.6</td>\n",
       "      <td>82.9</td>\n",
       "      <td>1.093</td>\n",
       "      <td>1.020</td>\n",
       "      <td>0.888</td>\n",
       "    </tr>\n",
       "    <tr>\n",
       "      <th>4</th>\n",
       "      <td>19031-2</td>\n",
       "      <td>437</td>\n",
       "      <td>1.022</td>\n",
       "      <td>1.115</td>\n",
       "      <td>1.120560</td>\n",
       "      <td>0.741</td>\n",
       "      <td>1.090998</td>\n",
       "      <td>19.3</td>\n",
       "      <td>15.7</td>\n",
       "      <td>132.3</td>\n",
       "      <td>54.4</td>\n",
       "      <td>279.6</td>\n",
       "      <td>31.1</td>\n",
       "      <td>99.6</td>\n",
       "      <td>58.9</td>\n",
       "      <td>1.041</td>\n",
       "      <td>1.030</td>\n",
       "      <td>0.929</td>\n",
       "    </tr>\n",
       "    <tr>\n",
       "      <th>5</th>\n",
       "      <td>19031-3</td>\n",
       "      <td>35.6</td>\n",
       "      <td>1.033</td>\n",
       "      <td>1.108</td>\n",
       "      <td>1.128894</td>\n",
       "      <td>0.508</td>\n",
       "      <td>1.072604</td>\n",
       "      <td>0.8</td>\n",
       "      <td>6.7</td>\n",
       "      <td>108.5</td>\n",
       "      <td>68.9</td>\n",
       "      <td>268.3</td>\n",
       "      <td>19.9</td>\n",
       "      <td>88.3</td>\n",
       "      <td>70.1</td>\n",
       "      <td>1.051</td>\n",
       "      <td>1.018</td>\n",
       "      <td>0.931</td>\n",
       "    </tr>\n",
       "    <tr>\n",
       "      <th>...</th>\n",
       "      <td>...</td>\n",
       "      <td>...</td>\n",
       "      <td>...</td>\n",
       "      <td>...</td>\n",
       "      <td>...</td>\n",
       "      <td>...</td>\n",
       "      <td>...</td>\n",
       "      <td>...</td>\n",
       "      <td>...</td>\n",
       "      <td>...</td>\n",
       "      <td>...</td>\n",
       "      <td>...</td>\n",
       "      <td>...</td>\n",
       "      <td>...</td>\n",
       "      <td>...</td>\n",
       "      <td>...</td>\n",
       "      <td>...</td>\n",
       "      <td>...</td>\n",
       "    </tr>\n",
       "    <tr>\n",
       "      <th>68</th>\n",
       "      <td>19133</td>\n",
       "      <td>17.4</td>\n",
       "      <td>1.016</td>\n",
       "      <td>1.049</td>\n",
       "      <td>1.062241</td>\n",
       "      <td>0.530</td>\n",
       "      <td>1.032480</td>\n",
       "      <td>134.3</td>\n",
       "      <td>19.4</td>\n",
       "      <td>238.3</td>\n",
       "      <td>34.6</td>\n",
       "      <td>20.5</td>\n",
       "      <td>48.8</td>\n",
       "      <td>200.5</td>\n",
       "      <td>41.2</td>\n",
       "      <td>1.024</td>\n",
       "      <td>1.013</td>\n",
       "      <td>0.964</td>\n",
       "    </tr>\n",
       "    <tr>\n",
       "      <th>69</th>\n",
       "      <td>19134</td>\n",
       "      <td>29.4</td>\n",
       "      <td>1.026</td>\n",
       "      <td>1.032</td>\n",
       "      <td>1.053498</td>\n",
       "      <td>0.072</td>\n",
       "      <td>1.005848</td>\n",
       "      <td>203.6</td>\n",
       "      <td>34.7</td>\n",
       "      <td>309.7</td>\n",
       "      <td>21.8</td>\n",
       "      <td>65.3</td>\n",
       "      <td>47.1</td>\n",
       "      <td>245.3</td>\n",
       "      <td>42.9</td>\n",
       "      <td>1.024</td>\n",
       "      <td>1.004</td>\n",
       "      <td>0.972</td>\n",
       "    </tr>\n",
       "    <tr>\n",
       "      <th>70</th>\n",
       "      <td>19135</td>\n",
       "      <td>22.3</td>\n",
       "      <td>1.014</td>\n",
       "      <td>1.099</td>\n",
       "      <td>1.111230</td>\n",
       "      <td>0.736</td>\n",
       "      <td>1.083826</td>\n",
       "      <td>199.9</td>\n",
       "      <td>32.5</td>\n",
       "      <td>343.9</td>\n",
       "      <td>51.8</td>\n",
       "      <td>98.1</td>\n",
       "      <td>17.8</td>\n",
       "      <td>278.1</td>\n",
       "      <td>72.2</td>\n",
       "      <td>1.039</td>\n",
       "      <td>1.026</td>\n",
       "      <td>0.935</td>\n",
       "    </tr>\n",
       "    <tr>\n",
       "      <th>71</th>\n",
       "      <td>19136</td>\n",
       "      <td>53.5</td>\n",
       "      <td>1.047</td>\n",
       "      <td>1.025</td>\n",
       "      <td>1.072239</td>\n",
       "      <td>-0.297</td>\n",
       "      <td>0.978988</td>\n",
       "      <td>230.4</td>\n",
       "      <td>9.5</td>\n",
       "      <td>132.7</td>\n",
       "      <td>38.8</td>\n",
       "      <td>331.7</td>\n",
       "      <td>49.6</td>\n",
       "      <td>151.7</td>\n",
       "      <td>40.4</td>\n",
       "      <td>1.039</td>\n",
       "      <td>0.992</td>\n",
       "      <td>0.969</td>\n",
       "    </tr>\n",
       "    <tr>\n",
       "      <th>72</th>\n",
       "      <td>19137</td>\n",
       "      <td>26.9</td>\n",
       "      <td>1.017</td>\n",
       "      <td>1.024</td>\n",
       "      <td>1.024242</td>\n",
       "      <td>0.315</td>\n",
       "      <td>1.006883</td>\n",
       "      <td>39.4</td>\n",
       "      <td>16.4</td>\n",
       "      <td>198.3</td>\n",
       "      <td>72.5</td>\n",
       "      <td>307.7</td>\n",
       "      <td>6</td>\n",
       "      <td>127.7</td>\n",
       "      <td>84.0</td>\n",
       "      <td>1.014</td>\n",
       "      <td>0.997</td>\n",
       "      <td>0.990</td>\n",
       "    </tr>\n",
       "  </tbody>\n",
       "</table>\n",
       "<p>72 rows × 18 columns</p>\n",
       "</div>"
      ],
      "text/plain": [
       "         样号    Km      L      F         P      T         E K1产状（°） Unnamed: 8  \\\n",
       "1     19002   163  1.080  1.239  1.198020  0.426  1.147222   106.8       60.9   \n",
       "2     19030  38.2  1.088  1.157  1.245475  0.273  1.063419    88.3       53.9   \n",
       "3   19031-1   795  1.078  1.163  1.230856  0.262  1.078850    22.1       42.1   \n",
       "4   19031-2   437  1.022  1.115  1.120560  0.741  1.090998    19.3       15.7   \n",
       "5   19031-3  35.6  1.033  1.108  1.128894  0.508  1.072604     0.8        6.7   \n",
       "..      ...   ...    ...    ...       ...    ...       ...     ...        ...   \n",
       "68    19133  17.4  1.016  1.049  1.062241  0.530  1.032480   134.3       19.4   \n",
       "69    19134  29.4  1.026  1.032  1.053498  0.072  1.005848   203.6       34.7   \n",
       "70    19135  22.3  1.014  1.099  1.111230  0.736  1.083826   199.9       32.5   \n",
       "71    19136  53.5  1.047  1.025  1.072239 -0.297  0.978988   230.4        9.5   \n",
       "72    19137  26.9  1.017  1.024  1.024242  0.315  1.006883    39.4       16.4   \n",
       "\n",
       "   K2产状（°） Unnamed: 10 K3产状（°） Unnamed: 12  磁面理产状  Unnamed: 14     K1     K2  \\\n",
       "1    354.2        12.1   258.2        26.1   78.2         63.9  1.089  1.002   \n",
       "2    353.5         3.5     261        35.9   81.0         54.1  1.101  1.015   \n",
       "3    187.9          47   285.6         7.1  105.6         82.9  1.093  1.020   \n",
       "4    132.3        54.4   279.6        31.1   99.6         58.9  1.041  1.030   \n",
       "5    108.5        68.9   268.3        19.9   88.3         70.1  1.051  1.018   \n",
       "..     ...         ...     ...         ...    ...          ...    ...    ...   \n",
       "68   238.3        34.6    20.5        48.8  200.5         41.2  1.024  1.013   \n",
       "69   309.7        21.8    65.3        47.1  245.3         42.9  1.024  1.004   \n",
       "70   343.9        51.8    98.1        17.8  278.1         72.2  1.039  1.026   \n",
       "71   132.7        38.8   331.7        49.6  151.7         40.4  1.039  0.992   \n",
       "72   198.3        72.5   307.7           6  127.7         84.0  1.014  0.997   \n",
       "\n",
       "       K3  \n",
       "1   0.909  \n",
       "2   0.884  \n",
       "3   0.888  \n",
       "4   0.929  \n",
       "5   0.931  \n",
       "..    ...  \n",
       "68  0.964  \n",
       "69  0.972  \n",
       "70  0.935  \n",
       "71  0.969  \n",
       "72  0.990  \n",
       "\n",
       "[72 rows x 18 columns]"
      ]
     },
     "execution_count": 19,
     "metadata": {},
     "output_type": "execute_result"
    }
   ],
   "source": [
    "data = df.dropna()\n",
    "data"
   ]
  },
  {
   "cell_type": "code",
   "execution_count": 21,
   "metadata": {},
   "outputs": [],
   "source": [
    "import matplotlib.pyplot as plt"
   ]
  },
  {
   "cell_type": "code",
   "execution_count": 38,
   "metadata": {},
   "outputs": [
    {
     "data": {
      "text/plain": [
       "[<matplotlib.lines.Line2D at 0x141cfa90>]"
      ]
     },
     "execution_count": 38,
     "metadata": {},
     "output_type": "execute_result"
    },
    {
     "data": {
      "image/png": "[encoded data removed]",
      "text/plain": [
       "<Figure size 432x288 with 1 Axes>"
      ]
     },
     "metadata": {
      "needs_background": "light"
     },
     "output_type": "display_data"
    }
   ],
   "source": [
    "x = data['L']\n",
    "y = data['F']\n",
    "plt.scatter(x, y)\n",
    "plt.plot(np.linspace(x.min(), x.max(), 100*len(x)), np.linspace(y.min(), y.max(), 100*len(y)))"
   ]
  },
  {
   "cell_type": "code",
   "execution_count": 1,
   "metadata": {},
   "outputs": [
    {
     "ename": "NameError",
     "evalue": "name 'data' is not defined",
     "output_type": "error",
     "traceback": [
      "\u001b[1;31m---------------------------------------------------------------------------\u001b[0m",
      "\u001b[1;31mNameError\u001b[0m                                 Traceback (most recent call last)",
      "\u001b[1;32m<ipython-input-1-7d827649288a>\u001b[0m in \u001b[0;36m<module>\u001b[1;34m\u001b[0m\n\u001b[0;32m      1\u001b[0m \u001b[0mpath\u001b[0m \u001b[1;33m=\u001b[0m \u001b[1;34mr'C:\\Users\\BXDM\\Desktop\\data.csv'\u001b[0m\u001b[1;33m\u001b[0m\u001b[1;33m\u001b[0m\u001b[0m\n\u001b[1;32m----> 2\u001b[1;33m \u001b[0mdata\u001b[0m\u001b[1;33m.\u001b[0m\u001b[0mto_csv\u001b[0m\u001b[1;33m(\u001b[0m\u001b[0mpath\u001b[0m\u001b[1;33m)\u001b[0m\u001b[1;33m\u001b[0m\u001b[1;33m\u001b[0m\u001b[0m\n\u001b[0m",
      "\u001b[1;31mNameError\u001b[0m: name 'data' is not defined"
     ]
    }
   ],
   "source": [
    "path = r'C:\\Users\\BXDM\\Desktop\\data.csv'\n",
    "data.to_csv(path)"
   ]
  },
  {
   "cell_type": "code",
   "execution_count": 1,
   "metadata": {},
   "outputs": [
    {
     "data": {
      "text/plain": [
       "4096"
      ]
     },
     "execution_count": 1,
     "metadata": {},
     "output_type": "execute_result"
    }
   ],
   "source": [
    "1024*4"
   ]
  },
  {
   "cell_type": "code",
   "execution_count": 7,
   "metadata": {},
   "outputs": [],
   "source": []
  },
  {
   "cell_type": "code",
   "execution_count": null,
   "metadata": {},
   "outputs": [],
   "source": []
  }
 ],
 "metadata": {
  "kernelspec": {
   "display_name": "Python 3",
   "language": "python",
   "name": "python3"
  },
  "language_info": {
   "codemirror_mode": {
    "name": "ipython",
    "version": 3
   },
   "file_extension": ".py",
   "mimetype": "text/x-python",
   "name": "python",
   "nbconvert_exporter": "python",
   "pygments_lexer": "ipython3",
   "version": "3.9.2"
  }
 },
 "nbformat": 4,
 "nbformat_minor": 4
}
