{
 "cells": [
  {
   "cell_type": "code",
   "execution_count": 2,
   "id": "following-skiing",
   "metadata": {},
   "outputs": [],
   "source": [
    "# 1. 读取 Excel 文件"
   ]
  },
  {
   "cell_type": "code",
   "execution_count": 40,
   "id": "future-island",
   "metadata": {},
   "outputs": [],
   "source": [
    "import pandas as pd\n",
    "import numpy as np\n",
    "import seaborn as sns"
   ]
  },
  {
   "cell_type": "code",
   "execution_count": 4,
   "id": "inner-vermont",
   "metadata": {},
   "outputs": [
    {
     "name": "stdout",
     "output_type": "stream",
     "text": [
      ".ipynb_checkpoints\n",
      "MINGDEHENG-2.xlsx\n",
      "out.csv\n",
      "Python 处理报价-筛选特定值.ipynb\n",
      "Python 处理报价.ipynb\n",
      "Python 描述处理.ipynb\n",
      "Untitled.ipynb\n"
     ]
    }
   ],
   "source": [
    "!dir /b"
   ]
  },
  {
   "cell_type": "code",
   "execution_count": 5,
   "id": "dangerous-beginning",
   "metadata": {},
   "outputs": [],
   "source": [
    "file = \"MINGDEHENG-2.xlsx\""
   ]
  },
  {
   "cell_type": "code",
   "execution_count": 6,
   "id": "heard-assets",
   "metadata": {},
   "outputs": [],
   "source": [
    "file = pd.ExcelFile(file)\n",
    "# 需要提前安装 xlrd 和 openpyxl"
   ]
  },
  {
   "cell_type": "code",
   "execution_count": 7,
   "id": "amazing-management",
   "metadata": {},
   "outputs": [
    {
     "data": {
      "text/plain": [
       "['RFQ']"
      ]
     },
     "execution_count": 7,
     "metadata": {},
     "output_type": "execute_result"
    }
   ],
   "source": [
    "# 查看sheet名称\n",
    "sh = file.sheet_names\n",
    "sh"
   ]
  },
  {
   "cell_type": "code",
   "execution_count": 8,
   "id": "european-acceptance",
   "metadata": {},
   "outputs": [],
   "source": [
    "data = pd.read_excel(file, 'RFQ')"
   ]
  },
  {
   "cell_type": "code",
   "execution_count": 9,
   "id": "nervous-stream",
   "metadata": {},
   "outputs": [
    {
     "data": {
      "text/html": [
       "<div>\n",
       "<style scoped>\n",
       "    .dataframe tbody tr th:only-of-type {\n",
       "        vertical-align: middle;\n",
       "    }\n",
       "\n",
       "    .dataframe tbody tr th {\n",
       "        vertical-align: top;\n",
       "    }\n",
       "\n",
       "    .dataframe thead th {\n",
       "        text-align: right;\n",
       "    }\n",
       "</style>\n",
       "<table border=\"1\" class=\"dataframe\">\n",
       "  <thead>\n",
       "    <tr style=\"text-align: right;\">\n",
       "      <th></th>\n",
       "      <th>HHPN</th>\n",
       "      <th>Description</th>\n",
       "      <th>AMLPN</th>\n",
       "      <th>AML</th>\n",
       "      <th>Unit Price</th>\n",
       "      <th>Effective from</th>\n",
       "      <th>Min Pkg Qty(Pcs)</th>\n",
       "      <th>Min Order Qty(Pcs)</th>\n",
       "      <th>L/T (Days), Calendar days</th>\n",
       "      <th>Cancellation Window_ Days</th>\n",
       "      <th>Reschedule Window_ Days</th>\n",
       "      <th>Delivery Term</th>\n",
       "      <th>Payment term</th>\n",
       "      <th>Remark</th>\n",
       "    </tr>\n",
       "  </thead>\n",
       "  <tbody>\n",
       "    <tr>\n",
       "      <th>0</th>\n",
       "      <td>AREC12836</td>\n",
       "      <td>OSC,CLK,4.096MHZ 50PPM,CMOS/TTL,1.8-3.3V</td>\n",
       "      <td>3.1.1.0409601</td>\n",
       "      <td>MINGDEHENG</td>\n",
       "      <td>0.170</td>\n",
       "      <td>2021.06.01</td>\n",
       "      <td>3000</td>\n",
       "      <td>30000</td>\n",
       "      <td>140</td>\n",
       "      <td>70</td>\n",
       "      <td>70</td>\n",
       "      <td>NaN</td>\n",
       "      <td>NaN</td>\n",
       "      <td>NaN</td>\n",
       "    </tr>\n",
       "    <tr>\n",
       "      <th>1</th>\n",
       "      <td>AREC12920</td>\n",
       "      <td>XTAL,25.000MHZ,TOL30PPM/STAB30PPM,FUND,L</td>\n",
       "      <td>3206250001</td>\n",
       "      <td>MINGDEHENG</td>\n",
       "      <td>0.055</td>\n",
       "      <td>2021.06.01</td>\n",
       "      <td>3000</td>\n",
       "      <td>30000</td>\n",
       "      <td>126</td>\n",
       "      <td>56</td>\n",
       "      <td>56</td>\n",
       "      <td>NaN</td>\n",
       "      <td>NaN</td>\n",
       "      <td>NaN</td>\n",
       "    </tr>\n",
       "    <tr>\n",
       "      <th>2</th>\n",
       "      <td>AREC13080</td>\n",
       "      <td>XTAL,50.000MHZ,TOL10PPM/STAB15PPM,FUND,L</td>\n",
       "      <td>3180500002</td>\n",
       "      <td>MINGDEHENG</td>\n",
       "      <td>0.055</td>\n",
       "      <td>2021.06.01</td>\n",
       "      <td>3000</td>\n",
       "      <td>30000</td>\n",
       "      <td>126</td>\n",
       "      <td>56</td>\n",
       "      <td>56</td>\n",
       "      <td>NaN</td>\n",
       "      <td>NaN</td>\n",
       "      <td>NaN</td>\n",
       "    </tr>\n",
       "    <tr>\n",
       "      <th>3</th>\n",
       "      <td>521846-252-00</td>\n",
       "      <td>RESON,QRTZ,48MHZ,7PPM TOL,11PPM STAB,SM,</td>\n",
       "      <td>2.2.1.480000702</td>\n",
       "      <td>MINGDEHENG</td>\n",
       "      <td>0.078</td>\n",
       "      <td>2021.06.01</td>\n",
       "      <td>3000</td>\n",
       "      <td>30000</td>\n",
       "      <td>140</td>\n",
       "      <td>70</td>\n",
       "      <td>70</td>\n",
       "      <td>NaN</td>\n",
       "      <td>NaN</td>\n",
       "      <td>NaN</td>\n",
       "    </tr>\n",
       "    <tr>\n",
       "      <th>4</th>\n",
       "      <td>534709-019-00</td>\n",
       "      <td>OSC,XTAL,32.768KHZ,SM,SM4,45 TO 55%,3.3V</td>\n",
       "      <td>4156327680</td>\n",
       "      <td>MINGDEHENG</td>\n",
       "      <td>0.200</td>\n",
       "      <td>2021.06.01</td>\n",
       "      <td>3000</td>\n",
       "      <td>30000</td>\n",
       "      <td>126</td>\n",
       "      <td>56</td>\n",
       "      <td>56</td>\n",
       "      <td>NaN</td>\n",
       "      <td>NaN</td>\n",
       "      <td>NaN</td>\n",
       "    </tr>\n",
       "  </tbody>\n",
       "</table>\n",
       "</div>"
      ],
      "text/plain": [
       "            HHPN                               Description            AMLPN  \\\n",
       "0      AREC12836  OSC,CLK,4.096MHZ 50PPM,CMOS/TTL,1.8-3.3V    3.1.1.0409601   \n",
       "1      AREC12920  XTAL,25.000MHZ,TOL30PPM/STAB30PPM,FUND,L       3206250001   \n",
       "2      AREC13080  XTAL,50.000MHZ,TOL10PPM/STAB15PPM,FUND,L       3180500002   \n",
       "3  521846-252-00  RESON,QRTZ,48MHZ,7PPM TOL,11PPM STAB,SM,  2.2.1.480000702   \n",
       "4  534709-019-00  OSC,XTAL,32.768KHZ,SM,SM4,45 TO 55%,3.3V       4156327680   \n",
       "\n",
       "          AML  Unit Price Effective from  Min Pkg Qty(Pcs)  \\\n",
       "0  MINGDEHENG       0.170     2021.06.01              3000   \n",
       "1  MINGDEHENG       0.055     2021.06.01              3000   \n",
       "2  MINGDEHENG       0.055     2021.06.01              3000   \n",
       "3  MINGDEHENG       0.078     2021.06.01              3000   \n",
       "4  MINGDEHENG       0.200     2021.06.01              3000   \n",
       "\n",
       "   Min Order Qty(Pcs)  L/T (Days), Calendar days  Cancellation Window_ Days  \\\n",
       "0               30000                        140                         70   \n",
       "1               30000                        126                         56   \n",
       "2               30000                        126                         56   \n",
       "3               30000                        140                         70   \n",
       "4               30000                        126                         56   \n",
       "\n",
       "   Reschedule Window_ Days  Delivery Term  Payment term  Remark  \n",
       "0                       70            NaN           NaN     NaN  \n",
       "1                       56            NaN           NaN     NaN  \n",
       "2                       56            NaN           NaN     NaN  \n",
       "3                       70            NaN           NaN     NaN  \n",
       "4                       56            NaN           NaN     NaN  "
      ]
     },
     "execution_count": 9,
     "metadata": {},
     "output_type": "execute_result"
    }
   ],
   "source": [
    "data.head()"
   ]
  },
  {
   "cell_type": "code",
   "execution_count": 10,
   "id": "secondary-condition",
   "metadata": {},
   "outputs": [
    {
     "data": {
      "text/html": [
       "<div>\n",
       "<style scoped>\n",
       "    .dataframe tbody tr th:only-of-type {\n",
       "        vertical-align: middle;\n",
       "    }\n",
       "\n",
       "    .dataframe tbody tr th {\n",
       "        vertical-align: top;\n",
       "    }\n",
       "\n",
       "    .dataframe thead th {\n",
       "        text-align: right;\n",
       "    }\n",
       "</style>\n",
       "<table border=\"1\" class=\"dataframe\">\n",
       "  <thead>\n",
       "    <tr style=\"text-align: right;\">\n",
       "      <th></th>\n",
       "      <th>HHPN</th>\n",
       "      <th>Unit Price</th>\n",
       "    </tr>\n",
       "  </thead>\n",
       "  <tbody>\n",
       "    <tr>\n",
       "      <th>0</th>\n",
       "      <td>AREC12836</td>\n",
       "      <td>0.170</td>\n",
       "    </tr>\n",
       "    <tr>\n",
       "      <th>1</th>\n",
       "      <td>AREC12920</td>\n",
       "      <td>0.055</td>\n",
       "    </tr>\n",
       "    <tr>\n",
       "      <th>2</th>\n",
       "      <td>AREC13080</td>\n",
       "      <td>0.055</td>\n",
       "    </tr>\n",
       "    <tr>\n",
       "      <th>3</th>\n",
       "      <td>521846-252-00</td>\n",
       "      <td>0.078</td>\n",
       "    </tr>\n",
       "    <tr>\n",
       "      <th>4</th>\n",
       "      <td>534709-019-00</td>\n",
       "      <td>0.200</td>\n",
       "    </tr>\n",
       "  </tbody>\n",
       "</table>\n",
       "</div>"
      ],
      "text/plain": [
       "            HHPN  Unit Price\n",
       "0      AREC12836       0.170\n",
       "1      AREC12920       0.055\n",
       "2      AREC13080       0.055\n",
       "3  521846-252-00       0.078\n",
       "4  534709-019-00       0.200"
      ]
     },
     "execution_count": 10,
     "metadata": {},
     "output_type": "execute_result"
    }
   ],
   "source": [
    "# 查看感兴趣的列\n",
    "data[['HHPN', 'Unit Price']].head()"
   ]
  },
  {
   "cell_type": "code",
   "execution_count": 11,
   "id": "ranking-montgomery",
   "metadata": {},
   "outputs": [],
   "source": [
    "# 检查是否有重复的值"
   ]
  },
  {
   "cell_type": "code",
   "execution_count": 12,
   "id": "vocational-speaking",
   "metadata": {},
   "outputs": [
    {
     "data": {
      "text/plain": [
       "0    False\n",
       "1    False\n",
       "2    False\n",
       "3    False\n",
       "4    False\n",
       "dtype: bool"
      ]
     },
     "execution_count": 12,
     "metadata": {},
     "output_type": "execute_result"
    }
   ],
   "source": [
    "data.duplicated('HHPN').head()"
   ]
  },
  {
   "cell_type": "code",
   "execution_count": 13,
   "id": "spanish-bridal",
   "metadata": {},
   "outputs": [
    {
     "data": {
      "text/html": [
       "<div>\n",
       "<style scoped>\n",
       "    .dataframe tbody tr th:only-of-type {\n",
       "        vertical-align: middle;\n",
       "    }\n",
       "\n",
       "    .dataframe tbody tr th {\n",
       "        vertical-align: top;\n",
       "    }\n",
       "\n",
       "    .dataframe thead th {\n",
       "        text-align: right;\n",
       "    }\n",
       "</style>\n",
       "<table border=\"1\" class=\"dataframe\">\n",
       "  <thead>\n",
       "    <tr style=\"text-align: right;\">\n",
       "      <th></th>\n",
       "      <th>HHPN</th>\n",
       "      <th>Description</th>\n",
       "      <th>AMLPN</th>\n",
       "      <th>AML</th>\n",
       "      <th>Unit Price</th>\n",
       "      <th>Effective from</th>\n",
       "      <th>Min Pkg Qty(Pcs)</th>\n",
       "      <th>Min Order Qty(Pcs)</th>\n",
       "      <th>L/T (Days), Calendar days</th>\n",
       "      <th>Cancellation Window_ Days</th>\n",
       "      <th>Reschedule Window_ Days</th>\n",
       "      <th>Delivery Term</th>\n",
       "      <th>Payment term</th>\n",
       "      <th>Remark</th>\n",
       "    </tr>\n",
       "  </thead>\n",
       "  <tbody>\n",
       "    <tr>\n",
       "      <th>8</th>\n",
       "      <td>AREC12836</td>\n",
       "      <td>OSC,CLK,4.096MHZ 50PPM,CMOS/TTL,1.8-3.3V</td>\n",
       "      <td>3.1.1.0409601</td>\n",
       "      <td>MINGDEHENG</td>\n",
       "      <td>0.170</td>\n",
       "      <td>2021.06.01</td>\n",
       "      <td>3000</td>\n",
       "      <td>30000</td>\n",
       "      <td>140</td>\n",
       "      <td>70</td>\n",
       "      <td>70</td>\n",
       "      <td>NaN</td>\n",
       "      <td>NaN</td>\n",
       "      <td>NaN</td>\n",
       "    </tr>\n",
       "    <tr>\n",
       "      <th>9</th>\n",
       "      <td>AREC12920</td>\n",
       "      <td>XTAL,25.000MHZ,TOL30PPM/STAB30PPM,FUND,L</td>\n",
       "      <td>3206250001</td>\n",
       "      <td>MINGDEHENG</td>\n",
       "      <td>0.055</td>\n",
       "      <td>2021.06.01</td>\n",
       "      <td>3000</td>\n",
       "      <td>30000</td>\n",
       "      <td>126</td>\n",
       "      <td>56</td>\n",
       "      <td>56</td>\n",
       "      <td>NaN</td>\n",
       "      <td>NaN</td>\n",
       "      <td>NaN</td>\n",
       "    </tr>\n",
       "    <tr>\n",
       "      <th>10</th>\n",
       "      <td>AREC13080</td>\n",
       "      <td>XTAL,50.000MHZ,TOL10PPM/STAB15PPM,FUND,L</td>\n",
       "      <td>3180500002</td>\n",
       "      <td>MINGDEHENG</td>\n",
       "      <td>0.055</td>\n",
       "      <td>2021.06.01</td>\n",
       "      <td>3000</td>\n",
       "      <td>30000</td>\n",
       "      <td>126</td>\n",
       "      <td>56</td>\n",
       "      <td>56</td>\n",
       "      <td>NaN</td>\n",
       "      <td>NaN</td>\n",
       "      <td>NaN</td>\n",
       "    </tr>\n",
       "    <tr>\n",
       "      <th>14</th>\n",
       "      <td>AREC12920</td>\n",
       "      <td>XTAL,25.000MHZ,TOL30PPM/STAB30PPM,FUND,L</td>\n",
       "      <td>3206250001</td>\n",
       "      <td>MINGDEHENG</td>\n",
       "      <td>0.055</td>\n",
       "      <td>2021.06.01</td>\n",
       "      <td>3000</td>\n",
       "      <td>30000</td>\n",
       "      <td>126</td>\n",
       "      <td>56</td>\n",
       "      <td>56</td>\n",
       "      <td>NaN</td>\n",
       "      <td>NaN</td>\n",
       "      <td>NaN</td>\n",
       "    </tr>\n",
       "    <tr>\n",
       "      <th>15</th>\n",
       "      <td>AREC13080</td>\n",
       "      <td>XTAL,50.000MHZ,TOL10PPM/STAB15PPM,FUND,L</td>\n",
       "      <td>3180500002</td>\n",
       "      <td>MINGDEHENG</td>\n",
       "      <td>0.055</td>\n",
       "      <td>2021.06.01</td>\n",
       "      <td>3000</td>\n",
       "      <td>30000</td>\n",
       "      <td>126</td>\n",
       "      <td>56</td>\n",
       "      <td>56</td>\n",
       "      <td>NaN</td>\n",
       "      <td>NaN</td>\n",
       "      <td>NaN</td>\n",
       "    </tr>\n",
       "    <tr>\n",
       "      <th>17</th>\n",
       "      <td>AREC13292</td>\n",
       "      <td>OSC,CLK,MEMS,4.096MHZ,25PPM,3.3V,LVCMOS/</td>\n",
       "      <td>3.1.1.0409602</td>\n",
       "      <td>MINGDEHENG</td>\n",
       "      <td>0.170</td>\n",
       "      <td>2021.06.01</td>\n",
       "      <td>3000</td>\n",
       "      <td>30000</td>\n",
       "      <td>140</td>\n",
       "      <td>70</td>\n",
       "      <td>70</td>\n",
       "      <td>NaN</td>\n",
       "      <td>NaN</td>\n",
       "      <td>NaN</td>\n",
       "    </tr>\n",
       "    <tr>\n",
       "      <th>18</th>\n",
       "      <td>AREC13497</td>\n",
       "      <td>XTAL,40.000MHZ,TOL10PPM/STAB10PPM,FUND,L</td>\n",
       "      <td>3110400003</td>\n",
       "      <td>MINGDEHENG</td>\n",
       "      <td>0.055</td>\n",
       "      <td>2021.06.01</td>\n",
       "      <td>3000</td>\n",
       "      <td>30000</td>\n",
       "      <td>126</td>\n",
       "      <td>56</td>\n",
       "      <td>56</td>\n",
       "      <td>NaN</td>\n",
       "      <td>NaN</td>\n",
       "      <td>NaN</td>\n",
       "    </tr>\n",
       "    <tr>\n",
       "      <th>19</th>\n",
       "      <td>AREC13526</td>\n",
       "      <td>XTAL,40.000MHZ,TOL10PPM/STAB10PPM,FUND,L</td>\n",
       "      <td>3090400002</td>\n",
       "      <td>MINGDEHENG</td>\n",
       "      <td>0.055</td>\n",
       "      <td>2021.06.01</td>\n",
       "      <td>3000</td>\n",
       "      <td>30000</td>\n",
       "      <td>126</td>\n",
       "      <td>56</td>\n",
       "      <td>56</td>\n",
       "      <td>NaN</td>\n",
       "      <td>NaN</td>\n",
       "      <td>NaN</td>\n",
       "    </tr>\n",
       "  </tbody>\n",
       "</table>\n",
       "</div>"
      ],
      "text/plain": [
       "         HHPN                               Description          AMLPN  \\\n",
       "8   AREC12836  OSC,CLK,4.096MHZ 50PPM,CMOS/TTL,1.8-3.3V  3.1.1.0409601   \n",
       "9   AREC12920  XTAL,25.000MHZ,TOL30PPM/STAB30PPM,FUND,L     3206250001   \n",
       "10  AREC13080  XTAL,50.000MHZ,TOL10PPM/STAB15PPM,FUND,L     3180500002   \n",
       "14  AREC12920  XTAL,25.000MHZ,TOL30PPM/STAB30PPM,FUND,L     3206250001   \n",
       "15  AREC13080  XTAL,50.000MHZ,TOL10PPM/STAB15PPM,FUND,L     3180500002   \n",
       "17  AREC13292  OSC,CLK,MEMS,4.096MHZ,25PPM,3.3V,LVCMOS/  3.1.1.0409602   \n",
       "18  AREC13497  XTAL,40.000MHZ,TOL10PPM/STAB10PPM,FUND,L     3110400003   \n",
       "19  AREC13526  XTAL,40.000MHZ,TOL10PPM/STAB10PPM,FUND,L     3090400002   \n",
       "\n",
       "           AML  Unit Price Effective from  Min Pkg Qty(Pcs)  \\\n",
       "8   MINGDEHENG       0.170     2021.06.01              3000   \n",
       "9   MINGDEHENG       0.055     2021.06.01              3000   \n",
       "10  MINGDEHENG       0.055     2021.06.01              3000   \n",
       "14  MINGDEHENG       0.055     2021.06.01              3000   \n",
       "15  MINGDEHENG       0.055     2021.06.01              3000   \n",
       "17  MINGDEHENG       0.170     2021.06.01              3000   \n",
       "18  MINGDEHENG       0.055     2021.06.01              3000   \n",
       "19  MINGDEHENG       0.055     2021.06.01              3000   \n",
       "\n",
       "    Min Order Qty(Pcs)  L/T (Days), Calendar days  Cancellation Window_ Days  \\\n",
       "8                30000                        140                         70   \n",
       "9                30000                        126                         56   \n",
       "10               30000                        126                         56   \n",
       "14               30000                        126                         56   \n",
       "15               30000                        126                         56   \n",
       "17               30000                        140                         70   \n",
       "18               30000                        126                         56   \n",
       "19               30000                        126                         56   \n",
       "\n",
       "    Reschedule Window_ Days  Delivery Term  Payment term  Remark  \n",
       "8                        70            NaN           NaN     NaN  \n",
       "9                        56            NaN           NaN     NaN  \n",
       "10                       56            NaN           NaN     NaN  \n",
       "14                       56            NaN           NaN     NaN  \n",
       "15                       56            NaN           NaN     NaN  \n",
       "17                       70            NaN           NaN     NaN  \n",
       "18                       56            NaN           NaN     NaN  \n",
       "19                       56            NaN           NaN     NaN  "
      ]
     },
     "execution_count": 13,
     "metadata": {},
     "output_type": "execute_result"
    }
   ],
   "source": [
    "se = data[data.duplicated('HHPN')].index\n",
    "col = []\n",
    "for i in se:\n",
    "    col.append(data.loc[i])\n",
    "col = pd.DataFrame(col)\n",
    "col"
   ]
  },
  {
   "cell_type": "code",
   "execution_count": 14,
   "id": "sticky-overhead",
   "metadata": {},
   "outputs": [
    {
     "data": {
      "text/plain": [
       "8     AREC12836\n",
       "9     AREC12920\n",
       "10    AREC13080\n",
       "14    AREC12920\n",
       "15    AREC13080\n",
       "17    AREC13292\n",
       "18    AREC13497\n",
       "19    AREC13526\n",
       "Name: HHPN, dtype: object"
      ]
     },
     "execution_count": 14,
     "metadata": {},
     "output_type": "execute_result"
    }
   ],
   "source": [
    "# HHPN\n",
    "data.HHPN[data.duplicated('HHPN')]"
   ]
  },
  {
   "cell_type": "code",
   "execution_count": 15,
   "id": "silver-headquarters",
   "metadata": {},
   "outputs": [
    {
     "data": {
      "text/html": [
       "<div>\n",
       "<style scoped>\n",
       "    .dataframe tbody tr th:only-of-type {\n",
       "        vertical-align: middle;\n",
       "    }\n",
       "\n",
       "    .dataframe tbody tr th {\n",
       "        vertical-align: top;\n",
       "    }\n",
       "\n",
       "    .dataframe thead th {\n",
       "        text-align: right;\n",
       "    }\n",
       "</style>\n",
       "<table border=\"1\" class=\"dataframe\">\n",
       "  <thead>\n",
       "    <tr style=\"text-align: right;\">\n",
       "      <th></th>\n",
       "      <th>HHPN</th>\n",
       "      <th>AMLPN</th>\n",
       "      <th>Unit Price</th>\n",
       "    </tr>\n",
       "  </thead>\n",
       "  <tbody>\n",
       "    <tr>\n",
       "      <th>8</th>\n",
       "      <td>AREC12836</td>\n",
       "      <td>3.1.1.0409601</td>\n",
       "      <td>0.170</td>\n",
       "    </tr>\n",
       "    <tr>\n",
       "      <th>9</th>\n",
       "      <td>AREC12920</td>\n",
       "      <td>3206250001</td>\n",
       "      <td>0.055</td>\n",
       "    </tr>\n",
       "    <tr>\n",
       "      <th>10</th>\n",
       "      <td>AREC13080</td>\n",
       "      <td>3180500002</td>\n",
       "      <td>0.055</td>\n",
       "    </tr>\n",
       "    <tr>\n",
       "      <th>14</th>\n",
       "      <td>AREC12920</td>\n",
       "      <td>3206250001</td>\n",
       "      <td>0.055</td>\n",
       "    </tr>\n",
       "    <tr>\n",
       "      <th>15</th>\n",
       "      <td>AREC13080</td>\n",
       "      <td>3180500002</td>\n",
       "      <td>0.055</td>\n",
       "    </tr>\n",
       "    <tr>\n",
       "      <th>17</th>\n",
       "      <td>AREC13292</td>\n",
       "      <td>3.1.1.0409602</td>\n",
       "      <td>0.170</td>\n",
       "    </tr>\n",
       "    <tr>\n",
       "      <th>18</th>\n",
       "      <td>AREC13497</td>\n",
       "      <td>3110400003</td>\n",
       "      <td>0.055</td>\n",
       "    </tr>\n",
       "    <tr>\n",
       "      <th>19</th>\n",
       "      <td>AREC13526</td>\n",
       "      <td>3090400002</td>\n",
       "      <td>0.055</td>\n",
       "    </tr>\n",
       "  </tbody>\n",
       "</table>\n",
       "</div>"
      ],
      "text/plain": [
       "         HHPN          AMLPN  Unit Price\n",
       "8   AREC12836  3.1.1.0409601       0.170\n",
       "9   AREC12920     3206250001       0.055\n",
       "10  AREC13080     3180500002       0.055\n",
       "14  AREC12920     3206250001       0.055\n",
       "15  AREC13080     3180500002       0.055\n",
       "17  AREC13292  3.1.1.0409602       0.170\n",
       "18  AREC13497     3110400003       0.055\n",
       "19  AREC13526     3090400002       0.055"
      ]
     },
     "execution_count": 15,
     "metadata": {},
     "output_type": "execute_result"
    }
   ],
   "source": [
    "# AMLPN\n",
    "data[['HHPN', 'AMLPN', 'Unit Price']][data.duplicated('AMLPN')]\n"
   ]
  },
  {
   "cell_type": "code",
   "execution_count": 16,
   "id": "fallen-protocol",
   "metadata": {},
   "outputs": [],
   "source": [
    "labels_basic = ['HHPN', 'AML', 'AMLPN','Unit Price']"
   ]
  },
  {
   "cell_type": "code",
   "execution_count": 17,
   "id": "lonely-delay",
   "metadata": {},
   "outputs": [],
   "source": [
    "# 2. 遍历文件夹内的 Excel 文件"
   ]
  },
  {
   "cell_type": "code",
   "execution_count": 18,
   "id": "placed-withdrawal",
   "metadata": {},
   "outputs": [
    {
     "data": {
      "text/html": [
       "<div>\n",
       "<style scoped>\n",
       "    .dataframe tbody tr th:only-of-type {\n",
       "        vertical-align: middle;\n",
       "    }\n",
       "\n",
       "    .dataframe tbody tr th {\n",
       "        vertical-align: top;\n",
       "    }\n",
       "\n",
       "    .dataframe thead th {\n",
       "        text-align: right;\n",
       "    }\n",
       "</style>\n",
       "<table border=\"1\" class=\"dataframe\">\n",
       "  <thead>\n",
       "    <tr style=\"text-align: right;\">\n",
       "      <th></th>\n",
       "      <th>HHPN</th>\n",
       "      <th>AML</th>\n",
       "      <th>AMLPN</th>\n",
       "      <th>Unit Price</th>\n",
       "    </tr>\n",
       "  </thead>\n",
       "  <tbody>\n",
       "    <tr>\n",
       "      <th>0</th>\n",
       "      <td>AREC12836</td>\n",
       "      <td>MINGDEHENG</td>\n",
       "      <td>3.1.1.0409601</td>\n",
       "      <td>0.170</td>\n",
       "    </tr>\n",
       "    <tr>\n",
       "      <th>1</th>\n",
       "      <td>AREC12920</td>\n",
       "      <td>MINGDEHENG</td>\n",
       "      <td>3206250001</td>\n",
       "      <td>0.055</td>\n",
       "    </tr>\n",
       "    <tr>\n",
       "      <th>2</th>\n",
       "      <td>AREC13080</td>\n",
       "      <td>MINGDEHENG</td>\n",
       "      <td>3180500002</td>\n",
       "      <td>0.055</td>\n",
       "    </tr>\n",
       "  </tbody>\n",
       "</table>\n",
       "</div>"
      ],
      "text/plain": [
       "        HHPN         AML          AMLPN  Unit Price\n",
       "0  AREC12836  MINGDEHENG  3.1.1.0409601       0.170\n",
       "1  AREC12920  MINGDEHENG     3206250001       0.055\n",
       "2  AREC13080  MINGDEHENG     3180500002       0.055"
      ]
     },
     "execution_count": 18,
     "metadata": {},
     "output_type": "execute_result"
    }
   ],
   "source": [
    "data[labels_basic].head(3)"
   ]
  },
  {
   "cell_type": "code",
   "execution_count": 19,
   "id": "cognitive-saturn",
   "metadata": {},
   "outputs": [],
   "source": [
    "key = data.HHPN[0]+data.AML[0]+data.AMLPN[0]"
   ]
  },
  {
   "cell_type": "code",
   "execution_count": 20,
   "id": "finished-location",
   "metadata": {},
   "outputs": [
    {
     "data": {
      "text/plain": [
       "'AREC12836MINGDEHENG3.1.1.0409601'"
      ]
     },
     "execution_count": 20,
     "metadata": {},
     "output_type": "execute_result"
    }
   ],
   "source": [
    "key"
   ]
  },
  {
   "cell_type": "markdown",
   "id": "parallel-prospect",
   "metadata": {},
   "source": [
    "参考资料：[Pandas的insert插入一列](https://blog.csdn.net/shixiu_yuan/article/details/90205542?ops_request_misc=%257B%2522request%255Fid%2522%253A%2522162281640216780357244449%2522%252C%2522scm%2522%253A%252220140713.130102334..%2522%257D&request_id=162281640216780357244449&biz_id=0&utm_medium=distribute.pc_search_result.none-task-blog-2~all~sobaiduend~default-1-90205542.pc_search_result_control_group&utm_term=pandas+%E6%8F%92%E5%85%A5%E5%88%97&spm=1018.2226.3001.4187)"
   ]
  },
  {
   "cell_type": "code",
   "execution_count": 21,
   "id": "insured-trail",
   "metadata": {},
   "outputs": [],
   "source": [
    "'''\n",
    "创建 3KS 插入 DataFrame 中\n",
    "\n",
    "'''\n",
    "\n",
    "if '3ks' in data.columns:\n",
    "    print('3ks 已存在')\n",
    "else:\n",
    "    keys = []\n",
    "    for i in range(len(data)):\n",
    "        key = data.HHPN[i] + data.AML[i] + str(data.AMLPN[i])\n",
    "        keys.append(key)\n",
    "    keys\n",
    "    data.insert(0, '3ks', keys)"
   ]
  },
  {
   "cell_type": "code",
   "execution_count": 22,
   "id": "interesting-discrimination",
   "metadata": {},
   "outputs": [
    {
     "data": {
      "text/html": [
       "<div>\n",
       "<style scoped>\n",
       "    .dataframe tbody tr th:only-of-type {\n",
       "        vertical-align: middle;\n",
       "    }\n",
       "\n",
       "    .dataframe tbody tr th {\n",
       "        vertical-align: top;\n",
       "    }\n",
       "\n",
       "    .dataframe thead th {\n",
       "        text-align: right;\n",
       "    }\n",
       "</style>\n",
       "<table border=\"1\" class=\"dataframe\">\n",
       "  <thead>\n",
       "    <tr style=\"text-align: right;\">\n",
       "      <th></th>\n",
       "      <th>HHPN</th>\n",
       "      <th>AML</th>\n",
       "      <th>AMLPN</th>\n",
       "      <th>Unit Price</th>\n",
       "    </tr>\n",
       "  </thead>\n",
       "  <tbody>\n",
       "    <tr>\n",
       "      <th>0</th>\n",
       "      <td>AREC12836</td>\n",
       "      <td>MINGDEHENG</td>\n",
       "      <td>3.1.1.0409601</td>\n",
       "      <td>0.170</td>\n",
       "    </tr>\n",
       "    <tr>\n",
       "      <th>1</th>\n",
       "      <td>AREC12920</td>\n",
       "      <td>MINGDEHENG</td>\n",
       "      <td>3206250001</td>\n",
       "      <td>0.055</td>\n",
       "    </tr>\n",
       "    <tr>\n",
       "      <th>2</th>\n",
       "      <td>AREC13080</td>\n",
       "      <td>MINGDEHENG</td>\n",
       "      <td>3180500002</td>\n",
       "      <td>0.055</td>\n",
       "    </tr>\n",
       "    <tr>\n",
       "      <th>3</th>\n",
       "      <td>521846-252-00</td>\n",
       "      <td>MINGDEHENG</td>\n",
       "      <td>2.2.1.480000702</td>\n",
       "      <td>0.078</td>\n",
       "    </tr>\n",
       "    <tr>\n",
       "      <th>4</th>\n",
       "      <td>534709-019-00</td>\n",
       "      <td>MINGDEHENG</td>\n",
       "      <td>4156327680</td>\n",
       "      <td>0.200</td>\n",
       "    </tr>\n",
       "  </tbody>\n",
       "</table>\n",
       "</div>"
      ],
      "text/plain": [
       "            HHPN         AML            AMLPN  Unit Price\n",
       "0      AREC12836  MINGDEHENG    3.1.1.0409601       0.170\n",
       "1      AREC12920  MINGDEHENG       3206250001       0.055\n",
       "2      AREC13080  MINGDEHENG       3180500002       0.055\n",
       "3  521846-252-00  MINGDEHENG  2.2.1.480000702       0.078\n",
       "4  534709-019-00  MINGDEHENG       4156327680       0.200"
      ]
     },
     "execution_count": 22,
     "metadata": {},
     "output_type": "execute_result"
    }
   ],
   "source": [
    "data[labels_basic].head()"
   ]
  },
  {
   "cell_type": "code",
   "execution_count": 23,
   "id": "respiratory-celebration",
   "metadata": {},
   "outputs": [
    {
     "data": {
      "text/plain": [
       "0    AREC12836MINGDEHENG3.1.1.0409601\n",
       "1       AREC12920MINGDEHENG3206250001\n",
       "2       AREC13080MINGDEHENG3180500002\n",
       "Name: 3ks, dtype: object"
      ]
     },
     "execution_count": 23,
     "metadata": {},
     "output_type": "execute_result"
    }
   ],
   "source": [
    "data['3ks'].head(3)"
   ]
  },
  {
   "cell_type": "code",
   "execution_count": 24,
   "id": "identical-stomach",
   "metadata": {},
   "outputs": [],
   "source": [
    "data.insert(len(data.columns), 'FROM', data.HHPN)"
   ]
  },
  {
   "cell_type": "code",
   "execution_count": 25,
   "id": "advanced-profile",
   "metadata": {},
   "outputs": [],
   "source": [
    "data = data.drop(['3ks','Description', 'FROM'], axis = 1).dropna(axis = 1)"
   ]
  },
  {
   "cell_type": "code",
   "execution_count": 26,
   "id": "disturbed-burns",
   "metadata": {},
   "outputs": [],
   "source": [
    "data.to_csv('out.csv', index = False) # 将 DataFrame 写入 Excel"
   ]
  },
  {
   "cell_type": "code",
   "execution_count": 32,
   "id": "optical-wound",
   "metadata": {},
   "outputs": [
    {
     "data": {
      "text/plain": [
       "<AxesSubplot:xlabel='Unit Price', ylabel='Density'>"
      ]
     },
     "execution_count": 32,
     "metadata": {},
     "output_type": "execute_result"
    },
    {
     "data": {
      "image/png": "[encoded data removed]",
      "text/plain": [
       "<Figure size 432x288 with 1 Axes>"
      ]
     },
     "metadata": {
      "needs_background": "light"
     },
     "output_type": "display_data"
    }
   ],
   "source": [
    "# 查看价格分布情况\n",
    "sns.kdeplot(data['Unit Price'])"
   ]
  },
  {
   "cell_type": "markdown",
   "id": "parallel-collector",
   "metadata": {},
   "source": [
    "价格主要分布在 0.05 "
   ]
  },
  {
   "cell_type": "code",
   "execution_count": 39,
   "id": "demographic-representative",
   "metadata": {},
   "outputs": [
    {
     "data": {
      "text/plain": [
       "count    20.000000\n",
       "mean      0.086400\n",
       "std       0.053673\n",
       "min       0.055000\n",
       "25%       0.055000\n",
       "50%       0.055000\n",
       "75%       0.101000\n",
       "max       0.200000\n",
       "Name: Unit Price, dtype: float64"
      ]
     },
     "execution_count": 39,
     "metadata": {},
     "output_type": "execute_result"
    }
   ],
   "source": [
    "# 查看数据描述\n",
    "data['Unit Price'].describe()"
   ]
  },
  {
   "cell_type": "code",
   "execution_count": 41,
   "id": "bearing-fancy",
   "metadata": {},
   "outputs": [
    {
     "data": {
      "text/plain": [
       "0.055"
      ]
     },
     "execution_count": 41,
     "metadata": {},
     "output_type": "execute_result"
    }
   ],
   "source": [
    "# 中位数 = 50% 分位数\n",
    "np.median(data['Unit Price'])"
   ]
  },
  {
   "cell_type": "code",
   "execution_count": null,
   "id": "logical-depression",
   "metadata": {},
   "outputs": [],
   "source": []
  }
 ],
 "metadata": {
  "kernelspec": {
   "display_name": "Python 3",
   "language": "python",
   "name": "python3"
  },
  "language_info": {
   "codemirror_mode": {
    "name": "ipython",
    "version": 3
   },
   "file_extension": ".py",
   "mimetype": "text/x-python",
   "name": "python",
   "nbconvert_exporter": "python",
   "pygments_lexer": "ipython3",
   "version": "3.8.8"
  }
 },
 "nbformat": 4,
 "nbformat_minor": 5
}
