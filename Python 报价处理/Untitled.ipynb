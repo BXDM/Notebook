{
 "cells": [
  {
   "cell_type": "code",
   "execution_count": null,
   "id": "secure-contrary",
   "metadata": {},
   "outputs": [],
   "source": [
    "# python 自动分allocation"
   ]
  },
  {
   "cell_type": "code",
   "execution_count": 1,
   "id": "psychological-hungarian",
   "metadata": {},
   "outputs": [],
   "source": [
    "import pandas as pd"
   ]
  },
  {
   "cell_type": "code",
   "execution_count": 3,
   "id": "comfortable-pattern",
   "metadata": {},
   "outputs": [],
   "source": [
    "file = r'C:\\Users\\BXDM\\Desktop\\a.txt'\n",
    "data = pd.read_csv(file, sep = '\\s+')"
   ]
  },
  {
   "cell_type": "code",
   "execution_count": 6,
   "id": "specified-pharmacy",
   "metadata": {},
   "outputs": [
    {
     "data": {
      "text/html": [
       "<div>\n",
       "<style scoped>\n",
       "    .dataframe tbody tr th:only-of-type {\n",
       "        vertical-align: middle;\n",
       "    }\n",
       "\n",
       "    .dataframe tbody tr th {\n",
       "        vertical-align: top;\n",
       "    }\n",
       "\n",
       "    .dataframe thead th {\n",
       "        text-align: right;\n",
       "    }\n",
       "</style>\n",
       "<table border=\"1\" class=\"dataframe\">\n",
       "  <thead>\n",
       "    <tr style=\"text-align: right;\">\n",
       "      <th></th>\n",
       "      <th>H</th>\n",
       "      <th>M</th>\n",
       "      <th>A</th>\n",
       "      <th>P</th>\n",
       "    </tr>\n",
       "  </thead>\n",
       "  <tbody>\n",
       "    <tr>\n",
       "      <th>0</th>\n",
       "      <td>AA</td>\n",
       "      <td>y</td>\n",
       "      <td>20</td>\n",
       "      <td>0.40</td>\n",
       "    </tr>\n",
       "    <tr>\n",
       "      <th>1</th>\n",
       "      <td>AA</td>\n",
       "      <td>m</td>\n",
       "      <td>60</td>\n",
       "      <td>0.30</td>\n",
       "    </tr>\n",
       "    <tr>\n",
       "      <th>2</th>\n",
       "      <td>AA</td>\n",
       "      <td>t</td>\n",
       "      <td>20</td>\n",
       "      <td>0.35</td>\n",
       "    </tr>\n",
       "    <tr>\n",
       "      <th>3</th>\n",
       "      <td>BB</td>\n",
       "      <td>n</td>\n",
       "      <td>80</td>\n",
       "      <td>0.50</td>\n",
       "    </tr>\n",
       "    <tr>\n",
       "      <th>4</th>\n",
       "      <td>BB</td>\n",
       "      <td>k</td>\n",
       "      <td>20</td>\n",
       "      <td>0.60</td>\n",
       "    </tr>\n",
       "  </tbody>\n",
       "</table>\n",
       "</div>"
      ],
      "text/plain": [
       "    H  M   A     P\n",
       "0  AA  y  20  0.40\n",
       "1  AA  m  60  0.30\n",
       "2  AA  t  20  0.35\n",
       "3  BB  n  80  0.50\n",
       "4  BB  k  20  0.60"
      ]
     },
     "execution_count": 6,
     "metadata": {},
     "output_type": "execute_result"
    }
   ],
   "source": [
    "data"
   ]
  },
  {
   "cell_type": "code",
   "execution_count": 12,
   "id": "gorgeous-dakota",
   "metadata": {},
   "outputs": [
    {
     "data": {
      "text/plain": [
       "0    AA\n",
       "1    BB\n",
       "Name: H, dtype: object"
      ]
     },
     "execution_count": 12,
     "metadata": {},
     "output_type": "execute_result"
    }
   ],
   "source": [
    "hh = data['H'].drop_duplicates()\n",
    "hh.index = range(len(hh))"
   ]
  },
  {
   "cell_type": "code",
   "execution_count": 17,
   "id": "earlier-linux",
   "metadata": {},
   "outputs": [
    {
     "name": "stdout",
     "output_type": "stream",
     "text": [
      "AA 20\n",
      "AA 60\n",
      "AA 20\n",
      "BB 80\n",
      "BB 20\n"
     ]
    }
   ],
   "source": [
    "for i in range(len(data)):\n",
    "    print(data.H[i], data.A[i])"
   ]
  },
  {
   "cell_type": "code",
   "execution_count": 28,
   "id": "closed-conversation",
   "metadata": {},
   "outputs": [
    {
     "data": {
      "text/plain": [
       "H\n",
       "AA    100\n",
       "BB    100\n",
       "Name: A, dtype: int64"
      ]
     },
     "execution_count": 28,
     "metadata": {},
     "output_type": "execute_result"
    }
   ],
   "source": [
    "a = data.groupby('H')\n",
    "t = a['A'].sum()    \n",
    "t    "
   ]
  }
 ],
 "metadata": {
  "kernelspec": {
   "display_name": "Python 3",
   "language": "python",
   "name": "python3"
  },
  "language_info": {
   "codemirror_mode": {
    "name": "ipython",
    "version": 3
   },
   "file_extension": ".py",
   "mimetype": "text/x-python",
   "name": "python",
   "nbconvert_exporter": "python",
   "pygments_lexer": "ipython3",
   "version": "3.9.2"
  }
 },
 "nbformat": 4,
 "nbformat_minor": 5
}
