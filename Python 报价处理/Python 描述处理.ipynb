{
 "cells": [
  {
   "cell_type": "code",
   "execution_count": 2,
   "id": "beginning-settlement",
   "metadata": {},
   "outputs": [],
   "source": [
    "# Python 描述处理"
   ]
  },
  {
   "cell_type": "code",
   "execution_count": 3,
   "id": "maritime-reputation",
   "metadata": {},
   "outputs": [],
   "source": [
    "import pandas as pd"
   ]
  },
  {
   "cell_type": "code",
   "execution_count": 4,
   "id": "compatible-license",
   "metadata": {},
   "outputs": [],
   "source": [
    "file = \"MINGDEHENG-2.xlsx\"\n",
    "file = pd.ExcelFile(file)\n",
    "data = pd.read_excel(file, 'RFQ')"
   ]
  },
  {
   "cell_type": "code",
   "execution_count": 40,
   "id": "streaming-london",
   "metadata": {},
   "outputs": [
    {
     "data": {
      "text/plain": [
       "0     OSC,CLK,4.096MHZ 50PPM,CMOS/TTL,1.8-3.3V\n",
       "1     XTAL,25.000MHZ,TOL30PPM/STAB30PPM,FUND,L\n",
       "2     XTAL,50.000MHZ,TOL10PPM/STAB15PPM,FUND,L\n",
       "3     RESON,QRTZ,48MHZ,7PPM TOL,11PPM STAB,SM,\n",
       "4     OSC,XTAL,32.768KHZ,SM,SM4,45 TO 55%,3.3V\n",
       "5     RESON,QRTZ,32MHZ,10PPM TOL,SM,SM4,FUND,A\n",
       "6     RESON,QRTZ,54MHZ,15PPM TOL,20PPM STAB,SM\n",
       "7     RESON,QRTZ,54MHZ,10PPM TOL,30PPM STAB,SM\n",
       "8     OSC,CLK,4.096MHZ 50PPM,CMOS/TTL,1.8-3.3V\n",
       "9     XTAL,25.000MHZ,TOL30PPM/STAB30PPM,FUND,L\n",
       "10    XTAL,50.000MHZ,TOL10PPM/STAB15PPM,FUND,L\n",
       "11    OSC,CLK,MEMS,4.096MHZ,25PPM,3.3V,LVCMOS/\n",
       "12    XTAL,40.000MHZ,TOL10PPM/STAB10PPM,FUND,L\n",
       "13    XTAL,40.000MHZ,TOL10PPM/STAB10PPM,FUND,L\n",
       "14    XTAL,25.000MHZ,TOL30PPM/STAB30PPM,FUND,L\n",
       "15    XTAL,50.000MHZ,TOL10PPM/STAB15PPM,FUND,L\n",
       "16    XTAL,54.000MHZ,TOL15PPM/STAB20PPM,FUND,L\n",
       "17    OSC,CLK,MEMS,4.096MHZ,25PPM,3.3V,LVCMOS/\n",
       "18    XTAL,40.000MHZ,TOL10PPM/STAB10PPM,FUND,L\n",
       "19    XTAL,40.000MHZ,TOL10PPM/STAB10PPM,FUND,L\n",
       "Name: Description, dtype: object"
      ]
     },
     "execution_count": 40,
     "metadata": {},
     "output_type": "execute_result"
    }
   ],
   "source": [
    "s = data['Description']\n",
    "t = s[0]\n",
    "s"
   ]
  },
  {
   "cell_type": "code",
   "execution_count": 27,
   "id": "closing-journey",
   "metadata": {},
   "outputs": [],
   "source": [
    "ss = []\n",
    "for i in range(len(s)):\n",
    "    ss.append(s[i].split(\",\")[0])"
   ]
  },
  {
   "cell_type": "code",
   "execution_count": 35,
   "id": "further-tourist",
   "metadata": {},
   "outputs": [
    {
     "data": {
      "text/plain": [
       "'OSC,CLK,4.096MHZ 50PPM,CMOS/TTL,1.8-3.3V'"
      ]
     },
     "execution_count": 35,
     "metadata": {},
     "output_type": "execute_result"
    }
   ],
   "source": [
    "t"
   ]
  },
  {
   "cell_type": "code",
   "execution_count": 58,
   "id": "fatal-annex",
   "metadata": {},
   "outputs": [
    {
     "ename": "TypeError",
     "evalue": "expected string or bytes-like object",
     "output_type": "error",
     "traceback": [
      "\u001B[1;31m---------------------------------------------------------------------------\u001B[0m",
      "\u001B[1;31mTypeError\u001B[0m                                 Traceback (most recent call last)",
      "\u001B[1;32m<ipython-input-58-5f9f98f576e8>\u001B[0m in \u001B[0;36m<module>\u001B[1;34m\u001B[0m\n\u001B[0;32m      1\u001B[0m \u001B[1;31m# 获取 commodity\u001B[0m\u001B[1;33m\u001B[0m\u001B[1;33m\u001B[0m\u001B[1;33m\u001B[0m\u001B[0m\n\u001B[0;32m      2\u001B[0m \u001B[0mt\u001B[0m\u001B[1;33m.\u001B[0m\u001B[0msplit\u001B[0m\u001B[1;33m(\u001B[0m\u001B[1;34m','\u001B[0m\u001B[1;33m)\u001B[0m\u001B[1;33m\u001B[0m\u001B[1;33m\u001B[0m\u001B[0m\n\u001B[1;32m----> 3\u001B[1;33m \u001B[0mre\u001B[0m\u001B[1;33m.\u001B[0m\u001B[0mmatch\u001B[0m\u001B[1;33m(\u001B[0m\u001B[1;34m'C*'\u001B[0m\u001B[1;33m,\u001B[0m \u001B[0mt\u001B[0m\u001B[1;33m.\u001B[0m\u001B[0msplit\u001B[0m\u001B[1;33m(\u001B[0m\u001B[1;34m','\u001B[0m\u001B[1;33m)\u001B[0m\u001B[1;33m)\u001B[0m\u001B[1;33m\u001B[0m\u001B[1;33m\u001B[0m\u001B[0m\n\u001B[0m",
      "\u001B[1;32mc:\\users\\bxdm\\appdata\\local\\programs\\python\\python39\\lib\\re.py\u001B[0m in \u001B[0;36mmatch\u001B[1;34m(pattern, string, flags)\u001B[0m\n\u001B[0;32m    189\u001B[0m     \"\"\"Try to apply the pattern at the start of the string, returning\n\u001B[0;32m    190\u001B[0m     a Match object, or None if no match was found.\"\"\"\n\u001B[1;32m--> 191\u001B[1;33m     \u001B[1;32mreturn\u001B[0m \u001B[0m_compile\u001B[0m\u001B[1;33m(\u001B[0m\u001B[0mpattern\u001B[0m\u001B[1;33m,\u001B[0m \u001B[0mflags\u001B[0m\u001B[1;33m)\u001B[0m\u001B[1;33m.\u001B[0m\u001B[0mmatch\u001B[0m\u001B[1;33m(\u001B[0m\u001B[0mstring\u001B[0m\u001B[1;33m)\u001B[0m\u001B[1;33m\u001B[0m\u001B[1;33m\u001B[0m\u001B[0m\n\u001B[0m\u001B[0;32m    192\u001B[0m \u001B[1;33m\u001B[0m\u001B[0m\n\u001B[0;32m    193\u001B[0m \u001B[1;32mdef\u001B[0m \u001B[0mfullmatch\u001B[0m\u001B[1;33m(\u001B[0m\u001B[0mpattern\u001B[0m\u001B[1;33m,\u001B[0m \u001B[0mstring\u001B[0m\u001B[1;33m,\u001B[0m \u001B[0mflags\u001B[0m\u001B[1;33m=\u001B[0m\u001B[1;36m0\u001B[0m\u001B[1;33m)\u001B[0m\u001B[1;33m:\u001B[0m\u001B[1;33m\u001B[0m\u001B[1;33m\u001B[0m\u001B[0m\n",
      "\u001B[1;31mTypeError\u001B[0m: expected string or bytes-like object"
     ]
    }
   ],
   "source": [
    "# 获取 commodity\n",
    "t.split(',')\n",
    "re.match('C*', t.split(','))"
   ]
  },
  {
   "cell_type": "markdown",
   "id": "chubby-shelter",
   "metadata": {},
   "source": [
    "参考资料:[Python简洁使用正则对列表元素进行筛选, 并生成新列表](https://blog.csdn.net/liaowhgg/article/details/86667938)"
   ]
  },
  {
   "cell_type": "code",
   "execution_count": 42,
   "id": "coastal-ballet",
   "metadata": {},
   "outputs": [
    {
     "name": "stdout",
     "output_type": "stream",
     "text": [
      "['dog_1', 'dog_2', 'dog_3']\n"
     ]
    }
   ],
   "source": [
    "\n",
    "# 筛选出data_list中所有的dog并保存在new_data_list中\n",
    "import re\n",
    "\n",
    "data_list = ['cat_1', 'dog_1', 'dog_2', 'cat_2', 'dog_3', 'cat_3']  # 原列表中既有dog也有cat, 并且无规律\n",
    "\n",
    "new_data_list = []  # 保存筛选出来dog的列表\n",
    "\n",
    "for data in data_list:  # 遍历列表\n",
    "    if  re.match('dog.*', data) != None:  # 如果正则匹配出的数据不为None, 就将此数据添加到新列表中\n",
    "        new_data_list.append(data)\n",
    "\n",
    "print(new_data_list)\n",
    "\n"
   ]
  },
  {
   "cell_type": "code",
   "execution_count": 44,
   "id": "integral-scotland",
   "metadata": {},
   "outputs": [
    {
     "name": "stdout",
     "output_type": "stream",
     "text": [
      "['dog_1', 'dog_2', 'dog_3']\n"
     ]
    }
   ],
   "source": [
    "# 使用匿名函数\n",
    "import re\n",
    "\n",
    "data_list = ['cat_1', 'dog_1', 'dog_2', 'cat_2', 'dog_3', 'cat_3']  # 原列表中既有dog也有cat, 并且无规律\n",
    "\n",
    "new_data_list = list(filter(lambda x: re.match('dog.*', x) != None, data_list))  # 生成新列表\n",
    "\n",
    "print(new_data_list)\n",
    "\n"
   ]
  },
  {
   "cell_type": "code",
   "execution_count": 66,
   "id": "ethical-louis",
   "metadata": {},
   "outputs": [
    {
     "ename": "SyntaxError",
     "evalue": "invalid character '：' (U+FF1A) (<ipython-input-66-d99d4124fbc3>, line 2)",
     "output_type": "error",
     "traceback": [
      "\u001B[1;36m  File \u001B[1;32m\"<ipython-input-66-d99d4124fbc3>\"\u001B[1;36m, line \u001B[1;32m2\u001B[0m\n\u001B[1;33m    hz = list(filter(lambda x：re.match('C*', x) != None, t.split(',')))\u001B[0m\n\u001B[1;37m                             ^\u001B[0m\n\u001B[1;31mSyntaxError\u001B[0m\u001B[1;31m:\u001B[0m invalid character '：' (U+FF1A)\n"
     ]
    }
   ],
   "source": [
    "t.split(',')\n",
    "hz = list(filter(lambda x：re.match('C*', x) != None, t.split(',')))"
   ]
  },
  {
   "cell_type": "code",
   "execution_count": 77,
   "id": "authorized-mount",
   "metadata": {},
   "outputs": [
    {
     "data": {
      "text/plain": [
       "['OSC', 'CLK', '4.096MHZ 50PPM', 'CMOS/TTL', '1.8-3.3V']"
      ]
     },
     "execution_count": 77,
     "metadata": {},
     "output_type": "execute_result"
    }
   ],
   "source": [
    "t.split(',')"
   ]
  },
  {
   "cell_type": "code",
   "execution_count": 70,
   "id": "clean-hearts",
   "metadata": {},
   "outputs": [
    {
     "data": {
      "text/plain": [
       "False"
      ]
     },
     "execution_count": 70,
     "metadata": {},
     "output_type": "execute_result"
    }
   ],
   "source": [
    "'*HZ' in t.split(',')"
   ]
  },
  {
   "cell_type": "code",
   "execution_count": null,
   "id": "improved-petite",
   "metadata": {},
   "outputs": [],
   "source": []
  }
 ],
 "metadata": {
  "kernelspec": {
   "display_name": "Python 3",
   "language": "python",
   "name": "python3"
  },
  "language_info": {
   "codemirror_mode": {
    "name": "ipython",
    "version": 3
   },
   "file_extension": ".py",
   "mimetype": "text/x-python",
   "name": "python",
   "nbconvert_exporter": "python",
   "pygments_lexer": "ipython3",
   "version": "3.9.2"
  }
 },
 "nbformat": 4,
 "nbformat_minor": 5
}
