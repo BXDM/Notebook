{
 "cells": [
  {
   "cell_type": "markdown",
   "metadata": {},
   "source": [
    "## 主要读取的数据格式\n",
    "- 变量\n",
    "- txt 格斯\n",
    "- Excel\n",
    "- csv\n",
    "- Json"
   ]
  },
  {
   "cell_type": "markdown",
   "metadata": {},
   "source": [
    "### 1. R 命令输入数据"
   ]
  },
  {
   "cell_type": "code",
   "execution_count": 8,
   "metadata": {},
   "outputs": [],
   "source": [
    "salary <- c(18700000, 14626720, 14137500, 13980000, 12916666)\n",
    "position <- c(\"QB\", \"QB\", \"DE\", \"QB\", \"QB\")\n",
    "team <- c(\"colts\", \"patriots\", \"Panthers\", \"bengals\", \"Giants\")\n",
    "name.last <- c(\"Manning\", \"Brady\", \"Pepper\", \"Palmer\", \"Manning\")\n",
    "name.first <- c(\"Peyton\", \"Tom\", \"Julius\", \"Carson\", \"Eli\")"
   ]
  },
  {
   "cell_type": "code",
   "execution_count": 10,
   "metadata": {},
   "outputs": [
    {
     "data": {
      "text/html": [
       "<table>\n",
       "<caption>A data.frame: 5 × 5</caption>\n",
       "<thead>\n",
       "\t<tr><th scope=col>name.last</th><th scope=col>name.first</th><th scope=col>team</th><th scope=col>position</th><th scope=col>salary</th></tr>\n",
       "\t<tr><th scope=col>&lt;chr&gt;</th><th scope=col>&lt;chr&gt;</th><th scope=col>&lt;chr&gt;</th><th scope=col>&lt;chr&gt;</th><th scope=col>&lt;dbl&gt;</th></tr>\n",
       "</thead>\n",
       "<tbody>\n",
       "\t<tr><td>Manning</td><td>Peyton</td><td>colts   </td><td>QB</td><td>18700000</td></tr>\n",
       "\t<tr><td>Brady  </td><td>Tom   </td><td>patriots</td><td>QB</td><td>14626720</td></tr>\n",
       "\t<tr><td>Pepper </td><td>Julius</td><td>Panthers</td><td>DE</td><td>14137500</td></tr>\n",
       "\t<tr><td>Palmer </td><td>Carson</td><td>bengals </td><td>QB</td><td>13980000</td></tr>\n",
       "\t<tr><td>Manning</td><td>Eli   </td><td>Giants  </td><td>QB</td><td>12916666</td></tr>\n",
       "</tbody>\n",
       "</table>\n"
      ],
      "text/latex": [
       "A data.frame: 5 × 5\n",
       "\\begin{tabular}{lllll}\n",
       " name.last & name.first & team & position & salary\\\\\n",
       " <chr> & <chr> & <chr> & <chr> & <dbl>\\\\\n",
       "\\hline\n",
       "\t Manning & Peyton & colts    & QB & 18700000\\\\\n",
       "\t Brady   & Tom    & patriots & QB & 14626720\\\\\n",
       "\t Pepper  & Julius & Panthers & DE & 14137500\\\\\n",
       "\t Palmer  & Carson & bengals  & QB & 13980000\\\\\n",
       "\t Manning & Eli    & Giants   & QB & 12916666\\\\\n",
       "\\end{tabular}\n"
      ],
      "text/markdown": [
       "\n",
       "A data.frame: 5 × 5\n",
       "\n",
       "| name.last &lt;chr&gt; | name.first &lt;chr&gt; | team &lt;chr&gt; | position &lt;chr&gt; | salary &lt;dbl&gt; |\n",
       "|---|---|---|---|---|\n",
       "| Manning | Peyton | colts    | QB | 18700000 |\n",
       "| Brady   | Tom    | patriots | QB | 14626720 |\n",
       "| Pepper  | Julius | Panthers | DE | 14137500 |\n",
       "| Palmer  | Carson | bengals  | QB | 13980000 |\n",
       "| Manning | Eli    | Giants   | QB | 12916666 |\n",
       "\n"
      ],
      "text/plain": [
       "  name.last name.first team     position salary  \n",
       "1 Manning   Peyton     colts    QB       18700000\n",
       "2 Brady     Tom        patriots QB       14626720\n",
       "3 Pepper    Julius     Panthers DE       14137500\n",
       "4 Palmer    Carson     bengals  QB       13980000\n",
       "5 Manning   Eli        Giants   QB       12916666"
      ]
     },
     "metadata": {},
     "output_type": "display_data"
    }
   ],
   "source": [
    "top.5.salaries  <- data.frame(name.last, name.first, team, position, salary)\n",
    "top.5.salaries"
   ]
  },
  {
   "cell_type": "code",
   "execution_count": 17,
   "metadata": {},
   "outputs": [],
   "source": [
    "# 将数据保存到外部文件\n",
    "save(top.5.salaries, file = \"top.5.salaries.RData\")"
   ]
  },
  {
   "cell_type": "code",
   "execution_count": 1,
   "metadata": {},
   "outputs": [
    {
     "data": {
      "text/html": [
       "'top.5.salaries'"
      ],
      "text/latex": [
       "'top.5.salaries'"
      ],
      "text/markdown": [
       "'top.5.salaries'"
      ],
      "text/plain": [
       "[1] \"top.5.salaries\""
      ]
     },
     "metadata": {},
     "output_type": "display_data"
    }
   ],
   "source": [
    "salaries <- load(\"top.5.salaries.RData\")\n",
    "salaries"
   ]
  },
  {
   "cell_type": "markdown",
   "metadata": {},
   "source": [
    "### 2. 读取 txt 数据"
   ]
  },
  {
   "cell_type": "code",
   "execution_count": 13,
   "metadata": {},
   "outputs": [],
   "source": [
    "data <- read.table(file)"
   ]
  },
  {
   "cell_type": "code",
   "execution_count": 14,
   "metadata": {},
   "outputs": [
    {
     "data": {
      "text/html": [
       "<table>\n",
       "<caption>A data.frame: 21 × 2</caption>\n",
       "<thead>\n",
       "\t<tr><th scope=col>V1</th><th scope=col>V2</th></tr>\n",
       "\t<tr><th scope=col>&lt;int&gt;</th><th scope=col>&lt;int&gt;</th></tr>\n",
       "</thead>\n",
       "<tbody>\n",
       "\t<tr><td>  1</td><td>93</td></tr>\n",
       "\t<tr><td> 30</td><td>96</td></tr>\n",
       "\t<tr><td> 60</td><td>84</td></tr>\n",
       "\t<tr><td> 90</td><td>84</td></tr>\n",
       "\t<tr><td>120</td><td>48</td></tr>\n",
       "\t<tr><td>150</td><td>38</td></tr>\n",
       "\t<tr><td>180</td><td>51</td></tr>\n",
       "\t<tr><td>210</td><td>57</td></tr>\n",
       "\t<tr><td>240</td><td>40</td></tr>\n",
       "\t<tr><td>270</td><td>45</td></tr>\n",
       "\t<tr><td>300</td><td>50</td></tr>\n",
       "\t<tr><td>330</td><td>75</td></tr>\n",
       "\t<tr><td>360</td><td>80</td></tr>\n",
       "\t<tr><td>390</td><td>60</td></tr>\n",
       "\t<tr><td>420</td><td>72</td></tr>\n",
       "\t<tr><td>450</td><td>67</td></tr>\n",
       "\t<tr><td>480</td><td>71</td></tr>\n",
       "\t<tr><td>510</td><td> 7</td></tr>\n",
       "\t<tr><td>540</td><td>74</td></tr>\n",
       "\t<tr><td>570</td><td>63</td></tr>\n",
       "\t<tr><td>600</td><td>69</td></tr>\n",
       "</tbody>\n",
       "</table>\n"
      ],
      "text/latex": [
       "A data.frame: 21 × 2\n",
       "\\begin{tabular}{ll}\n",
       " V1 & V2\\\\\n",
       " <int> & <int>\\\\\n",
       "\\hline\n",
       "\t   1 & 93\\\\\n",
       "\t  30 & 96\\\\\n",
       "\t  60 & 84\\\\\n",
       "\t  90 & 84\\\\\n",
       "\t 120 & 48\\\\\n",
       "\t 150 & 38\\\\\n",
       "\t 180 & 51\\\\\n",
       "\t 210 & 57\\\\\n",
       "\t 240 & 40\\\\\n",
       "\t 270 & 45\\\\\n",
       "\t 300 & 50\\\\\n",
       "\t 330 & 75\\\\\n",
       "\t 360 & 80\\\\\n",
       "\t 390 & 60\\\\\n",
       "\t 420 & 72\\\\\n",
       "\t 450 & 67\\\\\n",
       "\t 480 & 71\\\\\n",
       "\t 510 &  7\\\\\n",
       "\t 540 & 74\\\\\n",
       "\t 570 & 63\\\\\n",
       "\t 600 & 69\\\\\n",
       "\\end{tabular}\n"
      ],
      "text/markdown": [
       "\n",
       "A data.frame: 21 × 2\n",
       "\n",
       "| V1 &lt;int&gt; | V2 &lt;int&gt; |\n",
       "|---|---|\n",
       "|   1 | 93 |\n",
       "|  30 | 96 |\n",
       "|  60 | 84 |\n",
       "|  90 | 84 |\n",
       "| 120 | 48 |\n",
       "| 150 | 38 |\n",
       "| 180 | 51 |\n",
       "| 210 | 57 |\n",
       "| 240 | 40 |\n",
       "| 270 | 45 |\n",
       "| 300 | 50 |\n",
       "| 330 | 75 |\n",
       "| 360 | 80 |\n",
       "| 390 | 60 |\n",
       "| 420 | 72 |\n",
       "| 450 | 67 |\n",
       "| 480 | 71 |\n",
       "| 510 |  7 |\n",
       "| 540 | 74 |\n",
       "| 570 | 63 |\n",
       "| 600 | 69 |\n",
       "\n"
      ],
      "text/plain": [
       "   V1  V2\n",
       "1    1 93\n",
       "2   30 96\n",
       "3   60 84\n",
       "4   90 84\n",
       "5  120 48\n",
       "6  150 38\n",
       "7  180 51\n",
       "8  210 57\n",
       "9  240 40\n",
       "10 270 45\n",
       "11 300 50\n",
       "12 330 75\n",
       "13 360 80\n",
       "14 390 60\n",
       "15 420 72\n",
       "16 450 67\n",
       "17 480 71\n",
       "18 510  7\n",
       "19 540 74\n",
       "20 570 63\n",
       "21 600 69"
      ]
     },
     "metadata": {},
     "output_type": "display_data"
    }
   ],
   "source": [
    "data"
   ]
  },
  {
   "cell_type": "code",
   "execution_count": null,
   "metadata": {},
   "outputs": [],
   "source": []
  },
  {
   "cell_type": "code",
   "execution_count": null,
   "metadata": {},
   "outputs": [],
   "source": []
  }
 ],
 "metadata": {
  "kernelspec": {
   "display_name": "R",
   "language": "R",
   "name": "ir"
  },
  "language_info": {
   "codemirror_mode": "r",
   "file_extension": ".r",
   "mimetype": "text/x-r-source",
   "name": "R",
   "pygments_lexer": "r",
   "version": "4.0.2"
  }
 },
 "nbformat": 4,
 "nbformat_minor": 4
}
