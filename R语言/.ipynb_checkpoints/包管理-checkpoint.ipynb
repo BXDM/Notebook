{
 "cells": [
  {
   "cell_type": "markdown",
   "metadata": {},
   "source": [
    "从源码安装包\n",
    "\n",
    "```r\n",
    "install.packages(path_to_file, repos = NULL, type=\"source\")\n",
    "```\n",
    "[stackoverflow 参考资料](https://stackoverflow.com/questions/1474081/how-do-i-install-an-r-package-from-source)"
   ]
  },
  {
   "cell_type": "code",
   "execution_count": null,
   "metadata": {},
   "outputs": [],
   "source": [
    "# 列出本地库中的包"
   ]
  },
  {
   "cell_type": "code",
   "execution_count": null,
   "metadata": {},
   "outputs": [],
   "source": [
    "getoption(\"defaultPackages\")"
   ]
  }
 ],
 "metadata": {
  "kernelspec": {
   "display_name": "R",
   "language": "R",
   "name": "ir"
  },
  "language_info": {
   "codemirror_mode": "r",
   "file_extension": ".r",
   "mimetype": "text/x-r-source",
   "name": "R",
   "pygments_lexer": "r",
   "version": "4.0.2"
  }
 },
 "nbformat": 4,
 "nbformat_minor": 4
}
