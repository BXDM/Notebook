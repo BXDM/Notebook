{
 "cells": [
  {
   "metadata": {
    "ExecuteTime": {
     "end_time": "2024-08-18T14:27:59.624500Z",
     "start_time": "2024-08-18T14:27:58.960904Z"
    }
   },
   "cell_type": "code",
   "source": [
    "import pandas as pd\n",
    "import sqlite3\n",
    "import os"
   ],
   "id": "e3a193e744053f6",
   "outputs": [],
   "execution_count": 4
  },
  {
   "metadata": {
    "ExecuteTime": {
     "end_time": "2024-08-18T14:52:55.593320Z",
     "start_time": "2024-08-18T14:52:55.590192Z"
    }
   },
   "cell_type": "code",
   "source": [
    "path = r'C:\\Users\\BXDM\\Desktop\\ifind数据\\全部A股20200101至今'\n",
    "file_paths = {\n",
    "    'open': '开盘价.xlsx',\n",
    "    'volume': '成交量.xlsx',\n",
    "    'tvr': '换手率.xlsx', # 假设你有高价和低价数据\n",
    "    'close': '收盘价.xlsx'\n",
    "}"
   ],
   "id": "6d80e277db89819f",
   "outputs": [],
   "execution_count": 32
  },
  {
   "metadata": {
    "ExecuteTime": {
     "end_time": "2024-08-18T14:28:02.733875Z",
     "start_time": "2024-08-18T14:28:02.730256Z"
    }
   },
   "cell_type": "code",
   "source": [
    "# 打开SQLite数据库连接\n",
    "conn = sqlite3.connect('stock_data.db')"
   ],
   "id": "bb6d8dc9818fe142",
   "outputs": [],
   "execution_count": 5
  },
  {
   "metadata": {
    "ExecuteTime": {
     "end_time": "2024-08-18T14:45:20.142501Z",
     "start_time": "2024-08-18T14:45:20.138708Z"
    }
   },
   "cell_type": "code",
   "source": "files",
   "id": "b0fc2bb505f07d68",
   "outputs": [
    {
     "data": {
      "text/plain": [
       "['开盘价.xlsx', '成交量.xlsx', '换手率.xlsx', '收盘价.xlsx']"
      ]
     },
     "execution_count": 30,
     "metadata": {},
     "output_type": "execute_result"
    }
   ],
   "execution_count": 30
  },
  {
   "metadata": {
    "ExecuteTime": {
     "end_time": "2024-08-18T14:52:59.060936Z",
     "start_time": "2024-08-18T14:52:59.057260Z"
    }
   },
   "cell_type": "code",
   "source": [
    "for table_name, file_path in file_paths.items():\n",
    "    print(table_name, file_path)"
   ],
   "id": "4041ed67fcbd3b53",
   "outputs": [
    {
     "name": "stdout",
     "output_type": "stream",
     "text": [
      "open 开盘价.xlsx\n",
      "volume 成交量.xlsx\n",
      "tvr 换手率.xlsx\n",
      "close 收盘价.xlsx\n"
     ]
    }
   ],
   "execution_count": 33
  },
  {
   "metadata": {
    "ExecuteTime": {
     "end_time": "2024-08-18T14:59:00.112269Z",
     "start_time": "2024-08-18T14:53:52.905740Z"
    }
   },
   "cell_type": "code",
   "source": [
    "for table_name, file_path in file_paths.items():\n",
    "    file = os.path.join(path, '开盘价.xlsx')\n",
    "    df = pd.read_excel(file, sheet_name='Sheet1 (2)', index_col=0)\n",
    "    df = df.drop(columns=['日期'])\n",
    "    df = df.stack().reset_index()\n",
    "    df.columns = ['stock_code', 'date', table_name]\n",
    "    df.to_sql(table_name, conn, if_exists='replace')"
   ],
   "id": "initial_id",
   "outputs": [],
   "execution_count": 34
  },
  {
   "metadata": {
    "ExecuteTime": {
     "end_time": "2024-08-18T14:59:14.337336Z",
     "start_time": "2024-08-18T14:59:14.331559Z"
    }
   },
   "cell_type": "code",
   "source": "conn.close()",
   "id": "e86ea2ee8bb3e728",
   "outputs": [],
   "execution_count": 35
  },
  {
   "metadata": {
    "ExecuteTime": {
     "end_time": "2024-08-18T15:26:17.258399Z",
     "start_time": "2024-08-18T15:26:16.565636Z"
    }
   },
   "cell_type": "code",
   "source": [
    "import sqlite3\n",
    "import pandas as pd\n",
    "\n",
    "# 连接数据库\n",
    "conn = sqlite3.connect('stock_data.db')\n",
    "\n",
    "# 查询特定股票代码在某个日期的开盘价和成交量\n",
    "stock_code = '000001.SZ'\n",
    "date = '2022-01-03'\n",
    "\n",
    "query = f\"\"\"\n",
    "    SELECT open.date, open.open, volume.volume\n",
    "    FROM open\n",
    "    JOIN volume ON open.stock_code = volume.stock_code AND open.date = volume.date\n",
    "    WHERE open.stock_code = '000001.SZ' AND open.date = '2020-01-02 00:00:00';\n",
    "\"\"\"\n",
    "\n",
    "result = pd.read_sql_query(query, conn)\n",
    "print(result)\n",
    "\n",
    "# 关闭数据库连接\n",
    "conn.close()\n",
    "\n"
   ],
   "id": "12c989a4a96b9588",
   "outputs": [
    {
     "name": "stdout",
     "output_type": "stream",
     "text": [
      "                  date   open  volume\n",
      "0  2020-01-02 00:00:00  16.65   16.65\n"
     ]
    }
   ],
   "execution_count": 6
  },
  {
   "metadata": {},
   "cell_type": "code",
   "outputs": [],
   "execution_count": null,
   "source": "",
   "id": "890d13fe58de52f3"
  }
 ],
 "metadata": {
  "kernelspec": {
   "display_name": "Python 3",
   "language": "python",
   "name": "python3"
  },
  "language_info": {
   "codemirror_mode": {
    "name": "ipython",
    "version": 2
   },
   "file_extension": ".py",
   "mimetype": "text/x-python",
   "name": "python",
   "nbconvert_exporter": "python",
   "pygments_lexer": "ipython2",
   "version": "2.7.6"
  }
 },
 "nbformat": 4,
 "nbformat_minor": 5
}
