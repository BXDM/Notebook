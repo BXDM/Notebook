{
 "cells": [
  {
   "cell_type": "code",
   "id": "initial_id",
   "metadata": {
    "collapsed": true,
    "ExecuteTime": {
     "end_time": "2024-07-05T13:57:13.934612Z",
     "start_time": "2024-07-05T13:57:13.932205Z"
    }
   },
   "source": [
    "import yfinance as yf\n",
    "import sqlite3"
   ],
   "outputs": [],
   "execution_count": 16
  },
  {
   "metadata": {
    "ExecuteTime": {
     "end_time": "2024-07-05T13:57:13.963883Z",
     "start_time": "2024-07-05T13:57:13.935613Z"
    }
   },
   "cell_type": "code",
   "source": [
    "# # 获取新数据\n",
    "stocks = {\n",
    "    'MSFT':'US'\n",
    "}\n",
    "\n",
    "# stocks = {\n",
    "#     'AAPL': 'US',    # Apple, 美股\n",
    "#     '0700.HK': 'HK', # Tencent, 港股\n",
    "#     '600519.SS': 'CN' # Kweichow Moutai, A股\n",
    "# }"
   ],
   "id": "b13ab55f95d45311",
   "outputs": [],
   "execution_count": 17
  },
  {
   "metadata": {
    "ExecuteTime": {
     "end_time": "2024-07-05T13:57:13.967289Z",
     "start_time": "2024-07-05T13:57:13.964883Z"
    }
   },
   "cell_type": "code",
   "source": "",
   "id": "5dac3efb2a69276",
   "outputs": [],
   "execution_count": 17
  },
  {
   "metadata": {
    "ExecuteTime": {
     "end_time": "2024-07-05T13:57:17.088874Z",
     "start_time": "2024-07-05T13:57:13.967289Z"
    }
   },
   "cell_type": "code",
   "source": [
    "conn = sqlite3.connect('stock_data.db')\n",
    "cursor = conn.cursor()\n",
    "for ticker, market in stocks.items():\n",
    "    stock = yf.Ticker(ticker)\n",
    "    hist = stock.history(period=\"max\")\n",
    "\n",
    "    # 将DataFrame转换为适合SQLite插入的格式\n",
    "    hist.reset_index(inplace=True)\n",
    "    hist['ticker'] = ticker\n",
    "    hist['market'] = market\n",
    "    hist = hist.drop(['Dividends', 'Stock Splits'], axis=1)\n",
    "\n",
    "    # 插入数据到SQLite数据库\n",
    "    hist.to_sql('stock_data', conn, if_exists='append', index=False)"
   ],
   "id": "7def0be32705b998",
   "outputs": [],
   "execution_count": 18
  },
  {
   "metadata": {
    "ExecuteTime": {
     "end_time": "2024-07-05T13:57:17.094898Z",
     "start_time": "2024-07-05T13:57:17.090878Z"
    }
   },
   "cell_type": "code",
   "source": [
    "cursor.execute('SELECT * FROM stock_data WHERE ticker=\"MSFT\" LIMIT 5')\n",
    "print(cursor.fetchall())"
   ],
   "id": "121b63498730ac6c",
   "outputs": [
    {
     "name": "stdout",
     "output_type": "stream",
     "text": [
      "[('2019-07-05 00:00:00-04:00', 129.6454120913122, 130.97104869894224, 129.43559784674545, 130.7135467529297, 18141100, 'MSFT', 'US', None), ('2019-07-08 00:00:00-04:00', 130.08408226874812, 130.75168087287776, 129.1017769026317, 130.6181640625, 16779700, 'MSFT', 'US', None), ('2019-07-09 00:00:00-04:00', 129.7026508762174, 130.62773712385243, 129.51191459420147, 130.141357421875, 19953100, 'MSFT', 'US', None), ('2019-07-10 00:00:00-04:00', 130.78027226055423, 132.16312786411189, 130.67536517050564, 131.46693420410156, 24204400, 'MSFT', 'US', None), ('2019-07-11 00:00:00-04:00', 131.80073411996648, 132.77350774431181, 131.48601281349477, 131.99147033691406, 22327900, 'MSFT', 'US', None)]\n"
     ]
    }
   ],
   "execution_count": 19
  }
 ],
 "metadata": {
  "kernelspec": {
   "display_name": "Python 3",
   "language": "python",
   "name": "python3"
  },
  "language_info": {
   "codemirror_mode": {
    "name": "ipython",
    "version": 2
   },
   "file_extension": ".py",
   "mimetype": "text/x-python",
   "name": "python",
   "nbconvert_exporter": "python",
   "pygments_lexer": "ipython2",
   "version": "2.7.6"
  }
 },
 "nbformat": 4,
 "nbformat_minor": 5
}
