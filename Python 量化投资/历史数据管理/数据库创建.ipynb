{
 "cells": [
  {
   "cell_type": "code",
   "id": "initial_id",
   "metadata": {
    "collapsed": true,
    "jupyter": {
     "is_executing": true
    }
   },
   "source": [
    "import yfinance as yf\n",
    "import sqlite3\n",
    "import pandas as pd\n",
    "\n",
    "# 创建SQLite数据库连接\n",
    "conn = sqlite3.connect('stock_data.db')\n",
    "\n",
    "# 创建股票数据表\n",
    "cursor = conn.cursor()\n",
    "cursor.execute('''\n",
    "CREATE TABLE IF NOT EXISTS stock_data (\n",
    "    date TEXT,\n",
    "    open REAL,\n",
    "    high REAL,\n",
    "    low REAL,\n",
    "    close REAL,\n",
    "    volume INTEGER,\n",
    "    ticker TEXT,\n",
    "    market TEXT\n",
    ")\n",
    "''')\n",
    "\n",
    "# 获取多个市场的股票数据\n",
    "stocks = {\n",
    "    'AAPL': 'US',    # Apple, 美股\n",
    "    '0700.HK': 'HK', # Tencent, 港股\n",
    "    '600519.SS': 'CN' # Kweichow Moutai, A股\n",
    "}\n",
    "\n",
    "for ticker, market in stocks.items():\n",
    "    stock = yf.Ticker(ticker)\n",
    "    hist = stock.history(period=\"5y\")\n",
    "\n",
    "    # 将DataFrame转换为适合SQLite插入的格式\n",
    "    hist.reset_index(inplace=True)\n",
    "    hist['ticker'] = ticker\n",
    "    hist['market'] = market\n",
    "    hist = hist.drop(['Dividends', 'Stock Splits'], axis=1)\n",
    "\n",
    "    # 插入数据到SQLite数据库\n",
    "    hist.to_sql('stock_data', conn, if_exists='append', index=False)\n",
    "\n",
    "# 确认数据插入\n",
    "cursor.execute('SELECT * FROM stock_data LIMIT 5')\n",
    "print(cursor.fetchall())\n",
    "\n",
    "# 关闭数据库连接\n",
    "conn.close()"
   ],
   "outputs": [],
   "execution_count": null
  },
  {
   "metadata": {
    "ExecuteTime": {
     "end_time": "2024-07-05T12:54:54.785170Z",
     "start_time": "2024-07-05T12:54:54.455239Z"
    }
   },
   "cell_type": "code",
   "source": [
    "cursor.execute('SELECT * FROM stock_data LIMIT 5')\n",
    "print(cursor.fetchall())"
   ],
   "id": "13902ebca68a042c",
   "outputs": [
    {
     "ename": "NameError",
     "evalue": "name 'cursor' is not defined",
     "output_type": "error",
     "traceback": [
      "\u001B[1;31m---------------------------------------------------------------------------\u001B[0m",
      "\u001B[1;31mNameError\u001B[0m                                 Traceback (most recent call last)",
      "Cell \u001B[1;32mIn[1], line 1\u001B[0m\n\u001B[1;32m----> 1\u001B[0m cursor\u001B[38;5;241m.\u001B[39mexecute(\u001B[38;5;124m'\u001B[39m\u001B[38;5;124mSELECT * FROM stock_data LIMIT 5\u001B[39m\u001B[38;5;124m'\u001B[39m)\n\u001B[0;32m      2\u001B[0m \u001B[38;5;28mprint\u001B[39m(cursor\u001B[38;5;241m.\u001B[39mfetchall())\n",
      "\u001B[1;31mNameError\u001B[0m: name 'cursor' is not defined"
     ]
    }
   ],
   "execution_count": 1
  }
 ],
 "metadata": {
  "kernelspec": {
   "display_name": "Python 3",
   "language": "python",
   "name": "python3"
  },
  "language_info": {
   "codemirror_mode": {
    "name": "ipython",
    "version": 2
   },
   "file_extension": ".py",
   "mimetype": "text/x-python",
   "name": "python",
   "nbconvert_exporter": "python",
   "pygments_lexer": "ipython2",
   "version": "2.7.6"
  }
 },
 "nbformat": 4,
 "nbformat_minor": 5
}
