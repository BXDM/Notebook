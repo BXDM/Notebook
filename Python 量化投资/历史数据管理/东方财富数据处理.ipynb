{
 "cells": [
  {
   "cell_type": "code",
   "id": "initial_id",
   "metadata": {
    "collapsed": true,
    "ExecuteTime": {
     "end_time": "2025-02-27T15:02:46.691976Z",
     "start_time": "2025-02-27T15:02:46.491438Z"
    }
   },
   "source": [
    "import pandas as pd\n",
    "from sqlalchemy import create_engine\n",
    "import re"
   ],
   "outputs": [],
   "execution_count": 2
  },
  {
   "metadata": {
    "ExecuteTime": {
     "end_time": "2025-02-27T15:18:59.093803Z",
     "start_time": "2025-02-27T15:18:59.089391Z"
    }
   },
   "cell_type": "code",
   "source": [
    "import pandas as pd\n",
    "from sqlalchemy import create_engine\n",
    "from datetime import datetime\n",
    "\n",
    "# 读取TXT数据\n",
    "file_path = r\"C:\\Users\\BXDM\\Desktop\\20250226Table - 副本.txt\"\n",
    "df = pd.read_csv(file_path, sep=r'\\s+', engine='python', encoding='gbk')"
   ],
   "id": "9df89698fbffcf1e",
   "outputs": [],
   "execution_count": 15
  },
  {
   "metadata": {
    "ExecuteTime": {
     "end_time": "2025-02-27T15:24:39.719432Z",
     "start_time": "2025-02-27T15:24:39.716390Z"
    }
   },
   "cell_type": "code",
   "source": [
    "column_mapping = {\n",
    "    '序': 'Index',  # Index: 序号\n",
    "    '代码': 'StockCode',  # StockCode: 股票代码\n",
    "    '名称': 'StockName',  # StockName: 股票名称\n",
    "    '最新': 'LatestPrice',  # LatestPrice: 最新股价\n",
    "    '涨幅%': 'PriceChangeRate',  # PriceChangeRate: 涨幅百分比\n",
    "    '涨跌': 'PriceChange',  # PriceChange: 涨跌额\n",
    "    '总量': 'TotalVolume',  # TotalVolume: 总成交量\n",
    "    '现量': 'CurrentVolume',  # CurrentVolume: 当前成交量\n",
    "    '买入价': 'BuyPrice',  # BuyPrice: 买入价格\n",
    "    '卖出价': 'SellPrice',  # SellPrice: 卖出价格\n",
    "    '涨速%': 'PriceChangeSpeedRate',  # PriceChangeSpeedRate: 涨速百分比\n",
    "    '换手%': 'TurnoverRate',  # TurnoverRate: 换手率\n",
    "    '金额': 'Amount',  # Amount: 成交金额\n",
    "    '市盈率(动)': 'PE_Ratio',  # PE_Ratio: 市盈率\n",
    "    '所属行业': 'Industry',  # Industry: 所属行业\n",
    "    '最高': 'High',  # High: 最高价\n",
    "    '最低': 'Low',  # Low: 最低价\n",
    "    '开盘': 'Open',  # Open: 开盘价\n",
    "    '昨收': 'PrevClose',  # PrevClose: 昨日收盘价\n",
    "    '振幅%': 'AmplitudeRate',  # AmplitudeRate: 振幅百分比\n",
    "    '量比': 'VolumeRatio',  # VolumeRatio: 量比\n",
    "    '委比%': 'OrderRatioRate',  # OrderRatioRate: 委比百分比\n",
    "    '委差': 'OrderDifference',  # OrderDifference: 委差\n",
    "    '均价': 'AveragePrice',  # AveragePrice: 均价\n",
    "    '内盘': 'InnerVolume',  # InnerVolume: 内盘成交量\n",
    "    '外盘': 'OuterVolume',  # OuterVolume: 外盘成交量\n",
    "    '内外比': 'InnerOuterRatio',  # InnerOuterRatio: 内外盘比\n",
    "    '买一量': 'BuyVolume1',  # BuyVolume1: 买一量\n",
    "    '卖一量': 'SellVolume1',  # SellVolume1: 卖一量\n",
    "    '市净率': 'PB_Ratio',  # PB_Ratio: 市净率\n",
    "    '总股本': 'TotalShares',  # TotalShares: 总股本\n",
    "    '总市值': 'MarketCap',  # MarketCap: 总市值\n",
    "    '流通股本': 'FloatShares',  # FloatShares: 流通股本\n",
    "    '流通市值': 'FloatMarketCap',  # FloatMarketCap: 流通市值\n",
    "    '3日涨幅%': '3DayPriceChangeRate',  # 3DayPriceChangeRate: 3日涨幅\n",
    "    '6日涨幅%': '6DayPriceChangeRate',  # 6DayPriceChangeRate: 6日涨幅\n",
    "    '3日换手%': '3DayTurnoverRate',  # 3DayTurnoverRate: 3日换手率\n",
    "    '6日换手%': '6DayTurnoverRate',  # 6DayTurnoverRate: 6日换手率\n",
    "    '连涨天数': 'ConsecutiveUpDays',  # ConsecutiveUpDays: 连涨天数\n",
    "    '本月涨幅%': 'MonthPriceChangeRate',  # MonthPriceChangeRate: 本月涨幅\n",
    "    '今年涨幅%': 'YearToDatePriceChangeRate',  # YearToDatePriceChangeRate: 今年涨幅\n",
    "    '近一月涨幅%': '1MonthPriceChangeRate',  # 1MonthPriceChangeRate: 近一月涨幅\n",
    "    '近一年涨幅%': '1YearPriceChangeRate'  # 1YearPriceChangeRate: 近一年涨幅\n",
    "}"
   ],
   "id": "89f059803e9c6ed1",
   "outputs": [],
   "execution_count": 20
  },
  {
   "metadata": {
    "ExecuteTime": {
     "end_time": "2025-02-27T15:25:41.000712Z",
     "start_time": "2025-02-27T15:25:40.997633Z"
    }
   },
   "cell_type": "code",
   "source": [
    "# 将列名从中文转换为英文\n",
    "df = df.rename(columns=column_mapping)"
   ],
   "id": "7383e3614b49778a",
   "outputs": [
    {
     "name": "stdout",
     "output_type": "stream",
     "text": [
      "Index(['Index', 'StockCode', 'StockName', 'LatestPrice', 'PriceChangeRate',\n",
      "       'PriceChange', 'TotalVolume', 'CurrentVolume', 'BuyPrice', 'SellPrice',\n",
      "       'PriceChangeSpeedRate', 'TurnoverRate', 'Amount', 'PE_Ratio',\n",
      "       'Industry', 'High', 'Low', 'Open', 'PrevClose', 'AmplitudeRate',\n",
      "       'VolumeRatio', 'OrderRatioRate', 'OrderDifference', 'AveragePrice',\n",
      "       'InnerVolume', 'OuterVolume', 'InnerOuterRatio', 'BuyVolume1',\n",
      "       'SellVolume1', 'PB_Ratio', 'TotalShares', 'MarketCap', 'FloatShares',\n",
      "       'FloatMarketCap', '3DayPriceChangeRate', '6DayPriceChangeRate',\n",
      "       '3DayTurnoverRate', '6DayTurnoverRate', 'ConsecutiveUpDays',\n",
      "       'MonthPriceChangeRate', 'YearToDatePriceChangeRate',\n",
      "       '1MonthPriceChangeRate', '1YearPriceChangeRate'],\n",
      "      dtype='object')\n"
     ]
    }
   ],
   "execution_count": 21
  },
  {
   "metadata": {
    "ExecuteTime": {
     "end_time": "2025-02-27T15:45:40.959244Z",
     "start_time": "2025-02-27T15:45:40.943972Z"
    }
   },
   "cell_type": "code",
   "source": [
    "import pandas as pd\n",
    "from sqlalchemy import create_engine\n",
    "from datetime import datetime\n",
    "\n",
    "# 设置日期为当天（通过datetime获取当前日期）\n",
    "today = datetime.today().strftime('%Y-%m-%d')  # 日期格式为 'YYYY-MM-DD'\n",
    "df['Date'] = today\n",
    "\n",
    "# 数据库连接（使用SQLite为例）\n",
    "engine = create_engine('sqlite:///stock_data.db')\n",
    "\n",
    "# 将数据写入数据库（表名使用英文，并且如果表存在则追加）\n",
    "df.to_sql('stock_data', con=engine, if_exists='append', index=False)\n",
    "\n",
    "print(f\"{today} 的数据已成功写入数据库\")\n"
   ],
   "id": "22811c2e8e475632",
   "outputs": [
    {
     "name": "stdout",
     "output_type": "stream",
     "text": [
      "2025-02-27 的数据已成功写入数据库\n"
     ]
    }
   ],
   "execution_count": 26
  },
  {
   "metadata": {},
   "cell_type": "code",
   "outputs": [],
   "execution_count": null,
   "source": "",
   "id": "1607ccbc3a8cb8b0"
  }
 ],
 "metadata": {
  "kernelspec": {
   "display_name": "Python 3",
   "language": "python",
   "name": "python3"
  },
  "language_info": {
   "codemirror_mode": {
    "name": "ipython",
    "version": 2
   },
   "file_extension": ".py",
   "mimetype": "text/x-python",
   "name": "python",
   "nbconvert_exporter": "python",
   "pygments_lexer": "ipython2",
   "version": "2.7.6"
  }
 },
 "nbformat": 4,
 "nbformat_minor": 5
}
