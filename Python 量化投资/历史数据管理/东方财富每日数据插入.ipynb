{
 "cells": [
  {
   "cell_type": "code",
   "id": "initial_id",
   "metadata": {
    "collapsed": true,
    "ExecuteTime": {
     "end_time": "2025-08-07T10:28:06.757171Z",
     "start_time": "2025-08-07T10:28:06.749456Z"
    }
   },
   "source": [
    "import pandas as pd\n",
    "from datetime import datetime"
   ],
   "outputs": [],
   "execution_count": 30
  },
  {
   "metadata": {
    "ExecuteTime": {
     "end_time": "2025-08-07T10:28:08.394010Z",
     "start_time": "2025-08-07T10:28:08.348341Z"
    }
   },
   "cell_type": "code",
   "source": [
    "file = r\"C:\\Users\\BXDM\\Documents\\股票数据\\20250807.csv\"\n",
    "df = pd.read_csv(file,\n",
    "                 # encoding='gbk',\n",
    "                 dtype={'代码': str})  # 处理股票代码由 000XXX 变成 XXX的问题"
   ],
   "id": "5bfad629436b8c5d",
   "outputs": [],
   "execution_count": 31
  },
  {
   "metadata": {
    "ExecuteTime": {
     "end_time": "2025-08-07T10:28:10.510095Z",
     "start_time": "2025-08-07T10:28:10.506017Z"
    }
   },
   "cell_type": "code",
   "source": [
    "column_mapping = {\n",
    "    '代码': 'stock_code',  # StockCode: 股票代码\n",
    "    '开盘': 'open_price',  # Open: 开盘价\n",
    "    '最新': 'close_price',  # LatestPrice: 最新股价\n",
    "    '最高': 'high_price',  # High: 最高价\n",
    "    '最低': 'low_price',  # Low: 最低价\n",
    "    '总量': 'volume',  # TotalVolume: 总成交量(/股)\n",
    "    '涨幅%': 'pct_change',  # PriceChangeRate: 涨幅百分比\n",
    "}"
   ],
   "id": "8f3d8e6e6dcc769f",
   "outputs": [],
   "execution_count": 32
  },
  {
   "metadata": {
    "ExecuteTime": {
     "end_time": "2025-08-07T10:28:12.919735Z",
     "start_time": "2025-08-07T10:28:12.915173Z"
    }
   },
   "cell_type": "code",
   "source": [
    "# 将列名从中文转换为英文\n",
    "df = df[column_mapping.keys()].rename(columns=column_mapping)"
   ],
   "id": "e1e84edcfda88388",
   "outputs": [],
   "execution_count": 33
  },
  {
   "metadata": {
    "ExecuteTime": {
     "end_time": "2025-08-07T10:28:15.089557Z",
     "start_time": "2025-08-07T10:28:15.085977Z"
    }
   },
   "cell_type": "code",
   "source": [
    "# 成交量转换为股数\n",
    "\n",
    "import re\n",
    "\n",
    "def convert_volume_to_shares(volume_str):\n",
    "    \"\"\"\n",
    "    将成交量字符串转换为股数（整数）：\n",
    "    - \"万\" → 万手 → 股（1万手 = 100万股）\n",
    "    - \"M\" → 百万股 → 股（1M = 1,000,000股）\n",
    "    - 纯数字 → 手 → 股（1手 = 100股）\n",
    "    \"\"\"\n",
    "    if pd.isna(volume_str):  # 处理空值\n",
    "        return 0\n",
    "    \n",
    "    volume_str = str(volume_str).strip()  # 转为字符串并去除空格\n",
    "    \n",
    "    # 情况1：带\"万\"（万手）\n",
    "    if \"万\" in volume_str:\n",
    "        num = float(re.sub(r\"[^\\d.]\", \"\", volume_str))  # 提取数字（如\"241万\"→241）\n",
    "        return int(num * 100 * 10000)  # 万手 → 股\n",
    "    \n",
    "    # 情况2：带\"M\"（百万股）\n",
    "    elif \"M\" in volume_str.upper():\n",
    "        num = float(re.sub(r\"[^\\d.]\", \"\", volume_str))  # 提取数字（如\"1.5M\"→1.5）\n",
    "        return int(num * 1000000)  # 百万股 → 股\n",
    "    \n",
    "    # 情况3：纯数字（默认单位是手）\n",
    "    else:\n",
    "        try:\n",
    "            num = float(volume_str)\n",
    "            return int(num * 100)  # 手 → 股\n",
    "        except ValueError:\n",
    "            return 0  # 无效数据返回0"
   ],
   "id": "48f95195e7c8b44b",
   "outputs": [],
   "execution_count": 34
  },
  {
   "metadata": {
    "ExecuteTime": {
     "end_time": "2025-08-07T10:28:17.563825Z",
     "start_time": "2025-08-07T10:28:17.558827Z"
    }
   },
   "cell_type": "code",
   "source": [
    "# 设置日期为当天（通过datetime获取当前日期）\n",
    "today = datetime.today().strftime('%Y-%m-%d')  # 日期格式为 'YYYY-MM-DD'\n",
    "# today = '2025-08-01'\n",
    "df['trade_date'] = today\n",
    "today"
   ],
   "id": "5259d3f597039bfe",
   "outputs": [
    {
     "data": {
      "text/plain": [
       "'2025-08-07'"
      ]
     },
     "execution_count": 35,
     "metadata": {},
     "output_type": "execute_result"
    }
   ],
   "execution_count": 35
  },
  {
   "metadata": {
    "ExecuteTime": {
     "end_time": "2025-08-07T10:28:20.279038Z",
     "start_time": "2025-08-07T10:28:20.271017Z"
    }
   },
   "cell_type": "code",
   "source": [
    "df['volume'] = df['volume'].apply(convert_volume_to_shares)\n",
    "df[\"update_time\"] = datetime.now().strftime('%Y-%m-%d %H:%M:%S')    # 统一更新时间"
   ],
   "id": "133cadc5fb4289b1",
   "outputs": [],
   "execution_count": 36
  },
  {
   "metadata": {
    "ExecuteTime": {
     "end_time": "2025-08-07T10:28:22.494927Z",
     "start_time": "2025-08-07T10:28:22.485972Z"
    }
   },
   "cell_type": "code",
   "source": "df\n",
   "id": "f858c24a517c167",
   "outputs": [
    {
     "data": {
      "text/plain": [
       "     stock_code open_price close_price high_price low_price     volume  \\\n",
       "0        002377       3.25        3.37       3.37       3.2   54700000   \n",
       "1        601718       4.32         4.8        4.8      4.22  424000000   \n",
       "2        000536       4.76        5.24       5.24      4.75  255000000   \n",
       "3        603518       9.84       10.84      10.84      9.83   37299999   \n",
       "4        603648      11.28       12.39      12.39     11.23   30900000   \n",
       "...         ...        ...         ...        ...       ...        ...   \n",
       "3049     002097      16.81       15.75      17.15     15.75  288000000   \n",
       "3050     003036      21.79       19.62      21.99     19.62    7680000   \n",
       "3051     002550       11.5        10.7       11.5      10.7  127000000   \n",
       "3052     603059      49.47       40.47      49.47     40.47   19600000   \n",
       "3053     002775       5.18        5.18       5.26      5.18   28700000   \n",
       "\n",
       "     pct_change  trade_date          update_time  \n",
       "0         10.13  2025-08-07  2025-08-07 18:28:20  \n",
       "1         10.09  2025-08-07  2025-08-07 18:28:20  \n",
       "2         10.08  2025-08-07  2025-08-07 18:28:20  \n",
       "3         10.05  2025-08-07  2025-08-07 18:28:20  \n",
       "4         10.04  2025-08-07  2025-08-07 18:28:20  \n",
       "...         ...         ...                  ...  \n",
       "3049        -10  2025-08-07  2025-08-07 18:28:20  \n",
       "3050        -10  2025-08-07  2025-08-07 18:28:20  \n",
       "3051     -10.01  2025-08-07  2025-08-07 18:28:20  \n",
       "3052     -10.01  2025-08-07  2025-08-07 18:28:20  \n",
       "3053     -10.07  2025-08-07  2025-08-07 18:28:20  \n",
       "\n",
       "[3054 rows x 9 columns]"
      ],
      "text/html": [
       "<div>\n",
       "<style scoped>\n",
       "    .dataframe tbody tr th:only-of-type {\n",
       "        vertical-align: middle;\n",
       "    }\n",
       "\n",
       "    .dataframe tbody tr th {\n",
       "        vertical-align: top;\n",
       "    }\n",
       "\n",
       "    .dataframe thead th {\n",
       "        text-align: right;\n",
       "    }\n",
       "</style>\n",
       "<table border=\"1\" class=\"dataframe\">\n",
       "  <thead>\n",
       "    <tr style=\"text-align: right;\">\n",
       "      <th></th>\n",
       "      <th>stock_code</th>\n",
       "      <th>open_price</th>\n",
       "      <th>close_price</th>\n",
       "      <th>high_price</th>\n",
       "      <th>low_price</th>\n",
       "      <th>volume</th>\n",
       "      <th>pct_change</th>\n",
       "      <th>trade_date</th>\n",
       "      <th>update_time</th>\n",
       "    </tr>\n",
       "  </thead>\n",
       "  <tbody>\n",
       "    <tr>\n",
       "      <th>0</th>\n",
       "      <td>002377</td>\n",
       "      <td>3.25</td>\n",
       "      <td>3.37</td>\n",
       "      <td>3.37</td>\n",
       "      <td>3.2</td>\n",
       "      <td>54700000</td>\n",
       "      <td>10.13</td>\n",
       "      <td>2025-08-07</td>\n",
       "      <td>2025-08-07 18:28:20</td>\n",
       "    </tr>\n",
       "    <tr>\n",
       "      <th>1</th>\n",
       "      <td>601718</td>\n",
       "      <td>4.32</td>\n",
       "      <td>4.8</td>\n",
       "      <td>4.8</td>\n",
       "      <td>4.22</td>\n",
       "      <td>424000000</td>\n",
       "      <td>10.09</td>\n",
       "      <td>2025-08-07</td>\n",
       "      <td>2025-08-07 18:28:20</td>\n",
       "    </tr>\n",
       "    <tr>\n",
       "      <th>2</th>\n",
       "      <td>000536</td>\n",
       "      <td>4.76</td>\n",
       "      <td>5.24</td>\n",
       "      <td>5.24</td>\n",
       "      <td>4.75</td>\n",
       "      <td>255000000</td>\n",
       "      <td>10.08</td>\n",
       "      <td>2025-08-07</td>\n",
       "      <td>2025-08-07 18:28:20</td>\n",
       "    </tr>\n",
       "    <tr>\n",
       "      <th>3</th>\n",
       "      <td>603518</td>\n",
       "      <td>9.84</td>\n",
       "      <td>10.84</td>\n",
       "      <td>10.84</td>\n",
       "      <td>9.83</td>\n",
       "      <td>37299999</td>\n",
       "      <td>10.05</td>\n",
       "      <td>2025-08-07</td>\n",
       "      <td>2025-08-07 18:28:20</td>\n",
       "    </tr>\n",
       "    <tr>\n",
       "      <th>4</th>\n",
       "      <td>603648</td>\n",
       "      <td>11.28</td>\n",
       "      <td>12.39</td>\n",
       "      <td>12.39</td>\n",
       "      <td>11.23</td>\n",
       "      <td>30900000</td>\n",
       "      <td>10.04</td>\n",
       "      <td>2025-08-07</td>\n",
       "      <td>2025-08-07 18:28:20</td>\n",
       "    </tr>\n",
       "    <tr>\n",
       "      <th>...</th>\n",
       "      <td>...</td>\n",
       "      <td>...</td>\n",
       "      <td>...</td>\n",
       "      <td>...</td>\n",
       "      <td>...</td>\n",
       "      <td>...</td>\n",
       "      <td>...</td>\n",
       "      <td>...</td>\n",
       "      <td>...</td>\n",
       "    </tr>\n",
       "    <tr>\n",
       "      <th>3049</th>\n",
       "      <td>002097</td>\n",
       "      <td>16.81</td>\n",
       "      <td>15.75</td>\n",
       "      <td>17.15</td>\n",
       "      <td>15.75</td>\n",
       "      <td>288000000</td>\n",
       "      <td>-10</td>\n",
       "      <td>2025-08-07</td>\n",
       "      <td>2025-08-07 18:28:20</td>\n",
       "    </tr>\n",
       "    <tr>\n",
       "      <th>3050</th>\n",
       "      <td>003036</td>\n",
       "      <td>21.79</td>\n",
       "      <td>19.62</td>\n",
       "      <td>21.99</td>\n",
       "      <td>19.62</td>\n",
       "      <td>7680000</td>\n",
       "      <td>-10</td>\n",
       "      <td>2025-08-07</td>\n",
       "      <td>2025-08-07 18:28:20</td>\n",
       "    </tr>\n",
       "    <tr>\n",
       "      <th>3051</th>\n",
       "      <td>002550</td>\n",
       "      <td>11.5</td>\n",
       "      <td>10.7</td>\n",
       "      <td>11.5</td>\n",
       "      <td>10.7</td>\n",
       "      <td>127000000</td>\n",
       "      <td>-10.01</td>\n",
       "      <td>2025-08-07</td>\n",
       "      <td>2025-08-07 18:28:20</td>\n",
       "    </tr>\n",
       "    <tr>\n",
       "      <th>3052</th>\n",
       "      <td>603059</td>\n",
       "      <td>49.47</td>\n",
       "      <td>40.47</td>\n",
       "      <td>49.47</td>\n",
       "      <td>40.47</td>\n",
       "      <td>19600000</td>\n",
       "      <td>-10.01</td>\n",
       "      <td>2025-08-07</td>\n",
       "      <td>2025-08-07 18:28:20</td>\n",
       "    </tr>\n",
       "    <tr>\n",
       "      <th>3053</th>\n",
       "      <td>002775</td>\n",
       "      <td>5.18</td>\n",
       "      <td>5.18</td>\n",
       "      <td>5.26</td>\n",
       "      <td>5.18</td>\n",
       "      <td>28700000</td>\n",
       "      <td>-10.07</td>\n",
       "      <td>2025-08-07</td>\n",
       "      <td>2025-08-07 18:28:20</td>\n",
       "    </tr>\n",
       "  </tbody>\n",
       "</table>\n",
       "<p>3054 rows × 9 columns</p>\n",
       "</div>"
      ]
     },
     "execution_count": 37,
     "metadata": {},
     "output_type": "execute_result"
    }
   ],
   "execution_count": 37
  },
  {
   "metadata": {
    "ExecuteTime": {
     "end_time": "2025-08-07T10:28:26.794181Z",
     "start_time": "2025-08-07T10:28:26.759387Z"
    }
   },
   "cell_type": "code",
   "source": [
    "import sqlite3\n",
    "\n",
    "conn = sqlite3.connect('stock_data.db')\n",
    "\n",
    "update_fields = [col for col in df.columns if col not in ['stock_code', 'trade_date']]\n",
    "set_clause = ', '.join([f\"{col}=excluded.{col}\" for col in update_fields])\n",
    "placeholders = ', '.join(['?'] * len(df.columns))\n",
    "\n",
    "sql = f\"\"\"\n",
    "INSERT INTO stock_daily_data ({', '.join(df.columns)})\n",
    "VALUES ({placeholders})\n",
    "ON CONFLICT(stock_code, trade_date) DO UPDATE SET\n",
    "{set_clause}\n",
    "\"\"\"\n",
    "\n",
    "conn.executemany(sql, df.values.tolist())\n",
    "conn.commit()\n",
    "conn.close()"
   ],
   "id": "1567865738244e07",
   "outputs": [],
   "execution_count": 38
  },
  {
   "metadata": {},
   "cell_type": "code",
   "outputs": [],
   "execution_count": null,
   "source": "",
   "id": "5709c06ed7cd1ba4"
  }
 ],
 "metadata": {
  "kernelspec": {
   "display_name": "Python 3",
   "language": "python",
   "name": "python3"
  },
  "language_info": {
   "codemirror_mode": {
    "name": "ipython",
    "version": 2
   },
   "file_extension": ".py",
   "mimetype": "text/x-python",
   "name": "python",
   "nbconvert_exporter": "python",
   "pygments_lexer": "ipython2",
   "version": "2.7.6"
  }
 },
 "nbformat": 4,
 "nbformat_minor": 5
}
