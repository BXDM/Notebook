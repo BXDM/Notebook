{
 "cells": [
  {
   "cell_type": "code",
   "id": "initial_id",
   "metadata": {
    "collapsed": true,
    "ExecuteTime": {
     "end_time": "2025-03-01T06:05:50.173068Z",
     "start_time": "2025-03-01T06:05:50.157749Z"
    }
   },
   "source": [
    "import pandas as pd\n",
    "import numpy as np\n",
    "\n",
    "# 示例股市数据 DataFrame (假设数据已经准备好)\n",
    "data = {\n",
    "    'Open': [100, 98, 95, 97, 102],\n",
    "    'High': [105, 99, 97, 100, 106],\n",
    "    'Low': [95, 94, 90, 95, 100],\n",
    "    'Close': [98, 96, 94, 99, 104]\n",
    "}\n",
    "\n",
    "df = pd.DataFrame(data)\n",
    "\n",
    "# 定义形态检测函数\n",
    "def detect_hammer(row):\n",
    "    # 锤子线：长下影线，短实体，上影线非常短\n",
    "    body = abs(row['Close'] - row['Open'])  # 实体长度\n",
    "    candle_range = row['High'] - row['Low']  # K线的总范围\n",
    "    lower_shadow = min(row['Open'], row['Close']) - row['Low']  # 下影线长度\n",
    "    upper_shadow = row['High'] - max(row['Open'], row['Close'])  # 上影线长度\n",
    "\n",
    "    # 锤子线条件\n",
    "    return (\n",
    "        lower_shadow > 2 * body and  # 下影线至少是实体的两倍\n",
    "        body < 0.3 * candle_range and  # 实体不超过整个K线范围的30%\n",
    "        upper_shadow < 0.1 * candle_range  # 上影线非常短（小于整个K线范围的10%）\n",
    "    )\n",
    "\n",
    "# 在数据中应用这些条件\n",
    "df['Hammer'] = df.apply(detect_hammer, axis=1)\n",
    "\n",
    "# 输出检测结果\n",
    "print(df)\n"
   ],
   "outputs": [
    {
     "name": "stdout",
     "output_type": "stream",
     "text": [
      "   Open  High  Low  Close  Hammer\n",
      "0   100   105   95     98   False\n",
      "1    98    99   94     96   False\n",
      "2    95    97   90     94   False\n",
      "3    97   100   95     99   False\n",
      "4   102   106  100    104   False\n"
     ]
    }
   ],
   "execution_count": 84
  },
  {
   "metadata": {
    "ExecuteTime": {
     "end_time": "2025-03-01T04:23:26.651060Z",
     "start_time": "2025-03-01T04:23:25.062260Z"
    }
   },
   "cell_type": "code",
   "source": [
    "# 查看K线形态\n",
    "import matplotlib.pyplot as plt\n",
    "import matplotlib.dates as mdates\n",
    "import pandas as pd\n",
    "\n",
    "# Example stock data DataFrame\n",
    "data = {\n",
    "    'Date': ['2025-02-01', '2025-02-02', '2025-02-03', '2025-02-04', '2025-02-05'],\n",
    "    'Open': [100, 98, 95, 97, 102],\n",
    "    'High': [105, 99, 97, 100, 106],\n",
    "    'Low': [95, 94, 90, 95, 100],\n",
    "    'Close': [98, 96, 94, 99, 104]\n",
    "}\n",
    "\n",
    "df = pd.DataFrame(data)\n",
    "df['Date'] = pd.to_datetime(df['Date'])\n",
    "\n",
    "# Function to plot the candlestick chart\n",
    "def plot_candlestick(df):\n",
    "    fig, ax = plt.subplots(figsize=(10,6))\n",
    "    \n",
    "    # Plot each candlestick\n",
    "    for i in range(len(df)):\n",
    "        row = df.iloc[i]\n",
    "        color = 'green' if row['Close'] > row['Open'] else 'red'\n",
    "        \n",
    "        ax.plot([row['StockName'], row['StockName']], [row['Low'], row['High']], color=color, lw=1)  # High-Low line\n",
    "        ax.plot([row['StockName'], row['StockName']], [row['Open'], row['Close']], color=color, lw=6)  # Open-Close box\n",
    "\n",
    "    # ax.xaxis.set_major_formatter(mdates.DateFormatter('%Y-%m-%d'))\n",
    "    # ax.xaxis.set_major_locator(mdates.DayLocator())\n",
    "    plt.xticks(rotation=45)\n",
    "    plt.title('Candlestick Chart', fontsize=14)\n",
    "    plt.xlabel('StockName', fontsize=12)\n",
    "    plt.ylabel('Price', fontsize=12)\n",
    "    plt.grid(True)\n",
    "    plt.show()\n",
    "\n",
    "plot_candlestick(df)\n"
   ],
   "id": "80528edd113983f4",
   "outputs": [
    {
     "data": {
      "text/plain": [
       "<Figure size 1000x600 with 1 Axes>"
      ],
      "image/png": "[encoded data removed]"
     },
     "metadata": {},
     "output_type": "display_data"
    }
   ],
   "execution_count": 1
  },
  {
   "metadata": {
    "ExecuteTime": {
     "end_time": "2025-03-01T06:12:56.035978Z",
     "start_time": "2025-03-01T06:12:55.970190Z"
    }
   },
   "cell_type": "code",
   "source": [
    "import sqlite3\n",
    "import pandas as pd\n",
    "\n",
    "# 连接到 SQLite 数据库\n",
    "conn = sqlite3.connect('stock_data.db')  # 替换为你的数据库文件路径\n",
    "\n",
    "# 执行 SQL 查询并将结果直接加载到 DataFrame 中\n",
    "df = pd.read_sql_query('SELECT * FROM stock_data', conn,\n",
    "                       dtype={'StockCode': str})  # 替换为你的 SQL 查询和表名\n",
    "\n",
    "# 关闭连接\n",
    "conn.close()"
   ],
   "id": "4d6a3b7450c9c97e",
   "outputs": [],
   "execution_count": 100
  },
  {
   "metadata": {
    "ExecuteTime": {
     "end_time": "2025-03-01T06:12:57.973092Z",
     "start_time": "2025-03-01T06:12:57.904440Z"
    }
   },
   "cell_type": "code",
   "source": [
    "df.rename(columns={'LatestPrice': 'Close'}, inplace=True)\n",
    "data = df[['StockCode', 'StockName', 'Close', 'High', 'Low','Open']].copy()\n",
    "# 处理异常数据\n",
    "data.replace(' —', np.nan, inplace=True)\n",
    "data.dropna(subset=['Close', 'High', 'Low', 'Open'], inplace=True)\n",
    "# 判断锤头线\n",
    "data['Hammer'] = data.apply(detect_hammer, axis=1)"
   ],
   "id": "152e827cd3def08c",
   "outputs": [
    {
     "name": "stderr",
     "output_type": "stream",
     "text": [
      "C:\\Users\\BXDM\\AppData\\Local\\Temp\\ipykernel_5172\\1535793933.py:4: FutureWarning: Downcasting behavior in `replace` is deprecated and will be removed in a future version. To retain the old behavior, explicitly call `result.infer_objects(copy=False)`. To opt-in to the future behavior, set `pd.set_option('future.no_silent_downcasting', True)`\n",
      "  data.replace(' —', np.nan, inplace=True)\n"
     ]
    }
   ],
   "execution_count": 101
  },
  {
   "metadata": {
    "ExecuteTime": {
     "end_time": "2025-03-01T06:13:28.441906Z",
     "start_time": "2025-03-01T06:13:28.431762Z"
    }
   },
   "cell_type": "code",
   "source": [
    "# 筛选出现探底信号的股票\n",
    "filtered_df = data[data['Hammer']]\n",
    "filtered_df"
   ],
   "id": "80f02177786eb470",
   "outputs": [
    {
     "data": {
      "text/plain": [
       "    StockCode StockName  Close   High    Low   Open  Hammer\n",
       "21     603496      恒为科技  38.10  38.10  33.96  37.88    True\n",
       "23     605100      华丰股份  25.32  25.32  25.01  25.32    True\n",
       "26     603037      凯众股份  19.38  19.38  19.00  19.38    True\n",
       "33     002582       好想你  11.80  11.80  11.18  11.74    True\n",
       "34     605066      天正电气   8.06   8.06   7.88   8.06    True\n",
       "35     002298      中电兴发   7.84   7.84   6.65   7.49    True\n",
       "328    600201      生物股份   6.47   6.48   6.35   6.44    True\n",
       "694    603276      恒兴新材  14.65  14.81  14.27  14.78    True\n",
       "697    002795      永和智控   5.57   5.64   5.37   5.62    True\n",
       "859    603277      银都股份  28.67  28.98  27.63  28.98    True"
      ],
      "text/html": [
       "<div>\n",
       "<style scoped>\n",
       "    .dataframe tbody tr th:only-of-type {\n",
       "        vertical-align: middle;\n",
       "    }\n",
       "\n",
       "    .dataframe tbody tr th {\n",
       "        vertical-align: top;\n",
       "    }\n",
       "\n",
       "    .dataframe thead th {\n",
       "        text-align: right;\n",
       "    }\n",
       "</style>\n",
       "<table border=\"1\" class=\"dataframe\">\n",
       "  <thead>\n",
       "    <tr style=\"text-align: right;\">\n",
       "      <th></th>\n",
       "      <th>StockCode</th>\n",
       "      <th>StockName</th>\n",
       "      <th>Close</th>\n",
       "      <th>High</th>\n",
       "      <th>Low</th>\n",
       "      <th>Open</th>\n",
       "      <th>Hammer</th>\n",
       "    </tr>\n",
       "  </thead>\n",
       "  <tbody>\n",
       "    <tr>\n",
       "      <th>21</th>\n",
       "      <td>603496</td>\n",
       "      <td>恒为科技</td>\n",
       "      <td>38.10</td>\n",
       "      <td>38.10</td>\n",
       "      <td>33.96</td>\n",
       "      <td>37.88</td>\n",
       "      <td>True</td>\n",
       "    </tr>\n",
       "    <tr>\n",
       "      <th>23</th>\n",
       "      <td>605100</td>\n",
       "      <td>华丰股份</td>\n",
       "      <td>25.32</td>\n",
       "      <td>25.32</td>\n",
       "      <td>25.01</td>\n",
       "      <td>25.32</td>\n",
       "      <td>True</td>\n",
       "    </tr>\n",
       "    <tr>\n",
       "      <th>26</th>\n",
       "      <td>603037</td>\n",
       "      <td>凯众股份</td>\n",
       "      <td>19.38</td>\n",
       "      <td>19.38</td>\n",
       "      <td>19.00</td>\n",
       "      <td>19.38</td>\n",
       "      <td>True</td>\n",
       "    </tr>\n",
       "    <tr>\n",
       "      <th>33</th>\n",
       "      <td>002582</td>\n",
       "      <td>好想你</td>\n",
       "      <td>11.80</td>\n",
       "      <td>11.80</td>\n",
       "      <td>11.18</td>\n",
       "      <td>11.74</td>\n",
       "      <td>True</td>\n",
       "    </tr>\n",
       "    <tr>\n",
       "      <th>34</th>\n",
       "      <td>605066</td>\n",
       "      <td>天正电气</td>\n",
       "      <td>8.06</td>\n",
       "      <td>8.06</td>\n",
       "      <td>7.88</td>\n",
       "      <td>8.06</td>\n",
       "      <td>True</td>\n",
       "    </tr>\n",
       "    <tr>\n",
       "      <th>35</th>\n",
       "      <td>002298</td>\n",
       "      <td>中电兴发</td>\n",
       "      <td>7.84</td>\n",
       "      <td>7.84</td>\n",
       "      <td>6.65</td>\n",
       "      <td>7.49</td>\n",
       "      <td>True</td>\n",
       "    </tr>\n",
       "    <tr>\n",
       "      <th>328</th>\n",
       "      <td>600201</td>\n",
       "      <td>生物股份</td>\n",
       "      <td>6.47</td>\n",
       "      <td>6.48</td>\n",
       "      <td>6.35</td>\n",
       "      <td>6.44</td>\n",
       "      <td>True</td>\n",
       "    </tr>\n",
       "    <tr>\n",
       "      <th>694</th>\n",
       "      <td>603276</td>\n",
       "      <td>恒兴新材</td>\n",
       "      <td>14.65</td>\n",
       "      <td>14.81</td>\n",
       "      <td>14.27</td>\n",
       "      <td>14.78</td>\n",
       "      <td>True</td>\n",
       "    </tr>\n",
       "    <tr>\n",
       "      <th>697</th>\n",
       "      <td>002795</td>\n",
       "      <td>永和智控</td>\n",
       "      <td>5.57</td>\n",
       "      <td>5.64</td>\n",
       "      <td>5.37</td>\n",
       "      <td>5.62</td>\n",
       "      <td>True</td>\n",
       "    </tr>\n",
       "    <tr>\n",
       "      <th>859</th>\n",
       "      <td>603277</td>\n",
       "      <td>银都股份</td>\n",
       "      <td>28.67</td>\n",
       "      <td>28.98</td>\n",
       "      <td>27.63</td>\n",
       "      <td>28.98</td>\n",
       "      <td>True</td>\n",
       "    </tr>\n",
       "  </tbody>\n",
       "</table>\n",
       "</div>"
      ]
     },
     "execution_count": 103,
     "metadata": {},
     "output_type": "execute_result"
    }
   ],
   "execution_count": 103
  },
  {
   "metadata": {
    "ExecuteTime": {
     "end_time": "2025-03-01T06:11:59.395831Z",
     "start_time": "2025-03-01T06:11:59.385955Z"
    }
   },
   "cell_type": "code",
   "source": [
    "var = data[data['StockCode'] == '603517']\n",
    "var"
   ],
   "id": "602c0d7521dea265",
   "outputs": [
    {
     "data": {
      "text/plain": [
       "    StockCode StockName  Close   High    Low   Open  Hammer  Doji\n",
       "141    603517      绝味食品  16.16  16.99  15.97  16.25   False  True"
      ],
      "text/html": [
       "<div>\n",
       "<style scoped>\n",
       "    .dataframe tbody tr th:only-of-type {\n",
       "        vertical-align: middle;\n",
       "    }\n",
       "\n",
       "    .dataframe tbody tr th {\n",
       "        vertical-align: top;\n",
       "    }\n",
       "\n",
       "    .dataframe thead th {\n",
       "        text-align: right;\n",
       "    }\n",
       "</style>\n",
       "<table border=\"1\" class=\"dataframe\">\n",
       "  <thead>\n",
       "    <tr style=\"text-align: right;\">\n",
       "      <th></th>\n",
       "      <th>StockCode</th>\n",
       "      <th>StockName</th>\n",
       "      <th>Close</th>\n",
       "      <th>High</th>\n",
       "      <th>Low</th>\n",
       "      <th>Open</th>\n",
       "      <th>Hammer</th>\n",
       "      <th>Doji</th>\n",
       "    </tr>\n",
       "  </thead>\n",
       "  <tbody>\n",
       "    <tr>\n",
       "      <th>141</th>\n",
       "      <td>603517</td>\n",
       "      <td>绝味食品</td>\n",
       "      <td>16.16</td>\n",
       "      <td>16.99</td>\n",
       "      <td>15.97</td>\n",
       "      <td>16.25</td>\n",
       "      <td>False</td>\n",
       "      <td>True</td>\n",
       "    </tr>\n",
       "  </tbody>\n",
       "</table>\n",
       "</div>"
      ]
     },
     "execution_count": 98,
     "metadata": {},
     "output_type": "execute_result"
    }
   ],
   "execution_count": 98
  },
  {
   "metadata": {
    "ExecuteTime": {
     "end_time": "2025-03-01T06:12:16.972354Z",
     "start_time": "2025-03-01T06:12:16.900672Z"
    }
   },
   "cell_type": "code",
   "source": "plot_candlestick(var)",
   "id": "4793ff522a583a92",
   "outputs": [
    {
     "data": {
      "text/plain": [
       "<Figure size 1000x600 with 1 Axes>"
      ],
      "image/png": "[encoded data removed]"
     },
     "metadata": {},
     "output_type": "display_data"
    }
   ],
   "execution_count": 99
  },
  {
   "metadata": {
    "ExecuteTime": {
     "end_time": "2025-03-01T06:10:47.339055Z",
     "start_time": "2025-03-01T06:10:47.334073Z"
    }
   },
   "cell_type": "code",
   "source": [
    "def plot_candlestick(df):\n",
    "    fig, ax = plt.subplots(figsize=(10,6))\n",
    "    # 设置中文显示\n",
    "    plt.rcParams['font.sans-serif'] = ['SimHei']    # 中文字体设置-黑体\n",
    "    plt.rcParams['axes.unicode_minus'] = False      # 解决保存图像是负号'-'显示为方块的问题\n",
    "    # Plot each candlestick\n",
    "    for i in range(len(df)):\n",
    "        row = df.iloc[i]\n",
    "        color = 'green' if row['Close'] > row['Open'] else 'red'\n",
    "        \n",
    "        ax.plot([row['StockName'], row['StockName']], [row['Low'], row['High']], color=color, lw=1)  # High-Low line\n",
    "        ax.plot([row['StockName'], row['StockName']], [row['Open'], row['Close']], color=color, lw=6)  # Open-Close box\n",
    "\n",
    "    # ax.xaxis.set_major_formatter(mdates.DateFormatter('%Y-%m-%d'))\n",
    "    # ax.xaxis.set_major_locator(mdates.DayLocator())\n",
    "    plt.xticks(rotation=45)\n",
    "    plt.title('Candlestick Chart', fontsize=14)\n",
    "    plt.xlabel('StockName', fontsize=12)\n",
    "    plt.ylabel('Price', fontsize=12)\n",
    "    plt.grid(True)\n",
    "    plt.show()\n",
    "    # plt.savefig(r'C:\\Users\\BXDM\\Desktop\\candlestick.png', dpi=600)"
   ],
   "id": "d9ea308eeede722f",
   "outputs": [],
   "execution_count": 94
  },
  {
   "metadata": {},
   "cell_type": "code",
   "outputs": [],
   "execution_count": null,
   "source": "",
   "id": "289dab215ab8de3d"
  }
 ],
 "metadata": {
  "kernelspec": {
   "display_name": "Python 3",
   "language": "python",
   "name": "python3"
  },
  "language_info": {
   "codemirror_mode": {
    "name": "ipython",
    "version": 2
   },
   "file_extension": ".py",
   "mimetype": "text/x-python",
   "name": "python",
   "nbconvert_exporter": "python",
   "pygments_lexer": "ipython2",
   "version": "2.7.6"
  }
 },
 "nbformat": 4,
 "nbformat_minor": 5
}
