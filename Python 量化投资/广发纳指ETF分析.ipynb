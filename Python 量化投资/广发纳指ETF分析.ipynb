{
 "cells": [
  {
   "cell_type": "code",
   "execution_count": null,
   "id": "initial_id",
   "metadata": {
    "collapsed": true
   },
   "outputs": [],
   "source": [
    ""
   ]
  },
  {
   "metadata": {
    "ExecuteTime": {
     "end_time": "2024-10-21T13:18:05.341579Z",
     "start_time": "2024-10-21T13:18:05.307110Z"
    }
   },
   "cell_type": "code",
   "source": [
    "import yfinance as yf\n",
    "import datetime\n",
    "\n",
    "# Define the stock symbol and the date range\n",
    "symbol = \"159941.SZ\"\n",
    "start_date = \"2019-01-01\"\n",
    "end_date = datetime.datetime.now().strftime(\"%Y-%m-%d\")\n",
    "\n",
    "# Fetch the stock data using yfinance\n",
    "stock_data = yf.download(symbol, start=start_date, end=end_date)\n",
    "\n",
    "stock_data.head()\n"
   ],
   "id": "f2846cad08b08d64",
   "outputs": [
    {
     "name": "stderr",
     "output_type": "stream",
     "text": [
      "[*********************100%%**********************]  1 of 1 completed\n"
     ]
    },
    {
     "data": {
      "text/plain": [
       "               Open     High      Low    Close  Adj Close  Volume\n",
       "Date                                                             \n",
       "2019-01-02  0.35450  0.35575  0.34850  0.34925    0.34925       0\n",
       "2019-01-03  0.34950  0.34950  0.34675  0.34675    0.34675       0\n",
       "2019-01-04  0.33775  0.34700  0.33775  0.34700    0.34700       0\n",
       "2019-01-07  0.35475  0.36075  0.35475  0.35750    0.35750       0\n",
       "2019-01-08  0.36050  0.36375  0.36050  0.36275    0.36275       0"
      ],
      "text/html": [
       "<div>\n",
       "<style scoped>\n",
       "    .dataframe tbody tr th:only-of-type {\n",
       "        vertical-align: middle;\n",
       "    }\n",
       "\n",
       "    .dataframe tbody tr th {\n",
       "        vertical-align: top;\n",
       "    }\n",
       "\n",
       "    .dataframe thead th {\n",
       "        text-align: right;\n",
       "    }\n",
       "</style>\n",
       "<table border=\"1\" class=\"dataframe\">\n",
       "  <thead>\n",
       "    <tr style=\"text-align: right;\">\n",
       "      <th></th>\n",
       "      <th>Open</th>\n",
       "      <th>High</th>\n",
       "      <th>Low</th>\n",
       "      <th>Close</th>\n",
       "      <th>Adj Close</th>\n",
       "      <th>Volume</th>\n",
       "    </tr>\n",
       "    <tr>\n",
       "      <th>Date</th>\n",
       "      <th></th>\n",
       "      <th></th>\n",
       "      <th></th>\n",
       "      <th></th>\n",
       "      <th></th>\n",
       "      <th></th>\n",
       "    </tr>\n",
       "  </thead>\n",
       "  <tbody>\n",
       "    <tr>\n",
       "      <th>2019-01-02</th>\n",
       "      <td>0.35450</td>\n",
       "      <td>0.35575</td>\n",
       "      <td>0.34850</td>\n",
       "      <td>0.34925</td>\n",
       "      <td>0.34925</td>\n",
       "      <td>0</td>\n",
       "    </tr>\n",
       "    <tr>\n",
       "      <th>2019-01-03</th>\n",
       "      <td>0.34950</td>\n",
       "      <td>0.34950</td>\n",
       "      <td>0.34675</td>\n",
       "      <td>0.34675</td>\n",
       "      <td>0.34675</td>\n",
       "      <td>0</td>\n",
       "    </tr>\n",
       "    <tr>\n",
       "      <th>2019-01-04</th>\n",
       "      <td>0.33775</td>\n",
       "      <td>0.34700</td>\n",
       "      <td>0.33775</td>\n",
       "      <td>0.34700</td>\n",
       "      <td>0.34700</td>\n",
       "      <td>0</td>\n",
       "    </tr>\n",
       "    <tr>\n",
       "      <th>2019-01-07</th>\n",
       "      <td>0.35475</td>\n",
       "      <td>0.36075</td>\n",
       "      <td>0.35475</td>\n",
       "      <td>0.35750</td>\n",
       "      <td>0.35750</td>\n",
       "      <td>0</td>\n",
       "    </tr>\n",
       "    <tr>\n",
       "      <th>2019-01-08</th>\n",
       "      <td>0.36050</td>\n",
       "      <td>0.36375</td>\n",
       "      <td>0.36050</td>\n",
       "      <td>0.36275</td>\n",
       "      <td>0.36275</td>\n",
       "      <td>0</td>\n",
       "    </tr>\n",
       "  </tbody>\n",
       "</table>\n",
       "</div>"
      ]
     },
     "execution_count": 2,
     "metadata": {},
     "output_type": "execute_result"
    }
   ],
   "execution_count": 2
  },
  {
   "metadata": {
    "ExecuteTime": {
     "end_time": "2024-10-21T13:19:57.423641Z",
     "start_time": "2024-10-21T13:19:57.410263Z"
    }
   },
   "cell_type": "code",
   "source": [
    "# Calculate monthly returns\n",
    "stock_data['Year'] = stock_data.index.year\n",
    "stock_data['Month'] = stock_data.index.month\n",
    "\n",
    "# Calculate monthly returns grouped by year\n",
    "monthly_returns = stock_data.groupby(['Year', 'Month'])['Close'].apply(lambda x: x.iloc[-1] / x.iloc[0] - 1)\n",
    "\n",
    "# Reshape the monthly return data\n",
    "monthly_returns_df = monthly_returns.unstack(level=0)\n",
    "\n",
    "# Calculate the annual return by taking the product of monthly returns\n",
    "annual_returns = (1 + monthly_returns_df).prod() - 1\n",
    "\n",
    "# Add the annual returns as the last row\n",
    "monthly_returns_df.loc['Annual Return'] = annual_returns"
   ],
   "id": "7c7fca8379857009",
   "outputs": [],
   "execution_count": 3
  },
  {
   "metadata": {
    "ExecuteTime": {
     "end_time": "2024-10-21T13:20:57.852549Z",
     "start_time": "2024-10-21T13:20:57.766701Z"
    }
   },
   "cell_type": "code",
   "source": "monthly_returns_df.to_excel('nasidakeetf.xlsx')",
   "id": "536a47239f6ca391",
   "outputs": [],
   "execution_count": 5
  },
  {
   "metadata": {},
   "cell_type": "code",
   "outputs": [],
   "execution_count": null,
   "source": "",
   "id": "74decd86b9ffc63b"
  }
 ],
 "metadata": {
  "kernelspec": {
   "display_name": "Python 3",
   "language": "python",
   "name": "python3"
  },
  "language_info": {
   "codemirror_mode": {
    "name": "ipython",
    "version": 2
   },
   "file_extension": ".py",
   "mimetype": "text/x-python",
   "name": "python",
   "nbconvert_exporter": "python",
   "pygments_lexer": "ipython2",
   "version": "2.7.6"
  }
 },
 "nbformat": 4,
 "nbformat_minor": 5
}
