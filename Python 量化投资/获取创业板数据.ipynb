{
 "cells": [
  {
   "cell_type": "code",
   "execution_count": null,
   "id": "initial_id",
   "metadata": {
    "collapsed": true
   },
   "outputs": [],
   "source": [
    ""
   ]
  },
  {
   "metadata": {
    "ExecuteTime": {
     "end_time": "2024-11-11T11:50:33.306438Z",
     "start_time": "2024-11-11T11:50:28.960064Z"
    }
   },
   "cell_type": "code",
   "source": [
    "import yfinance as yf\n",
    "import pandas as pd\n",
    "from datetime import datetime\n",
    "\n",
    "def fetch_159915_data():\n",
    "    \"\"\"\n",
    "    获取创业板ETF(159915.SZ)的所有历史日线数据\n",
    "    返回一个包含OHLCV数据的DataFrame\n",
    "    \"\"\"\n",
    "    # 创建Ticker对象\n",
    "    stock = yf.Ticker(\"159915.SZ\")\n",
    "    \n",
    "    # 获取所有历史数据\n",
    "    # period参数设为max表示获取所有可用的历史数据\n",
    "    df = stock.history(period=\"max\")\n",
    "    \n",
    "    # 重置索引，将日期变成一个普通列\n",
    "    df = df.reset_index()\n",
    "    \n",
    "    # 重命名列为中文\n",
    "    df = df.rename(columns={\n",
    "        'Date': '日期',\n",
    "        'Open': '开盘价',\n",
    "        'High': '最高价',\n",
    "        'Low': '最低价',\n",
    "        'Close': '收盘价',\n",
    "        'Volume': '成交量',\n",
    "        'Dividends': '分红',\n",
    "        'Stock Splits': '拆股'\n",
    "    })\n",
    "    \n",
    "    # 将日期转换为北京时间\n",
    "    df['日期'] = pd.to_datetime(df['日期']).dt.tz_convert('Asia/Shanghai')\n",
    "    \n",
    "    # 格式化日期列\n",
    "    df['日期'] = df['日期'].dt.strftime('%Y-%m-%d')\n",
    "    \n",
    "    return df\n",
    "\n",
    "if __name__ == \"__main__\":\n",
    "    try:\n",
    "        # 获取数据\n",
    "        df = fetch_159915_data()\n",
    "        \n",
    "        # 打印数据信息\n",
    "        print(\"\\n数据基本信息:\")\n",
    "        print(f\"数据起始日期: {df['日期'].iloc[0]}\")\n",
    "        print(f\"数据结束日期: {df['日期'].iloc[-1]}\")\n",
    "        print(f\"总记录数: {len(df)}\")\n",
    "        \n",
    "        # 展示前5行数据\n",
    "        print(\"\\n前5行数据:\")\n",
    "        print(df.head())\n",
    "        \n",
    "        # 保存到CSV文件\n",
    "        filename = f\"159915_历史数据_{datetime.now().strftime('%Y%m%d')}.csv\"\n",
    "        df.to_csv(filename, index=False, encoding='utf-8-sig')\n",
    "        print(f\"\\n数据已保存至: {filename}\")\n",
    "        \n",
    "    except Exception as e:\n",
    "        print(f\"获取数据时发生错误: {str(e)}\")"
   ],
   "id": "450e5d6fdd7e7b45",
   "outputs": [
    {
     "name": "stdout",
     "output_type": "stream",
     "text": [
      "\n",
      "数据基本信息:\n",
      "数据起始日期: 2011-09-20\n",
      "数据结束日期: 2024-11-11\n",
      "总记录数: 3150\n",
      "\n",
      "前5行数据:\n",
      "           日期      开盘价      最高价      最低价      收盘价  成交量   分红   拆股\n",
      "0  2011-09-20  0.87213  0.87213  0.87213  0.87213    0  0.0  0.0\n",
      "1  2011-09-23  0.87143  0.87143  0.87143  0.87143    0  0.0  0.0\n",
      "2  2011-09-30  0.87064  0.87064  0.87064  0.87064    0  0.0  0.0\n",
      "3  2011-10-14  0.87222  0.87222  0.87222  0.87222    0  0.0  0.0\n",
      "4  2011-10-21  0.87056  0.87056  0.87056  0.87056    0  0.0  0.0\n",
      "\n",
      "数据已保存至: 159915_历史数据_20241111.csv\n"
     ]
    }
   ],
   "execution_count": 1
  },
  {
   "metadata": {},
   "cell_type": "code",
   "outputs": [],
   "execution_count": null,
   "source": "",
   "id": "a6fb4393af371783"
  }
 ],
 "metadata": {
  "kernelspec": {
   "display_name": "Python 3",
   "language": "python",
   "name": "python3"
  },
  "language_info": {
   "codemirror_mode": {
    "name": "ipython",
    "version": 2
   },
   "file_extension": ".py",
   "mimetype": "text/x-python",
   "name": "python",
   "nbconvert_exporter": "python",
   "pygments_lexer": "ipython2",
   "version": "2.7.6"
  }
 },
 "nbformat": 4,
 "nbformat_minor": 5
}
