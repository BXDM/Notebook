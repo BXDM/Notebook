{
 "cells": [
  {
   "cell_type": "code",
   "id": "initial_id",
   "metadata": {
    "collapsed": true,
    "ExecuteTime": {
     "end_time": "2024-11-07T13:34:53.291468Z",
     "start_time": "2024-11-07T13:34:53.260150Z"
    }
   },
   "source": [
    "import yfinance as yf\n",
    "import pandas as pd\n",
    "\n",
    "# 设置时间范围为2017年1月到2020年12月\n",
    "start_date = \"2017-01-01\"\n",
    "end_date = \"2020-12-31\"\n",
    "\n",
    "# 指定股票代码\n",
    "stock_code = \"AAPL\"  # 可以替换为你想要的股票代码\n",
    "\n",
    "# 下载数据\n",
    "data = yf.download(stock_code, start=start_date, end=end_date, interval=\"1d\")\n",
    "\n",
    "# 获取每个月的首个和末个交易日收盘价\n",
    "monthly_start = data['Adj Close'].resample('MS').first()  # 每月第一个交易日的收盘价\n",
    "monthly_end = data['Adj Close'].resample('M').last()      # 每月最后一个交易日的收盘价\n",
    "\n",
    "# 计算月度收益率（基于当月首尾交易日）\n",
    "monthly_return = (monthly_end - monthly_start) / monthly_start\n",
    "\n",
    "\n"
   ],
   "outputs": [
    {
     "name": "stderr",
     "output_type": "stream",
     "text": [
      "[*********************100%%**********************]  1 of 1 completed\n",
      "C:\\Users\\BXDM\\AppData\\Local\\Temp\\ipykernel_32912\\2792460274.py:16: FutureWarning: 'M' is deprecated and will be removed in a future version, please use 'ME' instead.\n",
      "  monthly_end = data['Adj Close'].resample('M').last()      # 每月最后一个交易日的收盘价\n"
     ]
    }
   ],
   "execution_count": 18
  },
  {
   "metadata": {
    "ExecuteTime": {
     "end_time": "2024-11-07T13:35:01.079846Z",
     "start_time": "2024-11-07T13:35:01.073973Z"
    }
   },
   "cell_type": "code",
   "source": "monthly_return",
   "id": "2263c11ae731c0f6",
   "outputs": [
    {
     "data": {
      "text/plain": [
       "Date\n",
       "2017-01-01   NaN\n",
       "2017-01-31   NaN\n",
       "2017-02-01   NaN\n",
       "2017-02-28   NaN\n",
       "2017-03-01   NaN\n",
       "              ..\n",
       "2020-10-31   NaN\n",
       "2020-11-01   NaN\n",
       "2020-11-30   NaN\n",
       "2020-12-01   NaN\n",
       "2020-12-31   NaN\n",
       "Name: Adj Close, Length: 96, dtype: float64"
      ]
     },
     "execution_count": 19,
     "metadata": {},
     "output_type": "execute_result"
    }
   ],
   "execution_count": 19
  },
  {
   "metadata": {},
   "cell_type": "code",
   "outputs": [],
   "execution_count": null,
   "source": "",
   "id": "1721ba0a400a022b"
  }
 ],
 "metadata": {
  "kernelspec": {
   "display_name": "Python 3",
   "language": "python",
   "name": "python3"
  },
  "language_info": {
   "codemirror_mode": {
    "name": "ipython",
    "version": 2
   },
   "file_extension": ".py",
   "mimetype": "text/x-python",
   "name": "python",
   "nbconvert_exporter": "python",
   "pygments_lexer": "ipython2",
   "version": "2.7.6"
  }
 },
 "nbformat": 4,
 "nbformat_minor": 5
}
